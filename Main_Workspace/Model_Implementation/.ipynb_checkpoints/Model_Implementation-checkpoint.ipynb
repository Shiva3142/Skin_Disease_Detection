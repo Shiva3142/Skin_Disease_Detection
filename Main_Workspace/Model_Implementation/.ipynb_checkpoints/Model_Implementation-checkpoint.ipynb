{
 "cells": [
  {
   "cell_type": "markdown",
   "id": "modified-julian",
   "metadata": {},
   "source": [
    "# Library imports"
   ]
  },
  {
   "cell_type": "code",
   "execution_count": 1,
   "id": "radical-sense",
   "metadata": {},
   "outputs": [],
   "source": [
    "import tensorflow\n",
    "import numpy\n",
    "import IPython\n",
    "from matplotlib import pyplot\n",
    "import cv2\n",
    "import PIL\n",
    "import os\n",
    "import random\n",
    "import pickle\n",
    "import keras\n",
    "from sklearn.metrics import confusion_matrix,classification_report\n",
    "from tensorflow.keras.utils import plot_model\n",
    "import seaborn\n",
    "# %matplotlib qt\n",
    "%matplotlib inline"
   ]
  },
  {
   "cell_type": "markdown",
   "id": "australian-trade",
   "metadata": {},
   "source": [
    "# Data imports"
   ]
  },
  {
   "cell_type": "code",
   "execution_count": 2,
   "id": "mechanical-bride",
   "metadata": {},
   "outputs": [
    {
     "name": "stdout",
     "output_type": "stream",
     "text": [
      "0 -->  Facial acne\n",
      "1 -->  Melanoma\n",
      "2 -->  Psoriasis\n",
      "3 -->  Ringworm\n",
      "4 -->  Skin Burn\n"
     ]
    }
   ],
   "source": [
    "classes_list=['Facial acne', 'Melanoma', 'Psoriasis', 'Ringworm', 'Skin Burn']\n",
    "def printClassList():\n",
    "    for class_name in classes_list:\n",
    "        print(f\"{classes_list.index(class_name)} -->  {class_name}\")\n",
    "printClassList()   \n",
    "def getClassvalue(index):\n",
    "    print(classes_list[index])"
   ]
  },
  {
   "cell_type": "code",
   "execution_count": 3,
   "id": "threaded-swedish",
   "metadata": {},
   "outputs": [],
   "source": [
    "loaded_pickle_features=open(\"../Data/objects/pickle_fetures.pickle\",\"rb\")\n",
    "Training_Features=pickle.load(loaded_pickle_features)\n",
    "loaded_pickle_features.close()\n",
    "loaded_pickle_labels=open(\"../Data/objects/pickle_labels.pickle\",\"rb\")\n",
    "Training_Labels=pickle.load(loaded_pickle_labels)\n",
    "loaded_pickle_labels.close()"
   ]
  },
  {
   "cell_type": "code",
   "execution_count": 4,
   "id": "textile-promise",
   "metadata": {},
   "outputs": [],
   "source": [
    "loaded_pickle_testing_features=open(\"../Data/objects/pickle_testing_fetures.pickle\",\"rb\")\n",
    "Testing_Features=pickle.load(loaded_pickle_testing_features)\n",
    "loaded_pickle_testing_features.close()\n",
    "loaded_pickle_testing_labels=open(\"../Data/objects/pickle_testing_labels.pickle\",\"rb\")\n",
    "Testing_Labels=pickle.load(loaded_pickle_testing_labels)\n",
    "loaded_pickle_testing_labels.close()"
   ]
  },
  {
   "cell_type": "code",
   "execution_count": 5,
   "id": "urban-sweet",
   "metadata": {
    "scrolled": true
   },
   "outputs": [
    {
     "data": {
      "text/plain": [
       "array([[[0.96862745, 0.96862745, 0.96862745, ..., 0.91372549,\n",
       "         0.91372549, 0.9254902 ],\n",
       "        [0.96862745, 0.96862745, 0.96862745, ..., 0.91372549,\n",
       "         0.91372549, 0.9254902 ],\n",
       "        [0.96862745, 0.96862745, 0.96862745, ..., 0.90980392,\n",
       "         0.90980392, 0.92156863],\n",
       "        ...,\n",
       "        [0.97254902, 0.92156863, 0.82745098, ..., 0.99607843,\n",
       "         0.99607843, 1.        ],\n",
       "        [0.98431373, 0.87843137, 0.76862745, ..., 1.        ,\n",
       "         1.        , 0.99607843],\n",
       "        [0.99607843, 0.97647059, 0.95686275, ..., 0.99607843,\n",
       "         0.99607843, 1.        ]],\n",
       "\n",
       "       [[0.78039216, 0.78431373, 0.78823529, ..., 0.18823529,\n",
       "         0.16862745, 0.16078431],\n",
       "        [0.78431373, 0.78823529, 0.79215686, ..., 0.18823529,\n",
       "         0.17254902, 0.16862745],\n",
       "        [0.78431373, 0.78823529, 0.8       , ..., 0.18039216,\n",
       "         0.16862745, 0.16078431],\n",
       "        ...,\n",
       "        [0.02745098, 0.01960784, 0.01960784, ..., 0.17254902,\n",
       "         0.22352941, 0.23529412],\n",
       "        [0.02745098, 0.01960784, 0.01960784, ..., 0.2745098 ,\n",
       "         0.29019608, 0.29803922],\n",
       "        [0.02745098, 0.01960784, 0.01960784, ..., 0.30980392,\n",
       "         0.32941176, 0.31372549]],\n",
       "\n",
       "       [[0.76470588, 0.75294118, 0.75686275, ..., 0.54117647,\n",
       "         0.52941176, 0.57647059],\n",
       "        [0.76078431, 0.75686275, 0.77647059, ..., 0.54901961,\n",
       "         0.54117647, 0.56862745],\n",
       "        [0.76078431, 0.77254902, 0.74117647, ..., 0.55294118,\n",
       "         0.54509804, 0.56078431],\n",
       "        ...,\n",
       "        [0.5254902 , 0.53333333, 0.5254902 , ..., 0.78039216,\n",
       "         0.76862745, 0.76470588],\n",
       "        [0.5372549 , 0.54901961, 0.5372549 , ..., 0.75686275,\n",
       "         0.77254902, 0.77647059],\n",
       "        [0.53333333, 0.53333333, 0.53333333, ..., 0.75294118,\n",
       "         0.76470588, 0.75294118]],\n",
       "\n",
       "       ...,\n",
       "\n",
       "       [[0.83921569, 0.85490196, 0.85490196, ..., 0.64705882,\n",
       "         0.63921569, 0.64313725],\n",
       "        [0.84313725, 0.85882353, 0.83529412, ..., 0.63137255,\n",
       "         0.63137255, 0.63137255],\n",
       "        [0.85490196, 0.85098039, 0.84313725, ..., 0.63137255,\n",
       "         0.63137255, 0.63921569],\n",
       "        ...,\n",
       "        [0.18823529, 0.16862745, 0.17647059, ..., 0.3372549 ,\n",
       "         0.30980392, 0.28235294],\n",
       "        [0.14901961, 0.16078431, 0.14509804, ..., 0.24313725,\n",
       "         0.29019608, 0.30196078],\n",
       "        [0.14901961, 0.15686275, 0.16078431, ..., 0.24705882,\n",
       "         0.23137255, 0.25882353]],\n",
       "\n",
       "       [[0.28235294, 0.29803922, 0.25882353, ..., 0.18823529,\n",
       "         0.17647059, 0.16470588],\n",
       "        [0.37254902, 0.30588235, 0.26666667, ..., 0.18431373,\n",
       "         0.18039216, 0.18431373],\n",
       "        [0.35294118, 0.26666667, 0.2745098 , ..., 0.18039216,\n",
       "         0.17254902, 0.18039216],\n",
       "        ...,\n",
       "        [0.2       , 0.36862745, 0.43529412, ..., 0.29411765,\n",
       "         0.29803922, 0.29019608],\n",
       "        [0.20392157, 0.38039216, 0.43921569, ..., 0.29803922,\n",
       "         0.29803922, 0.29411765],\n",
       "        [0.20784314, 0.39607843, 0.44705882, ..., 0.29803922,\n",
       "         0.29803922, 0.29803922]],\n",
       "\n",
       "       [[0.44313725, 0.49019608, 0.41568627, ..., 0.27058824,\n",
       "         0.22352941, 0.23529412],\n",
       "        [0.50196078, 0.42352941, 0.4627451 , ..., 0.23921569,\n",
       "         0.2745098 , 0.27843137],\n",
       "        [0.41176471, 0.4745098 , 0.45098039, ..., 0.25490196,\n",
       "         0.26666667, 0.29803922],\n",
       "        ...,\n",
       "        [0.58431373, 0.62745098, 0.67058824, ..., 0.65490196,\n",
       "         0.58039216, 0.57647059],\n",
       "        [0.6       , 0.48235294, 0.65490196, ..., 0.59215686,\n",
       "         0.57647059, 0.59215686],\n",
       "        [0.58039216, 0.59215686, 0.68627451, ..., 0.55294118,\n",
       "         0.57647059, 0.56862745]]])"
      ]
     },
     "execution_count": 5,
     "metadata": {},
     "output_type": "execute_result"
    }
   ],
   "source": [
    "Testing_Features"
   ]
  },
  {
   "cell_type": "code",
   "execution_count": 6,
   "id": "external-diversity",
   "metadata": {},
   "outputs": [
    {
     "data": {
      "text/plain": [
       "[0,\n",
       " 1,\n",
       " 3,\n",
       " 2,\n",
       " 4,\n",
       " 0,\n",
       " 3,\n",
       " 0,\n",
       " 2,\n",
       " 1,\n",
       " 1,\n",
       " 3,\n",
       " 0,\n",
       " 3,\n",
       " 3,\n",
       " 1,\n",
       " 0,\n",
       " 3,\n",
       " 0,\n",
       " 2,\n",
       " 0,\n",
       " 0,\n",
       " 3,\n",
       " 0,\n",
       " 3,\n",
       " 4,\n",
       " 3,\n",
       " 1,\n",
       " 3,\n",
       " 0,\n",
       " 3,\n",
       " 1,\n",
       " 3,\n",
       " 4,\n",
       " 0,\n",
       " 3,\n",
       " 0,\n",
       " 4,\n",
       " 1,\n",
       " 3,\n",
       " 0,\n",
       " 3,\n",
       " 3,\n",
       " 0,\n",
       " 3,\n",
       " 3,\n",
       " 3,\n",
       " 1,\n",
       " 1,\n",
       " 1,\n",
       " 0,\n",
       " 3,\n",
       " 0,\n",
       " 0,\n",
       " 1,\n",
       " 3,\n",
       " 3,\n",
       " 4,\n",
       " 0,\n",
       " 3,\n",
       " 3,\n",
       " 2,\n",
       " 0,\n",
       " 2,\n",
       " 2,\n",
       " 0,\n",
       " 0,\n",
       " 3,\n",
       " 2,\n",
       " 4,\n",
       " 0,\n",
       " 2,\n",
       " 3,\n",
       " 3,\n",
       " 3,\n",
       " 1,\n",
       " 3,\n",
       " 3,\n",
       " 3,\n",
       " 0,\n",
       " 0,\n",
       " 1,\n",
       " 1,\n",
       " 1,\n",
       " 4,\n",
       " 2,\n",
       " 1,\n",
       " 3,\n",
       " 1,\n",
       " 0,\n",
       " 4,\n",
       " 2,\n",
       " 0,\n",
       " 3,\n",
       " 0,\n",
       " 3,\n",
       " 4,\n",
       " 3,\n",
       " 0,\n",
       " 1,\n",
       " 3,\n",
       " 0,\n",
       " 3,\n",
       " 0,\n",
       " 0,\n",
       " 2,\n",
       " 3,\n",
       " 0,\n",
       " 0,\n",
       " 2,\n",
       " 3,\n",
       " 3,\n",
       " 2,\n",
       " 1,\n",
       " 3,\n",
       " 3,\n",
       " 3,\n",
       " 0,\n",
       " 0,\n",
       " 3,\n",
       " 0,\n",
       " 3,\n",
       " 0,\n",
       " 0,\n",
       " 3,\n",
       " 0,\n",
       " 1,\n",
       " 0,\n",
       " 2,\n",
       " 3,\n",
       " 3,\n",
       " 0,\n",
       " 3,\n",
       " 3,\n",
       " 2,\n",
       " 3,\n",
       " 4,\n",
       " 0,\n",
       " 0,\n",
       " 2,\n",
       " 2,\n",
       " 1,\n",
       " 3,\n",
       " 2,\n",
       " 1,\n",
       " 1,\n",
       " 2,\n",
       " 0,\n",
       " 0,\n",
       " 2,\n",
       " 3,\n",
       " 1,\n",
       " 3,\n",
       " 2,\n",
       " 3,\n",
       " 3,\n",
       " 1,\n",
       " 3,\n",
       " 3,\n",
       " 0,\n",
       " 2,\n",
       " 3,\n",
       " 3,\n",
       " 2,\n",
       " 0,\n",
       " 4,\n",
       " 0,\n",
       " 3,\n",
       " 1,\n",
       " 3,\n",
       " 0,\n",
       " 0,\n",
       " 3,\n",
       " 1,\n",
       " 0,\n",
       " 3,\n",
       " 0,\n",
       " 1,\n",
       " 3,\n",
       " 1,\n",
       " 2,\n",
       " 3,\n",
       " 2,\n",
       " 0,\n",
       " 3,\n",
       " 0,\n",
       " 2,\n",
       " 2,\n",
       " 0,\n",
       " 0,\n",
       " 0,\n",
       " 0,\n",
       " 0,\n",
       " 4,\n",
       " 2,\n",
       " 1,\n",
       " 0,\n",
       " 3,\n",
       " 0,\n",
       " 3,\n",
       " 2,\n",
       " 0,\n",
       " 0,\n",
       " 2,\n",
       " 0,\n",
       " 0,\n",
       " 3,\n",
       " 1,\n",
       " 3,\n",
       " 2,\n",
       " 0,\n",
       " 3,\n",
       " 0,\n",
       " 0,\n",
       " 2,\n",
       " 3,\n",
       " 1,\n",
       " 2,\n",
       " 3,\n",
       " 1,\n",
       " 4,\n",
       " 1,\n",
       " 0,\n",
       " 1,\n",
       " 0,\n",
       " 4,\n",
       " 1,\n",
       " 1,\n",
       " 2,\n",
       " 0,\n",
       " 0,\n",
       " 2,\n",
       " 3,\n",
       " 3,\n",
       " 0,\n",
       " 1,\n",
       " 2,\n",
       " 2,\n",
       " 0,\n",
       " 4,\n",
       " 3,\n",
       " 1,\n",
       " 3,\n",
       " 0,\n",
       " 0,\n",
       " 0,\n",
       " 0,\n",
       " 1,\n",
       " 0,\n",
       " 3,\n",
       " 3,\n",
       " 1,\n",
       " 0,\n",
       " 0,\n",
       " 0,\n",
       " 0,\n",
       " 1,\n",
       " 2,\n",
       " 0,\n",
       " 3,\n",
       " 0,\n",
       " 1,\n",
       " 1,\n",
       " 0,\n",
       " 2,\n",
       " 1,\n",
       " 3,\n",
       " 1,\n",
       " 1,\n",
       " 3,\n",
       " 0,\n",
       " 3,\n",
       " 4,\n",
       " 2,\n",
       " 1,\n",
       " 3,\n",
       " 3,\n",
       " 3,\n",
       " 0,\n",
       " 3,\n",
       " 0,\n",
       " 3,\n",
       " 0,\n",
       " 3,\n",
       " 3,\n",
       " 1,\n",
       " 0,\n",
       " 3,\n",
       " 0,\n",
       " 2,\n",
       " 3,\n",
       " 4,\n",
       " 3,\n",
       " 1,\n",
       " 3,\n",
       " 3,\n",
       " 1,\n",
       " 3,\n",
       " 2,\n",
       " 0,\n",
       " 3,\n",
       " 1,\n",
       " 3,\n",
       " 0,\n",
       " 0,\n",
       " 3,\n",
       " 0,\n",
       " 2,\n",
       " 4,\n",
       " 2,\n",
       " 0,\n",
       " 3,\n",
       " 3,\n",
       " 0,\n",
       " 0,\n",
       " 0,\n",
       " 1,\n",
       " 2,\n",
       " 0,\n",
       " 3,\n",
       " 0,\n",
       " 2,\n",
       " 2,\n",
       " 0,\n",
       " 0,\n",
       " 0,\n",
       " 2,\n",
       " 3,\n",
       " 2,\n",
       " 0,\n",
       " 3,\n",
       " 0,\n",
       " 3,\n",
       " 1,\n",
       " 2,\n",
       " 0,\n",
       " 4,\n",
       " 2,\n",
       " 3,\n",
       " 1,\n",
       " 3,\n",
       " 2,\n",
       " 3,\n",
       " 3,\n",
       " 1,\n",
       " 2,\n",
       " 3,\n",
       " 4,\n",
       " 1,\n",
       " 4,\n",
       " 2,\n",
       " 4,\n",
       " 3,\n",
       " 0,\n",
       " 3,\n",
       " 2,\n",
       " 2,\n",
       " 0,\n",
       " 0,\n",
       " 1,\n",
       " 3,\n",
       " 3,\n",
       " 3,\n",
       " 3,\n",
       " 0,\n",
       " 1,\n",
       " 3,\n",
       " 0,\n",
       " 4,\n",
       " 1,\n",
       " 3,\n",
       " 0,\n",
       " 0,\n",
       " 3,\n",
       " 4,\n",
       " 0,\n",
       " 0,\n",
       " 3,\n",
       " 0,\n",
       " 4,\n",
       " 0,\n",
       " 3,\n",
       " 3,\n",
       " 0,\n",
       " 0,\n",
       " 4,\n",
       " 1,\n",
       " 0,\n",
       " 1,\n",
       " 3,\n",
       " 0,\n",
       " 3,\n",
       " 3,\n",
       " 3,\n",
       " 0,\n",
       " 0,\n",
       " 0,\n",
       " 1,\n",
       " 0,\n",
       " 1,\n",
       " 1,\n",
       " 2,\n",
       " 0,\n",
       " 2,\n",
       " 3,\n",
       " 0,\n",
       " 0,\n",
       " 2,\n",
       " 0,\n",
       " 0,\n",
       " 0,\n",
       " 0,\n",
       " 3,\n",
       " 0,\n",
       " 4,\n",
       " 0,\n",
       " 2,\n",
       " 3,\n",
       " 1,\n",
       " 0,\n",
       " 2,\n",
       " 2,\n",
       " 0,\n",
       " 0,\n",
       " 1,\n",
       " 0,\n",
       " 3,\n",
       " 3,\n",
       " 0,\n",
       " 3,\n",
       " 0,\n",
       " 3,\n",
       " 3,\n",
       " 3,\n",
       " 3,\n",
       " 3,\n",
       " 0,\n",
       " 3,\n",
       " 3,\n",
       " 3,\n",
       " 3,\n",
       " 3,\n",
       " 3,\n",
       " 4,\n",
       " 0,\n",
       " 0,\n",
       " 1,\n",
       " 2,\n",
       " 1,\n",
       " 1,\n",
       " 1,\n",
       " 3,\n",
       " 3,\n",
       " 3,\n",
       " 2,\n",
       " 0,\n",
       " 0,\n",
       " 3,\n",
       " 0,\n",
       " 1,\n",
       " 3,\n",
       " 0,\n",
       " 2,\n",
       " 2,\n",
       " 0,\n",
       " 0,\n",
       " 1,\n",
       " 0,\n",
       " 3,\n",
       " 0,\n",
       " 0,\n",
       " 2,\n",
       " 0,\n",
       " 2,\n",
       " 0,\n",
       " 1,\n",
       " 3,\n",
       " 0,\n",
       " 0,\n",
       " 0,\n",
       " 0,\n",
       " 0,\n",
       " 0,\n",
       " 3,\n",
       " 3,\n",
       " 3,\n",
       " 3,\n",
       " 0,\n",
       " 3,\n",
       " 0,\n",
       " 4,\n",
       " 3,\n",
       " 1,\n",
       " 3,\n",
       " 0,\n",
       " 0,\n",
       " 2,\n",
       " 0,\n",
       " 4,\n",
       " 1,\n",
       " 0,\n",
       " 3,\n",
       " 1,\n",
       " 0,\n",
       " 2,\n",
       " 1,\n",
       " 3,\n",
       " 0,\n",
       " 1,\n",
       " 0,\n",
       " 2,\n",
       " 0,\n",
       " 2,\n",
       " 2,\n",
       " 2,\n",
       " 0,\n",
       " 3,\n",
       " 4,\n",
       " 2,\n",
       " 3,\n",
       " 3,\n",
       " 0,\n",
       " 1,\n",
       " 0,\n",
       " 3,\n",
       " 2,\n",
       " 4,\n",
       " 2,\n",
       " 0,\n",
       " 0,\n",
       " 3,\n",
       " 0,\n",
       " 0,\n",
       " 3,\n",
       " 0,\n",
       " 3,\n",
       " 3,\n",
       " 3,\n",
       " 0,\n",
       " 3,\n",
       " 0,\n",
       " 1,\n",
       " 1,\n",
       " 2,\n",
       " 0,\n",
       " 0,\n",
       " 0,\n",
       " 0,\n",
       " 0,\n",
       " 3,\n",
       " 3,\n",
       " 0,\n",
       " 2,\n",
       " 3,\n",
       " 2,\n",
       " 0,\n",
       " 2,\n",
       " 0,\n",
       " 0,\n",
       " 1,\n",
       " 3,\n",
       " 1,\n",
       " 0,\n",
       " 1,\n",
       " 3,\n",
       " 3,\n",
       " 3,\n",
       " 2,\n",
       " 1,\n",
       " 0,\n",
       " 1,\n",
       " 0,\n",
       " 0,\n",
       " 0,\n",
       " 2,\n",
       " 2,\n",
       " 0,\n",
       " 0,\n",
       " 1,\n",
       " 1,\n",
       " 2,\n",
       " 0,\n",
       " 3,\n",
       " 1,\n",
       " 0,\n",
       " 0,\n",
       " 0,\n",
       " 4,\n",
       " 1,\n",
       " 2,\n",
       " 0,\n",
       " 3,\n",
       " 1,\n",
       " 3,\n",
       " 3,\n",
       " 1,\n",
       " 1,\n",
       " 0,\n",
       " 1,\n",
       " 3,\n",
       " 0,\n",
       " 1,\n",
       " 0,\n",
       " 0,\n",
       " 3,\n",
       " 0,\n",
       " 0,\n",
       " 3,\n",
       " 3,\n",
       " 1,\n",
       " 0,\n",
       " 0,\n",
       " 0,\n",
       " 3,\n",
       " 2,\n",
       " 2,\n",
       " 3,\n",
       " 2,\n",
       " 3,\n",
       " 3,\n",
       " 2,\n",
       " 0,\n",
       " 2,\n",
       " 3,\n",
       " 2,\n",
       " 0,\n",
       " 0,\n",
       " 3,\n",
       " 1,\n",
       " 3,\n",
       " 0,\n",
       " 0,\n",
       " 1,\n",
       " 1,\n",
       " 1,\n",
       " 0,\n",
       " 2,\n",
       " 3,\n",
       " 2,\n",
       " 0,\n",
       " 3,\n",
       " 0,\n",
       " 0,\n",
       " 1,\n",
       " 4,\n",
       " 2,\n",
       " 0,\n",
       " 0,\n",
       " 0,\n",
       " 0,\n",
       " 0,\n",
       " 0,\n",
       " 1,\n",
       " 2,\n",
       " 0,\n",
       " 2]"
      ]
     },
     "execution_count": 6,
     "metadata": {},
     "output_type": "execute_result"
    }
   ],
   "source": [
    "Training_Labels"
   ]
  },
  {
   "cell_type": "code",
   "execution_count": 7,
   "id": "little-dayton",
   "metadata": {
    "collapsed": true
   },
   "outputs": [
    {
     "data": {
      "text/plain": [
       "array([[[0.96862745, 0.96862745, 0.96862745, ..., 0.91372549,\n",
       "         0.91372549, 0.9254902 ],\n",
       "        [0.96862745, 0.96862745, 0.96862745, ..., 0.91372549,\n",
       "         0.91372549, 0.9254902 ],\n",
       "        [0.96862745, 0.96862745, 0.96862745, ..., 0.90980392,\n",
       "         0.90980392, 0.92156863],\n",
       "        ...,\n",
       "        [0.97254902, 0.92156863, 0.82745098, ..., 0.99607843,\n",
       "         0.99607843, 1.        ],\n",
       "        [0.98431373, 0.87843137, 0.76862745, ..., 1.        ,\n",
       "         1.        , 0.99607843],\n",
       "        [0.99607843, 0.97647059, 0.95686275, ..., 0.99607843,\n",
       "         0.99607843, 1.        ]],\n",
       "\n",
       "       [[0.78039216, 0.78431373, 0.78823529, ..., 0.18823529,\n",
       "         0.16862745, 0.16078431],\n",
       "        [0.78431373, 0.78823529, 0.79215686, ..., 0.18823529,\n",
       "         0.17254902, 0.16862745],\n",
       "        [0.78431373, 0.78823529, 0.8       , ..., 0.18039216,\n",
       "         0.16862745, 0.16078431],\n",
       "        ...,\n",
       "        [0.02745098, 0.01960784, 0.01960784, ..., 0.17254902,\n",
       "         0.22352941, 0.23529412],\n",
       "        [0.02745098, 0.01960784, 0.01960784, ..., 0.2745098 ,\n",
       "         0.29019608, 0.29803922],\n",
       "        [0.02745098, 0.01960784, 0.01960784, ..., 0.30980392,\n",
       "         0.32941176, 0.31372549]],\n",
       "\n",
       "       [[0.76470588, 0.75294118, 0.75686275, ..., 0.54117647,\n",
       "         0.52941176, 0.57647059],\n",
       "        [0.76078431, 0.75686275, 0.77647059, ..., 0.54901961,\n",
       "         0.54117647, 0.56862745],\n",
       "        [0.76078431, 0.77254902, 0.74117647, ..., 0.55294118,\n",
       "         0.54509804, 0.56078431],\n",
       "        ...,\n",
       "        [0.5254902 , 0.53333333, 0.5254902 , ..., 0.78039216,\n",
       "         0.76862745, 0.76470588],\n",
       "        [0.5372549 , 0.54901961, 0.5372549 , ..., 0.75686275,\n",
       "         0.77254902, 0.77647059],\n",
       "        [0.53333333, 0.53333333, 0.53333333, ..., 0.75294118,\n",
       "         0.76470588, 0.75294118]],\n",
       "\n",
       "       ...,\n",
       "\n",
       "       [[0.83921569, 0.85490196, 0.85490196, ..., 0.64705882,\n",
       "         0.63921569, 0.64313725],\n",
       "        [0.84313725, 0.85882353, 0.83529412, ..., 0.63137255,\n",
       "         0.63137255, 0.63137255],\n",
       "        [0.85490196, 0.85098039, 0.84313725, ..., 0.63137255,\n",
       "         0.63137255, 0.63921569],\n",
       "        ...,\n",
       "        [0.18823529, 0.16862745, 0.17647059, ..., 0.3372549 ,\n",
       "         0.30980392, 0.28235294],\n",
       "        [0.14901961, 0.16078431, 0.14509804, ..., 0.24313725,\n",
       "         0.29019608, 0.30196078],\n",
       "        [0.14901961, 0.15686275, 0.16078431, ..., 0.24705882,\n",
       "         0.23137255, 0.25882353]],\n",
       "\n",
       "       [[0.28235294, 0.29803922, 0.25882353, ..., 0.18823529,\n",
       "         0.17647059, 0.16470588],\n",
       "        [0.37254902, 0.30588235, 0.26666667, ..., 0.18431373,\n",
       "         0.18039216, 0.18431373],\n",
       "        [0.35294118, 0.26666667, 0.2745098 , ..., 0.18039216,\n",
       "         0.17254902, 0.18039216],\n",
       "        ...,\n",
       "        [0.2       , 0.36862745, 0.43529412, ..., 0.29411765,\n",
       "         0.29803922, 0.29019608],\n",
       "        [0.20392157, 0.38039216, 0.43921569, ..., 0.29803922,\n",
       "         0.29803922, 0.29411765],\n",
       "        [0.20784314, 0.39607843, 0.44705882, ..., 0.29803922,\n",
       "         0.29803922, 0.29803922]],\n",
       "\n",
       "       [[0.44313725, 0.49019608, 0.41568627, ..., 0.27058824,\n",
       "         0.22352941, 0.23529412],\n",
       "        [0.50196078, 0.42352941, 0.4627451 , ..., 0.23921569,\n",
       "         0.2745098 , 0.27843137],\n",
       "        [0.41176471, 0.4745098 , 0.45098039, ..., 0.25490196,\n",
       "         0.26666667, 0.29803922],\n",
       "        ...,\n",
       "        [0.58431373, 0.62745098, 0.67058824, ..., 0.65490196,\n",
       "         0.58039216, 0.57647059],\n",
       "        [0.6       , 0.48235294, 0.65490196, ..., 0.59215686,\n",
       "         0.57647059, 0.59215686],\n",
       "        [0.58039216, 0.59215686, 0.68627451, ..., 0.55294118,\n",
       "         0.57647059, 0.56862745]]])"
      ]
     },
     "execution_count": 7,
     "metadata": {},
     "output_type": "execute_result"
    }
   ],
   "source": [
    "Testing_Features"
   ]
  },
  {
   "cell_type": "code",
   "execution_count": 8,
   "id": "binding-canada",
   "metadata": {
    "collapsed": true
   },
   "outputs": [
    {
     "data": {
      "text/plain": [
       "[3,\n",
       " 4,\n",
       " 3,\n",
       " 2,\n",
       " 0,\n",
       " 3,\n",
       " 2,\n",
       " 0,\n",
       " 1,\n",
       " 1,\n",
       " 3,\n",
       " 0,\n",
       " 0,\n",
       " 0,\n",
       " 2,\n",
       " 1,\n",
       " 2,\n",
       " 3,\n",
       " 2,\n",
       " 2,\n",
       " 0,\n",
       " 1,\n",
       " 2,\n",
       " 1,\n",
       " 0,\n",
       " 1,\n",
       " 2,\n",
       " 0,\n",
       " 0,\n",
       " 1,\n",
       " 1,\n",
       " 3,\n",
       " 2,\n",
       " 1,\n",
       " 3,\n",
       " 4,\n",
       " 4,\n",
       " 3,\n",
       " 2,\n",
       " 3,\n",
       " 2,\n",
       " 1,\n",
       " 3,\n",
       " 1,\n",
       " 1,\n",
       " 2,\n",
       " 4,\n",
       " 1,\n",
       " 2,\n",
       " 3,\n",
       " 1,\n",
       " 2,\n",
       " 2,\n",
       " 3,\n",
       " 1,\n",
       " 4,\n",
       " 1,\n",
       " 1,\n",
       " 2,\n",
       " 3,\n",
       " 3,\n",
       " 2,\n",
       " 4,\n",
       " 3,\n",
       " 0,\n",
       " 0,\n",
       " 3,\n",
       " 3,\n",
       " 0,\n",
       " 0,\n",
       " 1,\n",
       " 2,\n",
       " 3,\n",
       " 1,\n",
       " 2,\n",
       " 0,\n",
       " 1,\n",
       " 1,\n",
       " 2,\n",
       " 3,\n",
       " 1,\n",
       " 3,\n",
       " 1,\n",
       " 0,\n",
       " 3,\n",
       " 1,\n",
       " 1,\n",
       " 0,\n",
       " 3,\n",
       " 0,\n",
       " 1,\n",
       " 0,\n",
       " 0,\n",
       " 1,\n",
       " 0,\n",
       " 0,\n",
       " 0,\n",
       " 2,\n",
       " 2,\n",
       " 4,\n",
       " 3,\n",
       " 3,\n",
       " 2,\n",
       " 2,\n",
       " 1,\n",
       " 4,\n",
       " 2,\n",
       " 2,\n",
       " 2,\n",
       " 3,\n",
       " 4,\n",
       " 1,\n",
       " 2,\n",
       " 0,\n",
       " 3,\n",
       " 1,\n",
       " 3,\n",
       " 0,\n",
       " 3]"
      ]
     },
     "execution_count": 8,
     "metadata": {},
     "output_type": "execute_result"
    }
   ],
   "source": [
    "Testing_Labels"
   ]
  },
  {
   "cell_type": "code",
   "execution_count": 9,
   "id": "colored-publication",
   "metadata": {},
   "outputs": [
    {
     "data": {
      "text/plain": [
       "(656, 180, 180)"
      ]
     },
     "execution_count": 9,
     "metadata": {},
     "output_type": "execute_result"
    }
   ],
   "source": [
    "Training_Features.shape"
   ]
  },
  {
   "cell_type": "code",
   "execution_count": 10,
   "id": "strategic-alpha",
   "metadata": {},
   "outputs": [
    {
     "data": {
      "text/plain": [
       "(119, 180, 180)"
      ]
     },
     "execution_count": 10,
     "metadata": {},
     "output_type": "execute_result"
    }
   ],
   "source": [
    "Testing_Features.shape"
   ]
  },
  {
   "cell_type": "code",
   "execution_count": 11,
   "id": "hungry-consequence",
   "metadata": {},
   "outputs": [
    {
     "data": {
      "text/plain": [
       "656"
      ]
     },
     "execution_count": 11,
     "metadata": {},
     "output_type": "execute_result"
    }
   ],
   "source": [
    "len(Training_Labels)"
   ]
  },
  {
   "cell_type": "code",
   "execution_count": 12,
   "id": "colonial-haven",
   "metadata": {},
   "outputs": [
    {
     "data": {
      "text/plain": [
       "119"
      ]
     },
     "execution_count": 12,
     "metadata": {},
     "output_type": "execute_result"
    }
   ],
   "source": [
    "len(Testing_Labels)"
   ]
  },
  {
   "cell_type": "code",
   "execution_count": 13,
   "id": "alert-seating",
   "metadata": {},
   "outputs": [
    {
     "data": {
      "text/plain": [
       "(180, 180)"
      ]
     },
     "execution_count": 13,
     "metadata": {},
     "output_type": "execute_result"
    }
   ],
   "source": [
    "Training_Features[0].shape"
   ]
  },
  {
   "cell_type": "code",
   "execution_count": 14,
   "id": "crazy-activation",
   "metadata": {},
   "outputs": [
    {
     "data": {
      "text/plain": [
       "<matplotlib.image.AxesImage at 0x19a19967dc0>"
      ]
     },
     "execution_count": 14,
     "metadata": {},
     "output_type": "execute_result"
    },
    {
     "data": {
      "image/png": "[encoded data removed]",
      "text/plain": [
       "<Figure size 432x288 with 1 Axes>"
      ]
     },
     "metadata": {
      "needs_background": "light"
     },
     "output_type": "display_data"
    }
   ],
   "source": [
    "pyplot.imshow(Training_Features[2],cmap='gray')"
   ]
  },
  {
   "cell_type": "code",
   "execution_count": 15,
   "id": "caroline-dialogue",
   "metadata": {},
   "outputs": [
    {
     "name": "stdout",
     "output_type": "stream",
     "text": [
      "0 -->  Facial acne\n",
      "1 -->  Melanoma\n",
      "2 -->  Psoriasis\n",
      "3 -->  Ringworm\n",
      "4 -->  Skin Burn\n"
     ]
    }
   ],
   "source": [
    "printClassList()"
   ]
  },
  {
   "cell_type": "code",
   "execution_count": null,
   "id": "younger-printing",
   "metadata": {},
   "outputs": [],
   "source": []
  },
  {
   "cell_type": "markdown",
   "id": "particular-bleeding",
   "metadata": {},
   "source": [
    "## Validation Data Creation"
   ]
  },
  {
   "cell_type": "code",
   "execution_count": 16,
   "id": "sorted-direction",
   "metadata": {},
   "outputs": [],
   "source": [
    "# Validation_Features=Training_Features[:10]\n",
    "# Training_Features=Training_Features[10:]\n",
    "# Validation_Labels=Training_Labels[:10]\n",
    "# Training_Labels=Training_Labels[10:]"
   ]
  },
  {
   "cell_type": "code",
   "execution_count": 100,
   "id": "cubic-uzbekistan",
   "metadata": {
    "collapsed": true
   },
   "outputs": [
    {
     "data": {
      "text/plain": [
       "array([[[[ 63],\n",
       "         [ 86],\n",
       "         [ 78],\n",
       "         ...,\n",
       "         [140],\n",
       "         [137],\n",
       "         [145]],\n",
       "\n",
       "        [[ 62],\n",
       "         [ 75],\n",
       "         [ 61],\n",
       "         ...,\n",
       "         [144],\n",
       "         [152],\n",
       "         [180]],\n",
       "\n",
       "        [[ 61],\n",
       "         [ 71],\n",
       "         [ 62],\n",
       "         ...,\n",
       "         [137],\n",
       "         [139],\n",
       "         [145]],\n",
       "\n",
       "        ...,\n",
       "\n",
       "        [[ 85],\n",
       "         [ 81],\n",
       "         [ 90],\n",
       "         ...,\n",
       "         [160],\n",
       "         [187],\n",
       "         [173]],\n",
       "\n",
       "        [[ 84],\n",
       "         [ 88],\n",
       "         [ 88],\n",
       "         ...,\n",
       "         [157],\n",
       "         [162],\n",
       "         [169]],\n",
       "\n",
       "        [[ 82],\n",
       "         [ 81],\n",
       "         [ 89],\n",
       "         ...,\n",
       "         [153],\n",
       "         [160],\n",
       "         [162]]],\n",
       "\n",
       "\n",
       "       [[[147],\n",
       "         [148],\n",
       "         [148],\n",
       "         ...,\n",
       "         [115],\n",
       "         [115],\n",
       "         [117]],\n",
       "\n",
       "        [[147],\n",
       "         [148],\n",
       "         [148],\n",
       "         ...,\n",
       "         [113],\n",
       "         [114],\n",
       "         [112]],\n",
       "\n",
       "        [[147],\n",
       "         [148],\n",
       "         [148],\n",
       "         ...,\n",
       "         [114],\n",
       "         [114],\n",
       "         [115]],\n",
       "\n",
       "        ...,\n",
       "\n",
       "        [[163],\n",
       "         [162],\n",
       "         [159],\n",
       "         ...,\n",
       "         [106],\n",
       "         [107],\n",
       "         [103]],\n",
       "\n",
       "        [[164],\n",
       "         [162],\n",
       "         [160],\n",
       "         ...,\n",
       "         [106],\n",
       "         [107],\n",
       "         [103]],\n",
       "\n",
       "        [[163],\n",
       "         [161],\n",
       "         [159],\n",
       "         ...,\n",
       "         [107],\n",
       "         [107],\n",
       "         [103]]],\n",
       "\n",
       "\n",
       "       [[[168],\n",
       "         [168],\n",
       "         [168],\n",
       "         ...,\n",
       "         [ 44],\n",
       "         [ 51],\n",
       "         [ 41]],\n",
       "\n",
       "        [[169],\n",
       "         [169],\n",
       "         [169],\n",
       "         ...,\n",
       "         [ 25],\n",
       "         [ 26],\n",
       "         [ 30]],\n",
       "\n",
       "        [[169],\n",
       "         [169],\n",
       "         [169],\n",
       "         ...,\n",
       "         [ 21],\n",
       "         [  4],\n",
       "         [  6]],\n",
       "\n",
       "        ...,\n",
       "\n",
       "        [[102],\n",
       "         [102],\n",
       "         [103],\n",
       "         ...,\n",
       "         [127],\n",
       "         [122],\n",
       "         [122]],\n",
       "\n",
       "        [[107],\n",
       "         [107],\n",
       "         [107],\n",
       "         ...,\n",
       "         [124],\n",
       "         [125],\n",
       "         [125]],\n",
       "\n",
       "        [[109],\n",
       "         [109],\n",
       "         [108],\n",
       "         ...,\n",
       "         [125],\n",
       "         [118],\n",
       "         [118]]],\n",
       "\n",
       "\n",
       "       ...,\n",
       "\n",
       "\n",
       "       [[[171],\n",
       "         [170],\n",
       "         [172],\n",
       "         ...,\n",
       "         [126],\n",
       "         [126],\n",
       "         [123]],\n",
       "\n",
       "        [[168],\n",
       "         [172],\n",
       "         [172],\n",
       "         ...,\n",
       "         [129],\n",
       "         [129],\n",
       "         [126]],\n",
       "\n",
       "        [[169],\n",
       "         [169],\n",
       "         [172],\n",
       "         ...,\n",
       "         [129],\n",
       "         [130],\n",
       "         [126]],\n",
       "\n",
       "        ...,\n",
       "\n",
       "        [[176],\n",
       "         [177],\n",
       "         [184],\n",
       "         ...,\n",
       "         [106],\n",
       "         [118],\n",
       "         [116]],\n",
       "\n",
       "        [[177],\n",
       "         [165],\n",
       "         [177],\n",
       "         ...,\n",
       "         [111],\n",
       "         [116],\n",
       "         [113]],\n",
       "\n",
       "        [[175],\n",
       "         [180],\n",
       "         [189],\n",
       "         ...,\n",
       "         [114],\n",
       "         [115],\n",
       "         [113]]],\n",
       "\n",
       "\n",
       "       [[[115],\n",
       "         [111],\n",
       "         [104],\n",
       "         ...,\n",
       "         [ 81],\n",
       "         [ 79],\n",
       "         [ 77]],\n",
       "\n",
       "        [[116],\n",
       "         [123],\n",
       "         [115],\n",
       "         ...,\n",
       "         [ 80],\n",
       "         [ 79],\n",
       "         [ 79]],\n",
       "\n",
       "        [[118],\n",
       "         [126],\n",
       "         [126],\n",
       "         ...,\n",
       "         [ 79],\n",
       "         [ 78],\n",
       "         [ 78]],\n",
       "\n",
       "        ...,\n",
       "\n",
       "        [[ 51],\n",
       "         [ 53],\n",
       "         [ 54],\n",
       "         ...,\n",
       "         [ 89],\n",
       "         [ 80],\n",
       "         [ 84]],\n",
       "\n",
       "        [[ 51],\n",
       "         [ 54],\n",
       "         [ 55],\n",
       "         ...,\n",
       "         [ 96],\n",
       "         [ 85],\n",
       "         [ 85]],\n",
       "\n",
       "        [[ 52],\n",
       "         [ 55],\n",
       "         [ 55],\n",
       "         ...,\n",
       "         [102],\n",
       "         [ 91],\n",
       "         [ 86]]],\n",
       "\n",
       "\n",
       "       [[[108],\n",
       "         [101],\n",
       "         [114],\n",
       "         ...,\n",
       "         [164],\n",
       "         [163],\n",
       "         [159]],\n",
       "\n",
       "        [[125],\n",
       "         [111],\n",
       "         [107],\n",
       "         ...,\n",
       "         [165],\n",
       "         [165],\n",
       "         [162]],\n",
       "\n",
       "        [[137],\n",
       "         [117],\n",
       "         [102],\n",
       "         ...,\n",
       "         [166],\n",
       "         [167],\n",
       "         [162]],\n",
       "\n",
       "        ...,\n",
       "\n",
       "        [[ 52],\n",
       "         [ 34],\n",
       "         [ 38],\n",
       "         ...,\n",
       "         [129],\n",
       "         [129],\n",
       "         [129]],\n",
       "\n",
       "        [[ 48],\n",
       "         [ 33],\n",
       "         [ 40],\n",
       "         ...,\n",
       "         [129],\n",
       "         [128],\n",
       "         [128]],\n",
       "\n",
       "        [[ 46],\n",
       "         [ 34],\n",
       "         [ 44],\n",
       "         ...,\n",
       "         [129],\n",
       "         [128],\n",
       "         [128]]]], dtype=uint8)"
      ]
     },
     "execution_count": 100,
     "metadata": {},
     "output_type": "execute_result"
    }
   ],
   "source": [
    "Validation_Features"
   ]
  },
  {
   "cell_type": "code",
   "execution_count": 101,
   "id": "cardiovascular-montreal",
   "metadata": {},
   "outputs": [
    {
     "data": {
      "text/plain": [
       "[1, 3, 2, 0, 2, 2, 1, 4, 0, 0]"
      ]
     },
     "execution_count": 101,
     "metadata": {},
     "output_type": "execute_result"
    }
   ],
   "source": [
    "Validation_Labels"
   ]
  },
  {
   "cell_type": "code",
   "execution_count": 17,
   "id": "decreased-halloween",
   "metadata": {},
   "outputs": [
    {
     "data": {
      "text/plain": [
       "(656, 180, 180)"
      ]
     },
     "execution_count": 17,
     "metadata": {},
     "output_type": "execute_result"
    }
   ],
   "source": [
    "Training_Features.shape"
   ]
  },
  {
   "cell_type": "code",
   "execution_count": 18,
   "id": "explicit-capture",
   "metadata": {},
   "outputs": [
    {
     "data": {
      "text/plain": [
       "656"
      ]
     },
     "execution_count": 18,
     "metadata": {},
     "output_type": "execute_result"
    }
   ],
   "source": [
    "len(Training_Labels)"
   ]
  },
  {
   "cell_type": "code",
   "execution_count": 104,
   "id": "raising-nerve",
   "metadata": {},
   "outputs": [
    {
     "data": {
      "text/plain": [
       "(10, 180, 180, 1)"
      ]
     },
     "execution_count": 104,
     "metadata": {},
     "output_type": "execute_result"
    }
   ],
   "source": [
    "Validation_Features.shape"
   ]
  },
  {
   "cell_type": "code",
   "execution_count": 105,
   "id": "direct-actor",
   "metadata": {},
   "outputs": [
    {
     "data": {
      "text/plain": [
       "10"
      ]
     },
     "execution_count": 105,
     "metadata": {},
     "output_type": "execute_result"
    }
   ],
   "source": [
    "len(Validation_Labels)"
   ]
  },
  {
   "cell_type": "markdown",
   "id": "official-detector",
   "metadata": {},
   "source": [
    "## Dimention expansion"
   ]
  },
  {
   "cell_type": "code",
   "execution_count": 19,
   "id": "external-advertiser",
   "metadata": {},
   "outputs": [],
   "source": [
    "Training_Features=numpy.expand_dims(Training_Features,axis=-1)\n",
    "Testing_Features=numpy.expand_dims(Testing_Features,axis=-1)\n",
    "# Validation_Features=numpy.expand_dims(Validation_Features,axis=-1)"
   ]
  },
  {
   "cell_type": "code",
   "execution_count": 20,
   "id": "constitutional-marker",
   "metadata": {},
   "outputs": [
    {
     "data": {
      "text/plain": [
       "(656, 180, 180, 1)"
      ]
     },
     "execution_count": 20,
     "metadata": {},
     "output_type": "execute_result"
    }
   ],
   "source": [
    "Training_Features.shape"
   ]
  },
  {
   "cell_type": "code",
   "execution_count": 21,
   "id": "ready-travel",
   "metadata": {},
   "outputs": [
    {
     "data": {
      "text/plain": [
       "(119, 180, 180, 1)"
      ]
     },
     "execution_count": 21,
     "metadata": {},
     "output_type": "execute_result"
    }
   ],
   "source": [
    "Testing_Features.shape"
   ]
  },
  {
   "cell_type": "code",
   "execution_count": 143,
   "id": "physical-tongue",
   "metadata": {},
   "outputs": [],
   "source": [
    "# Validation_Features.shape"
   ]
  },
  {
   "cell_type": "code",
   "execution_count": 23,
   "id": "respected-musician",
   "metadata": {},
   "outputs": [
    {
     "data": {
      "text/plain": [
       "656"
      ]
     },
     "execution_count": 23,
     "metadata": {},
     "output_type": "execute_result"
    }
   ],
   "source": [
    "len(Training_Labels)"
   ]
  },
  {
   "cell_type": "code",
   "execution_count": 24,
   "id": "golden-thanksgiving",
   "metadata": {},
   "outputs": [
    {
     "data": {
      "text/plain": [
       "119"
      ]
     },
     "execution_count": 24,
     "metadata": {},
     "output_type": "execute_result"
    }
   ],
   "source": [
    "len(Testing_Labels)"
   ]
  },
  {
   "cell_type": "code",
   "execution_count": 144,
   "id": "tracked-choice",
   "metadata": {},
   "outputs": [],
   "source": [
    "# len(Validation_Labels)"
   ]
  },
  {
   "cell_type": "code",
   "execution_count": null,
   "id": "funky-dragon",
   "metadata": {},
   "outputs": [],
   "source": []
  },
  {
   "cell_type": "markdown",
   "id": "printable-bubble",
   "metadata": {},
   "source": [
    "## Model Definition"
   ]
  },
  {
   "cell_type": "code",
   "execution_count": 25,
   "id": "offshore-nowhere",
   "metadata": {},
   "outputs": [],
   "source": [
    "model1_using_only_one_layers=keras.models.Sequential(\n",
    "     [\n",
    "         keras.layers.Conv2D(filters=32,kernel_size=3,strides=(1,1),padding='valid',activation='relu',input_shape=[180,180,1]),\n",
    "         keras.layers.MaxPool2D(pool_size=(2,2)),\n",
    "         keras.layers.Flatten(),\n",
    "         keras.layers.Dense(units=512,activation='relu'),\n",
    "         keras.layers.Dense(units=128,activation='relu'),\n",
    "         keras.layers.Dense(units=5,activation='softmax'),\n",
    "     ]\n",
    " )"
   ]
  },
  {
   "cell_type": "code",
   "execution_count": 26,
   "id": "pleasant-liquid",
   "metadata": {},
   "outputs": [
    {
     "data": {
      "text/plain": [
       "<keras.engine.sequential.Sequential at 0x19a19d24130>"
      ]
     },
     "execution_count": 26,
     "metadata": {},
     "output_type": "execute_result"
    }
   ],
   "source": [
    "model1_using_only_one_layers"
   ]
  },
  {
   "cell_type": "code",
   "execution_count": 27,
   "id": "accurate-placement",
   "metadata": {},
   "outputs": [
    {
     "name": "stdout",
     "output_type": "stream",
     "text": [
      "Model: \"sequential\"\n",
      "_________________________________________________________________\n",
      "Layer (type)                 Output Shape              Param #   \n",
      "=================================================================\n",
      "conv2d (Conv2D)              (None, 178, 178, 32)      320       \n",
      "_________________________________________________________________\n",
      "max_pooling2d (MaxPooling2D) (None, 89, 89, 32)        0         \n",
      "_________________________________________________________________\n",
      "flatten (Flatten)            (None, 253472)            0         \n",
      "_________________________________________________________________\n",
      "dense (Dense)                (None, 512)               129778176 \n",
      "_________________________________________________________________\n",
      "dense_1 (Dense)              (None, 128)               65664     \n",
      "_________________________________________________________________\n",
      "dense_2 (Dense)              (None, 5)                 645       \n",
      "=================================================================\n",
      "Total params: 129,844,805\n",
      "Trainable params: 129,844,805\n",
      "Non-trainable params: 0\n",
      "_________________________________________________________________\n"
     ]
    }
   ],
   "source": [
    "model1_using_only_one_layers.summary()"
   ]
  },
  {
   "cell_type": "code",
   "execution_count": 28,
   "id": "sealed-rehabilitation",
   "metadata": {},
   "outputs": [],
   "source": [
    "model1_using_only_one_layers.compile(optimizer='adam',loss='sparse_categorical_crossentropy',metrics=['accuracy'])"
   ]
  },
  {
   "cell_type": "code",
   "execution_count": 29,
   "id": "important-worship",
   "metadata": {},
   "outputs": [
    {
     "name": "stdout",
     "output_type": "stream",
     "text": [
      "Epoch 1/10\n",
      "21/21 [==============================] - 32s 1s/step - loss: 8.6229 - accuracy: 0.3201 - val_loss: 1.2276 - val_accuracy: 0.5462\n",
      "Epoch 2/10\n",
      "21/21 [==============================] - 28s 1s/step - loss: 1.2588 - accuracy: 0.5244 - val_loss: 1.5942 - val_accuracy: 0.5462\n",
      "Epoch 3/10\n",
      "21/21 [==============================] - 29s 1s/step - loss: 0.8787 - accuracy: 0.6707 - val_loss: 0.8097 - val_accuracy: 0.7059\n",
      "Epoch 4/10\n",
      "21/21 [==============================] - 28s 1s/step - loss: 0.6655 - accuracy: 0.7409 - val_loss: 0.7731 - val_accuracy: 0.7227\n",
      "Epoch 5/10\n",
      "21/21 [==============================] - 28s 1s/step - loss: 0.5121 - accuracy: 0.8125 - val_loss: 1.1237 - val_accuracy: 0.6303\n",
      "Epoch 6/10\n",
      "21/21 [==============================] - 28s 1s/step - loss: 0.4301 - accuracy: 0.8537 - val_loss: 0.6892 - val_accuracy: 0.7563\n",
      "Epoch 7/10\n",
      "21/21 [==============================] - 28s 1s/step - loss: 0.3708 - accuracy: 0.8598 - val_loss: 0.6883 - val_accuracy: 0.7311\n",
      "Epoch 8/10\n",
      "21/21 [==============================] - 28s 1s/step - loss: 0.2496 - accuracy: 0.9162 - val_loss: 0.7833 - val_accuracy: 0.7647\n",
      "Epoch 9/10\n",
      "21/21 [==============================] - 28s 1s/step - loss: 0.1919 - accuracy: 0.9512 - val_loss: 0.7893 - val_accuracy: 0.7311\n",
      "Epoch 10/10\n",
      "21/21 [==============================] - 28s 1s/step - loss: 0.1379 - accuracy: 0.9665 - val_loss: 0.7902 - val_accuracy: 0.7479\n"
     ]
    }
   ],
   "source": [
    "history1=model1_using_only_one_layers.fit(Training_Features,numpy.array(Training_Labels),epochs=10,verbose=1,validation_data=(Testing_Features,numpy.array(Testing_Labels)))"
   ]
  },
  {
   "cell_type": "code",
   "execution_count": 145,
   "id": "motivated-montgomery",
   "metadata": {},
   "outputs": [],
   "source": [
    "model1_using_only_one_layers.save('./Models/model4_using_only_one_layers.h5')"
   ]
  },
  {
   "cell_type": "code",
   "execution_count": null,
   "id": "unique-fitting",
   "metadata": {},
   "outputs": [],
   "source": []
  },
  {
   "cell_type": "code",
   "execution_count": null,
   "id": "bright-queensland",
   "metadata": {},
   "outputs": [],
   "source": []
  },
  {
   "cell_type": "code",
   "execution_count": null,
   "id": "thermal-klein",
   "metadata": {},
   "outputs": [],
   "source": []
  },
  {
   "cell_type": "code",
   "execution_count": 146,
   "id": "indian-meaning",
   "metadata": {},
   "outputs": [],
   "source": [
    "# trained_model=tensorflow.keras.models.load_model('./Models/model2_using_only_one_layers.h5')\n",
    "trained_model=model1_using_only_one_layers"
   ]
  },
  {
   "cell_type": "code",
   "execution_count": 147,
   "id": "parental-accommodation",
   "metadata": {},
   "outputs": [],
   "source": [
    "prediction=trained_model.predict(numpy.expand_dims(Testing_Features[0],axis=0)).round(5)*100"
   ]
  },
  {
   "cell_type": "code",
   "execution_count": 148,
   "id": "fifth-smell",
   "metadata": {},
   "outputs": [
    {
     "data": {
      "text/plain": [
       "[0.006, 0.253, 97.487, 1.652, 0.602]"
      ]
     },
     "execution_count": 148,
     "metadata": {},
     "output_type": "execute_result"
    }
   ],
   "source": [
    "list(prediction[0])"
   ]
  },
  {
   "cell_type": "code",
   "execution_count": 112,
   "id": "swiss-coverage",
   "metadata": {},
   "outputs": [],
   "source": [
    "# numpy.sum(prediction[0])"
   ]
  },
  {
   "cell_type": "code",
   "execution_count": 113,
   "id": "western-redhead",
   "metadata": {},
   "outputs": [
    {
     "name": "stdout",
     "output_type": "stream",
     "text": [
      "dict_keys([2, 3, 4, 1, 0])\n"
     ]
    }
   ],
   "source": [
    "predicted_classes=list(prediction[0])\n",
    "sorted_indexes={}\n",
    "temp_array=[i for i in predicted_classes]\n",
    "for i in predicted_classes:\n",
    "    index_value=list(temp_array).index(max(temp_array))\n",
    "    sorted_indexes.update({index_value:max(temp_array)})\n",
    "    temp_array[index_value]=-1\n",
    "# print(temp_array)\n",
    "print(sorted_indexes.keys())\n",
    "    "
   ]
  },
  {
   "cell_type": "code",
   "execution_count": 114,
   "id": "adjusted-buddy",
   "metadata": {},
   "outputs": [
    {
     "data": {
      "text/plain": [
       "97.487"
      ]
     },
     "execution_count": 114,
     "metadata": {},
     "output_type": "execute_result"
    }
   ],
   "source": [
    "max(prediction[0])"
   ]
  },
  {
   "cell_type": "code",
   "execution_count": 115,
   "id": "genetic-sensitivity",
   "metadata": {},
   "outputs": [],
   "source": [
    "class_value=list(prediction[0]).index(max(prediction[0]))"
   ]
  },
  {
   "cell_type": "code",
   "execution_count": 116,
   "id": "affected-evolution",
   "metadata": {},
   "outputs": [
    {
     "data": {
      "text/plain": [
       "2"
      ]
     },
     "execution_count": 116,
     "metadata": {},
     "output_type": "execute_result"
    }
   ],
   "source": [
    "class_value"
   ]
  },
  {
   "cell_type": "code",
   "execution_count": 117,
   "id": "burning-method",
   "metadata": {},
   "outputs": [
    {
     "name": "stdout",
     "output_type": "stream",
     "text": [
      "97.48699951171875 % --> Psoriasis\n",
      "1.6519999504089355 % --> Ringworm\n",
      "0.6019999980926514 % --> Skin Burn\n",
      "0.2529999911785126 % --> Melanoma\n",
      "0.006000000052154064 % --> Facial acne\n"
     ]
    }
   ],
   "source": [
    "for key,value in sorted_indexes.items():\n",
    "    print(f\"{value} % --> \",end=\"\")\n",
    "    getClassvalue(key)"
   ]
  },
  {
   "cell_type": "code",
   "execution_count": 118,
   "id": "extensive-pizza",
   "metadata": {},
   "outputs": [
    {
     "name": "stdout",
     "output_type": "stream",
     "text": [
      "Actual class is --> Ringworm\n"
     ]
    }
   ],
   "source": [
    "print(\"Actual class is --> \",end=\"\")\n",
    "getClassvalue(Testing_Labels[0])"
   ]
  },
  {
   "cell_type": "code",
   "execution_count": 119,
   "id": "worst-profile",
   "metadata": {},
   "outputs": [
    {
     "data": {
      "text/plain": [
       "array([[[0.77254902],\n",
       "        [0.78431373],\n",
       "        [0.8       ],\n",
       "        ...,\n",
       "        [0.74901961],\n",
       "        [0.74117647],\n",
       "        [0.73333333]],\n",
       "\n",
       "       [[0.79215686],\n",
       "        [0.78431373],\n",
       "        [0.8       ],\n",
       "        ...,\n",
       "        [0.73333333],\n",
       "        [0.74117647],\n",
       "        [0.73333333]],\n",
       "\n",
       "       [[0.8       ],\n",
       "        [0.77647059],\n",
       "        [0.78039216],\n",
       "        ...,\n",
       "        [0.7372549 ],\n",
       "        [0.7254902 ],\n",
       "        [0.74117647]],\n",
       "\n",
       "       ...,\n",
       "\n",
       "       [[0.76470588],\n",
       "        [0.76078431],\n",
       "        [0.81568627],\n",
       "        ...,\n",
       "        [0.76470588],\n",
       "        [0.76862745],\n",
       "        [0.78039216]],\n",
       "\n",
       "       [[0.8       ],\n",
       "        [0.79607843],\n",
       "        [0.81960784],\n",
       "        ...,\n",
       "        [0.78039216],\n",
       "        [0.77647059],\n",
       "        [0.80392157]],\n",
       "\n",
       "       [[0.78823529],\n",
       "        [0.80392157],\n",
       "        [0.81960784],\n",
       "        ...,\n",
       "        [0.80392157],\n",
       "        [0.78431373],\n",
       "        [0.8       ]]])"
      ]
     },
     "execution_count": 119,
     "metadata": {},
     "output_type": "execute_result"
    }
   ],
   "source": [
    "Training_Features[1]"
   ]
  },
  {
   "cell_type": "code",
   "execution_count": 120,
   "id": "refined-houston",
   "metadata": {},
   "outputs": [
    {
     "data": {
      "text/plain": [
       "656"
      ]
     },
     "execution_count": 120,
     "metadata": {},
     "output_type": "execute_result"
    }
   ],
   "source": [
    "len(Training_Features)"
   ]
  },
  {
   "cell_type": "code",
   "execution_count": 121,
   "id": "bronze-yahoo",
   "metadata": {},
   "outputs": [
    {
     "data": {
      "text/plain": [
       "119"
      ]
     },
     "execution_count": 121,
     "metadata": {},
     "output_type": "execute_result"
    }
   ],
   "source": [
    "len(Testing_Features)"
   ]
  },
  {
   "cell_type": "code",
   "execution_count": 122,
   "id": "seeing-mobile",
   "metadata": {},
   "outputs": [],
   "source": [
    "Predeicted_test_data=trained_model.predict(Testing_Features)"
   ]
  },
  {
   "cell_type": "code",
   "execution_count": 123,
   "id": "minus-riverside",
   "metadata": {},
   "outputs": [
    {
     "data": {
      "text/plain": [
       "array([[5.82569701e-05, 2.53109122e-03, 9.74867404e-01, 1.65219065e-02,\n",
       "        6.02132175e-03],\n",
       "       [8.20660174e-01, 2.10574188e-04, 7.49138184e-03, 1.70362309e-01,\n",
       "        1.27548818e-03],\n",
       "       [2.39421315e-02, 3.88898775e-02, 3.34294349e-01, 5.93211830e-01,\n",
       "        9.66177322e-03],\n",
       "       [1.48150511e-03, 2.05089464e-06, 9.95812953e-01, 2.67644064e-03,\n",
       "        2.70998789e-05],\n",
       "       [6.82905614e-01, 5.79302525e-03, 1.90626793e-02, 2.88185835e-01,\n",
       "        4.05282248e-03],\n",
       "       [2.81668276e-01, 4.37176554e-03, 8.19247961e-02, 6.10138178e-01,\n",
       "        2.18970310e-02],\n",
       "       [5.21057285e-04, 5.62407622e-05, 9.92186546e-01, 7.13449018e-03,\n",
       "        1.01759251e-04],\n",
       "       [7.95640707e-01, 3.60411032e-05, 7.25006824e-03, 1.96874425e-01,\n",
       "        1.98714959e-04],\n",
       "       [5.08390947e-08, 9.96703207e-01, 3.17488308e-03, 1.26565544e-06,\n",
       "        1.20635821e-04],\n",
       "       [4.85405217e-05, 9.97524917e-01, 2.40492448e-03, 6.12187796e-06,\n",
       "        1.55562320e-05],\n",
       "       [1.86297130e-02, 8.71167799e-07, 1.39441364e-03, 9.79758859e-01,\n",
       "        2.16154294e-04],\n",
       "       [8.68778110e-01, 2.91148404e-04, 4.58098985e-02, 8.44077095e-02,\n",
       "        7.13047397e-04],\n",
       "       [9.92119431e-01, 2.74038357e-05, 1.22446904e-03, 6.39675558e-03,\n",
       "        2.31947270e-04],\n",
       "       [3.41874033e-01, 1.08536980e-04, 2.22417228e-02, 6.30537093e-01,\n",
       "        5.23858750e-03],\n",
       "       [2.38145456e-01, 6.55211566e-04, 2.01654866e-01, 5.57565987e-01,\n",
       "        1.97848282e-03],\n",
       "       [3.82350481e-05, 9.98151243e-01, 1.35858380e-03, 2.27441105e-05,\n",
       "        4.29171749e-04],\n",
       "       [7.68527165e-02, 1.65315419e-02, 7.74020970e-01, 1.26741067e-01,\n",
       "        5.85364271e-03],\n",
       "       [2.93421559e-04, 2.81717585e-05, 3.05331089e-02, 9.57369983e-01,\n",
       "        1.17752673e-02],\n",
       "       [1.66155824e-05, 5.93598641e-04, 9.99330997e-01, 3.38312275e-05,\n",
       "        2.50758640e-05],\n",
       "       [2.92576733e-04, 7.84151077e-01, 1.00345820e-01, 7.26461934e-04,\n",
       "        1.14484079e-01],\n",
       "       [9.29868639e-01, 1.37256968e-04, 2.26181317e-02, 4.52961847e-02,\n",
       "        2.07977579e-03],\n",
       "       [1.01864785e-07, 9.33822632e-01, 6.57043606e-02, 6.89400849e-06,\n",
       "        4.65982012e-04],\n",
       "       [4.15794775e-02, 2.65956530e-03, 2.84058094e-01, 6.61373615e-01,\n",
       "        1.03293275e-02],\n",
       "       [7.17906573e-07, 9.99346435e-01, 6.24185079e-04, 3.08753783e-06,\n",
       "        2.56539315e-05],\n",
       "       [9.94072616e-01, 2.54373619e-04, 9.75901727e-04, 4.38176189e-03,\n",
       "        3.15321726e-04],\n",
       "       [5.33725659e-04, 9.92338777e-01, 3.59474984e-03, 2.72623519e-03,\n",
       "        8.06371449e-04],\n",
       "       [7.04361373e-05, 3.37350299e-03, 9.90980327e-01, 1.27821788e-03,\n",
       "        4.29745205e-03],\n",
       "       [8.83273661e-01, 5.33084152e-04, 5.62549084e-02, 5.55653423e-02,\n",
       "        4.37299861e-03],\n",
       "       [9.82663929e-01, 1.89629664e-05, 2.32328603e-04, 1.70452483e-02,\n",
       "        3.95871357e-05],\n",
       "       [5.06450488e-05, 9.99716580e-01, 1.94852546e-04, 5.28200735e-06,\n",
       "        3.27024572e-05],\n",
       "       [1.04017927e-04, 9.94030416e-01, 4.99794818e-03, 4.60689509e-04,\n",
       "        4.06925566e-04],\n",
       "       [1.42450571e-01, 2.10058014e-03, 7.06203431e-02, 7.78908014e-01,\n",
       "        5.92038315e-03],\n",
       "       [4.45502326e-02, 9.75301396e-03, 8.91764641e-01, 4.56083529e-02,\n",
       "        8.32366664e-03],\n",
       "       [2.92559275e-06, 9.72717285e-01, 2.66901031e-02, 5.31124570e-05,\n",
       "        5.36489417e-04],\n",
       "       [5.46382926e-02, 2.12824028e-02, 5.41104853e-01, 3.71757537e-01,\n",
       "        1.12169571e-02],\n",
       "       [5.16374484e-02, 1.67277409e-04, 4.81084496e-01, 4.34686840e-01,\n",
       "        3.24237980e-02],\n",
       "       [4.69255523e-04, 5.80284632e-06, 8.91457486e-04, 1.15448572e-02,\n",
       "        9.87088621e-01],\n",
       "       [8.62525582e-01, 5.11565577e-06, 5.18384436e-03, 1.32189378e-01,\n",
       "        9.61198675e-05],\n",
       "       [6.93040856e-05, 1.84027740e-04, 9.94793832e-01, 2.15580920e-03,\n",
       "        2.79706251e-03],\n",
       "       [3.44085507e-02, 5.19743517e-05, 6.92732647e-05, 9.65245724e-01,\n",
       "        2.24389529e-04],\n",
       "       [3.87656386e-03, 8.71018320e-03, 6.29824638e-01, 3.51679564e-01,\n",
       "        5.90903638e-03],\n",
       "       [1.70150175e-04, 9.98927772e-01, 6.44584827e-04, 1.75310255e-04,\n",
       "        8.21389986e-05],\n",
       "       [5.95990241e-01, 1.83254480e-03, 2.36774534e-01, 9.66160670e-02,\n",
       "        6.87865913e-02],\n",
       "       [1.47882511e-05, 9.98425603e-01, 1.36791728e-03, 1.98902799e-05,\n",
       "        1.71878084e-04],\n",
       "       [1.07257023e-04, 9.94073451e-01, 4.91648633e-03, 5.79353364e-04,\n",
       "        3.23476037e-04],\n",
       "       [4.09730971e-02, 2.81922445e-02, 7.65532076e-01, 9.26900059e-02,\n",
       "        7.26126060e-02],\n",
       "       [8.65549326e-01, 1.27806002e-02, 5.87449856e-02, 6.23047352e-02,\n",
       "        6.20452163e-04],\n",
       "       [1.77997263e-05, 9.80489373e-01, 1.82488859e-02, 2.03812597e-04,\n",
       "        1.04009314e-03],\n",
       "       [2.13927124e-03, 2.19779729e-04, 9.93653655e-01, 3.40018817e-03,\n",
       "        5.87124552e-04],\n",
       "       [3.61796379e-01, 4.01594862e-03, 1.60488248e-01, 4.12601560e-01,\n",
       "        6.10978864e-02],\n",
       "       [5.09170013e-06, 9.99557436e-01, 3.83500883e-04, 9.46749515e-06,\n",
       "        4.45625083e-05],\n",
       "       [7.84862693e-03, 4.16276464e-03, 5.69741070e-01, 4.05085921e-01,\n",
       "        1.31616313e-02],\n",
       "       [2.66944170e-02, 4.80139675e-03, 4.16026384e-01, 5.37808657e-01,\n",
       "        1.46691902e-02],\n",
       "       [5.43566525e-01, 9.22400272e-04, 2.38977280e-02, 4.26469833e-01,\n",
       "        5.14355814e-03],\n",
       "       [1.60503696e-05, 9.93126750e-01, 6.11416250e-03, 5.55625185e-04,\n",
       "        1.87364145e-04],\n",
       "       [3.05130766e-06, 1.25055703e-06, 6.22849402e-05, 2.56844563e-03,\n",
       "        9.97364938e-01],\n",
       "       [3.88853966e-12, 9.88345861e-01, 1.13527756e-02, 4.12382128e-08,\n",
       "        3.01379157e-04],\n",
       "       [5.53999445e-04, 9.97331738e-01, 1.51058985e-03, 2.92620389e-04,\n",
       "        3.11142125e-04],\n",
       "       [2.78562866e-02, 1.16773102e-04, 7.52243161e-01, 2.08506435e-01,\n",
       "        1.12774018e-02],\n",
       "       [3.49186198e-03, 3.87114793e-01, 4.32419509e-01, 1.37899056e-01,\n",
       "        3.90748046e-02],\n",
       "       [8.25024035e-04, 1.25686023e-02, 3.24435502e-01, 6.03952050e-01,\n",
       "        5.82188070e-02],\n",
       "       [7.79285133e-01, 7.09696033e-05, 2.90854964e-02, 1.91398144e-01,\n",
       "        1.60161115e-04],\n",
       "       [3.59304977e-07, 3.70673092e-07, 7.67468155e-05, 6.56054499e-06,\n",
       "        9.99915957e-01],\n",
       "       [4.85694855e-02, 2.78729858e-04, 3.41613367e-02, 9.00111139e-01,\n",
       "        1.68793183e-02],\n",
       "       [9.61457729e-01, 4.47504979e-04, 5.15383156e-03, 3.19555663e-02,\n",
       "        9.85293882e-04],\n",
       "       [9.49704289e-01, 4.05240316e-05, 3.92759126e-03, 4.62259129e-02,\n",
       "        1.01654870e-04],\n",
       "       [6.58408403e-01, 1.26053719e-03, 1.03595205e-01, 2.31255919e-01,\n",
       "        5.47993835e-03],\n",
       "       [5.69249853e-04, 1.70133039e-02, 5.22350430e-01, 4.15606529e-01,\n",
       "        4.44604792e-02],\n",
       "       [1.05290279e-01, 4.11238447e-02, 1.03413150e-01, 7.32749760e-01,\n",
       "        1.74229145e-02],\n",
       "       [7.44418085e-01, 9.94599759e-05, 3.90400514e-02, 2.13438362e-01,\n",
       "        3.00395978e-03],\n",
       "       [3.86444828e-03, 9.92216945e-01, 2.81514158e-03, 6.82606595e-04,\n",
       "        4.20901255e-04],\n",
       "       [6.52272284e-01, 3.15480377e-03, 5.26154190e-02, 2.88907886e-01,\n",
       "        3.04972171e-03],\n",
       "       [6.49159178e-02, 5.36083058e-03, 7.03252181e-02, 8.54146957e-01,\n",
       "        5.25108958e-03],\n",
       "       [4.47806814e-09, 9.60432410e-01, 3.13290730e-02, 2.22596082e-05,\n",
       "        8.21634196e-03],\n",
       "       [1.67269527e-03, 1.35968486e-02, 7.54173756e-01, 1.88908085e-01,\n",
       "        4.16486040e-02],\n",
       "       [8.62680078e-01, 3.84834886e-04, 4.83081583e-03, 1.26066998e-01,\n",
       "        6.03732234e-03],\n",
       "       [1.55780685e-06, 9.98609424e-01, 1.36394426e-03, 6.51291157e-06,\n",
       "        1.84809433e-05],\n",
       "       [2.01476723e-06, 9.98342395e-01, 1.58091274e-03, 5.63242838e-06,\n",
       "        6.90803790e-05],\n",
       "       [4.56965202e-03, 3.66856511e-05, 5.51288091e-02, 9.35508251e-01,\n",
       "        4.75663971e-03],\n",
       "       [8.29484910e-02, 5.70535252e-04, 2.71671992e-02, 8.86081338e-01,\n",
       "        3.23245791e-03],\n",
       "       [1.56900603e-06, 9.98366892e-01, 1.54715194e-03, 2.31108825e-05,\n",
       "        6.13386583e-05],\n",
       "       [1.60302848e-01, 1.47647935e-03, 1.71929672e-01, 6.58555567e-01,\n",
       "        7.73551967e-03],\n",
       "       [6.43757288e-04, 9.98304486e-01, 8.00295733e-04, 6.32890078e-06,\n",
       "        2.45156640e-04],\n",
       "       [9.94114459e-01, 3.59178928e-04, 2.25338060e-03, 3.20095150e-03,\n",
       "        7.20894313e-05],\n",
       "       [1.91523984e-01, 7.02591497e-04, 7.90815890e-01, 1.36934565e-02,\n",
       "        3.26400436e-03],\n",
       "       [1.62531205e-06, 9.99937415e-01, 5.11261824e-05, 9.77352443e-07,\n",
       "        8.84108158e-06],\n",
       "       [5.06450488e-05, 9.99716580e-01, 1.94852546e-04, 5.28200735e-06,\n",
       "        3.27024572e-05],\n",
       "       [8.33458900e-01, 5.94484794e-04, 1.09398976e-01, 5.48839234e-02,\n",
       "        1.66370650e-03],\n",
       "       [7.61052070e-06, 7.15968847e-01, 2.80288458e-01, 5.49874734e-04,\n",
       "        3.18517280e-03],\n",
       "       [9.45187390e-01, 3.08832340e-03, 1.26493862e-02, 3.66209336e-02,\n",
       "        2.45391810e-03],\n",
       "       [1.08168092e-06, 9.99946117e-01, 4.05069477e-05, 5.82014763e-07,\n",
       "        1.16871588e-05],\n",
       "       [9.01128054e-01, 9.07973881e-05, 8.72986484e-03, 8.93249288e-02,\n",
       "        7.26405415e-04],\n",
       "       [5.98771036e-01, 1.96803794e-05, 1.83846336e-02, 3.82351011e-01,\n",
       "        4.73674736e-04],\n",
       "       [5.09452377e-07, 9.96384144e-01, 3.14230518e-03, 4.98820964e-06,\n",
       "        4.67989797e-04],\n",
       "       [9.72270191e-01, 1.56406735e-04, 5.87732298e-03, 2.15982888e-02,\n",
       "        9.78205717e-05],\n",
       "       [9.76465940e-01, 4.21918958e-05, 4.08161897e-03, 1.92878097e-02,\n",
       "        1.22417856e-04],\n",
       "       [6.08830571e-01, 2.66755698e-03, 1.18263990e-01, 2.67348498e-01,\n",
       "        2.88943201e-03],\n",
       "       [2.32567433e-02, 5.41016087e-02, 4.14445072e-01, 5.03331602e-01,\n",
       "        4.86496510e-03],\n",
       "       [3.57536133e-03, 5.81576969e-05, 1.99298918e-01, 7.88377464e-01,\n",
       "        8.69017094e-03],\n",
       "       [7.71905604e-07, 1.76465548e-07, 6.18498234e-05, 3.60372214e-04,\n",
       "        9.99576867e-01],\n",
       "       [6.45307004e-02, 7.79822469e-03, 1.97826520e-01, 7.23869503e-01,\n",
       "        5.97501639e-03],\n",
       "       [6.40037060e-02, 4.51333210e-04, 5.53622246e-02, 8.60096693e-01,\n",
       "        2.00860407e-02],\n",
       "       [2.83972495e-05, 2.30932538e-03, 9.86662924e-01, 8.69486760e-03,\n",
       "        2.30446993e-03],\n",
       "       [1.42005440e-02, 1.68421393e-04, 1.76838517e-01, 8.08543384e-01,\n",
       "        2.49180011e-04],\n",
       "       [1.70782982e-06, 9.98842597e-01, 1.07845420e-03, 1.22964229e-05,\n",
       "        6.49234426e-05],\n",
       "       [1.04459545e-07, 1.91814797e-06, 9.12617445e-01, 5.10628894e-02,\n",
       "        3.63176800e-02],\n",
       "       [5.93033791e-01, 1.52131366e-02, 9.83097777e-02, 2.91429192e-01,\n",
       "        2.01410241e-03],\n",
       "       [4.93509114e-01, 5.01770592e-05, 6.65940810e-03, 4.97479498e-01,\n",
       "        2.30179215e-03],\n",
       "       [9.82045472e-01, 7.79732000e-05, 1.65736936e-02, 1.29656645e-03,\n",
       "        6.31480316e-06],\n",
       "       [7.80539960e-02, 1.57747039e-04, 3.01664770e-01, 6.19275212e-01,\n",
       "        8.48204712e-04],\n",
       "       [1.74067168e-07, 2.45244252e-07, 1.46816950e-03, 1.77905781e-06,\n",
       "        9.98529553e-01],\n",
       "       [5.89794013e-07, 9.47973609e-01, 5.19282110e-02, 4.23681695e-06,\n",
       "        9.34461059e-05],\n",
       "       [5.58684468e-02, 1.14609674e-02, 2.90744781e-01, 6.36087775e-01,\n",
       "        5.83803840e-03],\n",
       "       [9.85262513e-01, 2.12780451e-05, 2.86047929e-03, 1.18293185e-02,\n",
       "        2.63853653e-05],\n",
       "       [1.11153983e-01, 1.07243024e-02, 7.56306425e-02, 7.74836719e-01,\n",
       "        2.76543628e-02],\n",
       "       [8.47543925e-02, 7.49641299e-01, 6.74452931e-02, 8.30093026e-02,\n",
       "        1.51497265e-02],\n",
       "       [1.53069392e-01, 2.58300151e-03, 7.71267936e-02, 7.37514794e-01,\n",
       "        2.97061037e-02],\n",
       "       [9.50745583e-01, 8.63831156e-05, 1.98777742e-03, 4.59039994e-02,\n",
       "        1.27613381e-03],\n",
       "       [3.71278524e-02, 4.47613075e-02, 1.39686942e-01, 7.72385180e-01,\n",
       "        6.03878079e-03]], dtype=float32)"
      ]
     },
     "execution_count": 123,
     "metadata": {},
     "output_type": "execute_result"
    }
   ],
   "source": [
    "Predeicted_test_data"
   ]
  },
  {
   "cell_type": "code",
   "execution_count": 124,
   "id": "small-seminar",
   "metadata": {},
   "outputs": [],
   "source": [
    "predicted_values=[numpy.argmax(result) for result in Predeicted_test_data]"
   ]
  },
  {
   "cell_type": "code",
   "execution_count": 125,
   "id": "auburn-webster",
   "metadata": {},
   "outputs": [
    {
     "name": "stdout",
     "output_type": "stream",
     "text": [
      "2  - >  3\n",
      "0  - >  4\n",
      "3  - >  3\n",
      "2  - >  2\n",
      "0  - >  0\n",
      "3  - >  3\n",
      "2  - >  2\n",
      "0  - >  0\n",
      "1  - >  1\n",
      "1  - >  1\n",
      "3  - >  3\n",
      "0  - >  0\n",
      "0  - >  0\n",
      "3  - >  0\n",
      "3  - >  2\n",
      "1  - >  1\n",
      "2  - >  2\n",
      "3  - >  3\n",
      "2  - >  2\n",
      "1  - >  2\n",
      "0  - >  0\n",
      "1  - >  1\n",
      "3  - >  2\n",
      "1  - >  1\n",
      "0  - >  0\n",
      "1  - >  1\n",
      "2  - >  2\n",
      "0  - >  0\n",
      "0  - >  0\n",
      "1  - >  1\n",
      "1  - >  1\n",
      "3  - >  3\n",
      "2  - >  2\n",
      "1  - >  1\n",
      "2  - >  3\n",
      "2  - >  4\n",
      "4  - >  4\n",
      "0  - >  3\n",
      "2  - >  2\n",
      "3  - >  3\n",
      "2  - >  2\n",
      "1  - >  1\n",
      "0  - >  3\n",
      "1  - >  1\n",
      "1  - >  1\n",
      "2  - >  2\n",
      "0  - >  4\n",
      "1  - >  1\n",
      "2  - >  2\n",
      "3  - >  3\n",
      "1  - >  1\n",
      "2  - >  2\n",
      "3  - >  2\n",
      "0  - >  3\n",
      "1  - >  1\n",
      "4  - >  4\n",
      "1  - >  1\n",
      "1  - >  1\n",
      "2  - >  2\n",
      "2  - >  3\n",
      "3  - >  3\n",
      "0  - >  2\n",
      "4  - >  4\n",
      "3  - >  3\n",
      "0  - >  0\n",
      "0  - >  0\n",
      "0  - >  3\n",
      "2  - >  3\n",
      "3  - >  0\n",
      "0  - >  0\n",
      "1  - >  1\n",
      "0  - >  2\n",
      "3  - >  3\n",
      "1  - >  1\n",
      "2  - >  2\n",
      "0  - >  0\n",
      "1  - >  1\n",
      "1  - >  1\n",
      "3  - >  2\n",
      "3  - >  3\n",
      "1  - >  1\n",
      "3  - >  3\n",
      "1  - >  1\n",
      "0  - >  0\n",
      "2  - >  3\n",
      "1  - >  1\n",
      "1  - >  1\n",
      "0  - >  0\n",
      "1  - >  3\n",
      "0  - >  0\n",
      "1  - >  1\n",
      "0  - >  0\n",
      "0  - >  0\n",
      "1  - >  1\n",
      "0  - >  0\n",
      "0  - >  0\n",
      "0  - >  0\n",
      "3  - >  2\n",
      "3  - >  2\n",
      "4  - >  4\n",
      "3  - >  3\n",
      "3  - >  3\n",
      "2  - >  2\n",
      "3  - >  2\n",
      "1  - >  1\n",
      "2  - >  4\n",
      "0  - >  2\n",
      "3  - >  2\n",
      "0  - >  2\n",
      "3  - >  3\n",
      "4  - >  4\n",
      "1  - >  1\n",
      "3  - >  2\n",
      "0  - >  0\n",
      "3  - >  3\n",
      "1  - >  1\n",
      "3  - >  3\n",
      "0  - >  0\n",
      "3  - >  3\n"
     ]
    }
   ],
   "source": [
    "for i in range(len(predicted_values)):\n",
    "    print(predicted_values[i],\" - > \",Testing_Labels[i])"
   ]
  },
  {
   "cell_type": "code",
   "execution_count": 126,
   "id": "exact-school",
   "metadata": {},
   "outputs": [
    {
     "data": {
      "text/plain": [
       "<Figure size 432x288 with 0 Axes>"
      ]
     },
     "metadata": {},
     "output_type": "display_data"
    }
   ],
   "source": [
    "pyplot.figure('Confusion Matrix')\n",
    "confusion_matrix_data=confusion_matrix(predicted_values,Testing_Labels)"
   ]
  },
  {
   "cell_type": "code",
   "execution_count": 127,
   "id": "czech-wales",
   "metadata": {},
   "outputs": [
    {
     "data": {
      "text/plain": [
       "array([[22,  0,  4,  4,  2],\n",
       "       [ 0, 30,  1,  1,  0],\n",
       "       [ 0,  0, 14,  5,  2],\n",
       "       [ 2,  0,  9, 18,  0],\n",
       "       [ 0,  0,  0,  0,  5]], dtype=int64)"
      ]
     },
     "execution_count": 127,
     "metadata": {},
     "output_type": "execute_result"
    }
   ],
   "source": [
    "confusion_matrix_data"
   ]
  },
  {
   "cell_type": "code",
   "execution_count": null,
   "id": "chicken-indication",
   "metadata": {},
   "outputs": [],
   "source": []
  },
  {
   "cell_type": "code",
   "execution_count": null,
   "id": "cellular-hardwood",
   "metadata": {},
   "outputs": [],
   "source": []
  },
  {
   "cell_type": "code",
   "execution_count": 128,
   "id": "fancy-senegal",
   "metadata": {},
   "outputs": [
    {
     "data": {
      "text/plain": [
       "<AxesSubplot:>"
      ]
     },
     "execution_count": 128,
     "metadata": {},
     "output_type": "execute_result"
    },
    {
     "data": {
      "image/png": "[encoded data removed]",
      "text/plain": [
       "<Figure size 432x288 with 2 Axes>"
      ]
     },
     "metadata": {
      "needs_background": "light"
     },
     "output_type": "display_data"
    }
   ],
   "source": [
    "seaborn.heatmap(confusion_matrix_data,annot=True,xticklabels=classes_list,yticklabels=classes_list)\n",
    "# seaborn.heatmap(confusion_matrix_data,annot=True)"
   ]
  },
  {
   "cell_type": "code",
   "execution_count": 129,
   "id": "together-cassette",
   "metadata": {},
   "outputs": [
    {
     "name": "stdout",
     "output_type": "stream",
     "text": [
      "0 -->  Facial acne\n",
      "1 -->  Melanoma\n",
      "2 -->  Psoriasis\n",
      "3 -->  Ringworm\n",
      "4 -->  Skin Burn\n"
     ]
    }
   ],
   "source": [
    "printClassList()"
   ]
  },
  {
   "cell_type": "code",
   "execution_count": 130,
   "id": "labeled-thought",
   "metadata": {},
   "outputs": [],
   "source": [
    "classification_report_data=classification_report(predicted_values,Testing_Labels,target_names=classes_list)"
   ]
  },
  {
   "cell_type": "code",
   "execution_count": 131,
   "id": "based-pepper",
   "metadata": {
    "scrolled": false
   },
   "outputs": [
    {
     "name": "stdout",
     "output_type": "stream",
     "text": [
      "              precision    recall  f1-score   support\n",
      "\n",
      " Facial acne       0.92      0.69      0.79        32\n",
      "    Melanoma       1.00      0.94      0.97        32\n",
      "   Psoriasis       0.50      0.67      0.57        21\n",
      "    Ringworm       0.64      0.62      0.63        29\n",
      "   Skin Burn       0.56      1.00      0.71         5\n",
      "\n",
      "    accuracy                           0.75       119\n",
      "   macro avg       0.72      0.78      0.73       119\n",
      "weighted avg       0.78      0.75      0.76       119\n",
      "\n"
     ]
    }
   ],
   "source": [
    "print(classification_report_data)"
   ]
  },
  {
   "cell_type": "code",
   "execution_count": null,
   "id": "champion-particular",
   "metadata": {},
   "outputs": [],
   "source": []
  },
  {
   "cell_type": "code",
   "execution_count": null,
   "id": "oriental-receiver",
   "metadata": {},
   "outputs": [],
   "source": []
  },
  {
   "cell_type": "code",
   "execution_count": null,
   "id": "chief-turkey",
   "metadata": {},
   "outputs": [],
   "source": []
  },
  {
   "cell_type": "code",
   "execution_count": null,
   "id": "adjusted-litigation",
   "metadata": {},
   "outputs": [],
   "source": []
  },
  {
   "cell_type": "code",
   "execution_count": null,
   "id": "dedicated-deficit",
   "metadata": {},
   "outputs": [],
   "source": []
  },
  {
   "cell_type": "code",
   "execution_count": null,
   "id": "dominican-general",
   "metadata": {},
   "outputs": [],
   "source": []
  },
  {
   "cell_type": "code",
   "execution_count": null,
   "id": "polish-prisoner",
   "metadata": {},
   "outputs": [],
   "source": []
  },
  {
   "cell_type": "markdown",
   "id": "underlying-wisdom",
   "metadata": {},
   "source": [
    "## Complex Architecture 1"
   ]
  },
  {
   "cell_type": "code",
   "execution_count": 61,
   "id": "bridal-return",
   "metadata": {},
   "outputs": [],
   "source": [
    "model2_using_Complex_architecture=keras.models.Sequential(\n",
    "     [\n",
    "         keras.layers.Conv2D(filters=32,kernel_size=3,strides=(1,1),padding='valid',activation='relu',input_shape=[180,180,1]),\n",
    "         keras.layers.MaxPool2D(pool_size=(2,2)),\n",
    "         keras.layers.Conv2D(filters=16,kernel_size=3,strides=(1,1),padding='valid',activation='relu',input_shape=[180,180,1]),\n",
    "         keras.layers.MaxPool2D(pool_size=(2,2)),\n",
    "         keras.layers.Flatten(),\n",
    "         keras.layers.Dense(units=512,activation='relu'),\n",
    "         keras.layers.Dense(units=256,activation='relu'),\n",
    "         keras.layers.Dense(units=64,activation='relu'),\n",
    "         keras.layers.Dense(units=5,activation='softmax'),\n",
    "     ]\n",
    " )"
   ]
  },
  {
   "cell_type": "code",
   "execution_count": 62,
   "id": "proved-tracy",
   "metadata": {},
   "outputs": [
    {
     "name": "stdout",
     "output_type": "stream",
     "text": [
      "Model: \"sequential_1\"\n",
      "_________________________________________________________________\n",
      "Layer (type)                 Output Shape              Param #   \n",
      "=================================================================\n",
      "conv2d_1 (Conv2D)            (None, 178, 178, 32)      320       \n",
      "_________________________________________________________________\n",
      "max_pooling2d_1 (MaxPooling2 (None, 89, 89, 32)        0         \n",
      "_________________________________________________________________\n",
      "conv2d_2 (Conv2D)            (None, 87, 87, 16)        4624      \n",
      "_________________________________________________________________\n",
      "max_pooling2d_2 (MaxPooling2 (None, 43, 43, 16)        0         \n",
      "_________________________________________________________________\n",
      "flatten_1 (Flatten)          (None, 29584)             0         \n",
      "_________________________________________________________________\n",
      "dense_3 (Dense)              (None, 512)               15147520  \n",
      "_________________________________________________________________\n",
      "dense_4 (Dense)              (None, 256)               131328    \n",
      "_________________________________________________________________\n",
      "dense_5 (Dense)              (None, 64)                16448     \n",
      "_________________________________________________________________\n",
      "dense_6 (Dense)              (None, 5)                 325       \n",
      "=================================================================\n",
      "Total params: 15,300,565\n",
      "Trainable params: 15,300,565\n",
      "Non-trainable params: 0\n",
      "_________________________________________________________________\n"
     ]
    }
   ],
   "source": [
    "model2_using_Complex_architecture.summary()"
   ]
  },
  {
   "cell_type": "code",
   "execution_count": 63,
   "id": "prospective-least",
   "metadata": {},
   "outputs": [],
   "source": [
    "model2_using_Complex_architecture.compile(optimizer='adam',loss='sparse_categorical_crossentropy',metrics=['accuracy'])"
   ]
  },
  {
   "cell_type": "code",
   "execution_count": 65,
   "id": "governing-lloyd",
   "metadata": {},
   "outputs": [
    {
     "name": "stdout",
     "output_type": "stream",
     "text": [
      "Epoch 1/10\n",
      "21/21 [==============================] - 16s 777ms/step - loss: 0.2032 - accuracy: 0.9284 - val_loss: 1.2224 - val_accuracy: 0.7479\n",
      "Epoch 2/10\n",
      "21/21 [==============================] - 16s 771ms/step - loss: 0.1110 - accuracy: 0.9680 - val_loss: 1.6963 - val_accuracy: 0.7311\n",
      "Epoch 3/10\n",
      "21/21 [==============================] - 17s 799ms/step - loss: 0.1073 - accuracy: 0.9680 - val_loss: 1.3180 - val_accuracy: 0.7479\n",
      "Epoch 4/10\n",
      "21/21 [==============================] - 17s 787ms/step - loss: 0.1733 - accuracy: 0.9436 - val_loss: 1.0165 - val_accuracy: 0.7311\n",
      "Epoch 5/10\n",
      "21/21 [==============================] - 16s 779ms/step - loss: 0.1256 - accuracy: 0.9573 - val_loss: 1.9277 - val_accuracy: 0.6555\n",
      "Epoch 6/10\n",
      "21/21 [==============================] - 16s 779ms/step - loss: 0.0924 - accuracy: 0.9680 - val_loss: 1.5895 - val_accuracy: 0.7227\n",
      "Epoch 7/10\n",
      "21/21 [==============================] - 16s 782ms/step - loss: 0.0602 - accuracy: 0.9802 - val_loss: 1.5146 - val_accuracy: 0.7143\n",
      "Epoch 8/10\n",
      "21/21 [==============================] - 16s 783ms/step - loss: 0.0465 - accuracy: 0.9863 - val_loss: 1.7960 - val_accuracy: 0.7395\n",
      "Epoch 9/10\n",
      "21/21 [==============================] - 16s 778ms/step - loss: 0.0533 - accuracy: 0.9832 - val_loss: 1.6652 - val_accuracy: 0.7143\n",
      "Epoch 10/10\n",
      "21/21 [==============================] - 16s 782ms/step - loss: 0.0287 - accuracy: 0.9970 - val_loss: 2.6637 - val_accuracy: 0.7395\n"
     ]
    }
   ],
   "source": [
    "history2=model2_using_Complex_architecture.fit(Training_Features,numpy.array(Training_Labels),epochs=10,verbose=1,validation_data=(Testing_Features,numpy.array(Testing_Labels)))  "
   ]
  },
  {
   "cell_type": "code",
   "execution_count": 71,
   "id": "silent-residence",
   "metadata": {},
   "outputs": [],
   "source": [
    "# model2_using_Complex_architecture.save('./Models/model1_using_Complex_architecture.h5')"
   ]
  },
  {
   "cell_type": "code",
   "execution_count": 72,
   "id": "better-snake",
   "metadata": {},
   "outputs": [
    {
     "data": {
      "text/plain": [
       "<keras.engine.sequential.Sequential at 0x1e68c0f6b50>"
      ]
     },
     "execution_count": 72,
     "metadata": {},
     "output_type": "execute_result"
    }
   ],
   "source": [
    "model2_using_Complex_architecture"
   ]
  },
  {
   "cell_type": "code",
   "execution_count": 132,
   "id": "hazardous-effect",
   "metadata": {},
   "outputs": [],
   "source": [
    "# trained_model=tensorflow.keras.models.load_model('./Models/model1_using_Complex_architecture.h5')\n",
    "trained_model=model2_using_Complex_architecture"
   ]
  },
  {
   "cell_type": "code",
   "execution_count": 133,
   "id": "creative-appreciation",
   "metadata": {},
   "outputs": [],
   "source": [
    "Predeicted_test_data=trained_model.predict(Testing_Features)"
   ]
  },
  {
   "cell_type": "code",
   "execution_count": 134,
   "id": "wrong-stress",
   "metadata": {
    "collapsed": true
   },
   "outputs": [
    {
     "data": {
      "text/plain": [
       "array([[1.82828032e-07, 8.94143595e-05, 9.98929679e-01, 5.14798856e-04,\n",
       "        4.65827296e-04],\n",
       "       [9.97670114e-01, 4.32243607e-12, 1.13358709e-08, 2.32984731e-03,\n",
       "        4.11408164e-11],\n",
       "       [3.43539490e-04, 7.86728633e-05, 1.90826114e-02, 9.80410635e-01,\n",
       "        8.46004623e-05],\n",
       "       [9.96747851e-01, 3.63517708e-14, 2.43739495e-09, 3.25214351e-03,\n",
       "        1.48902175e-11],\n",
       "       [6.32501543e-01, 1.75594432e-05, 8.09277262e-05, 3.67382824e-01,\n",
       "        1.71368192e-05],\n",
       "       [2.15200731e-03, 4.62566675e-07, 2.50138837e-05, 9.97803509e-01,\n",
       "        1.89828497e-05],\n",
       "       [1.43929180e-08, 8.20897981e-08, 9.92305458e-01, 7.66476151e-03,\n",
       "        2.96916714e-05],\n",
       "       [9.97698843e-01, 5.92415672e-10, 5.87274087e-07, 2.30058841e-03,\n",
       "        1.85525302e-08],\n",
       "       [1.32135552e-22, 9.97422576e-01, 1.80067704e-03, 7.18034085e-13,\n",
       "        7.76833040e-04],\n",
       "       [2.45876927e-05, 9.99822080e-01, 1.53355242e-04, 2.61612017e-11,\n",
       "        2.97929403e-10],\n",
       "       [5.92637939e-08, 1.51940071e-12, 8.92323078e-06, 9.99990940e-01,\n",
       "        1.19025252e-07],\n",
       "       [9.99903440e-01, 1.50954971e-10, 3.88603394e-06, 9.26178618e-05,\n",
       "        1.80523463e-09],\n",
       "       [9.99999642e-01, 1.53455509e-13, 4.58669942e-11, 3.00856783e-07,\n",
       "        2.03864378e-13],\n",
       "       [9.99965072e-01, 6.29966869e-12, 1.32834799e-09, 3.49249967e-05,\n",
       "        9.74525599e-11],\n",
       "       [9.99999046e-01, 4.98189229e-25, 2.57783000e-15, 9.70009864e-07,\n",
       "        3.04246006e-22],\n",
       "       [1.30231189e-15, 1.00000000e+00, 5.49448875e-10, 2.34476067e-13,\n",
       "        3.45277229e-08],\n",
       "       [9.99391198e-01, 1.36243102e-07, 3.61122438e-05, 5.72472869e-04,\n",
       "        1.64753573e-07],\n",
       "       [1.69519065e-08, 5.81479038e-14, 3.96198487e-07, 9.99999642e-01,\n",
       "        3.04900176e-08],\n",
       "       [1.00666031e-10, 7.12464050e-13, 1.00000000e+00, 4.21590456e-14,\n",
       "        3.69383888e-17],\n",
       "       [1.15292359e-17, 9.99613345e-01, 5.19125877e-07, 2.22292540e-09,\n",
       "        3.86208849e-04],\n",
       "       [9.99953747e-01, 8.28474844e-10, 1.34482448e-07, 4.61141972e-05,\n",
       "        3.39151884e-09],\n",
       "       [6.17670142e-21, 9.99998093e-01, 1.76931280e-07, 8.10237582e-15,\n",
       "        1.80775828e-06],\n",
       "       [2.33378421e-04, 3.50636105e-06, 4.98713881e-01, 5.00066221e-01,\n",
       "        9.83021804e-04],\n",
       "       [6.54034690e-16, 1.00000000e+00, 6.47317644e-10, 5.19521526e-14,\n",
       "        4.14510870e-10],\n",
       "       [9.99985456e-01, 6.65102529e-10, 1.55812607e-08, 1.44897494e-05,\n",
       "        8.43621284e-10],\n",
       "       [1.04671508e-10, 9.99996066e-01, 3.55290382e-07, 5.27207327e-08,\n",
       "        3.55657335e-06],\n",
       "       [3.23355573e-14, 1.08658554e-07, 9.99971151e-01, 3.61399543e-07,\n",
       "        2.83652789e-05],\n",
       "       [9.99987006e-01, 7.18535564e-10, 7.19050149e-07, 1.23319669e-05,\n",
       "        1.05248423e-08],\n",
       "       [9.99991059e-01, 2.56834293e-11, 7.80950504e-09, 8.94091590e-06,\n",
       "        7.88305254e-11],\n",
       "       [6.61774507e-16, 1.00000000e+00, 9.45000415e-12, 1.50913573e-15,\n",
       "        4.04495604e-11],\n",
       "       [2.13053273e-11, 9.99999523e-01, 1.13664299e-07, 2.46256593e-09,\n",
       "        3.87901395e-07],\n",
       "       [2.22274661e-01, 1.99601345e-05, 8.24571180e-04, 7.76865363e-01,\n",
       "        1.53921246e-05],\n",
       "       [8.58179628e-05, 7.68768800e-08, 9.38799500e-01, 6.08932078e-02,\n",
       "        2.21317619e-04],\n",
       "       [1.46422863e-21, 9.99995351e-01, 2.62537981e-07, 5.96541969e-15,\n",
       "        4.38317602e-06],\n",
       "       [1.80943040e-04, 8.29142027e-06, 1.42782442e-02, 9.85489726e-01,\n",
       "        4.28071653e-05],\n",
       "       [1.05244249e-06, 2.30750775e-13, 7.65564572e-03, 9.92339730e-01,\n",
       "        3.51721633e-06],\n",
       "       [1.05870235e-13, 4.85424841e-16, 1.00495610e-11, 9.68389850e-06,\n",
       "        9.99990344e-01],\n",
       "       [3.79922360e-01, 1.22257246e-10, 4.75043953e-06, 6.20072842e-01,\n",
       "        3.62057406e-08],\n",
       "       [2.01059534e-11, 2.78389534e-11, 9.99999642e-01, 1.55722489e-07,\n",
       "        1.95991674e-07],\n",
       "       [5.81918493e-06, 1.40347833e-09, 3.16234213e-12, 9.99993801e-01,\n",
       "        3.52988593e-07],\n",
       "       [8.89687315e-02, 1.28551837e-04, 1.00476891e-01, 8.10422421e-01,\n",
       "        3.36301446e-06],\n",
       "       [4.70508466e-10, 1.00000000e+00, 9.16874576e-09, 3.67094999e-09,\n",
       "        4.95608310e-09],\n",
       "       [7.06050217e-01, 2.51812860e-03, 1.79402813e-01, 6.77414164e-02,\n",
       "        4.42874320e-02],\n",
       "       [7.35782800e-13, 1.00000000e+00, 2.02922443e-10, 6.89278279e-12,\n",
       "        1.27246325e-09],\n",
       "       [4.39657200e-11, 9.99999642e-01, 7.44834026e-08, 4.78023710e-09,\n",
       "        2.66971995e-07],\n",
       "       [1.56685292e-06, 6.60660490e-03, 3.97970304e-02, 6.96563870e-02,\n",
       "        8.83938372e-01],\n",
       "       [5.41592240e-01, 2.02060846e-06, 2.90150255e-01, 1.68254465e-01,\n",
       "        1.03529680e-06],\n",
       "       [3.75122892e-19, 9.56571162e-01, 1.02045489e-02, 1.68404402e-10,\n",
       "        3.32242884e-02],\n",
       "       [4.37912095e-04, 5.90482552e-09, 9.99449432e-01, 1.12602182e-04,\n",
       "        9.70741780e-08],\n",
       "       [3.48753661e-01, 5.00037640e-05, 1.75260399e-02, 6.32026136e-01,\n",
       "        1.64411834e-03],\n",
       "       [6.75527410e-16, 1.00000000e+00, 2.22044841e-10, 8.69146945e-15,\n",
       "        1.05811866e-10],\n",
       "       [2.50242447e-04, 1.06824795e-04, 7.75956154e-01, 2.23244995e-01,\n",
       "        4.41912911e-04],\n",
       "       [3.25862038e-06, 1.12879422e-06, 9.13404882e-01, 8.56308118e-02,\n",
       "        9.59947356e-04],\n",
       "       [1.14599138e-01, 1.87359037e-05, 1.13593717e-03, 8.84083927e-01,\n",
       "        1.62250697e-04],\n",
       "       [1.77608999e-13, 1.00000000e+00, 2.16292442e-08, 4.52904292e-09,\n",
       "        3.11610862e-08],\n",
       "       [1.72622833e-18, 1.85304154e-16, 2.77875172e-14, 1.21008334e-11,\n",
       "        1.00000000e+00],\n",
       "       [0.00000000e+00, 1.00000000e+00, 1.07060817e-13, 6.92528998e-24,\n",
       "        3.57278429e-09],\n",
       "       [1.10849437e-11, 1.00000000e+00, 4.26553859e-09, 1.61592684e-10,\n",
       "        2.73931864e-08],\n",
       "       [7.01294482e-01, 1.21558273e-07, 2.93802440e-01, 4.89290245e-03,\n",
       "        1.01408568e-05],\n",
       "       [2.25571437e-08, 9.96089935e-01, 1.11629197e-03, 3.67527682e-04,\n",
       "        2.42631673e-03],\n",
       "       [4.41119482e-07, 3.97675467e-04, 2.71002781e-02, 9.72411871e-01,\n",
       "        8.97515783e-05],\n",
       "       [9.96576130e-01, 6.19843413e-11, 2.87796791e-08, 3.42387217e-03,\n",
       "        1.58336388e-09],\n",
       "       [7.12627109e-28, 2.22006330e-21, 6.54433669e-17, 1.47393194e-19,\n",
       "        1.00000000e+00],\n",
       "       [4.95657368e-05, 7.47196722e-08, 2.11440929e-05, 9.99901414e-01,\n",
       "        2.77570689e-05],\n",
       "       [9.98812079e-01, 1.84067289e-07, 3.44301498e-06, 1.18397642e-03,\n",
       "        3.41014584e-07],\n",
       "       [9.99975085e-01, 9.09235326e-11, 4.15867021e-08, 2.49370114e-05,\n",
       "        4.14122014e-10],\n",
       "       [9.95435178e-01, 4.77997190e-11, 2.95540445e-08, 4.56480728e-03,\n",
       "        3.32461125e-09],\n",
       "       [4.82907625e-09, 6.73372269e-05, 1.83394089e-01, 7.55601943e-01,\n",
       "        6.09366074e-02],\n",
       "       [7.95321818e-03, 1.23120117e-04, 2.38229777e-03, 9.89182055e-01,\n",
       "        3.59311147e-04],\n",
       "       [9.99931097e-01, 3.26131899e-09, 1.19440153e-06, 6.76702039e-05,\n",
       "        2.82153874e-08],\n",
       "       [1.03881981e-09, 9.99996305e-01, 4.70077524e-08, 1.52395643e-07,\n",
       "        3.54277245e-06],\n",
       "       [6.83698297e-01, 9.49160312e-05, 2.43586767e-03, 3.13533932e-01,\n",
       "        2.37043205e-04],\n",
       "       [1.97001762e-04, 7.36534639e-06, 3.49564158e-04, 9.99410033e-01,\n",
       "        3.59238329e-05],\n",
       "       [4.99466050e-26, 9.99999523e-01, 6.10416301e-11, 2.59404857e-15,\n",
       "        4.23879271e-07],\n",
       "       [2.98979576e-04, 3.04956688e-04, 1.61349718e-02, 9.82702851e-01,\n",
       "        5.58217813e-04],\n",
       "       [9.99401808e-01, 2.51946322e-08, 6.80466997e-07, 5.97357342e-04,\n",
       "        1.61286167e-07],\n",
       "       [3.32655285e-19, 1.00000000e+00, 4.13688667e-10, 5.54545313e-15,\n",
       "        2.98196190e-10],\n",
       "       [1.67840447e-18, 1.00000000e+00, 2.11717621e-09, 1.40934483e-14,\n",
       "        5.91064842e-09],\n",
       "       [1.55212945e-07, 1.53831138e-07, 6.14280952e-03, 9.86423910e-01,\n",
       "        7.43303727e-03],\n",
       "       [2.84146863e-05, 2.87487065e-08, 2.57725878e-06, 9.99966264e-01,\n",
       "        2.73087744e-06],\n",
       "       [1.19627268e-15, 1.00000000e+00, 1.07584874e-09, 1.60999979e-12,\n",
       "        1.92706384e-09],\n",
       "       [6.04428578e-06, 3.87565535e-07, 7.34646991e-03, 9.92544651e-01,\n",
       "        1.02458471e-04],\n",
       "       [2.16200620e-14, 1.00000000e+00, 3.47820175e-11, 1.14402472e-14,\n",
       "        1.61661115e-10],\n",
       "       [1.00000000e+00, 5.84607775e-13, 2.43458642e-10, 2.71157514e-08,\n",
       "        1.19215564e-13],\n",
       "       [9.89457428e-01, 5.80615324e-06, 1.02972891e-02, 2.34909283e-04,\n",
       "        4.64183586e-06],\n",
       "       [1.25116454e-16, 1.00000000e+00, 7.30723804e-14, 1.48824599e-15,\n",
       "        3.71513020e-12],\n",
       "       [6.61774507e-16, 1.00000000e+00, 9.45000415e-12, 1.50913573e-15,\n",
       "        4.04495604e-11],\n",
       "       [9.98914123e-01, 8.41189518e-08, 9.13307362e-04, 1.72319895e-04,\n",
       "        6.80680898e-08],\n",
       "       [1.03744173e-12, 9.91791964e-01, 8.20055977e-03, 1.49949176e-06,\n",
       "        5.88913417e-06],\n",
       "       [9.98322785e-01, 8.52365974e-06, 8.60440105e-06, 1.65619934e-03,\n",
       "        3.95549796e-06],\n",
       "       [1.55723975e-19, 1.00000000e+00, 7.10988397e-13, 1.29155557e-16,\n",
       "        8.14841028e-10],\n",
       "       [9.98693883e-01, 8.94229524e-10, 9.52935153e-08, 1.30596280e-03,\n",
       "        1.59216835e-08],\n",
       "       [9.74450529e-01, 2.49002186e-12, 2.05575375e-07, 2.55491994e-02,\n",
       "        1.94233678e-08],\n",
       "       [7.61946966e-17, 1.21875532e-01, 1.34130549e-02, 1.36604204e-08,\n",
       "        8.64711344e-01],\n",
       "       [9.96363699e-01, 6.04939547e-13, 1.73383821e-10, 3.63637251e-03,\n",
       "        3.74943097e-11],\n",
       "       [9.99999166e-01, 3.92801460e-12, 1.87574560e-08, 8.73943122e-07,\n",
       "        3.46253824e-11],\n",
       "       [9.98328745e-01, 1.62620850e-07, 8.21680587e-05, 1.58862933e-03,\n",
       "        3.67025763e-07],\n",
       "       [4.39793710e-03, 6.40679151e-04, 1.49907023e-01, 8.45052421e-01,\n",
       "        1.95908183e-06],\n",
       "       [2.48825271e-02, 5.74237516e-17, 9.33221707e-13, 9.75117505e-01,\n",
       "        1.91049149e-15],\n",
       "       [1.20615475e-18, 5.52178429e-17, 1.16844184e-13, 6.29629959e-11,\n",
       "        1.00000000e+00],\n",
       "       [6.61088806e-03, 5.83118963e-05, 8.45993124e-03, 9.84775245e-01,\n",
       "        9.55547875e-05],\n",
       "       [3.19350293e-05, 1.06245167e-07, 5.37256201e-05, 9.99869943e-01,\n",
       "        4.41662305e-05],\n",
       "       [1.19827004e-09, 1.53199417e-05, 9.85307992e-01, 1.41572524e-02,\n",
       "        5.19341382e-04],\n",
       "       [2.57465406e-04, 1.90746072e-10, 2.63843367e-06, 9.99739945e-01,\n",
       "        4.87224234e-08],\n",
       "       [8.75282004e-15, 9.99999642e-01, 3.55964545e-07, 1.41302928e-10,\n",
       "        9.45722789e-09],\n",
       "       [2.34942478e-20, 2.05159807e-20, 9.86364341e-08, 9.99986053e-01,\n",
       "        1.38525284e-05],\n",
       "       [3.50609899e-01, 2.75844795e-05, 7.59976543e-03, 6.41759157e-01,\n",
       "        3.59144997e-06],\n",
       "       [8.79155099e-01, 1.12302656e-08, 5.30461784e-06, 1.20839171e-01,\n",
       "        2.75140508e-07],\n",
       "       [1.00000000e+00, 1.54955638e-16, 1.05048781e-09, 3.91812832e-11,\n",
       "        1.04842231e-16],\n",
       "       [1.25601485e-01, 1.28072726e-11, 3.35913057e-08, 8.74398470e-01,\n",
       "        2.69671729e-09],\n",
       "       [1.35433091e-28, 2.53249064e-22, 2.36759129e-16, 7.68544260e-18,\n",
       "        1.00000000e+00],\n",
       "       [1.05447211e-21, 1.00000000e+00, 1.49155965e-11, 1.83942701e-17,\n",
       "        7.74447347e-12],\n",
       "       [4.82136197e-03, 1.69288410e-06, 1.16035476e-01, 8.79092276e-01,\n",
       "        4.92583167e-05],\n",
       "       [9.98020768e-01, 3.13039629e-11, 3.82309196e-07, 1.97885418e-03,\n",
       "        1.08707454e-09],\n",
       "       [2.51156976e-04, 4.72196552e-04, 6.51823257e-06, 9.99258459e-01,\n",
       "        1.16435676e-05],\n",
       "       [7.49734781e-08, 9.99925852e-01, 2.55149621e-06, 6.69329602e-05,\n",
       "        4.57080205e-06],\n",
       "       [2.68787611e-03, 5.96953287e-05, 7.63445314e-06, 9.97233927e-01,\n",
       "        1.09448229e-05],\n",
       "       [9.92940664e-01, 6.05416028e-09, 3.43494520e-07, 7.05877924e-03,\n",
       "        1.79551293e-07],\n",
       "       [3.53538735e-06, 3.69477213e-08, 2.69456050e-05, 9.99969482e-01,\n",
       "        3.02877972e-08]], dtype=float32)"
      ]
     },
     "execution_count": 134,
     "metadata": {},
     "output_type": "execute_result"
    }
   ],
   "source": [
    "Predeicted_test_data"
   ]
  },
  {
   "cell_type": "code",
   "execution_count": 135,
   "id": "artificial-chair",
   "metadata": {},
   "outputs": [],
   "source": [
    "predicted_values=[numpy.argmax(result) for result in Predeicted_test_data]"
   ]
  },
  {
   "cell_type": "code",
   "execution_count": null,
   "id": "eleven-monthly",
   "metadata": {},
   "outputs": [],
   "source": []
  },
  {
   "cell_type": "code",
   "execution_count": 136,
   "id": "knowing-buffer",
   "metadata": {
    "collapsed": true
   },
   "outputs": [
    {
     "name": "stdout",
     "output_type": "stream",
     "text": [
      "2  - >  3\n",
      "0  - >  4\n",
      "3  - >  3\n",
      "0  - >  2\n",
      "0  - >  0\n",
      "3  - >  3\n",
      "2  - >  2\n",
      "0  - >  0\n",
      "1  - >  1\n",
      "1  - >  1\n",
      "3  - >  3\n",
      "0  - >  0\n",
      "0  - >  0\n",
      "0  - >  0\n",
      "0  - >  2\n",
      "1  - >  1\n",
      "0  - >  2\n",
      "3  - >  3\n",
      "2  - >  2\n",
      "1  - >  2\n",
      "0  - >  0\n",
      "1  - >  1\n",
      "3  - >  2\n",
      "1  - >  1\n",
      "0  - >  0\n",
      "1  - >  1\n",
      "2  - >  2\n",
      "0  - >  0\n",
      "0  - >  0\n",
      "1  - >  1\n",
      "1  - >  1\n",
      "3  - >  3\n",
      "2  - >  2\n",
      "1  - >  1\n",
      "3  - >  3\n",
      "3  - >  4\n",
      "4  - >  4\n",
      "3  - >  3\n",
      "2  - >  2\n",
      "3  - >  3\n",
      "3  - >  2\n",
      "1  - >  1\n",
      "0  - >  3\n",
      "1  - >  1\n",
      "1  - >  1\n",
      "4  - >  2\n",
      "0  - >  4\n",
      "1  - >  1\n",
      "2  - >  2\n",
      "3  - >  3\n",
      "1  - >  1\n",
      "2  - >  2\n",
      "2  - >  2\n",
      "3  - >  3\n",
      "1  - >  1\n",
      "4  - >  4\n",
      "1  - >  1\n",
      "1  - >  1\n",
      "0  - >  2\n",
      "1  - >  3\n",
      "3  - >  3\n",
      "0  - >  2\n",
      "4  - >  4\n",
      "3  - >  3\n",
      "0  - >  0\n",
      "0  - >  0\n",
      "0  - >  3\n",
      "3  - >  3\n",
      "3  - >  0\n",
      "0  - >  0\n",
      "1  - >  1\n",
      "0  - >  2\n",
      "3  - >  3\n",
      "1  - >  1\n",
      "3  - >  2\n",
      "0  - >  0\n",
      "1  - >  1\n",
      "1  - >  1\n",
      "3  - >  2\n",
      "3  - >  3\n",
      "1  - >  1\n",
      "3  - >  3\n",
      "1  - >  1\n",
      "0  - >  0\n",
      "0  - >  3\n",
      "1  - >  1\n",
      "1  - >  1\n",
      "0  - >  0\n",
      "1  - >  3\n",
      "0  - >  0\n",
      "1  - >  1\n",
      "0  - >  0\n",
      "0  - >  0\n",
      "4  - >  1\n",
      "0  - >  0\n",
      "0  - >  0\n",
      "0  - >  0\n",
      "3  - >  2\n",
      "3  - >  2\n",
      "4  - >  4\n",
      "3  - >  3\n",
      "3  - >  3\n",
      "2  - >  2\n",
      "3  - >  2\n",
      "1  - >  1\n",
      "3  - >  4\n",
      "3  - >  2\n",
      "0  - >  2\n",
      "0  - >  2\n",
      "3  - >  3\n",
      "4  - >  4\n",
      "1  - >  1\n",
      "3  - >  2\n",
      "0  - >  0\n",
      "3  - >  3\n",
      "1  - >  1\n",
      "3  - >  3\n",
      "0  - >  0\n",
      "3  - >  3\n"
     ]
    }
   ],
   "source": [
    "for i in range(len(predicted_values)):\n",
    "    print(predicted_values[i],\" - > \",Testing_Labels[i])"
   ]
  },
  {
   "cell_type": "code",
   "execution_count": 137,
   "id": "coordinate-macintosh",
   "metadata": {},
   "outputs": [
    {
     "data": {
      "text/plain": [
       "<Figure size 432x288 with 0 Axes>"
      ]
     },
     "metadata": {},
     "output_type": "display_data"
    }
   ],
   "source": [
    "pyplot.figure('Confusion Matrix')\n",
    "confusion_matrix_data=confusion_matrix(predicted_values,Testing_Labels)"
   ]
  },
  {
   "cell_type": "code",
   "execution_count": 138,
   "id": "productive-occurrence",
   "metadata": {},
   "outputs": [
    {
     "data": {
      "text/plain": [
       "array([[23,  0,  8,  3,  2],\n",
       "       [ 0, 29,  1,  2,  0],\n",
       "       [ 0,  0,  9,  1,  0],\n",
       "       [ 1,  0,  9, 22,  2],\n",
       "       [ 0,  1,  1,  0,  5]], dtype=int64)"
      ]
     },
     "execution_count": 138,
     "metadata": {},
     "output_type": "execute_result"
    }
   ],
   "source": [
    "confusion_matrix_data"
   ]
  },
  {
   "cell_type": "code",
   "execution_count": 139,
   "id": "adjacent-therapy",
   "metadata": {},
   "outputs": [
    {
     "data": {
      "text/plain": [
       "<AxesSubplot:>"
      ]
     },
     "execution_count": 139,
     "metadata": {},
     "output_type": "execute_result"
    },
    {
     "data": {
      "image/png": "[encoded data removed]",
      "text/plain": [
       "<Figure size 432x288 with 2 Axes>"
      ]
     },
     "metadata": {
      "needs_background": "light"
     },
     "output_type": "display_data"
    }
   ],
   "source": [
    "seaborn.heatmap(confusion_matrix_data,annot=True,xticklabels=classes_list,yticklabels=classes_list)\n",
    "# seaborn.heatmap(confusion_matrix_data,annot=True)"
   ]
  },
  {
   "cell_type": "code",
   "execution_count": 140,
   "id": "broke-dodge",
   "metadata": {},
   "outputs": [
    {
     "name": "stdout",
     "output_type": "stream",
     "text": [
      "0 -->  Facial acne\n",
      "1 -->  Melanoma\n",
      "2 -->  Psoriasis\n",
      "3 -->  Ringworm\n",
      "4 -->  Skin Burn\n"
     ]
    }
   ],
   "source": [
    "printClassList()"
   ]
  },
  {
   "cell_type": "code",
   "execution_count": 141,
   "id": "wrapped-repair",
   "metadata": {},
   "outputs": [],
   "source": [
    "classification_report_data=classification_report(predicted_values,Testing_Labels,target_names=classes_list)"
   ]
  },
  {
   "cell_type": "code",
   "execution_count": 142,
   "id": "strategic-courage",
   "metadata": {},
   "outputs": [
    {
     "name": "stdout",
     "output_type": "stream",
     "text": [
      "              precision    recall  f1-score   support\n",
      "\n",
      " Facial acne       0.96      0.64      0.77        36\n",
      "    Melanoma       0.97      0.91      0.94        32\n",
      "   Psoriasis       0.32      0.90      0.47        10\n",
      "    Ringworm       0.79      0.65      0.71        34\n",
      "   Skin Burn       0.56      0.71      0.63         7\n",
      "\n",
      "    accuracy                           0.74       119\n",
      "   macro avg       0.72      0.76      0.70       119\n",
      "weighted avg       0.83      0.74      0.76       119\n",
      "\n"
     ]
    }
   ],
   "source": [
    "print(classification_report_data)"
   ]
  },
  {
   "cell_type": "code",
   "execution_count": null,
   "id": "incoming-citizenship",
   "metadata": {},
   "outputs": [],
   "source": []
  },
  {
   "cell_type": "code",
   "execution_count": null,
   "id": "intermediate-village",
   "metadata": {},
   "outputs": [],
   "source": []
  }
 ],
 "metadata": {
  "kernelspec": {
   "display_name": "Python 3",
   "language": "python",
   "name": "python3"
  },
  "language_info": {
   "codemirror_mode": {
    "name": "ipython",
    "version": 3
   },
   "file_extension": ".py",
   "mimetype": "text/x-python",
   "name": "python",
   "nbconvert_exporter": "python",
   "pygments_lexer": "ipython3",
   "version": "3.9.2"
  }
 },
 "nbformat": 4,
 "nbformat_minor": 5
}
