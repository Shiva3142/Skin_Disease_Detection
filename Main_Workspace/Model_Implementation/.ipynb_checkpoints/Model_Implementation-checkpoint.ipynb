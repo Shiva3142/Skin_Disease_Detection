{
 "cells": [
  {
   "cell_type": "markdown",
   "id": "modified-julian",
   "metadata": {},
   "source": [
    "# Library imports"
   ]
  },
  {
   "cell_type": "code",
   "execution_count": 1,
   "id": "radical-sense",
   "metadata": {},
   "outputs": [],
   "source": [
    "import tensorflow\n",
    "import numpy\n",
    "import IPython\n",
    "from matplotlib import pyplot\n",
    "import cv2\n",
    "import PIL\n",
    "import os\n",
    "import random\n",
    "import pickle\n",
    "import keras\n",
    "from sklearn.metrics import confusion_matrix,classification_report\n",
    "import seaborn\n",
    "%matplotlib qt\n",
    "# %matplotlib inline"
   ]
  },
  {
   "cell_type": "markdown",
   "id": "australian-trade",
   "metadata": {},
   "source": [
    "# Data imports"
   ]
  },
  {
   "cell_type": "code",
   "execution_count": 2,
   "id": "mechanical-bride",
   "metadata": {},
   "outputs": [
    {
     "name": "stdout",
     "output_type": "stream",
     "text": [
      "0 -->  Chicken pox\n",
      "1 -->  Facial acne\n",
      "2 -->  Melanoma\n",
      "3 -->  Ringworm\n"
     ]
    }
   ],
   "source": [
    "classes_list=['Chicken pox', 'Facial acne', 'Melanoma', 'Ringworm']\n",
    "def printClassList():\n",
    "    for class_name in classes_list:\n",
    "        print(f\"{classes_list.index(class_name)} -->  {class_name}\")\n",
    "printClassList()   \n",
    "def getClassvalue(index):\n",
    "    print(classes_list[index])"
   ]
  },
  {
   "cell_type": "code",
   "execution_count": 3,
   "id": "threaded-swedish",
   "metadata": {},
   "outputs": [],
   "source": [
    "loaded_pickle_features=open(\"../Data/objects/pickle_fetures.pickle\",\"rb\")\n",
    "Training_Features=pickle.load(loaded_pickle_features)\n",
    "loaded_pickle_features.close()\n",
    "loaded_pickle_labels=open(\"../Data/objects/pickle_labels.pickle\",\"rb\")\n",
    "Training_Labels=pickle.load(loaded_pickle_labels)\n",
    "loaded_pickle_labels.close()"
   ]
  },
  {
   "cell_type": "code",
   "execution_count": 4,
   "id": "textile-promise",
   "metadata": {},
   "outputs": [],
   "source": [
    "loaded_pickle_testing_features=open(\"../Data/objects/pickle_testing_fetures.pickle\",\"rb\")\n",
    "Testing_Features=pickle.load(loaded_pickle_testing_features)\n",
    "loaded_pickle_testing_features.close()\n",
    "loaded_pickle_testing_labels=open(\"../Data/objects/pickle_testing_labels.pickle\",\"rb\")\n",
    "Testing_Labels=pickle.load(loaded_pickle_testing_labels)\n",
    "loaded_pickle_testing_labels.close()"
   ]
  },
  {
   "cell_type": "code",
   "execution_count": 5,
   "id": "urban-sweet",
   "metadata": {},
   "outputs": [
    {
     "data": {
      "text/plain": [
       "array([[[  0,   1,   1, ...,   2,   2,   1],\n",
       "        [ 53,  53,  54, ...,  37,  34,  36],\n",
       "        [197, 198, 198, ..., 140, 126, 128],\n",
       "        ...,\n",
       "        [  1,   1,   2, ...,   4,   1,   1],\n",
       "        [  0,   0,   0, ...,   0,   0,   0],\n",
       "        [  0,   0,   0, ...,   0,   0,   0]],\n",
       "\n",
       "       [[ 43,  34,  48, ...,  59,  65,  63],\n",
       "        [ 46,  45,  66, ...,  59,  66,  63],\n",
       "        [ 48,  52,  66, ...,  60,  66,  63],\n",
       "        ...,\n",
       "        [114, 120, 121, ...,  40,  40,  40],\n",
       "        [118, 122, 123, ...,  40,  40,  40],\n",
       "        [122, 125, 124, ...,  40,  40,  40]],\n",
       "\n",
       "       [[  3,  10,  23, ...,   2,   2,   3],\n",
       "        [  3,   7,  19, ...,   2,   2,   3],\n",
       "        [  2,   3,  15, ...,   3,   3,   3],\n",
       "        ...,\n",
       "        [  6,   9,   4, ..., 150, 152, 154],\n",
       "        [  3,  12,   7, ..., 149, 152, 154],\n",
       "        [  2,   6,  12, ..., 147, 149, 152]],\n",
       "\n",
       "       ...,\n",
       "\n",
       "       [[ 25,  24,  30, ...,  22,  21,  21],\n",
       "        [ 24,  29,  24, ...,  22,  22,  22],\n",
       "        [ 26,  21,  24, ...,  21,  22,  22],\n",
       "        ...,\n",
       "        [121, 118, 113, ...,  13,  13,  11],\n",
       "        [120, 120, 112, ...,  13,  13,  11],\n",
       "        [119, 119, 111, ...,  13,  13,  11]],\n",
       "\n",
       "       [[145, 143, 138, ...,  76,  71,  72],\n",
       "        [142, 138, 128, ...,  88,  74,  80],\n",
       "        [138, 132, 116, ...,  90, 100,  95],\n",
       "        ...,\n",
       "        [255, 255, 255, ..., 255, 255, 255],\n",
       "        [255, 255, 255, ..., 255, 255, 255],\n",
       "        [255, 255, 255, ..., 255, 255, 255]],\n",
       "\n",
       "       [[114, 117, 118, ..., 104, 102, 107],\n",
       "        [112, 110, 116, ..., 103, 103, 104],\n",
       "        [114, 115, 112, ..., 102, 104, 103],\n",
       "        ...,\n",
       "        [121, 116, 120, ..., 126, 120, 124],\n",
       "        [116, 116, 124, ..., 119, 118, 124],\n",
       "        [121, 124, 132, ..., 126, 118, 119]]], dtype=uint8)"
      ]
     },
     "execution_count": 5,
     "metadata": {},
     "output_type": "execute_result"
    }
   ],
   "source": [
    "Testing_Features"
   ]
  },
  {
   "cell_type": "code",
   "execution_count": 6,
   "id": "external-diversity",
   "metadata": {},
   "outputs": [
    {
     "data": {
      "text/plain": [
       "[2,\n",
       " 0,\n",
       " 2,\n",
       " 1,\n",
       " 3,\n",
       " 3,\n",
       " 3,\n",
       " 1,\n",
       " 3,\n",
       " 2,\n",
       " 3,\n",
       " 1,\n",
       " 2,\n",
       " 0,\n",
       " 0,\n",
       " 3,\n",
       " 3,\n",
       " 1,\n",
       " 0,\n",
       " 3,\n",
       " 3,\n",
       " 3,\n",
       " 3,\n",
       " 3,\n",
       " 0,\n",
       " 3,\n",
       " 1,\n",
       " 1,\n",
       " 3,\n",
       " 1,\n",
       " 3,\n",
       " 3,\n",
       " 3,\n",
       " 0,\n",
       " 3,\n",
       " 1,\n",
       " 2,\n",
       " 0,\n",
       " 0,\n",
       " 1,\n",
       " 2,\n",
       " 0,\n",
       " 1,\n",
       " 0,\n",
       " 3,\n",
       " 1,\n",
       " 1,\n",
       " 2,\n",
       " 3,\n",
       " 3,\n",
       " 0,\n",
       " 1,\n",
       " 0,\n",
       " 2,\n",
       " 1,\n",
       " 0,\n",
       " 3,\n",
       " 0,\n",
       " 3,\n",
       " 3,\n",
       " 1,\n",
       " 1,\n",
       " 0,\n",
       " 3,\n",
       " 3,\n",
       " 2,\n",
       " 2,\n",
       " 1,\n",
       " 0,\n",
       " 0,\n",
       " 3,\n",
       " 1,\n",
       " 2,\n",
       " 1,\n",
       " 2,\n",
       " 3,\n",
       " 1,\n",
       " 3,\n",
       " 1,\n",
       " 1,\n",
       " 1,\n",
       " 3,\n",
       " 2,\n",
       " 2,\n",
       " 1,\n",
       " 0,\n",
       " 3,\n",
       " 1,\n",
       " 2,\n",
       " 2,\n",
       " 1,\n",
       " 1,\n",
       " 0,\n",
       " 2,\n",
       " 2,\n",
       " 0,\n",
       " 2,\n",
       " 1,\n",
       " 2,\n",
       " 2,\n",
       " 1,\n",
       " 3,\n",
       " 0,\n",
       " 2,\n",
       " 0,\n",
       " 0,\n",
       " 0,\n",
       " 2,\n",
       " 1,\n",
       " 0,\n",
       " 0,\n",
       " 2,\n",
       " 1,\n",
       " 1,\n",
       " 1,\n",
       " 1,\n",
       " 2,\n",
       " 1,\n",
       " 3,\n",
       " 3,\n",
       " 1,\n",
       " 1,\n",
       " 2,\n",
       " 0,\n",
       " 1,\n",
       " 2,\n",
       " 0,\n",
       " 0,\n",
       " 2,\n",
       " 3,\n",
       " 0,\n",
       " 1,\n",
       " 0,\n",
       " 3,\n",
       " 2,\n",
       " 1,\n",
       " 1,\n",
       " 2,\n",
       " 3,\n",
       " 1,\n",
       " 0,\n",
       " 3,\n",
       " 1,\n",
       " 1,\n",
       " 1,\n",
       " 1,\n",
       " 3,\n",
       " 0,\n",
       " 1,\n",
       " 2,\n",
       " 3,\n",
       " 3,\n",
       " 1,\n",
       " 1,\n",
       " 1,\n",
       " 0,\n",
       " 3,\n",
       " 1,\n",
       " 0,\n",
       " 0,\n",
       " 1,\n",
       " 1,\n",
       " 1,\n",
       " 1,\n",
       " 0,\n",
       " 1,\n",
       " 1,\n",
       " 0,\n",
       " 0,\n",
       " 0,\n",
       " 0,\n",
       " 3,\n",
       " 3,\n",
       " 3,\n",
       " 1,\n",
       " 1,\n",
       " 1,\n",
       " 1,\n",
       " 3,\n",
       " 2,\n",
       " 0,\n",
       " 3,\n",
       " 0,\n",
       " 1,\n",
       " 1,\n",
       " 2,\n",
       " 3,\n",
       " 1,\n",
       " 1,\n",
       " 3,\n",
       " 0,\n",
       " 1,\n",
       " 3,\n",
       " 0,\n",
       " 1,\n",
       " 3,\n",
       " 2,\n",
       " 2,\n",
       " 0,\n",
       " 3,\n",
       " 0,\n",
       " 3,\n",
       " 3,\n",
       " 0,\n",
       " 0,\n",
       " 0,\n",
       " 1,\n",
       " 3,\n",
       " 0,\n",
       " 0,\n",
       " 2,\n",
       " 0,\n",
       " 0,\n",
       " 0,\n",
       " 1,\n",
       " 2,\n",
       " 3,\n",
       " 2,\n",
       " 2,\n",
       " 0,\n",
       " 3,\n",
       " 1,\n",
       " 3,\n",
       " 3,\n",
       " 3,\n",
       " 3,\n",
       " 1,\n",
       " 3,\n",
       " 2,\n",
       " 1,\n",
       " 0,\n",
       " 3,\n",
       " 3,\n",
       " 0,\n",
       " 1,\n",
       " 1,\n",
       " 1,\n",
       " 1,\n",
       " 3,\n",
       " 1,\n",
       " 2,\n",
       " 2,\n",
       " 3,\n",
       " 3,\n",
       " 0,\n",
       " 1,\n",
       " 0,\n",
       " 3,\n",
       " 1,\n",
       " 2,\n",
       " 0,\n",
       " 2,\n",
       " 1,\n",
       " 3,\n",
       " 3,\n",
       " 3,\n",
       " 1,\n",
       " 0,\n",
       " 1,\n",
       " 3,\n",
       " 0,\n",
       " 3,\n",
       " 0,\n",
       " 3,\n",
       " 0,\n",
       " 1,\n",
       " 3,\n",
       " 1,\n",
       " 3,\n",
       " 1,\n",
       " 3,\n",
       " 1,\n",
       " 1,\n",
       " 3,\n",
       " 3,\n",
       " 3,\n",
       " 1,\n",
       " 0,\n",
       " 0,\n",
       " 0,\n",
       " 3,\n",
       " 0,\n",
       " 1,\n",
       " 0,\n",
       " 1,\n",
       " 0,\n",
       " 3,\n",
       " 3,\n",
       " 0,\n",
       " 3,\n",
       " 1,\n",
       " 2,\n",
       " 1,\n",
       " 0,\n",
       " 1,\n",
       " 0,\n",
       " 1,\n",
       " 1,\n",
       " 0,\n",
       " 0,\n",
       " 2,\n",
       " 2,\n",
       " 3,\n",
       " 1,\n",
       " 2,\n",
       " 3,\n",
       " 1,\n",
       " 0,\n",
       " 2,\n",
       " 3,\n",
       " 3,\n",
       " 3,\n",
       " 1,\n",
       " 0,\n",
       " 2,\n",
       " 1,\n",
       " 0,\n",
       " 2,\n",
       " 1,\n",
       " 2,\n",
       " 0,\n",
       " 1,\n",
       " 2,\n",
       " 0,\n",
       " 3,\n",
       " 1,\n",
       " 1,\n",
       " 1,\n",
       " 3,\n",
       " 3,\n",
       " 1,\n",
       " 3,\n",
       " 0,\n",
       " 3,\n",
       " 1,\n",
       " 1,\n",
       " 3,\n",
       " 0,\n",
       " 1,\n",
       " 0,\n",
       " 0,\n",
       " 3,\n",
       " 3,\n",
       " 3,\n",
       " 1,\n",
       " 2,\n",
       " 3,\n",
       " 1,\n",
       " 3,\n",
       " 1,\n",
       " 3,\n",
       " 1,\n",
       " 0,\n",
       " 1,\n",
       " 2,\n",
       " 3,\n",
       " 0,\n",
       " 3,\n",
       " 2,\n",
       " 1,\n",
       " 1,\n",
       " 2,\n",
       " 1,\n",
       " 3,\n",
       " 0,\n",
       " 1,\n",
       " 2,\n",
       " 0,\n",
       " 3,\n",
       " 0,\n",
       " 2,\n",
       " 1,\n",
       " 2,\n",
       " 1,\n",
       " 3,\n",
       " 1,\n",
       " 0,\n",
       " 3,\n",
       " 1,\n",
       " 2,\n",
       " 1,\n",
       " 0,\n",
       " 0,\n",
       " 0,\n",
       " 1,\n",
       " 2,\n",
       " 0,\n",
       " 0,\n",
       " 3,\n",
       " 3,\n",
       " 3,\n",
       " 2,\n",
       " 2,\n",
       " 0,\n",
       " 3,\n",
       " 0,\n",
       " 1,\n",
       " 0,\n",
       " 1,\n",
       " 2,\n",
       " 0,\n",
       " 1,\n",
       " 0,\n",
       " 0,\n",
       " 1,\n",
       " 1,\n",
       " 2,\n",
       " 2,\n",
       " 3,\n",
       " 1,\n",
       " 3,\n",
       " 2,\n",
       " 3,\n",
       " 0,\n",
       " 1,\n",
       " 0,\n",
       " 3,\n",
       " 1,\n",
       " 3,\n",
       " 1,\n",
       " 1,\n",
       " 1,\n",
       " 0,\n",
       " 3,\n",
       " 0,\n",
       " 3,\n",
       " 3,\n",
       " 0,\n",
       " 0,\n",
       " 0,\n",
       " 1,\n",
       " 1,\n",
       " 0,\n",
       " 3,\n",
       " 0,\n",
       " 2,\n",
       " 1,\n",
       " 3,\n",
       " 3,\n",
       " 1,\n",
       " 1,\n",
       " 2,\n",
       " 3,\n",
       " 1,\n",
       " 2,\n",
       " 1,\n",
       " 0,\n",
       " 1,\n",
       " 1,\n",
       " 0,\n",
       " 1,\n",
       " 1,\n",
       " 2,\n",
       " 1,\n",
       " 3,\n",
       " 2,\n",
       " 0,\n",
       " 0,\n",
       " 0,\n",
       " 2,\n",
       " 0,\n",
       " 3,\n",
       " 3,\n",
       " 3,\n",
       " 3,\n",
       " 3,\n",
       " 1,\n",
       " 1,\n",
       " 0,\n",
       " 3,\n",
       " 3,\n",
       " 0,\n",
       " 2,\n",
       " 0,\n",
       " 2,\n",
       " 3,\n",
       " 1,\n",
       " 3,\n",
       " 3,\n",
       " 3,\n",
       " 1,\n",
       " 3,\n",
       " 0,\n",
       " 1,\n",
       " 3,\n",
       " 1,\n",
       " 3,\n",
       " 3,\n",
       " 0,\n",
       " 2,\n",
       " 3,\n",
       " 0,\n",
       " 3,\n",
       " 0,\n",
       " 3,\n",
       " 2,\n",
       " 0,\n",
       " 1,\n",
       " 2,\n",
       " 2,\n",
       " 2,\n",
       " 1,\n",
       " 0,\n",
       " 1,\n",
       " 0,\n",
       " 2,\n",
       " 2,\n",
       " 3,\n",
       " 0,\n",
       " 0,\n",
       " 3,\n",
       " 3,\n",
       " 3,\n",
       " 2,\n",
       " 1,\n",
       " 1,\n",
       " 1,\n",
       " 0,\n",
       " 2,\n",
       " 3,\n",
       " 3,\n",
       " 0,\n",
       " 3,\n",
       " 2,\n",
       " 0,\n",
       " 0,\n",
       " 1,\n",
       " 1,\n",
       " 2,\n",
       " 1,\n",
       " 2,\n",
       " 0,\n",
       " 0,\n",
       " 3,\n",
       " 1,\n",
       " 3,\n",
       " 1,\n",
       " 1,\n",
       " 1,\n",
       " 0,\n",
       " 3,\n",
       " 0,\n",
       " 1,\n",
       " 3,\n",
       " 3,\n",
       " 1,\n",
       " 3,\n",
       " 0,\n",
       " 1,\n",
       " 1,\n",
       " 1,\n",
       " 3,\n",
       " 1,\n",
       " 3,\n",
       " 0,\n",
       " 3,\n",
       " 3,\n",
       " 1,\n",
       " 3,\n",
       " 1,\n",
       " 1,\n",
       " 3,\n",
       " 0,\n",
       " 0,\n",
       " 1,\n",
       " 1,\n",
       " 0,\n",
       " 3,\n",
       " 2,\n",
       " 0,\n",
       " 3,\n",
       " 1,\n",
       " 0,\n",
       " 1,\n",
       " 1,\n",
       " 1,\n",
       " 0,\n",
       " 1,\n",
       " 1,\n",
       " 1,\n",
       " 0,\n",
       " 2,\n",
       " 1,\n",
       " 0,\n",
       " 0,\n",
       " 3,\n",
       " 0,\n",
       " 3,\n",
       " 1,\n",
       " 1,\n",
       " 1,\n",
       " 3,\n",
       " 0,\n",
       " 3,\n",
       " 1,\n",
       " 0,\n",
       " 0,\n",
       " 2,\n",
       " 3,\n",
       " 0,\n",
       " 1,\n",
       " 0,\n",
       " 3,\n",
       " 1,\n",
       " 1,\n",
       " 1,\n",
       " 3,\n",
       " 1,\n",
       " 0,\n",
       " 2,\n",
       " 1,\n",
       " 1,\n",
       " 1,\n",
       " 2,\n",
       " 3,\n",
       " 3,\n",
       " 0,\n",
       " 1,\n",
       " 0,\n",
       " 2,\n",
       " 1,\n",
       " 1,\n",
       " 2,\n",
       " 1,\n",
       " 3,\n",
       " 3,\n",
       " 1,\n",
       " 0,\n",
       " 2,\n",
       " 3,\n",
       " 3,\n",
       " 1,\n",
       " 1,\n",
       " 0,\n",
       " 1,\n",
       " 3,\n",
       " 1,\n",
       " 1,\n",
       " 1,\n",
       " 2,\n",
       " 1,\n",
       " 2,\n",
       " 2,\n",
       " 0,\n",
       " 0,\n",
       " 1,\n",
       " 1,\n",
       " 3,\n",
       " 1,\n",
       " 3,\n",
       " 3,\n",
       " 1,\n",
       " 0,\n",
       " 1,\n",
       " 3,\n",
       " 0,\n",
       " 0,\n",
       " 3,\n",
       " 3,\n",
       " 2,\n",
       " 0,\n",
       " 1,\n",
       " 1,\n",
       " 1,\n",
       " 0,\n",
       " 1,\n",
       " 0,\n",
       " 3,\n",
       " 1,\n",
       " 0,\n",
       " 3,\n",
       " 3,\n",
       " 1,\n",
       " 3,\n",
       " 1,\n",
       " 2,\n",
       " 3,\n",
       " 0,\n",
       " 3,\n",
       " 3,\n",
       " 3,\n",
       " 1,\n",
       " 1,\n",
       " 3,\n",
       " 0,\n",
       " 1,\n",
       " 3,\n",
       " 2,\n",
       " 0,\n",
       " 3,\n",
       " 3,\n",
       " 3,\n",
       " 1,\n",
       " 3,\n",
       " 3,\n",
       " 3,\n",
       " 2,\n",
       " 3]"
      ]
     },
     "execution_count": 6,
     "metadata": {},
     "output_type": "execute_result"
    }
   ],
   "source": [
    "Training_Labels"
   ]
  },
  {
   "cell_type": "code",
   "execution_count": 7,
   "id": "little-dayton",
   "metadata": {},
   "outputs": [
    {
     "data": {
      "text/plain": [
       "array([[[  0,   1,   1, ...,   2,   2,   1],\n",
       "        [ 53,  53,  54, ...,  37,  34,  36],\n",
       "        [197, 198, 198, ..., 140, 126, 128],\n",
       "        ...,\n",
       "        [  1,   1,   2, ...,   4,   1,   1],\n",
       "        [  0,   0,   0, ...,   0,   0,   0],\n",
       "        [  0,   0,   0, ...,   0,   0,   0]],\n",
       "\n",
       "       [[ 43,  34,  48, ...,  59,  65,  63],\n",
       "        [ 46,  45,  66, ...,  59,  66,  63],\n",
       "        [ 48,  52,  66, ...,  60,  66,  63],\n",
       "        ...,\n",
       "        [114, 120, 121, ...,  40,  40,  40],\n",
       "        [118, 122, 123, ...,  40,  40,  40],\n",
       "        [122, 125, 124, ...,  40,  40,  40]],\n",
       "\n",
       "       [[  3,  10,  23, ...,   2,   2,   3],\n",
       "        [  3,   7,  19, ...,   2,   2,   3],\n",
       "        [  2,   3,  15, ...,   3,   3,   3],\n",
       "        ...,\n",
       "        [  6,   9,   4, ..., 150, 152, 154],\n",
       "        [  3,  12,   7, ..., 149, 152, 154],\n",
       "        [  2,   6,  12, ..., 147, 149, 152]],\n",
       "\n",
       "       ...,\n",
       "\n",
       "       [[ 25,  24,  30, ...,  22,  21,  21],\n",
       "        [ 24,  29,  24, ...,  22,  22,  22],\n",
       "        [ 26,  21,  24, ...,  21,  22,  22],\n",
       "        ...,\n",
       "        [121, 118, 113, ...,  13,  13,  11],\n",
       "        [120, 120, 112, ...,  13,  13,  11],\n",
       "        [119, 119, 111, ...,  13,  13,  11]],\n",
       "\n",
       "       [[145, 143, 138, ...,  76,  71,  72],\n",
       "        [142, 138, 128, ...,  88,  74,  80],\n",
       "        [138, 132, 116, ...,  90, 100,  95],\n",
       "        ...,\n",
       "        [255, 255, 255, ..., 255, 255, 255],\n",
       "        [255, 255, 255, ..., 255, 255, 255],\n",
       "        [255, 255, 255, ..., 255, 255, 255]],\n",
       "\n",
       "       [[114, 117, 118, ..., 104, 102, 107],\n",
       "        [112, 110, 116, ..., 103, 103, 104],\n",
       "        [114, 115, 112, ..., 102, 104, 103],\n",
       "        ...,\n",
       "        [121, 116, 120, ..., 126, 120, 124],\n",
       "        [116, 116, 124, ..., 119, 118, 124],\n",
       "        [121, 124, 132, ..., 126, 118, 119]]], dtype=uint8)"
      ]
     },
     "execution_count": 7,
     "metadata": {},
     "output_type": "execute_result"
    }
   ],
   "source": [
    "Testing_Features"
   ]
  },
  {
   "cell_type": "code",
   "execution_count": 8,
   "id": "binding-canada",
   "metadata": {},
   "outputs": [
    {
     "data": {
      "text/plain": [
       "[0,\n",
       " 1,\n",
       " 1,\n",
       " 0,\n",
       " 0,\n",
       " 3,\n",
       " 3,\n",
       " 0,\n",
       " 2,\n",
       " 3,\n",
       " 3,\n",
       " 0,\n",
       " 1,\n",
       " 1,\n",
       " 3,\n",
       " 1,\n",
       " 1,\n",
       " 3,\n",
       " 0,\n",
       " 2,\n",
       " 0,\n",
       " 1,\n",
       " 1,\n",
       " 3,\n",
       " 2,\n",
       " 0,\n",
       " 0,\n",
       " 3,\n",
       " 0,\n",
       " 1,\n",
       " 3,\n",
       " 3,\n",
       " 0,\n",
       " 2,\n",
       " 2,\n",
       " 1,\n",
       " 0,\n",
       " 2,\n",
       " 0,\n",
       " 1,\n",
       " 0,\n",
       " 1,\n",
       " 2,\n",
       " 3,\n",
       " 0,\n",
       " 3,\n",
       " 3,\n",
       " 1,\n",
       " 1,\n",
       " 2,\n",
       " 0,\n",
       " 2,\n",
       " 3,\n",
       " 0,\n",
       " 2,\n",
       " 2,\n",
       " 0,\n",
       " 2,\n",
       " 0,\n",
       " 3,\n",
       " 2,\n",
       " 2,\n",
       " 0,\n",
       " 2,\n",
       " 1,\n",
       " 0,\n",
       " 1,\n",
       " 0,\n",
       " 3,\n",
       " 1,\n",
       " 1,\n",
       " 2,\n",
       " 1,\n",
       " 0,\n",
       " 2,\n",
       " 2,\n",
       " 1,\n",
       " 3,\n",
       " 1,\n",
       " 1,\n",
       " 3,\n",
       " 0,\n",
       " 1,\n",
       " 3,\n",
       " 0,\n",
       " 2,\n",
       " 2,\n",
       " 2,\n",
       " 2,\n",
       " 2,\n",
       " 1,\n",
       " 1,\n",
       " 2,\n",
       " 3,\n",
       " 3,\n",
       " 0,\n",
       " 3,\n",
       " 1,\n",
       " 2,\n",
       " 3,\n",
       " 2,\n",
       " 3,\n",
       " 3,\n",
       " 2,\n",
       " 1,\n",
       " 3,\n",
       " 1,\n",
       " 3,\n",
       " 3,\n",
       " 3,\n",
       " 0,\n",
       " 0,\n",
       " 0,\n",
       " 2,\n",
       " 2,\n",
       " 3,\n",
       " 1,\n",
       " 1,\n",
       " 0,\n",
       " 2]"
      ]
     },
     "execution_count": 8,
     "metadata": {},
     "output_type": "execute_result"
    }
   ],
   "source": [
    "Testing_Labels"
   ]
  },
  {
   "cell_type": "code",
   "execution_count": 9,
   "id": "colored-publication",
   "metadata": {},
   "outputs": [
    {
     "data": {
      "text/plain": [
       "(698, 180, 180)"
      ]
     },
     "execution_count": 9,
     "metadata": {},
     "output_type": "execute_result"
    }
   ],
   "source": [
    "Training_Features.shape"
   ]
  },
  {
   "cell_type": "code",
   "execution_count": 10,
   "id": "strategic-alpha",
   "metadata": {},
   "outputs": [
    {
     "data": {
      "text/plain": [
       "(120, 180, 180)"
      ]
     },
     "execution_count": 10,
     "metadata": {},
     "output_type": "execute_result"
    }
   ],
   "source": [
    "Testing_Features.shape"
   ]
  },
  {
   "cell_type": "code",
   "execution_count": 11,
   "id": "hungry-consequence",
   "metadata": {},
   "outputs": [
    {
     "data": {
      "text/plain": [
       "698"
      ]
     },
     "execution_count": 11,
     "metadata": {},
     "output_type": "execute_result"
    }
   ],
   "source": [
    "len(Training_Labels)"
   ]
  },
  {
   "cell_type": "code",
   "execution_count": 12,
   "id": "colonial-haven",
   "metadata": {},
   "outputs": [
    {
     "data": {
      "text/plain": [
       "120"
      ]
     },
     "execution_count": 12,
     "metadata": {},
     "output_type": "execute_result"
    }
   ],
   "source": [
    "len(Testing_Labels)"
   ]
  },
  {
   "cell_type": "code",
   "execution_count": 13,
   "id": "alert-seating",
   "metadata": {},
   "outputs": [
    {
     "data": {
      "text/plain": [
       "(180, 180)"
      ]
     },
     "execution_count": 13,
     "metadata": {},
     "output_type": "execute_result"
    }
   ],
   "source": [
    "Training_Features[0].shape"
   ]
  },
  {
   "cell_type": "code",
   "execution_count": 14,
   "id": "crazy-activation",
   "metadata": {},
   "outputs": [
    {
     "data": {
      "text/plain": [
       "<matplotlib.image.AxesImage at 0x26c8c0643a0>"
      ]
     },
     "execution_count": 14,
     "metadata": {},
     "output_type": "execute_result"
    }
   ],
   "source": [
    "pyplot.imshow(Training_Features[2],cmap='gray')"
   ]
  },
  {
   "cell_type": "code",
   "execution_count": 15,
   "id": "caroline-dialogue",
   "metadata": {},
   "outputs": [
    {
     "name": "stdout",
     "output_type": "stream",
     "text": [
      "0 -->  Chicken pox\n",
      "1 -->  Facial acne\n",
      "2 -->  Melanoma\n",
      "3 -->  Ringworm\n"
     ]
    }
   ],
   "source": [
    "printClassList()"
   ]
  },
  {
   "cell_type": "code",
   "execution_count": null,
   "id": "younger-printing",
   "metadata": {},
   "outputs": [],
   "source": []
  },
  {
   "cell_type": "markdown",
   "id": "particular-bleeding",
   "metadata": {},
   "source": [
    "## Validation Data Creation"
   ]
  },
  {
   "cell_type": "code",
   "execution_count": 16,
   "id": "sorted-direction",
   "metadata": {},
   "outputs": [],
   "source": [
    "Validation_Features=Training_Features[:10]\n",
    "Training_Features=Training_Features[10:]\n",
    "Validation_Labels=Training_Labels[:10]\n",
    "Training_Labels=Training_Labels[10:]"
   ]
  },
  {
   "cell_type": "code",
   "execution_count": 17,
   "id": "cubic-uzbekistan",
   "metadata": {},
   "outputs": [
    {
     "data": {
      "text/plain": [
       "array([[[133, 122, 131, ..., 153, 161, 143],\n",
       "        [131, 136, 111, ..., 153, 145, 153],\n",
       "        [116, 115, 116, ..., 148, 142, 145],\n",
       "        ...,\n",
       "        [109, 106, 104, ..., 155, 161, 155],\n",
       "        [ 99, 102, 109, ..., 160, 162, 157],\n",
       "        [103, 101, 104, ..., 162, 137, 154]],\n",
       "\n",
       "       [[ 31,  33,  35, ...,  55,  54,  54],\n",
       "        [ 32,  33,  35, ...,  55,  54,  54],\n",
       "        [ 32,  34,  35, ...,  55,  54,  54],\n",
       "        ...,\n",
       "        [ 29,  30,  33, ...,  77,  75,  74],\n",
       "        [ 28,  29,  32, ...,  78,  76,  74],\n",
       "        [ 28,  29,  32, ...,  78,  76,  74]],\n",
       "\n",
       "       [[133, 124, 127, ...,  96,  99, 102],\n",
       "        [129, 131, 130, ..., 100,  93,  98],\n",
       "        [134, 130, 129, ..., 100, 106,  96],\n",
       "        ...,\n",
       "        [143, 138, 144, ..., 112, 124, 118],\n",
       "        [139, 140, 144, ..., 123, 108,  96],\n",
       "        [143, 145, 140, ..., 134, 116, 122]],\n",
       "\n",
       "       ...,\n",
       "\n",
       "       [[ 53,  58,  68, ...,  85,  81,  73],\n",
       "        [ 55,  60,  68, ...,  83,  82,  74],\n",
       "        [ 59,  62,  69, ...,  83,  82,  75],\n",
       "        ...,\n",
       "        [ 23,  20,  16, ...,  36,  36,  35],\n",
       "        [ 22,  18,  16, ...,  35,  36,  36],\n",
       "        [ 21,  18,  15, ...,  35,  36,  36]],\n",
       "\n",
       "       [[  0,   0,   0, ...,   0,   0,   0],\n",
       "        [  0,   0,   0, ...,   0,   0,   0],\n",
       "        [  0,   0,   0, ...,   0,   0,   0],\n",
       "        ...,\n",
       "        [  0,   0,   0, ...,   0,   0,   0],\n",
       "        [  0,   0,   0, ...,   0,   0,   0],\n",
       "        [  0,   0,   0, ...,   0,   0,   0]],\n",
       "\n",
       "       [[136, 132, 127, ..., 133, 131, 136],\n",
       "        [124, 128, 129, ..., 133, 132, 130],\n",
       "        [128, 127, 134, ..., 128, 124, 138],\n",
       "        ...,\n",
       "        [127, 126, 133, ..., 111, 120, 111],\n",
       "        [130, 133, 127, ..., 113, 118, 113],\n",
       "        [130, 125, 121, ..., 118, 120, 114]]], dtype=uint8)"
      ]
     },
     "execution_count": 17,
     "metadata": {},
     "output_type": "execute_result"
    }
   ],
   "source": [
    "Validation_Features"
   ]
  },
  {
   "cell_type": "code",
   "execution_count": 18,
   "id": "cardiovascular-montreal",
   "metadata": {},
   "outputs": [
    {
     "data": {
      "text/plain": [
       "[2, 0, 2, 1, 3, 3, 3, 1, 3, 2]"
      ]
     },
     "execution_count": 18,
     "metadata": {},
     "output_type": "execute_result"
    }
   ],
   "source": [
    "Validation_Labels"
   ]
  },
  {
   "cell_type": "code",
   "execution_count": 19,
   "id": "decreased-halloween",
   "metadata": {},
   "outputs": [
    {
     "data": {
      "text/plain": [
       "(688, 180, 180)"
      ]
     },
     "execution_count": 19,
     "metadata": {},
     "output_type": "execute_result"
    }
   ],
   "source": [
    "Training_Features.shape"
   ]
  },
  {
   "cell_type": "code",
   "execution_count": 20,
   "id": "explicit-capture",
   "metadata": {},
   "outputs": [
    {
     "data": {
      "text/plain": [
       "688"
      ]
     },
     "execution_count": 20,
     "metadata": {},
     "output_type": "execute_result"
    }
   ],
   "source": [
    "len(Training_Labels)"
   ]
  },
  {
   "cell_type": "code",
   "execution_count": 21,
   "id": "raising-nerve",
   "metadata": {},
   "outputs": [
    {
     "data": {
      "text/plain": [
       "(10, 180, 180)"
      ]
     },
     "execution_count": 21,
     "metadata": {},
     "output_type": "execute_result"
    }
   ],
   "source": [
    "Validation_Features.shape"
   ]
  },
  {
   "cell_type": "code",
   "execution_count": 22,
   "id": "direct-actor",
   "metadata": {},
   "outputs": [
    {
     "data": {
      "text/plain": [
       "10"
      ]
     },
     "execution_count": 22,
     "metadata": {},
     "output_type": "execute_result"
    }
   ],
   "source": [
    "len(Validation_Labels)"
   ]
  },
  {
   "cell_type": "markdown",
   "id": "official-detector",
   "metadata": {},
   "source": [
    "## Dimention expansion"
   ]
  },
  {
   "cell_type": "code",
   "execution_count": 23,
   "id": "external-advertiser",
   "metadata": {},
   "outputs": [],
   "source": [
    "Training_Features=numpy.expand_dims(Training_Features,axis=-1)\n",
    "Testing_Features=numpy.expand_dims(Testing_Features,axis=-1)\n",
    "Validation_Features=numpy.expand_dims(Validation_Features,axis=-1)"
   ]
  },
  {
   "cell_type": "code",
   "execution_count": 24,
   "id": "constitutional-marker",
   "metadata": {},
   "outputs": [
    {
     "data": {
      "text/plain": [
       "(688, 180, 180, 1)"
      ]
     },
     "execution_count": 24,
     "metadata": {},
     "output_type": "execute_result"
    }
   ],
   "source": [
    "Training_Features.shape"
   ]
  },
  {
   "cell_type": "code",
   "execution_count": 25,
   "id": "ready-travel",
   "metadata": {},
   "outputs": [
    {
     "data": {
      "text/plain": [
       "(120, 180, 180, 1)"
      ]
     },
     "execution_count": 25,
     "metadata": {},
     "output_type": "execute_result"
    }
   ],
   "source": [
    "Testing_Features.shape"
   ]
  },
  {
   "cell_type": "code",
   "execution_count": 26,
   "id": "physical-tongue",
   "metadata": {},
   "outputs": [
    {
     "data": {
      "text/plain": [
       "(10, 180, 180, 1)"
      ]
     },
     "execution_count": 26,
     "metadata": {},
     "output_type": "execute_result"
    }
   ],
   "source": [
    "Validation_Features.shape"
   ]
  },
  {
   "cell_type": "code",
   "execution_count": 27,
   "id": "respected-musician",
   "metadata": {},
   "outputs": [
    {
     "data": {
      "text/plain": [
       "688"
      ]
     },
     "execution_count": 27,
     "metadata": {},
     "output_type": "execute_result"
    }
   ],
   "source": [
    "len(Training_Labels)"
   ]
  },
  {
   "cell_type": "code",
   "execution_count": 28,
   "id": "golden-thanksgiving",
   "metadata": {},
   "outputs": [
    {
     "data": {
      "text/plain": [
       "120"
      ]
     },
     "execution_count": 28,
     "metadata": {},
     "output_type": "execute_result"
    }
   ],
   "source": [
    "len(Testing_Labels)"
   ]
  },
  {
   "cell_type": "code",
   "execution_count": 29,
   "id": "tracked-choice",
   "metadata": {},
   "outputs": [
    {
     "data": {
      "text/plain": [
       "10"
      ]
     },
     "execution_count": 29,
     "metadata": {},
     "output_type": "execute_result"
    }
   ],
   "source": [
    "len(Validation_Labels)"
   ]
  },
  {
   "cell_type": "code",
   "execution_count": null,
   "id": "funky-dragon",
   "metadata": {},
   "outputs": [],
   "source": []
  },
  {
   "cell_type": "markdown",
   "id": "printable-bubble",
   "metadata": {},
   "source": [
    "## Model Definition"
   ]
  },
  {
   "cell_type": "code",
   "execution_count": 30,
   "id": "offshore-nowhere",
   "metadata": {},
   "outputs": [],
   "source": [
    "model1_using_only_one_layers=keras.models.Sequential(\n",
    "     [\n",
    "         keras.layers.Conv2D(filters=32,kernel_size=3,strides=(1,1),padding='valid',activation='relu',input_shape=[180,180,1]),\n",
    "         keras.layers.MaxPool2D(pool_size=(2,2)),\n",
    "         keras.layers.Flatten(),\n",
    "         keras.layers.Dense(units=512,activation='relu'),\n",
    "         keras.layers.Dense(units=4,activation='softmax'),\n",
    "     ]\n",
    " )"
   ]
  },
  {
   "cell_type": "code",
   "execution_count": 31,
   "id": "pleasant-liquid",
   "metadata": {},
   "outputs": [
    {
     "data": {
      "text/plain": [
       "<keras.engine.sequential.Sequential at 0x26c8a760550>"
      ]
     },
     "execution_count": 31,
     "metadata": {},
     "output_type": "execute_result"
    }
   ],
   "source": [
    "model1_using_only_one_layers"
   ]
  },
  {
   "cell_type": "code",
   "execution_count": 32,
   "id": "accurate-placement",
   "metadata": {},
   "outputs": [
    {
     "name": "stdout",
     "output_type": "stream",
     "text": [
      "Model: \"sequential\"\n",
      "_________________________________________________________________\n",
      "Layer (type)                 Output Shape              Param #   \n",
      "=================================================================\n",
      "conv2d (Conv2D)              (None, 178, 178, 32)      320       \n",
      "_________________________________________________________________\n",
      "max_pooling2d (MaxPooling2D) (None, 89, 89, 32)        0         \n",
      "_________________________________________________________________\n",
      "flatten (Flatten)            (None, 253472)            0         \n",
      "_________________________________________________________________\n",
      "dense (Dense)                (None, 512)               129778176 \n",
      "_________________________________________________________________\n",
      "dense_1 (Dense)              (None, 4)                 2052      \n",
      "=================================================================\n",
      "Total params: 129,780,548\n",
      "Trainable params: 129,780,548\n",
      "Non-trainable params: 0\n",
      "_________________________________________________________________\n"
     ]
    }
   ],
   "source": [
    "model1_using_only_one_layers.summary()"
   ]
  },
  {
   "cell_type": "code",
   "execution_count": 33,
   "id": "sealed-rehabilitation",
   "metadata": {},
   "outputs": [],
   "source": [
    "model1_using_only_one_layers.compile(optimizer='adam',loss='sparse_categorical_crossentropy',metrics=['accuracy'])"
   ]
  },
  {
   "cell_type": "code",
   "execution_count": 34,
   "id": "important-worship",
   "metadata": {},
   "outputs": [
    {
     "name": "stdout",
     "output_type": "stream",
     "text": [
      "Epoch 1/10\n",
      "22/22 [==============================] - 27s 1s/step - loss: 2642.6104 - accuracy: 0.2587 - val_loss: 88.9006 - val_accuracy: 0.3000\n",
      "Epoch 2/10\n",
      "22/22 [==============================] - 25s 1s/step - loss: 52.6669 - accuracy: 0.4898 - val_loss: 15.9862 - val_accuracy: 0.8000\n",
      "Epoch 3/10\n",
      "22/22 [==============================] - 24s 1s/step - loss: 29.7953 - accuracy: 0.5974 - val_loss: 68.9186 - val_accuracy: 0.5000\n",
      "Epoch 4/10\n",
      "22/22 [==============================] - 24s 1s/step - loss: 33.5871 - accuracy: 0.6017 - val_loss: 35.7469 - val_accuracy: 0.6000\n",
      "Epoch 5/10\n",
      "22/22 [==============================] - 25s 1s/step - loss: 20.7377 - accuracy: 0.6991 - val_loss: 27.2489 - val_accuracy: 0.8000\n",
      "Epoch 6/10\n",
      "22/22 [==============================] - 24s 1s/step - loss: 9.7618 - accuracy: 0.8067 - val_loss: 14.6192 - val_accuracy: 0.5000\n",
      "Epoch 7/10\n",
      "22/22 [==============================] - 24s 1s/step - loss: 2.9996 - accuracy: 0.8866 - val_loss: 17.0486 - val_accuracy: 0.6000\n",
      "Epoch 8/10\n",
      "22/22 [==============================] - 24s 1s/step - loss: 1.3940 - accuracy: 0.9230 - val_loss: 24.6190 - val_accuracy: 0.6000\n",
      "Epoch 9/10\n",
      "22/22 [==============================] - 24s 1s/step - loss: 1.0026 - accuracy: 0.9477 - val_loss: 12.5223 - val_accuracy: 0.5000\n",
      "Epoch 10/10\n",
      "22/22 [==============================] - 24s 1s/step - loss: 0.8371 - accuracy: 0.9404 - val_loss: 21.3668 - val_accuracy: 0.6000\n"
     ]
    },
    {
     "data": {
      "text/plain": [
       "<keras.callbacks.History at 0x26c8a856a90>"
      ]
     },
     "execution_count": 34,
     "metadata": {},
     "output_type": "execute_result"
    }
   ],
   "source": [
    "model1_using_only_one_layers.fit(Training_Features,numpy.array(Training_Labels),epochs=10,verbose=1,validation_data=(Validation_Features,numpy.array(Validation_Labels)))"
   ]
  },
  {
   "cell_type": "code",
   "execution_count": 142,
   "id": "motivated-montgomery",
   "metadata": {},
   "outputs": [],
   "source": [
    "model1_using_only_one_layers.save('./Models/model1_using_only_one_layers.h5')"
   ]
  },
  {
   "cell_type": "code",
   "execution_count": null,
   "id": "unique-fitting",
   "metadata": {},
   "outputs": [],
   "source": []
  },
  {
   "cell_type": "code",
   "execution_count": null,
   "id": "bright-queensland",
   "metadata": {},
   "outputs": [],
   "source": []
  },
  {
   "cell_type": "code",
   "execution_count": null,
   "id": "thermal-klein",
   "metadata": {},
   "outputs": [],
   "source": []
  },
  {
   "cell_type": "code",
   "execution_count": 35,
   "id": "indian-meaning",
   "metadata": {},
   "outputs": [],
   "source": [
    "# trained_model=tensorflow.keras.models.load_model('./Models/model1_using_only_one_layers.h5')\n",
    "trained_model=model1_using_only_one_layers"
   ]
  },
  {
   "cell_type": "code",
   "execution_count": 36,
   "id": "parental-accommodation",
   "metadata": {},
   "outputs": [],
   "source": [
    "prediction=trained_model.predict(numpy.expand_dims(Validation_Features[0],axis=0)).round(5)*100"
   ]
  },
  {
   "cell_type": "code",
   "execution_count": 37,
   "id": "fifth-smell",
   "metadata": {},
   "outputs": [
    {
     "data": {
      "text/plain": [
       "[0.0, 0.0, 100.0, 0.0]"
      ]
     },
     "execution_count": 37,
     "metadata": {},
     "output_type": "execute_result"
    }
   ],
   "source": [
    "list(prediction[0])"
   ]
  },
  {
   "cell_type": "code",
   "execution_count": 38,
   "id": "swiss-coverage",
   "metadata": {},
   "outputs": [],
   "source": [
    "# numpy.sum(prediction[0])"
   ]
  },
  {
   "cell_type": "code",
   "execution_count": 39,
   "id": "western-redhead",
   "metadata": {},
   "outputs": [
    {
     "name": "stdout",
     "output_type": "stream",
     "text": [
      "dict_keys([2, 0, 1, 3])\n"
     ]
    }
   ],
   "source": [
    "predicted_classes=list(prediction[0])\n",
    "sorted_indexes={}\n",
    "temp_array=[i for i in predicted_classes]\n",
    "for i in predicted_classes:\n",
    "    index_value=list(temp_array).index(max(temp_array))\n",
    "    sorted_indexes.update({index_value:max(temp_array)})\n",
    "    temp_array[index_value]=-1\n",
    "# print(temp_array)\n",
    "print(sorted_indexes.keys())\n",
    "    "
   ]
  },
  {
   "cell_type": "code",
   "execution_count": 40,
   "id": "adjusted-buddy",
   "metadata": {},
   "outputs": [
    {
     "data": {
      "text/plain": [
       "100.0"
      ]
     },
     "execution_count": 40,
     "metadata": {},
     "output_type": "execute_result"
    }
   ],
   "source": [
    "max(prediction[0])"
   ]
  },
  {
   "cell_type": "code",
   "execution_count": 41,
   "id": "genetic-sensitivity",
   "metadata": {},
   "outputs": [],
   "source": [
    "class_value=list(prediction[0]).index(max(prediction[0]))"
   ]
  },
  {
   "cell_type": "code",
   "execution_count": 42,
   "id": "affected-evolution",
   "metadata": {},
   "outputs": [
    {
     "data": {
      "text/plain": [
       "2"
      ]
     },
     "execution_count": 42,
     "metadata": {},
     "output_type": "execute_result"
    }
   ],
   "source": [
    "class_value"
   ]
  },
  {
   "cell_type": "code",
   "execution_count": 43,
   "id": "burning-method",
   "metadata": {},
   "outputs": [
    {
     "name": "stdout",
     "output_type": "stream",
     "text": [
      "100.0 % --> Melanoma\n",
      "0.0 % --> Chicken pox\n",
      "0.0 % --> Facial acne\n",
      "0.0 % --> Ringworm\n"
     ]
    }
   ],
   "source": [
    "for key,value in sorted_indexes.items():\n",
    "    print(f\"{value} % --> \",end=\"\")\n",
    "    getClassvalue(key)"
   ]
  },
  {
   "cell_type": "code",
   "execution_count": 44,
   "id": "extensive-pizza",
   "metadata": {},
   "outputs": [
    {
     "name": "stdout",
     "output_type": "stream",
     "text": [
      "Actual class is --> Melanoma\n"
     ]
    }
   ],
   "source": [
    "print(\"Actual class is --> \",end=\"\")\n",
    "getClassvalue(Validation_Labels[0])"
   ]
  },
  {
   "cell_type": "code",
   "execution_count": 45,
   "id": "worst-profile",
   "metadata": {},
   "outputs": [
    {
     "data": {
      "text/plain": [
       "array([[[196],\n",
       "        [201],\n",
       "        [201],\n",
       "        ...,\n",
       "        [141],\n",
       "        [137],\n",
       "        [144]],\n",
       "\n",
       "       [[195],\n",
       "        [197],\n",
       "        [198],\n",
       "        ...,\n",
       "        [142],\n",
       "        [139],\n",
       "        [142]],\n",
       "\n",
       "       [[202],\n",
       "        [203],\n",
       "        [204],\n",
       "        ...,\n",
       "        [141],\n",
       "        [138],\n",
       "        [140]],\n",
       "\n",
       "       ...,\n",
       "\n",
       "       [[154],\n",
       "        [155],\n",
       "        [154],\n",
       "        ...,\n",
       "        [199],\n",
       "        [201],\n",
       "        [200]],\n",
       "\n",
       "       [[152],\n",
       "        [155],\n",
       "        [156],\n",
       "        ...,\n",
       "        [200],\n",
       "        [201],\n",
       "        [199]],\n",
       "\n",
       "       [[151],\n",
       "        [154],\n",
       "        [155],\n",
       "        ...,\n",
       "        [198],\n",
       "        [200],\n",
       "        [196]]], dtype=uint8)"
      ]
     },
     "execution_count": 45,
     "metadata": {},
     "output_type": "execute_result"
    }
   ],
   "source": [
    "Training_Features[1]"
   ]
  },
  {
   "cell_type": "code",
   "execution_count": 46,
   "id": "refined-houston",
   "metadata": {},
   "outputs": [
    {
     "data": {
      "text/plain": [
       "688"
      ]
     },
     "execution_count": 46,
     "metadata": {},
     "output_type": "execute_result"
    }
   ],
   "source": [
    "len(Training_Features)"
   ]
  },
  {
   "cell_type": "code",
   "execution_count": 47,
   "id": "bronze-yahoo",
   "metadata": {},
   "outputs": [
    {
     "data": {
      "text/plain": [
       "120"
      ]
     },
     "execution_count": 47,
     "metadata": {},
     "output_type": "execute_result"
    }
   ],
   "source": [
    "len(Testing_Features)"
   ]
  },
  {
   "cell_type": "code",
   "execution_count": 48,
   "id": "seeing-mobile",
   "metadata": {},
   "outputs": [],
   "source": [
    "Predeicted_test_data=trained_model.predict(Testing_Features)"
   ]
  },
  {
   "cell_type": "code",
   "execution_count": 49,
   "id": "minus-riverside",
   "metadata": {},
   "outputs": [
    {
     "data": {
      "text/plain": [
       "array([[1.00000000e+00, 0.00000000e+00, 0.00000000e+00, 0.00000000e+00],\n",
       "       [8.95228462e-32, 1.00000000e+00, 0.00000000e+00, 1.24312258e-34],\n",
       "       [0.00000000e+00, 1.00000000e+00, 0.00000000e+00, 0.00000000e+00],\n",
       "       [3.92959415e-11, 1.00000000e+00, 0.00000000e+00, 3.50336839e-19],\n",
       "       [1.00000000e+00, 8.47746046e-34, 0.00000000e+00, 7.90943810e-10],\n",
       "       [0.00000000e+00, 0.00000000e+00, 0.00000000e+00, 1.00000000e+00],\n",
       "       [0.00000000e+00, 0.00000000e+00, 1.00000000e+00, 0.00000000e+00],\n",
       "       [1.00000000e+00, 0.00000000e+00, 0.00000000e+00, 1.13068814e-21],\n",
       "       [0.00000000e+00, 0.00000000e+00, 1.00000000e+00, 0.00000000e+00],\n",
       "       [9.95343328e-01, 0.00000000e+00, 2.73792801e-27, 4.65671904e-03],\n",
       "       [7.90572113e-34, 1.00000000e+00, 0.00000000e+00, 0.00000000e+00],\n",
       "       [1.00000000e+00, 0.00000000e+00, 0.00000000e+00, 5.20058362e-27],\n",
       "       [9.49982708e-16, 1.00000000e+00, 0.00000000e+00, 5.36271873e-13],\n",
       "       [8.61043355e-12, 9.99996185e-01, 0.00000000e+00, 3.78411232e-06],\n",
       "       [4.01473126e-11, 9.99537945e-01, 0.00000000e+00, 4.62096097e-04],\n",
       "       [6.79921064e-10, 9.67337072e-01, 2.27325320e-29, 3.26629505e-02],\n",
       "       [0.00000000e+00, 1.00000000e+00, 0.00000000e+00, 1.10631292e-29],\n",
       "       [4.53265818e-19, 2.65985949e-19, 0.00000000e+00, 1.00000000e+00],\n",
       "       [1.00000000e+00, 0.00000000e+00, 0.00000000e+00, 9.25096978e-36],\n",
       "       [0.00000000e+00, 0.00000000e+00, 1.00000000e+00, 0.00000000e+00],\n",
       "       [9.99854684e-01, 4.05332071e-21, 0.00000000e+00, 1.45291357e-04],\n",
       "       [0.00000000e+00, 1.00000000e+00, 0.00000000e+00, 4.44214283e-33],\n",
       "       [3.60754162e-32, 1.00000000e+00, 0.00000000e+00, 5.14835743e-11],\n",
       "       [6.71596171e-16, 7.98914946e-20, 0.00000000e+00, 1.00000000e+00],\n",
       "       [0.00000000e+00, 0.00000000e+00, 1.00000000e+00, 0.00000000e+00],\n",
       "       [1.00000000e+00, 5.29274107e-37, 0.00000000e+00, 3.65697357e-20],\n",
       "       [1.15744863e-21, 1.00000000e+00, 0.00000000e+00, 2.63877700e-12],\n",
       "       [3.80820966e-05, 9.95888293e-01, 0.00000000e+00, 4.07357141e-03],\n",
       "       [2.05776660e-10, 2.00218285e-35, 0.00000000e+00, 1.00000000e+00],\n",
       "       [3.10632986e-15, 1.00000000e+00, 0.00000000e+00, 6.87167467e-12],\n",
       "       [5.29282575e-28, 3.77591647e-09, 0.00000000e+00, 1.00000000e+00],\n",
       "       [0.00000000e+00, 0.00000000e+00, 7.75698453e-26, 1.00000000e+00],\n",
       "       [9.44893713e-07, 0.00000000e+00, 9.81332699e-20, 9.99999046e-01],\n",
       "       [0.00000000e+00, 0.00000000e+00, 1.00000000e+00, 0.00000000e+00],\n",
       "       [0.00000000e+00, 0.00000000e+00, 1.00000000e+00, 0.00000000e+00],\n",
       "       [0.00000000e+00, 1.00000000e+00, 0.00000000e+00, 8.00506562e-22],\n",
       "       [1.75647292e-05, 1.79209027e-31, 0.00000000e+00, 9.99982476e-01],\n",
       "       [0.00000000e+00, 0.00000000e+00, 1.00000000e+00, 0.00000000e+00],\n",
       "       [1.00000000e+00, 0.00000000e+00, 0.00000000e+00, 0.00000000e+00],\n",
       "       [0.00000000e+00, 1.00000000e+00, 0.00000000e+00, 0.00000000e+00],\n",
       "       [0.00000000e+00, 1.00000000e+00, 0.00000000e+00, 0.00000000e+00],\n",
       "       [1.30429122e-29, 1.00000000e+00, 0.00000000e+00, 1.04798987e-32],\n",
       "       [0.00000000e+00, 0.00000000e+00, 1.00000000e+00, 0.00000000e+00],\n",
       "       [0.00000000e+00, 1.00000000e+00, 0.00000000e+00, 1.58193769e-19],\n",
       "       [3.12559190e-04, 2.65403669e-23, 0.00000000e+00, 9.99687433e-01],\n",
       "       [0.00000000e+00, 0.00000000e+00, 0.00000000e+00, 1.00000000e+00],\n",
       "       [0.00000000e+00, 0.00000000e+00, 0.00000000e+00, 1.00000000e+00],\n",
       "       [1.67318420e-15, 1.00000000e+00, 0.00000000e+00, 1.72816106e-23],\n",
       "       [0.00000000e+00, 1.00000000e+00, 0.00000000e+00, 0.00000000e+00],\n",
       "       [0.00000000e+00, 0.00000000e+00, 1.00000000e+00, 0.00000000e+00],\n",
       "       [1.00000000e+00, 7.36625591e-16, 0.00000000e+00, 1.06932302e-12],\n",
       "       [0.00000000e+00, 0.00000000e+00, 1.00000000e+00, 0.00000000e+00],\n",
       "       [1.00000000e+00, 0.00000000e+00, 0.00000000e+00, 0.00000000e+00],\n",
       "       [8.15597653e-01, 7.35238529e-25, 1.76951860e-34, 1.84402332e-01],\n",
       "       [0.00000000e+00, 0.00000000e+00, 1.00000000e+00, 0.00000000e+00],\n",
       "       [0.00000000e+00, 0.00000000e+00, 1.00000000e+00, 0.00000000e+00],\n",
       "       [9.99991298e-01, 8.66399205e-06, 0.00000000e+00, 1.09215132e-14],\n",
       "       [0.00000000e+00, 0.00000000e+00, 1.00000000e+00, 0.00000000e+00],\n",
       "       [1.00000000e+00, 0.00000000e+00, 0.00000000e+00, 0.00000000e+00],\n",
       "       [1.65311159e-29, 3.72995183e-29, 0.00000000e+00, 1.00000000e+00],\n",
       "       [0.00000000e+00, 0.00000000e+00, 1.00000000e+00, 0.00000000e+00],\n",
       "       [0.00000000e+00, 0.00000000e+00, 1.00000000e+00, 0.00000000e+00],\n",
       "       [1.00000000e+00, 0.00000000e+00, 0.00000000e+00, 1.35758523e-27],\n",
       "       [0.00000000e+00, 0.00000000e+00, 1.00000000e+00, 0.00000000e+00],\n",
       "       [1.96700207e-36, 1.00000000e+00, 0.00000000e+00, 0.00000000e+00],\n",
       "       [1.00000000e+00, 4.22607319e-29, 0.00000000e+00, 3.72103286e-11],\n",
       "       [8.05130550e-38, 1.00000000e+00, 0.00000000e+00, 2.27509483e-37],\n",
       "       [7.68192887e-01, 2.87519216e-26, 0.00000000e+00, 2.31807083e-01],\n",
       "       [0.00000000e+00, 0.00000000e+00, 0.00000000e+00, 1.00000000e+00],\n",
       "       [1.93234521e-13, 1.00000000e+00, 0.00000000e+00, 3.71441252e-17],\n",
       "       [4.30545606e-18, 1.00000000e+00, 0.00000000e+00, 6.30880710e-13],\n",
       "       [0.00000000e+00, 0.00000000e+00, 1.00000000e+00, 0.00000000e+00],\n",
       "       [5.51299104e-23, 1.00000000e+00, 0.00000000e+00, 2.80582710e-11],\n",
       "       [1.00000000e+00, 2.64446840e-36, 0.00000000e+00, 0.00000000e+00],\n",
       "       [0.00000000e+00, 0.00000000e+00, 1.00000000e+00, 0.00000000e+00],\n",
       "       [0.00000000e+00, 0.00000000e+00, 1.00000000e+00, 0.00000000e+00],\n",
       "       [0.00000000e+00, 1.00000000e+00, 0.00000000e+00, 0.00000000e+00],\n",
       "       [2.33903227e-11, 1.00000000e+00, 0.00000000e+00, 4.77579251e-16],\n",
       "       [6.68856561e-01, 3.91460192e-37, 8.90751579e-37, 3.31143379e-01],\n",
       "       [3.66279534e-35, 1.00000000e+00, 0.00000000e+00, 0.00000000e+00],\n",
       "       [3.25482900e-26, 3.02553894e-24, 0.00000000e+00, 1.00000000e+00],\n",
       "       [9.99195516e-01, 0.00000000e+00, 0.00000000e+00, 8.04453797e-04],\n",
       "       [6.58008968e-03, 1.51551714e-17, 1.89345985e-31, 9.93419945e-01],\n",
       "       [0.00000000e+00, 0.00000000e+00, 0.00000000e+00, 1.00000000e+00],\n",
       "       [2.05296828e-06, 0.00000000e+00, 0.00000000e+00, 9.99997973e-01],\n",
       "       [0.00000000e+00, 0.00000000e+00, 1.00000000e+00, 0.00000000e+00],\n",
       "       [0.00000000e+00, 0.00000000e+00, 1.00000000e+00, 0.00000000e+00],\n",
       "       [0.00000000e+00, 0.00000000e+00, 1.00000000e+00, 0.00000000e+00],\n",
       "       [0.00000000e+00, 0.00000000e+00, 1.00000000e+00, 0.00000000e+00],\n",
       "       [0.00000000e+00, 0.00000000e+00, 1.00000000e+00, 0.00000000e+00],\n",
       "       [0.00000000e+00, 1.00000000e+00, 0.00000000e+00, 0.00000000e+00],\n",
       "       [2.54215670e-32, 1.00000000e+00, 0.00000000e+00, 1.47190051e-38],\n",
       "       [0.00000000e+00, 0.00000000e+00, 1.00000000e+00, 0.00000000e+00],\n",
       "       [0.00000000e+00, 0.00000000e+00, 0.00000000e+00, 1.00000000e+00],\n",
       "       [3.63571486e-15, 5.76519765e-21, 0.00000000e+00, 1.00000000e+00],\n",
       "       [1.00000000e+00, 0.00000000e+00, 0.00000000e+00, 0.00000000e+00],\n",
       "       [9.92164135e-01, 2.75053591e-12, 0.00000000e+00, 7.83579238e-03],\n",
       "       [0.00000000e+00, 1.00000000e+00, 0.00000000e+00, 0.00000000e+00],\n",
       "       [0.00000000e+00, 0.00000000e+00, 1.00000000e+00, 0.00000000e+00],\n",
       "       [0.00000000e+00, 0.00000000e+00, 0.00000000e+00, 1.00000000e+00],\n",
       "       [0.00000000e+00, 0.00000000e+00, 1.00000000e+00, 0.00000000e+00],\n",
       "       [1.53112546e-01, 7.00975143e-05, 0.00000000e+00, 8.46817434e-01],\n",
       "       [0.00000000e+00, 0.00000000e+00, 1.00000000e+00, 2.62079798e-21],\n",
       "       [0.00000000e+00, 0.00000000e+00, 1.00000000e+00, 0.00000000e+00],\n",
       "       [0.00000000e+00, 1.00000000e+00, 0.00000000e+00, 0.00000000e+00],\n",
       "       [2.31066245e-33, 0.00000000e+00, 0.00000000e+00, 1.00000000e+00],\n",
       "       [2.05723286e-10, 4.04035905e-19, 0.00000000e+00, 1.00000000e+00],\n",
       "       [1.28719770e-31, 2.06730090e-19, 4.62178277e-38, 1.00000000e+00],\n",
       "       [1.00000000e+00, 1.36240069e-18, 0.00000000e+00, 4.54686205e-10],\n",
       "       [9.35718071e-28, 1.71269821e-05, 0.00000000e+00, 9.99982834e-01],\n",
       "       [5.91555342e-13, 1.00000000e+00, 0.00000000e+00, 2.87842970e-12],\n",
       "       [1.14729988e-11, 9.87863690e-23, 3.07384235e-38, 1.00000000e+00],\n",
       "       [1.00000000e+00, 1.49097330e-23, 0.00000000e+00, 0.00000000e+00],\n",
       "       [0.00000000e+00, 0.00000000e+00, 1.00000000e+00, 0.00000000e+00],\n",
       "       [0.00000000e+00, 0.00000000e+00, 1.00000000e+00, 0.00000000e+00],\n",
       "       [1.14185151e-25, 0.00000000e+00, 0.00000000e+00, 1.00000000e+00],\n",
       "       [0.00000000e+00, 1.00000000e+00, 0.00000000e+00, 0.00000000e+00],\n",
       "       [0.00000000e+00, 1.00000000e+00, 0.00000000e+00, 0.00000000e+00],\n",
       "       [1.00000000e+00, 0.00000000e+00, 0.00000000e+00, 0.00000000e+00],\n",
       "       [0.00000000e+00, 0.00000000e+00, 1.00000000e+00, 1.27628296e-26]],\n",
       "      dtype=float32)"
      ]
     },
     "execution_count": 49,
     "metadata": {},
     "output_type": "execute_result"
    }
   ],
   "source": [
    "Predeicted_test_data"
   ]
  },
  {
   "cell_type": "code",
   "execution_count": 50,
   "id": "small-seminar",
   "metadata": {},
   "outputs": [],
   "source": [
    "predicted_values=[numpy.argmax(result) for result in Predeicted_test_data]"
   ]
  },
  {
   "cell_type": "code",
   "execution_count": 51,
   "id": "auburn-webster",
   "metadata": {},
   "outputs": [
    {
     "name": "stdout",
     "output_type": "stream",
     "text": [
      "0  - >  0\n",
      "1  - >  1\n",
      "1  - >  1\n",
      "1  - >  0\n",
      "0  - >  0\n",
      "3  - >  3\n",
      "2  - >  3\n",
      "0  - >  0\n",
      "2  - >  2\n",
      "0  - >  3\n",
      "1  - >  3\n",
      "0  - >  0\n",
      "1  - >  1\n",
      "1  - >  1\n",
      "1  - >  3\n",
      "1  - >  1\n",
      "1  - >  1\n",
      "3  - >  3\n",
      "0  - >  0\n",
      "2  - >  2\n",
      "0  - >  0\n",
      "1  - >  1\n",
      "1  - >  1\n",
      "3  - >  3\n",
      "2  - >  2\n",
      "0  - >  0\n",
      "1  - >  0\n",
      "1  - >  3\n",
      "3  - >  0\n",
      "1  - >  1\n",
      "3  - >  3\n",
      "3  - >  3\n",
      "3  - >  0\n",
      "2  - >  2\n",
      "2  - >  2\n",
      "1  - >  1\n",
      "3  - >  0\n",
      "2  - >  2\n",
      "0  - >  0\n",
      "1  - >  1\n",
      "1  - >  0\n",
      "1  - >  1\n",
      "2  - >  2\n",
      "1  - >  3\n",
      "3  - >  0\n",
      "3  - >  3\n",
      "3  - >  3\n",
      "1  - >  1\n",
      "1  - >  1\n",
      "2  - >  2\n",
      "0  - >  0\n",
      "2  - >  2\n",
      "0  - >  3\n",
      "0  - >  0\n",
      "2  - >  2\n",
      "2  - >  2\n",
      "0  - >  0\n",
      "2  - >  2\n",
      "0  - >  0\n",
      "3  - >  3\n",
      "2  - >  2\n",
      "2  - >  2\n",
      "0  - >  0\n",
      "2  - >  2\n",
      "1  - >  1\n",
      "0  - >  0\n",
      "1  - >  1\n",
      "0  - >  0\n",
      "3  - >  3\n",
      "1  - >  1\n",
      "1  - >  1\n",
      "2  - >  2\n",
      "1  - >  1\n",
      "0  - >  0\n",
      "2  - >  2\n",
      "2  - >  2\n",
      "1  - >  1\n",
      "1  - >  3\n",
      "0  - >  1\n",
      "1  - >  1\n",
      "3  - >  3\n",
      "0  - >  0\n",
      "3  - >  1\n",
      "3  - >  3\n",
      "3  - >  0\n",
      "2  - >  2\n",
      "2  - >  2\n",
      "2  - >  2\n",
      "2  - >  2\n",
      "2  - >  2\n",
      "1  - >  1\n",
      "1  - >  1\n",
      "2  - >  2\n",
      "3  - >  3\n",
      "3  - >  3\n",
      "0  - >  0\n",
      "0  - >  3\n",
      "1  - >  1\n",
      "2  - >  2\n",
      "3  - >  3\n",
      "2  - >  2\n",
      "3  - >  3\n",
      "2  - >  3\n",
      "2  - >  2\n",
      "1  - >  1\n",
      "3  - >  3\n",
      "3  - >  1\n",
      "3  - >  3\n",
      "0  - >  3\n",
      "3  - >  3\n",
      "1  - >  0\n",
      "3  - >  0\n",
      "0  - >  0\n",
      "2  - >  2\n",
      "2  - >  2\n",
      "3  - >  3\n",
      "1  - >  1\n",
      "1  - >  1\n",
      "0  - >  0\n",
      "2  - >  2\n"
     ]
    }
   ],
   "source": [
    "for i in range(len(predicted_values)):\n",
    "    print(predicted_values[i],\" - > \",Testing_Labels[i])"
   ]
  },
  {
   "cell_type": "code",
   "execution_count": 52,
   "id": "exact-school",
   "metadata": {},
   "outputs": [],
   "source": [
    "pyplot.figure('Confusion Matrix')\n",
    "confusion_matrix_data=confusion_matrix(predicted_values,Testing_Labels)"
   ]
  },
  {
   "cell_type": "code",
   "execution_count": 53,
   "id": "czech-wales",
   "metadata": {},
   "outputs": [
    {
     "data": {
      "text/plain": [
       "array([[20,  1,  0,  4],\n",
       "       [ 4, 27,  0,  5],\n",
       "       [ 0,  0, 30,  2],\n",
       "       [ 6,  2,  0, 19]], dtype=int64)"
      ]
     },
     "execution_count": 53,
     "metadata": {},
     "output_type": "execute_result"
    }
   ],
   "source": [
    "confusion_matrix_data"
   ]
  },
  {
   "cell_type": "code",
   "execution_count": null,
   "id": "chicken-indication",
   "metadata": {},
   "outputs": [],
   "source": []
  },
  {
   "cell_type": "code",
   "execution_count": null,
   "id": "cellular-hardwood",
   "metadata": {},
   "outputs": [],
   "source": []
  },
  {
   "cell_type": "code",
   "execution_count": 54,
   "id": "fancy-senegal",
   "metadata": {},
   "outputs": [
    {
     "data": {
      "text/plain": [
       "<AxesSubplot:>"
      ]
     },
     "execution_count": 54,
     "metadata": {},
     "output_type": "execute_result"
    }
   ],
   "source": [
    "# seaborn.heatmap(confusion_matrix_data,annot=True,xticklabels=classes_list,yticklabels=classes_list)\n",
    "seaborn.heatmap(confusion_matrix_data,annot=True)"
   ]
  },
  {
   "cell_type": "code",
   "execution_count": 55,
   "id": "together-cassette",
   "metadata": {},
   "outputs": [
    {
     "name": "stdout",
     "output_type": "stream",
     "text": [
      "0 -->  Chicken pox\n",
      "1 -->  Facial acne\n",
      "2 -->  Melanoma\n",
      "3 -->  Ringworm\n"
     ]
    }
   ],
   "source": [
    "printClassList()"
   ]
  },
  {
   "cell_type": "code",
   "execution_count": 56,
   "id": "labeled-thought",
   "metadata": {},
   "outputs": [],
   "source": [
    "classification_report_data=classification_report(predicted_values,Testing_Labels,target_names=classes_list)"
   ]
  },
  {
   "cell_type": "code",
   "execution_count": 57,
   "id": "based-pepper",
   "metadata": {
    "scrolled": false
   },
   "outputs": [
    {
     "name": "stdout",
     "output_type": "stream",
     "text": [
      "              precision    recall  f1-score   support\n",
      "\n",
      " Chicken pox       0.67      0.80      0.73        25\n",
      " Facial acne       0.90      0.75      0.82        36\n",
      "    Melanoma       1.00      0.94      0.97        32\n",
      "    Ringworm       0.63      0.70      0.67        27\n",
      "\n",
      "    accuracy                           0.80       120\n",
      "   macro avg       0.80      0.80      0.79       120\n",
      "weighted avg       0.82      0.80      0.81       120\n",
      "\n"
     ]
    }
   ],
   "source": [
    "print(classification_report_data)"
   ]
  },
  {
   "cell_type": "code",
   "execution_count": null,
   "id": "champion-particular",
   "metadata": {},
   "outputs": [],
   "source": []
  },
  {
   "cell_type": "code",
   "execution_count": null,
   "id": "oriental-receiver",
   "metadata": {},
   "outputs": [],
   "source": []
  },
  {
   "cell_type": "code",
   "execution_count": null,
   "id": "chief-turkey",
   "metadata": {},
   "outputs": [],
   "source": []
  },
  {
   "cell_type": "code",
   "execution_count": null,
   "id": "adjusted-litigation",
   "metadata": {},
   "outputs": [],
   "source": []
  },
  {
   "cell_type": "code",
   "execution_count": null,
   "id": "dedicated-deficit",
   "metadata": {},
   "outputs": [],
   "source": []
  },
  {
   "cell_type": "code",
   "execution_count": null,
   "id": "dominican-general",
   "metadata": {},
   "outputs": [],
   "source": []
  },
  {
   "cell_type": "code",
   "execution_count": null,
   "id": "polish-prisoner",
   "metadata": {},
   "outputs": [],
   "source": []
  },
  {
   "cell_type": "markdown",
   "id": "underlying-wisdom",
   "metadata": {},
   "source": [
    "## Complex Architecture 1"
   ]
  },
  {
   "cell_type": "code",
   "execution_count": 143,
   "id": "bridal-return",
   "metadata": {},
   "outputs": [],
   "source": [
    "model2_using_Complex_architecture=keras.models.Sequential(\n",
    "     [\n",
    "         keras.layers.Conv2D(filters=32,kernel_size=3,strides=(1,1),padding='valid',activation='relu',input_shape=[180,180,1]),\n",
    "         keras.layers.MaxPool2D(pool_size=(2,2)),\n",
    "         keras.layers.Conv2D(filters=16,kernel_size=3,strides=(1,1),padding='valid',activation='relu',input_shape=[180,180,1]),\n",
    "         keras.layers.MaxPool2D(pool_size=(2,2)),\n",
    "         keras.layers.Flatten(),\n",
    "         keras.layers.Dense(units=512,activation='relu'),\n",
    "         keras.layers.Dense(units=128,activation='relu'),\n",
    "         keras.layers.Dense(units=4,activation='softmax'),\n",
    "     ]\n",
    " )"
   ]
  },
  {
   "cell_type": "code",
   "execution_count": 144,
   "id": "proved-tracy",
   "metadata": {},
   "outputs": [
    {
     "name": "stdout",
     "output_type": "stream",
     "text": [
      "Model: \"sequential_7\"\n",
      "_________________________________________________________________\n",
      "Layer (type)                 Output Shape              Param #   \n",
      "=================================================================\n",
      "conv2d_14 (Conv2D)           (None, 178, 178, 32)      320       \n",
      "_________________________________________________________________\n",
      "max_pooling2d_14 (MaxPooling (None, 89, 89, 32)        0         \n",
      "_________________________________________________________________\n",
      "conv2d_15 (Conv2D)           (None, 87, 87, 16)        4624      \n",
      "_________________________________________________________________\n",
      "max_pooling2d_15 (MaxPooling (None, 43, 43, 16)        0         \n",
      "_________________________________________________________________\n",
      "flatten_7 (Flatten)          (None, 29584)             0         \n",
      "_________________________________________________________________\n",
      "dense_20 (Dense)             (None, 512)               15147520  \n",
      "_________________________________________________________________\n",
      "dense_21 (Dense)             (None, 128)               65664     \n",
      "_________________________________________________________________\n",
      "dense_22 (Dense)             (None, 4)                 516       \n",
      "=================================================================\n",
      "Total params: 15,218,644\n",
      "Trainable params: 15,218,644\n",
      "Non-trainable params: 0\n",
      "_________________________________________________________________\n"
     ]
    }
   ],
   "source": [
    "model2_using_Complex_architecture.summary()"
   ]
  },
  {
   "cell_type": "code",
   "execution_count": 145,
   "id": "prospective-least",
   "metadata": {},
   "outputs": [],
   "source": [
    "model2_using_Complex_architecture.compile(optimizer='adam',loss='sparse_categorical_crossentropy',metrics=['accuracy'])"
   ]
  },
  {
   "cell_type": "code",
   "execution_count": 146,
   "id": "governing-lloyd",
   "metadata": {},
   "outputs": [
    {
     "name": "stdout",
     "output_type": "stream",
     "text": [
      "Epoch 1/10\n",
      "22/22 [==============================] - 14s 639ms/step - loss: 39.2534 - accuracy: 0.3358 - val_loss: 0.9403 - val_accuracy: 0.6000\n",
      "Epoch 2/10\n",
      "22/22 [==============================] - 16s 735ms/step - loss: 0.9554 - accuracy: 0.6032 - val_loss: 4.6421 - val_accuracy: 0.3000\n",
      "Epoch 3/10\n",
      "22/22 [==============================] - 16s 744ms/step - loss: 0.5368 - accuracy: 0.8285 - val_loss: 3.6867 - val_accuracy: 0.8000\n",
      "Epoch 4/10\n",
      "22/22 [==============================] - 18s 841ms/step - loss: 0.3256 - accuracy: 0.9201 - val_loss: 5.0040 - val_accuracy: 0.5000\n",
      "Epoch 5/10\n",
      "22/22 [==============================] - 19s 869ms/step - loss: 0.5554 - accuracy: 0.8401 - val_loss: 4.8939 - val_accuracy: 0.5000\n",
      "Epoch 6/10\n",
      "22/22 [==============================] - 17s 780ms/step - loss: 0.2507 - accuracy: 0.9331 - val_loss: 4.6031 - val_accuracy: 0.4000\n",
      "Epoch 7/10\n",
      "22/22 [==============================] - 15s 701ms/step - loss: 0.2332 - accuracy: 0.9360 - val_loss: 8.1284 - val_accuracy: 0.5000\n",
      "Epoch 8/10\n",
      "22/22 [==============================] - 15s 661ms/step - loss: 0.2309 - accuracy: 0.9448 - val_loss: 5.3397 - val_accuracy: 0.6000\n",
      "Epoch 9/10\n",
      "22/22 [==============================] - 14s 618ms/step - loss: 0.1369 - accuracy: 0.9695 - val_loss: 4.7591 - val_accuracy: 0.5000\n",
      "Epoch 10/10\n",
      "22/22 [==============================] - 14s 622ms/step - loss: 0.4272 - accuracy: 0.8488 - val_loss: 4.7468 - val_accuracy: 0.5000\n"
     ]
    },
    {
     "data": {
      "text/plain": [
       "<keras.callbacks.History at 0x26c9f699670>"
      ]
     },
     "execution_count": 146,
     "metadata": {},
     "output_type": "execute_result"
    }
   ],
   "source": [
    "model2_using_Complex_architecture.fit(Training_Features,numpy.array(Training_Labels),epochs=10,verbose=1,validation_data=(Validation_Features,numpy.array(Validation_Labels)))"
   ]
  },
  {
   "cell_type": "code",
   "execution_count": 133,
   "id": "silent-residence",
   "metadata": {},
   "outputs": [],
   "source": [
    "model2_using_Complex_architecture.save('./Models/model2_using_Complex_architecture.h5')"
   ]
  },
  {
   "cell_type": "code",
   "execution_count": null,
   "id": "worst-kingston",
   "metadata": {},
   "outputs": [],
   "source": []
  },
  {
   "cell_type": "code",
   "execution_count": null,
   "id": "domestic-demonstration",
   "metadata": {},
   "outputs": [],
   "source": []
  },
  {
   "cell_type": "code",
   "execution_count": 148,
   "id": "hazardous-effect",
   "metadata": {},
   "outputs": [],
   "source": [
    "# trained_model=tensorflow.keras.models.load_model('./Models/model2_using_Complex_architecture.h5')\n",
    "trained_model=model2_using_Complex_architecture"
   ]
  },
  {
   "cell_type": "code",
   "execution_count": 149,
   "id": "creative-appreciation",
   "metadata": {},
   "outputs": [],
   "source": [
    "Predeicted_test_data=trained_model.predict(Testing_Features)"
   ]
  },
  {
   "cell_type": "code",
   "execution_count": 150,
   "id": "wrong-stress",
   "metadata": {},
   "outputs": [
    {
     "data": {
      "text/plain": [
       "array([[9.99990344e-01, 6.74130035e-07, 3.75426623e-08, 8.97056361e-06],\n",
       "       [2.70964980e-01, 5.42720497e-01, 4.30314913e-02, 1.43283069e-01],\n",
       "       [9.99803245e-01, 4.30320106e-05, 4.78550135e-07, 1.53267538e-04],\n",
       "       [3.34791869e-01, 3.60074311e-01, 6.59933537e-02, 2.39140525e-01],\n",
       "       [7.90071413e-02, 4.92655098e-01, 1.97886247e-02, 4.08549160e-01],\n",
       "       [2.43944395e-03, 1.82563177e-04, 8.61906083e-05, 9.97291744e-01],\n",
       "       [2.86980093e-01, 2.08790064e-01, 9.30230618e-02, 4.11206752e-01],\n",
       "       [9.73954201e-01, 1.02028549e-02, 6.24832232e-04, 1.52180418e-02],\n",
       "       [2.86980093e-01, 2.08790064e-01, 9.30230618e-02, 4.11206752e-01],\n",
       "       [2.86980093e-01, 2.08790064e-01, 9.30230618e-02, 4.11206752e-01],\n",
       "       [1.43772870e-01, 8.50611150e-01, 3.45661829e-04, 5.27031394e-03],\n",
       "       [1.00000000e+00, 8.60558012e-18, 1.01427507e-25, 9.85061632e-09],\n",
       "       [2.86980093e-01, 2.08790064e-01, 9.30230618e-02, 4.11206752e-01],\n",
       "       [1.39219642e-01, 7.32461751e-01, 2.45395266e-02, 1.03779115e-01],\n",
       "       [2.39558576e-05, 9.99975920e-01, 5.97053518e-09, 7.02747656e-08],\n",
       "       [2.86980093e-01, 2.08790064e-01, 9.30230618e-02, 4.11206752e-01],\n",
       "       [2.64270335e-01, 2.24298120e-01, 8.23948905e-02, 4.29036647e-01],\n",
       "       [1.93597764e-01, 1.98274463e-01, 6.51407093e-02, 5.42987108e-01],\n",
       "       [9.28966761e-01, 7.14158081e-03, 7.83883593e-07, 6.38908669e-02],\n",
       "       [2.86980093e-01, 2.08790064e-01, 9.30230618e-02, 4.11206752e-01],\n",
       "       [8.00376475e-01, 4.16589230e-02, 1.36095388e-02, 1.44355148e-01],\n",
       "       [2.63782050e-02, 9.21521664e-01, 5.00317139e-04, 5.15998602e-02],\n",
       "       [2.86980093e-01, 2.08790064e-01, 9.30230618e-02, 4.11206752e-01],\n",
       "       [2.04405978e-01, 1.27883360e-01, 5.76565899e-02, 6.10054135e-01],\n",
       "       [2.59755831e-03, 1.40269632e-13, 1.70686864e-04, 9.97231781e-01],\n",
       "       [2.87650079e-01, 2.06755981e-01, 9.28126052e-02, 4.12781328e-01],\n",
       "       [2.86980093e-01, 2.08790064e-01, 9.30230618e-02, 4.11206752e-01],\n",
       "       [9.53456104e-01, 6.08994160e-03, 2.00034774e-04, 4.02538739e-02],\n",
       "       [2.86980093e-01, 2.08790064e-01, 9.30230618e-02, 4.11206752e-01],\n",
       "       [2.86980093e-01, 2.08790064e-01, 9.30230618e-02, 4.11206752e-01],\n",
       "       [4.79543805e-02, 4.50219866e-03, 3.28824681e-05, 9.47510600e-01],\n",
       "       [2.86980093e-01, 2.08790094e-01, 9.30230618e-02, 4.11206752e-01],\n",
       "       [7.04496682e-01, 1.47805944e-01, 2.75532920e-02, 1.20144069e-01],\n",
       "       [9.23909619e-02, 7.70994276e-03, 8.40705395e-01, 5.91937155e-02],\n",
       "       [2.86980093e-01, 2.08790064e-01, 9.30230618e-02, 4.11206752e-01],\n",
       "       [1.01514399e-01, 8.97208035e-01, 2.16653752e-05, 1.25583459e-03],\n",
       "       [2.86980093e-01, 2.08790064e-01, 9.30230618e-02, 4.11206752e-01],\n",
       "       [1.03878010e-04, 5.06465949e-06, 1.48868782e-03, 9.98402297e-01],\n",
       "       [8.07685375e-01, 4.37819138e-02, 1.28491996e-02, 1.35683462e-01],\n",
       "       [5.16273081e-01, 4.83725697e-01, 1.10907235e-10, 1.18657715e-06],\n",
       "       [2.47106120e-01, 1.16116006e-03, 3.54025069e-05, 7.51697302e-01],\n",
       "       [1.08296471e-02, 9.89037573e-01, 6.60604837e-06, 1.26204715e-04],\n",
       "       [8.52780566e-02, 2.93604098e-04, 1.21934876e-01, 7.92493463e-01],\n",
       "       [8.98941755e-01, 1.01026185e-01, 6.86004569e-08, 3.19957035e-05],\n",
       "       [2.86980093e-01, 2.08790064e-01, 9.30230618e-02, 4.11206752e-01],\n",
       "       [5.76911867e-01, 1.59124269e-07, 2.52616672e-07, 4.23087656e-01],\n",
       "       [2.86980093e-01, 2.08790064e-01, 9.30230618e-02, 4.11206752e-01],\n",
       "       [4.40506339e-01, 1.65911794e-01, 9.79527086e-02, 2.95629084e-01],\n",
       "       [5.74883997e-01, 3.63789916e-01, 6.08544564e-03, 5.52405976e-02],\n",
       "       [2.86980093e-01, 2.08790064e-01, 9.30230618e-02, 4.11206752e-01],\n",
       "       [9.96749043e-01, 1.68434228e-03, 1.56279290e-04, 1.41036988e-03],\n",
       "       [2.80852079e-01, 2.15561196e-01, 8.51936266e-02, 4.18393105e-01],\n",
       "       [9.99211431e-01, 6.62783766e-14, 1.87600209e-16, 7.88601406e-04],\n",
       "       [2.86980093e-01, 2.08790064e-01, 9.30230618e-02, 4.11206752e-01],\n",
       "       [9.49870795e-03, 1.31465683e-07, 1.53705923e-06, 9.90499675e-01],\n",
       "       [4.83095367e-03, 5.90288313e-04, 9.92341280e-01, 2.23750737e-03],\n",
       "       [2.86980093e-01, 2.08790064e-01, 9.30230618e-02, 4.11206752e-01],\n",
       "       [1.89962476e-01, 3.05897474e-01, 3.32332760e-01, 1.71807230e-01],\n",
       "       [1.00000000e+00, 2.28876362e-09, 3.74490836e-21, 3.06777412e-12],\n",
       "       [2.86980093e-01, 2.08790064e-01, 9.30230618e-02, 4.11206752e-01],\n",
       "       [2.86980093e-01, 2.08790064e-01, 9.30230618e-02, 4.11206752e-01],\n",
       "       [3.06477904e-01, 7.19410107e-02, 5.00361741e-01, 1.21219359e-01],\n",
       "       [9.42860663e-01, 2.89922636e-02, 2.11494695e-03, 2.60320306e-02],\n",
       "       [2.78213590e-01, 1.99217200e-01, 1.45722911e-01, 3.76846284e-01],\n",
       "       [9.69050825e-01, 2.92074159e-02, 3.91603571e-05, 1.70256756e-03],\n",
       "       [2.86980093e-01, 2.08790064e-01, 9.30230618e-02, 4.11206752e-01],\n",
       "       [9.52266055e-06, 9.99990463e-01, 1.72558856e-08, 4.66983678e-08],\n",
       "       [2.86980093e-01, 2.08790064e-01, 9.30230618e-02, 4.11206752e-01],\n",
       "       [3.16681992e-03, 2.49506906e-02, 2.57643351e-05, 9.71856654e-01],\n",
       "       [2.86782444e-01, 2.08318979e-01, 9.28987041e-02, 4.11999911e-01],\n",
       "       [6.73697472e-01, 1.11303911e-01, 4.17881645e-02, 1.73210457e-01],\n",
       "       [2.87555277e-01, 2.08524972e-01, 9.31722298e-02, 4.10747528e-01],\n",
       "       [4.42675084e-01, 2.20853850e-01, 9.40350071e-02, 2.42436096e-01],\n",
       "       [1.95914544e-02, 9.80396390e-01, 2.48557036e-10, 1.22089632e-05],\n",
       "       [4.04738784e-01, 1.54213965e-01, 2.20451593e-01, 2.20595568e-01],\n",
       "       [2.86980093e-01, 2.08790064e-01, 9.30230618e-02, 4.11206752e-01],\n",
       "       [1.02686770e-01, 8.97014022e-01, 2.47727221e-05, 2.74437276e-04],\n",
       "       [1.76046178e-01, 1.37041524e-01, 5.95391840e-02, 6.27373099e-01],\n",
       "       [2.86980093e-01, 2.08790064e-01, 9.30230618e-02, 4.11206752e-01],\n",
       "       [1.10729612e-01, 7.43737400e-01, 6.44944143e-03, 1.39083505e-01],\n",
       "       [2.86980093e-01, 2.08790064e-01, 9.30230618e-02, 4.11206752e-01],\n",
       "       [2.86980093e-01, 2.08790064e-01, 9.30230618e-02, 4.11206752e-01],\n",
       "       [2.28363171e-01, 3.36983055e-01, 1.08842954e-01, 3.25810820e-01],\n",
       "       [1.08507356e-05, 8.51466302e-06, 2.34494564e-07, 9.99980450e-01],\n",
       "       [2.86980093e-01, 2.08790064e-01, 9.30230618e-02, 4.11206752e-01],\n",
       "       [2.55188733e-01, 3.78475070e-01, 8.95453990e-02, 2.76790768e-01],\n",
       "       [2.86980093e-01, 2.08790064e-01, 9.30230618e-02, 4.11206752e-01],\n",
       "       [4.19375538e-05, 2.40593380e-07, 9.64911103e-01, 3.50467227e-02],\n",
       "       [3.49179149e-01, 1.21285290e-01, 3.47466171e-01, 1.82069361e-01],\n",
       "       [4.74174023e-02, 2.21697371e-02, 9.19045091e-01, 1.13677178e-02],\n",
       "       [5.42586967e-02, 9.45369303e-01, 2.66712732e-08, 3.71857459e-04],\n",
       "       [1.44744366e-01, 7.90217459e-01, 1.02581521e-02, 5.47799878e-02],\n",
       "       [7.84632939e-05, 9.38355171e-08, 3.19307105e-06, 9.99918222e-01],\n",
       "       [2.86980093e-01, 2.08790064e-01, 9.30230618e-02, 4.11206752e-01],\n",
       "       [2.86980093e-01, 2.08790094e-01, 9.30230618e-02, 4.11206752e-01],\n",
       "       [3.34922061e-03, 9.96354938e-01, 1.25679042e-04, 1.70208252e-04],\n",
       "       [2.86980093e-01, 2.08790064e-01, 9.30230618e-02, 4.11206752e-01],\n",
       "       [9.46276262e-03, 9.89682794e-01, 8.18547705e-05, 7.72482832e-04],\n",
       "       [2.78213590e-01, 1.99217200e-01, 1.45722926e-01, 3.76846284e-01],\n",
       "       [2.72191674e-01, 1.91121519e-01, 8.50255936e-02, 4.51661170e-01],\n",
       "       [2.86980093e-01, 2.08790064e-01, 9.30230618e-02, 4.11206752e-01],\n",
       "       [2.86980093e-01, 2.08790064e-01, 9.30230618e-02, 4.11206752e-01],\n",
       "       [2.86980093e-01, 2.08790064e-01, 9.30230618e-02, 4.11206752e-01],\n",
       "       [2.86980093e-01, 2.08790064e-01, 9.30230618e-02, 4.11206752e-01],\n",
       "       [8.57733965e-01, 3.13915126e-02, 9.34462063e-03, 1.01529896e-01],\n",
       "       [8.13945010e-03, 9.54244519e-04, 4.03221289e-04, 9.90503073e-01],\n",
       "       [2.86980093e-01, 2.08790064e-01, 9.30230618e-02, 4.11206752e-01],\n",
       "       [2.86980093e-01, 2.08790064e-01, 9.30230618e-02, 4.11206752e-01],\n",
       "       [5.59814811e-01, 4.37110364e-01, 1.52332272e-04, 2.92244321e-03],\n",
       "       [9.98613119e-01, 1.22940721e-04, 1.80148665e-04, 1.08385505e-03],\n",
       "       [9.96821880e-01, 3.04754121e-06, 3.10646016e-08, 3.17507796e-03],\n",
       "       [2.86980093e-01, 2.08790064e-01, 9.30230618e-02, 4.11206752e-01],\n",
       "       [5.41673124e-01, 3.12779814e-01, 3.98576148e-02, 1.05689466e-01],\n",
       "       [2.86980093e-01, 2.08790064e-01, 9.30230618e-02, 4.11206752e-01],\n",
       "       [1.14954054e-01, 4.17893156e-02, 4.00303066e-01, 4.42953527e-01],\n",
       "       [2.86980093e-01, 2.08790064e-01, 9.30230618e-02, 4.11206752e-01],\n",
       "       [1.70153528e-01, 5.55481791e-01, 1.06712550e-01, 1.67652100e-01],\n",
       "       [9.30391476e-02, 9.05742645e-01, 6.60670194e-05, 1.15213648e-03],\n",
       "       [9.84341800e-01, 2.55574978e-05, 1.55610669e-05, 1.56170940e-02],\n",
       "       [2.86980093e-01, 2.08790064e-01, 9.30230618e-02, 4.11206752e-01]],\n",
       "      dtype=float32)"
      ]
     },
     "execution_count": 150,
     "metadata": {},
     "output_type": "execute_result"
    }
   ],
   "source": [
    "Predeicted_test_data"
   ]
  },
  {
   "cell_type": "code",
   "execution_count": 151,
   "id": "artificial-chair",
   "metadata": {},
   "outputs": [],
   "source": [
    "predicted_values=[numpy.argmax(result) for result in Predeicted_test_data]"
   ]
  },
  {
   "cell_type": "code",
   "execution_count": null,
   "id": "eleven-monthly",
   "metadata": {},
   "outputs": [],
   "source": []
  },
  {
   "cell_type": "code",
   "execution_count": 152,
   "id": "knowing-buffer",
   "metadata": {},
   "outputs": [
    {
     "name": "stdout",
     "output_type": "stream",
     "text": [
      "0  - >  0\n",
      "1  - >  1\n",
      "0  - >  1\n",
      "1  - >  0\n",
      "1  - >  0\n",
      "3  - >  3\n",
      "3  - >  3\n",
      "0  - >  0\n",
      "3  - >  2\n",
      "3  - >  3\n",
      "1  - >  3\n",
      "0  - >  0\n",
      "3  - >  1\n",
      "1  - >  1\n",
      "1  - >  3\n",
      "3  - >  1\n",
      "3  - >  1\n",
      "3  - >  3\n",
      "0  - >  0\n",
      "3  - >  2\n",
      "0  - >  0\n",
      "1  - >  1\n",
      "3  - >  1\n",
      "3  - >  3\n",
      "3  - >  2\n",
      "3  - >  0\n",
      "3  - >  0\n",
      "0  - >  3\n",
      "3  - >  0\n",
      "3  - >  1\n",
      "3  - >  3\n",
      "3  - >  3\n",
      "0  - >  0\n",
      "2  - >  2\n",
      "3  - >  2\n",
      "1  - >  1\n",
      "3  - >  0\n",
      "3  - >  2\n",
      "0  - >  0\n",
      "0  - >  1\n",
      "3  - >  0\n",
      "1  - >  1\n",
      "3  - >  2\n",
      "0  - >  3\n",
      "3  - >  0\n",
      "0  - >  3\n",
      "3  - >  3\n",
      "0  - >  1\n",
      "0  - >  1\n",
      "3  - >  2\n",
      "0  - >  0\n",
      "3  - >  2\n",
      "0  - >  3\n",
      "3  - >  0\n",
      "3  - >  2\n",
      "2  - >  2\n",
      "3  - >  0\n",
      "2  - >  2\n",
      "0  - >  0\n",
      "3  - >  3\n",
      "3  - >  2\n",
      "2  - >  2\n",
      "0  - >  0\n",
      "3  - >  2\n",
      "0  - >  1\n",
      "3  - >  0\n",
      "1  - >  1\n",
      "3  - >  0\n",
      "3  - >  3\n",
      "3  - >  1\n",
      "0  - >  1\n",
      "3  - >  2\n",
      "0  - >  1\n",
      "1  - >  0\n",
      "0  - >  2\n",
      "3  - >  2\n",
      "1  - >  1\n",
      "3  - >  3\n",
      "3  - >  1\n",
      "1  - >  1\n",
      "3  - >  3\n",
      "3  - >  0\n",
      "1  - >  1\n",
      "3  - >  3\n",
      "3  - >  0\n",
      "1  - >  2\n",
      "3  - >  2\n",
      "2  - >  2\n",
      "0  - >  2\n",
      "2  - >  2\n",
      "1  - >  1\n",
      "1  - >  1\n",
      "3  - >  2\n",
      "3  - >  3\n",
      "3  - >  3\n",
      "1  - >  0\n",
      "3  - >  3\n",
      "1  - >  1\n",
      "3  - >  2\n",
      "3  - >  3\n",
      "3  - >  2\n",
      "3  - >  3\n",
      "3  - >  3\n",
      "3  - >  2\n",
      "0  - >  1\n",
      "3  - >  3\n",
      "3  - >  1\n",
      "3  - >  3\n",
      "0  - >  3\n",
      "0  - >  3\n",
      "0  - >  0\n",
      "3  - >  0\n",
      "0  - >  0\n",
      "3  - >  2\n",
      "3  - >  2\n",
      "3  - >  3\n",
      "1  - >  1\n",
      "1  - >  1\n",
      "0  - >  0\n",
      "3  - >  2\n"
     ]
    }
   ],
   "source": [
    "for i in range(len(predicted_values)):\n",
    "    print(predicted_values[i],\" - > \",Testing_Labels[i])"
   ]
  },
  {
   "cell_type": "code",
   "execution_count": 153,
   "id": "coordinate-macintosh",
   "metadata": {},
   "outputs": [],
   "source": [
    "pyplot.figure('Confusion Matrix')\n",
    "confusion_matrix_data=confusion_matrix(predicted_values,Testing_Labels)"
   ]
  },
  {
   "cell_type": "code",
   "execution_count": 154,
   "id": "productive-occurrence",
   "metadata": {},
   "outputs": [
    {
     "data": {
      "text/plain": [
       "array([[13,  8,  2,  6],\n",
       "       [ 4, 14,  1,  2],\n",
       "       [ 0,  0,  6,  0],\n",
       "       [13,  8, 21, 22]], dtype=int64)"
      ]
     },
     "execution_count": 154,
     "metadata": {},
     "output_type": "execute_result"
    }
   ],
   "source": [
    "confusion_matrix_data"
   ]
  },
  {
   "cell_type": "code",
   "execution_count": 155,
   "id": "adjacent-therapy",
   "metadata": {},
   "outputs": [
    {
     "data": {
      "text/plain": [
       "<AxesSubplot:>"
      ]
     },
     "execution_count": 155,
     "metadata": {},
     "output_type": "execute_result"
    }
   ],
   "source": [
    "# seaborn.heatmap(confusion_matrix_data,annot=True,xticklabels=classes_list,yticklabels=classes_list)\n",
    "seaborn.heatmap(confusion_matrix_data,annot=True)"
   ]
  },
  {
   "cell_type": "code",
   "execution_count": 156,
   "id": "broke-dodge",
   "metadata": {},
   "outputs": [
    {
     "name": "stdout",
     "output_type": "stream",
     "text": [
      "0 -->  Chicken pox\n",
      "1 -->  Facial acne\n",
      "2 -->  Melanoma\n",
      "3 -->  Ringworm\n"
     ]
    }
   ],
   "source": [
    "printClassList()"
   ]
  },
  {
   "cell_type": "code",
   "execution_count": 157,
   "id": "wrapped-repair",
   "metadata": {},
   "outputs": [],
   "source": [
    "classification_report_data=classification_report(predicted_values,Testing_Labels,target_names=classes_list)"
   ]
  },
  {
   "cell_type": "code",
   "execution_count": 158,
   "id": "strategic-courage",
   "metadata": {},
   "outputs": [
    {
     "name": "stdout",
     "output_type": "stream",
     "text": [
      "              precision    recall  f1-score   support\n",
      "\n",
      " Chicken pox       0.43      0.45      0.44        29\n",
      " Facial acne       0.47      0.67      0.55        21\n",
      "    Melanoma       0.20      1.00      0.33         6\n",
      "    Ringworm       0.73      0.34      0.47        64\n",
      "\n",
      "    accuracy                           0.46       120\n",
      "   macro avg       0.46      0.61      0.45       120\n",
      "weighted avg       0.59      0.46      0.47       120\n",
      "\n"
     ]
    }
   ],
   "source": [
    "print(classification_report_data)"
   ]
  },
  {
   "cell_type": "code",
   "execution_count": null,
   "id": "incoming-citizenship",
   "metadata": {},
   "outputs": [],
   "source": []
  },
  {
   "cell_type": "code",
   "execution_count": null,
   "id": "intermediate-village",
   "metadata": {},
   "outputs": [],
   "source": []
  }
 ],
 "metadata": {
  "kernelspec": {
   "display_name": "Python 3",
   "language": "python",
   "name": "python3"
  },
  "language_info": {
   "codemirror_mode": {
    "name": "ipython",
    "version": 3
   },
   "file_extension": ".py",
   "mimetype": "text/x-python",
   "name": "python",
   "nbconvert_exporter": "python",
   "pygments_lexer": "ipython3",
   "version": "3.9.2"
  }
 },
 "nbformat": 4,
 "nbformat_minor": 5
}
