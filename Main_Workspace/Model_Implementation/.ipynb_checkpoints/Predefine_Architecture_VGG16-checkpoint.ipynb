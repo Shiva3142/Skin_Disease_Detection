{
 "cells": [
  {
   "cell_type": "code",
   "execution_count": 44,
   "id": "consistent-homework",
   "metadata": {},
   "outputs": [],
   "source": [
    "import tensorflow\n",
    "from tensorflow import keras\n",
    "from keras.layers import Input,Lambda,Dense,Flatten\n",
    "from keras.models import Model\n",
    "from keras.applications.vgg16 import VGG16,preprocess_input\n",
    "from keras.preprocessing import image\n",
    "from keras.preprocessing.image import ImageDataGenerator\n",
    "from keras.models import Sequential\n",
    "import numpy\n",
    "from glob import glob\n",
    "import matplotlib.pyplot as pyplot\n"
   ]
  },
  {
   "cell_type": "code",
   "execution_count": 71,
   "id": "built-penalty",
   "metadata": {},
   "outputs": [],
   "source": [
    "IMAGE_SIZE=[224,224]\n",
    "training_path='C:\\\\Users\\\\Pankaj singh\\\\OneDrive\\\\Desktop\\\\Python Development\\\\Temporary\\\\Artificial intelligence\\\\Skin_Disease_Detection\\\\Main_Workspace\\\\Data\\\\train'\n",
    "testing_path='C:\\\\Users\\\\Pankaj singh\\\\OneDrive\\\\Desktop\\\\Python Development\\\\Temporary\\\\Artificial intelligence\\\\Skin_Disease_Detection\\\\Main_Workspace\\\\Data\\\\test'"
   ]
  },
  {
   "cell_type": "code",
   "execution_count": 6,
   "id": "moved-tucson",
   "metadata": {},
   "outputs": [],
   "source": [
    "VGG16_Architecture=VGG16(input_shape=IMAGE_SIZE+[3],weights='imagenet',include_top=False)"
   ]
  },
  {
   "cell_type": "code",
   "execution_count": 8,
   "id": "rotary-savannah",
   "metadata": {},
   "outputs": [
    {
     "name": "stdout",
     "output_type": "stream",
     "text": [
      "Model: \"vgg16\"\n",
      "_________________________________________________________________\n",
      "Layer (type)                 Output Shape              Param #   \n",
      "=================================================================\n",
      "input_1 (InputLayer)         [(None, 224, 224, 3)]     0         \n",
      "_________________________________________________________________\n",
      "block1_conv1 (Conv2D)        (None, 224, 224, 64)      1792      \n",
      "_________________________________________________________________\n",
      "block1_conv2 (Conv2D)        (None, 224, 224, 64)      36928     \n",
      "_________________________________________________________________\n",
      "block1_pool (MaxPooling2D)   (None, 112, 112, 64)      0         \n",
      "_________________________________________________________________\n",
      "block2_conv1 (Conv2D)        (None, 112, 112, 128)     73856     \n",
      "_________________________________________________________________\n",
      "block2_conv2 (Conv2D)        (None, 112, 112, 128)     147584    \n",
      "_________________________________________________________________\n",
      "block2_pool (MaxPooling2D)   (None, 56, 56, 128)       0         \n",
      "_________________________________________________________________\n",
      "block3_conv1 (Conv2D)        (None, 56, 56, 256)       295168    \n",
      "_________________________________________________________________\n",
      "block3_conv2 (Conv2D)        (None, 56, 56, 256)       590080    \n",
      "_________________________________________________________________\n",
      "block3_conv3 (Conv2D)        (None, 56, 56, 256)       590080    \n",
      "_________________________________________________________________\n",
      "block3_pool (MaxPooling2D)   (None, 28, 28, 256)       0         \n",
      "_________________________________________________________________\n",
      "block4_conv1 (Conv2D)        (None, 28, 28, 512)       1180160   \n",
      "_________________________________________________________________\n",
      "block4_conv2 (Conv2D)        (None, 28, 28, 512)       2359808   \n",
      "_________________________________________________________________\n",
      "block4_conv3 (Conv2D)        (None, 28, 28, 512)       2359808   \n",
      "_________________________________________________________________\n",
      "block4_pool (MaxPooling2D)   (None, 14, 14, 512)       0         \n",
      "_________________________________________________________________\n",
      "block5_conv1 (Conv2D)        (None, 14, 14, 512)       2359808   \n",
      "_________________________________________________________________\n",
      "block5_conv2 (Conv2D)        (None, 14, 14, 512)       2359808   \n",
      "_________________________________________________________________\n",
      "block5_conv3 (Conv2D)        (None, 14, 14, 512)       2359808   \n",
      "_________________________________________________________________\n",
      "block5_pool (MaxPooling2D)   (None, 7, 7, 512)         0         \n",
      "=================================================================\n",
      "Total params: 14,714,688\n",
      "Trainable params: 14,714,688\n",
      "Non-trainable params: 0\n",
      "_________________________________________________________________\n"
     ]
    }
   ],
   "source": [
    "VGG16_Architecture.summary()"
   ]
  },
  {
   "cell_type": "code",
   "execution_count": 12,
   "id": "genetic-blair",
   "metadata": {},
   "outputs": [
    {
     "name": "stdout",
     "output_type": "stream",
     "text": [
      "<keras.engine.input_layer.InputLayer object at 0x00000174AA73D100>\n",
      "<keras.layers.convolutional.Conv2D object at 0x00000174AC465C70>\n",
      "<keras.layers.convolutional.Conv2D object at 0x00000174D283EF10>\n",
      "<keras.layers.pooling.MaxPooling2D object at 0x00000174AC434400>\n",
      "<keras.layers.convolutional.Conv2D object at 0x00000174AC3A0640>\n",
      "<keras.layers.convolutional.Conv2D object at 0x00000174AC39BA90>\n",
      "<keras.layers.pooling.MaxPooling2D object at 0x00000174AC397B20>\n",
      "<keras.layers.convolutional.Conv2D object at 0x00000174ABA70D90>\n",
      "<keras.layers.convolutional.Conv2D object at 0x00000174AC3971C0>\n",
      "<keras.layers.convolutional.Conv2D object at 0x00000174AC45D460>\n",
      "<keras.layers.pooling.MaxPooling2D object at 0x00000174AC469A00>\n",
      "<keras.layers.convolutional.Conv2D object at 0x00000174AC469760>\n",
      "<keras.layers.convolutional.Conv2D object at 0x00000174AC38AB50>\n",
      "<keras.layers.convolutional.Conv2D object at 0x00000174AB892160>\n",
      "<keras.layers.pooling.MaxPooling2D object at 0x00000174AC1FBEE0>\n",
      "<keras.layers.convolutional.Conv2D object at 0x00000174AA839130>\n",
      "<keras.layers.convolutional.Conv2D object at 0x00000174AA2288B0>\n",
      "<keras.layers.convolutional.Conv2D object at 0x00000174A9D84820>\n",
      "<keras.layers.pooling.MaxPooling2D object at 0x00000174AC1FB130>\n"
     ]
    }
   ],
   "source": [
    "for layer in VGG16_Architecture.layers:\n",
    "    print(layer)\n",
    "    layer.trainable=False"
   ]
  },
  {
   "cell_type": "code",
   "execution_count": 51,
   "id": "sublime-subscriber",
   "metadata": {},
   "outputs": [
    {
     "data": {
      "text/plain": [
       "['C:\\\\Users\\\\Pankaj singh\\\\OneDrive\\\\Desktop\\\\Python Development\\\\Temporary\\\\Artificial intelligence\\\\Skin_Disease_Detection\\\\Main_Workspace\\\\Data\\\\train\\\\Acne and Rosacea Photos',\n",
       " 'C:\\\\Users\\\\Pankaj singh\\\\OneDrive\\\\Desktop\\\\Python Development\\\\Temporary\\\\Artificial intelligence\\\\Skin_Disease_Detection\\\\Main_Workspace\\\\Data\\\\train\\\\Actinic Keratosis Basal Cell Carcinoma and other Malignant Lesions',\n",
       " 'C:\\\\Users\\\\Pankaj singh\\\\OneDrive\\\\Desktop\\\\Python Development\\\\Temporary\\\\Artificial intelligence\\\\Skin_Disease_Detection\\\\Main_Workspace\\\\Data\\\\train\\\\Atopic Dermatitis Photos',\n",
       " 'C:\\\\Users\\\\Pankaj singh\\\\OneDrive\\\\Desktop\\\\Python Development\\\\Temporary\\\\Artificial intelligence\\\\Skin_Disease_Detection\\\\Main_Workspace\\\\Data\\\\train\\\\Bullous Disease Photos',\n",
       " 'C:\\\\Users\\\\Pankaj singh\\\\OneDrive\\\\Desktop\\\\Python Development\\\\Temporary\\\\Artificial intelligence\\\\Skin_Disease_Detection\\\\Main_Workspace\\\\Data\\\\train\\\\Cellulitis Impetigo and other Bacterial Infections',\n",
       " 'C:\\\\Users\\\\Pankaj singh\\\\OneDrive\\\\Desktop\\\\Python Development\\\\Temporary\\\\Artificial intelligence\\\\Skin_Disease_Detection\\\\Main_Workspace\\\\Data\\\\train\\\\Eczema Photos',\n",
       " 'C:\\\\Users\\\\Pankaj singh\\\\OneDrive\\\\Desktop\\\\Python Development\\\\Temporary\\\\Artificial intelligence\\\\Skin_Disease_Detection\\\\Main_Workspace\\\\Data\\\\train\\\\Exanthems and Drug Eruptions',\n",
       " 'C:\\\\Users\\\\Pankaj singh\\\\OneDrive\\\\Desktop\\\\Python Development\\\\Temporary\\\\Artificial intelligence\\\\Skin_Disease_Detection\\\\Main_Workspace\\\\Data\\\\train\\\\Hair Loss Photos Alopecia and other Hair Diseases',\n",
       " 'C:\\\\Users\\\\Pankaj singh\\\\OneDrive\\\\Desktop\\\\Python Development\\\\Temporary\\\\Artificial intelligence\\\\Skin_Disease_Detection\\\\Main_Workspace\\\\Data\\\\train\\\\Herpes HPV and other STDs Photos',\n",
       " 'C:\\\\Users\\\\Pankaj singh\\\\OneDrive\\\\Desktop\\\\Python Development\\\\Temporary\\\\Artificial intelligence\\\\Skin_Disease_Detection\\\\Main_Workspace\\\\Data\\\\train\\\\Light Diseases and Disorders of Pigmentation',\n",
       " 'C:\\\\Users\\\\Pankaj singh\\\\OneDrive\\\\Desktop\\\\Python Development\\\\Temporary\\\\Artificial intelligence\\\\Skin_Disease_Detection\\\\Main_Workspace\\\\Data\\\\train\\\\Lupus and other Connective Tissue diseases',\n",
       " 'C:\\\\Users\\\\Pankaj singh\\\\OneDrive\\\\Desktop\\\\Python Development\\\\Temporary\\\\Artificial intelligence\\\\Skin_Disease_Detection\\\\Main_Workspace\\\\Data\\\\train\\\\Melanoma Skin Cancer Nevi and Moles',\n",
       " 'C:\\\\Users\\\\Pankaj singh\\\\OneDrive\\\\Desktop\\\\Python Development\\\\Temporary\\\\Artificial intelligence\\\\Skin_Disease_Detection\\\\Main_Workspace\\\\Data\\\\train\\\\Nail Fungus and other Nail Disease',\n",
       " 'C:\\\\Users\\\\Pankaj singh\\\\OneDrive\\\\Desktop\\\\Python Development\\\\Temporary\\\\Artificial intelligence\\\\Skin_Disease_Detection\\\\Main_Workspace\\\\Data\\\\train\\\\Poison Ivy Photos and other Contact Dermatitis',\n",
       " 'C:\\\\Users\\\\Pankaj singh\\\\OneDrive\\\\Desktop\\\\Python Development\\\\Temporary\\\\Artificial intelligence\\\\Skin_Disease_Detection\\\\Main_Workspace\\\\Data\\\\train\\\\Psoriasis pictures Lichen Planus and related diseases',\n",
       " 'C:\\\\Users\\\\Pankaj singh\\\\OneDrive\\\\Desktop\\\\Python Development\\\\Temporary\\\\Artificial intelligence\\\\Skin_Disease_Detection\\\\Main_Workspace\\\\Data\\\\train\\\\Scabies Lyme Disease and other Infestations and Bites',\n",
       " 'C:\\\\Users\\\\Pankaj singh\\\\OneDrive\\\\Desktop\\\\Python Development\\\\Temporary\\\\Artificial intelligence\\\\Skin_Disease_Detection\\\\Main_Workspace\\\\Data\\\\train\\\\Seborrheic Keratoses and other Benign Tumors',\n",
       " 'C:\\\\Users\\\\Pankaj singh\\\\OneDrive\\\\Desktop\\\\Python Development\\\\Temporary\\\\Artificial intelligence\\\\Skin_Disease_Detection\\\\Main_Workspace\\\\Data\\\\train\\\\Systemic Disease',\n",
       " 'C:\\\\Users\\\\Pankaj singh\\\\OneDrive\\\\Desktop\\\\Python Development\\\\Temporary\\\\Artificial intelligence\\\\Skin_Disease_Detection\\\\Main_Workspace\\\\Data\\\\train\\\\Tinea Ringworm Candidiasis and other Fungal Infections',\n",
       " 'C:\\\\Users\\\\Pankaj singh\\\\OneDrive\\\\Desktop\\\\Python Development\\\\Temporary\\\\Artificial intelligence\\\\Skin_Disease_Detection\\\\Main_Workspace\\\\Data\\\\train\\\\Urticaria Hives',\n",
       " 'C:\\\\Users\\\\Pankaj singh\\\\OneDrive\\\\Desktop\\\\Python Development\\\\Temporary\\\\Artificial intelligence\\\\Skin_Disease_Detection\\\\Main_Workspace\\\\Data\\\\train\\\\Vascular Tumors',\n",
       " 'C:\\\\Users\\\\Pankaj singh\\\\OneDrive\\\\Desktop\\\\Python Development\\\\Temporary\\\\Artificial intelligence\\\\Skin_Disease_Detection\\\\Main_Workspace\\\\Data\\\\train\\\\Vasculitis Photos',\n",
       " 'C:\\\\Users\\\\Pankaj singh\\\\OneDrive\\\\Desktop\\\\Python Development\\\\Temporary\\\\Artificial intelligence\\\\Skin_Disease_Detection\\\\Main_Workspace\\\\Data\\\\train\\\\Warts Molluscum and other Viral Infections']"
      ]
     },
     "execution_count": 51,
     "metadata": {},
     "output_type": "execute_result"
    }
   ],
   "source": [
    "folders=glob('C:\\\\Users\\\\Pankaj singh\\\\OneDrive\\\\Desktop\\\\Python Development\\\\Temporary\\\\Artificial intelligence\\\\Skin_Disease_Detection\\\\Main_Workspace\\\\Data\\\\train\\*')\n",
    "folders"
   ]
  },
  {
   "cell_type": "code",
   "execution_count": 52,
   "id": "express-county",
   "metadata": {},
   "outputs": [],
   "source": [
    "x=Flatten()(VGG16_Architecture.output)"
   ]
  },
  {
   "cell_type": "code",
   "execution_count": 53,
   "id": "allied-validity",
   "metadata": {},
   "outputs": [
    {
     "data": {
      "text/plain": [
       "<KerasTensor: shape=(None, 25088) dtype=float32 (created by layer 'flatten_1')>"
      ]
     },
     "execution_count": 53,
     "metadata": {},
     "output_type": "execute_result"
    }
   ],
   "source": [
    "x"
   ]
  },
  {
   "cell_type": "code",
   "execution_count": 54,
   "id": "brazilian-distance",
   "metadata": {},
   "outputs": [],
   "source": [
    "prediction=Dense(len(folders),activation='softmax')(x)"
   ]
  },
  {
   "cell_type": "code",
   "execution_count": 55,
   "id": "unnecessary-dispute",
   "metadata": {},
   "outputs": [
    {
     "data": {
      "text/plain": [
       "<KerasTensor: shape=(None, 23) dtype=float32 (created by layer 'dense_1')>"
      ]
     },
     "execution_count": 55,
     "metadata": {},
     "output_type": "execute_result"
    }
   ],
   "source": [
    "prediction"
   ]
  },
  {
   "cell_type": "code",
   "execution_count": 56,
   "id": "unlimited-kruger",
   "metadata": {},
   "outputs": [],
   "source": [
    "model=Model(inputs=VGG16_Architecture.input,outputs=prediction)"
   ]
  },
  {
   "cell_type": "code",
   "execution_count": 57,
   "id": "viral-chassis",
   "metadata": {},
   "outputs": [
    {
     "name": "stdout",
     "output_type": "stream",
     "text": [
      "Model: \"model_1\"\n",
      "_________________________________________________________________\n",
      "Layer (type)                 Output Shape              Param #   \n",
      "=================================================================\n",
      "input_1 (InputLayer)         [(None, 224, 224, 3)]     0         \n",
      "_________________________________________________________________\n",
      "block1_conv1 (Conv2D)        (None, 224, 224, 64)      1792      \n",
      "_________________________________________________________________\n",
      "block1_conv2 (Conv2D)        (None, 224, 224, 64)      36928     \n",
      "_________________________________________________________________\n",
      "block1_pool (MaxPooling2D)   (None, 112, 112, 64)      0         \n",
      "_________________________________________________________________\n",
      "block2_conv1 (Conv2D)        (None, 112, 112, 128)     73856     \n",
      "_________________________________________________________________\n",
      "block2_conv2 (Conv2D)        (None, 112, 112, 128)     147584    \n",
      "_________________________________________________________________\n",
      "block2_pool (MaxPooling2D)   (None, 56, 56, 128)       0         \n",
      "_________________________________________________________________\n",
      "block3_conv1 (Conv2D)        (None, 56, 56, 256)       295168    \n",
      "_________________________________________________________________\n",
      "block3_conv2 (Conv2D)        (None, 56, 56, 256)       590080    \n",
      "_________________________________________________________________\n",
      "block3_conv3 (Conv2D)        (None, 56, 56, 256)       590080    \n",
      "_________________________________________________________________\n",
      "block3_pool (MaxPooling2D)   (None, 28, 28, 256)       0         \n",
      "_________________________________________________________________\n",
      "block4_conv1 (Conv2D)        (None, 28, 28, 512)       1180160   \n",
      "_________________________________________________________________\n",
      "block4_conv2 (Conv2D)        (None, 28, 28, 512)       2359808   \n",
      "_________________________________________________________________\n",
      "block4_conv3 (Conv2D)        (None, 28, 28, 512)       2359808   \n",
      "_________________________________________________________________\n",
      "block4_pool (MaxPooling2D)   (None, 14, 14, 512)       0         \n",
      "_________________________________________________________________\n",
      "block5_conv1 (Conv2D)        (None, 14, 14, 512)       2359808   \n",
      "_________________________________________________________________\n",
      "block5_conv2 (Conv2D)        (None, 14, 14, 512)       2359808   \n",
      "_________________________________________________________________\n",
      "block5_conv3 (Conv2D)        (None, 14, 14, 512)       2359808   \n",
      "_________________________________________________________________\n",
      "block5_pool (MaxPooling2D)   (None, 7, 7, 512)         0         \n",
      "_________________________________________________________________\n",
      "flatten_1 (Flatten)          (None, 25088)             0         \n",
      "_________________________________________________________________\n",
      "dense_1 (Dense)              (None, 23)                577047    \n",
      "=================================================================\n",
      "Total params: 15,291,735\n",
      "Trainable params: 577,047\n",
      "Non-trainable params: 14,714,688\n",
      "_________________________________________________________________\n"
     ]
    }
   ],
   "source": [
    "model.summary()"
   ]
  },
  {
   "cell_type": "code",
   "execution_count": 58,
   "id": "peripheral-transcription",
   "metadata": {},
   "outputs": [],
   "source": [
    "model.compile(\n",
    "    loss='categorical_crossentropy',\n",
    "    optimizer='adam',\n",
    "    metrics=['accuracy']\n",
    ")"
   ]
  },
  {
   "cell_type": "code",
   "execution_count": null,
   "id": "recorded-exercise",
   "metadata": {},
   "outputs": [],
   "source": []
  },
  {
   "cell_type": "code",
   "execution_count": 59,
   "id": "automotive-jurisdiction",
   "metadata": {},
   "outputs": [],
   "source": [
    "train_data_generator=ImageDataGenerator(rescale=1./255,shear_range=0.2,zoom_range=0.2,horizontal_flip=True)"
   ]
  },
  {
   "cell_type": "code",
   "execution_count": 60,
   "id": "recognized-chemical",
   "metadata": {},
   "outputs": [
    {
     "data": {
      "text/plain": [
       "<keras.preprocessing.image.ImageDataGenerator at 0x174b242adc0>"
      ]
     },
     "execution_count": 60,
     "metadata": {},
     "output_type": "execute_result"
    }
   ],
   "source": [
    "train_data_generator"
   ]
  },
  {
   "cell_type": "code",
   "execution_count": 61,
   "id": "speaking-headline",
   "metadata": {},
   "outputs": [],
   "source": [
    "test_data_generator=ImageDataGenerator(rescale=1./255)"
   ]
  },
  {
   "cell_type": "code",
   "execution_count": 69,
   "id": "frank-spotlight",
   "metadata": {},
   "outputs": [
    {
     "name": "stdout",
     "output_type": "stream",
     "text": [
      "Found 15557 images belonging to 23 classes.\n"
     ]
    }
   ],
   "source": [
    "training_set=train_data_generator.flow_from_directory(training_path,target_size=IMAGE_SIZE,batch_size=32,class_mode='categorical')"
   ]
  },
  {
   "cell_type": "code",
   "execution_count": 72,
   "id": "written-keyboard",
   "metadata": {},
   "outputs": [
    {
     "name": "stdout",
     "output_type": "stream",
     "text": [
      "Found 4002 images belonging to 23 classes.\n"
     ]
    }
   ],
   "source": [
    "testing_set=test_data_generator.flow_from_directory(testing_path,target_size=IMAGE_SIZE,batch_size=32,class_mode='categorical')"
   ]
  },
  {
   "cell_type": "code",
   "execution_count": 73,
   "id": "occupied-banking",
   "metadata": {},
   "outputs": [
    {
     "data": {
      "text/plain": [
       "array([ 0,  0,  0, ..., 22, 22, 22])"
      ]
     },
     "execution_count": 73,
     "metadata": {},
     "output_type": "execute_result"
    }
   ],
   "source": [
    "training_set.labels"
   ]
  },
  {
   "cell_type": "code",
   "execution_count": 74,
   "id": "fatty-happening",
   "metadata": {},
   "outputs": [
    {
     "data": {
      "text/plain": [
       "487"
      ]
     },
     "execution_count": 74,
     "metadata": {},
     "output_type": "execute_result"
    }
   ],
   "source": [
    "len(training_set)"
   ]
  },
  {
   "cell_type": "code",
   "execution_count": 75,
   "id": "flying-throat",
   "metadata": {},
   "outputs": [
    {
     "data": {
      "text/plain": [
       "126"
      ]
     },
     "execution_count": 75,
     "metadata": {},
     "output_type": "execute_result"
    }
   ],
   "source": [
    "len(testing_set)"
   ]
  },
  {
   "cell_type": "code",
   "execution_count": null,
   "id": "acting-transparency",
   "metadata": {},
   "outputs": [
    {
     "name": "stdout",
     "output_type": "stream",
     "text": [
      "487/487 [==============================] - ETA: 0s - loss: 2.9878 - accuracy: 0.2173"
     ]
    }
   ],
   "source": [
    "model.fit_generator(\n",
    "    training_set,\n",
    "    validation_data=testing_set,\n",
    "    epochs=1,\n",
    "    steps_per_epoch=len(training_set),\n",
    "    validation_steps=len(testing_set)\n",
    ")"
   ]
  },
  {
   "cell_type": "code",
   "execution_count": null,
   "id": "surface-meeting",
   "metadata": {},
   "outputs": [],
   "source": [
    "model.save(\"Predefine_Architecture_VGG16_Model.h5\")"
   ]
  },
  {
   "cell_type": "code",
   "execution_count": null,
   "id": "alone-wheat",
   "metadata": {},
   "outputs": [],
   "source": []
  }
 ],
 "metadata": {
  "kernelspec": {
   "display_name": "Python 3",
   "language": "python",
   "name": "python3"
  },
  "language_info": {
   "codemirror_mode": {
    "name": "ipython",
    "version": 3
   },
   "file_extension": ".py",
   "mimetype": "text/x-python",
   "name": "python",
   "nbconvert_exporter": "python",
   "pygments_lexer": "ipython3",
   "version": "3.9.2"
  }
 },
 "nbformat": 4,
 "nbformat_minor": 5
}
