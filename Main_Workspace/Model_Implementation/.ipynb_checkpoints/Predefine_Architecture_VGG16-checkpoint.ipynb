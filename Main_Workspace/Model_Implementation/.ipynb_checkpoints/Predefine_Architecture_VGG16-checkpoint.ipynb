{
 "cells": [
  {
   "cell_type": "code",
   "execution_count": 1,
   "id": "collectible-beatles",
   "metadata": {},
   "outputs": [],
   "source": [
    "import tensorflow\n",
    "from tensorflow import keras\n",
    "from keras.layers import Input,Lambda,Dense,Flatten\n",
    "from keras.models import Model\n",
    "from keras.applications.vgg16 import VGG16,preprocess_input\n",
    "from keras.preprocessing import image\n",
    "from keras.preprocessing.image import ImageDataGenerator\n",
    "from keras.models import Sequential\n",
    "import numpy\n",
    "from glob import glob\n",
    "import matplotlib.pyplot as pyplot\n",
    "from keras.models import load_model\n",
    "from sklearn.metrics import confusion_matrix,classification_report\n",
    "import seaborn\n",
    "%matplotlib qt"
   ]
  },
  {
   "cell_type": "code",
   "execution_count": 2,
   "id": "grateful-blood",
   "metadata": {},
   "outputs": [
    {
     "name": "stdout",
     "output_type": "stream",
     "text": [
      "0 -->  Facial acne\n",
      "1 -->  Melanoma\n",
      "2 -->  Psoriasis\n",
      "3 -->  Ringworm\n",
      "4 -->  Skin Burn\n"
     ]
    }
   ],
   "source": [
    "classes_list=['Facial acne', 'Melanoma', 'Psoriasis', 'Ringworm', 'Skin Burn']\n",
    "def printClassList():\n",
    "    for class_name in classes_list:\n",
    "        print(f\"{classes_list.index(class_name)} -->  {class_name}\")\n",
    "printClassList()   \n",
    "def getClassvalue(index):\n",
    "    print(classes_list[index])"
   ]
  },
  {
   "cell_type": "code",
   "execution_count": 3,
   "id": "strategic-prison",
   "metadata": {},
   "outputs": [],
   "source": [
    "IMAGE_SIZE=[180,180]\n",
    "training_path='C:\\\\Users\\\\Pankaj singh\\\\OneDrive\\\\Desktop\\\\Python Development\\\\Projects\\\\Skin_Disease_Detection\\\\Main_Workspace\\\\Data\\\\train'\n",
    "testing_path='C:\\\\Users\\\\Pankaj singh\\\\OneDrive\\\\Desktop\\\\Python Development\\\\Projects\\\\Skin_Disease_Detection\\\\Main_Workspace\\\\Data\\\\test'"
   ]
  },
  {
   "cell_type": "code",
   "execution_count": 4,
   "id": "characteristic-window",
   "metadata": {},
   "outputs": [],
   "source": [
    "VGG16_Architecture=VGG16(input_shape=IMAGE_SIZE+[3],weights='imagenet',include_top=False)"
   ]
  },
  {
   "cell_type": "code",
   "execution_count": 5,
   "id": "cardiovascular-funds",
   "metadata": {},
   "outputs": [
    {
     "name": "stdout",
     "output_type": "stream",
     "text": [
      "Model: \"vgg16\"\n",
      "_________________________________________________________________\n",
      "Layer (type)                 Output Shape              Param #   \n",
      "=================================================================\n",
      "input_1 (InputLayer)         [(None, 180, 180, 3)]     0         \n",
      "_________________________________________________________________\n",
      "block1_conv1 (Conv2D)        (None, 180, 180, 64)      1792      \n",
      "_________________________________________________________________\n",
      "block1_conv2 (Conv2D)        (None, 180, 180, 64)      36928     \n",
      "_________________________________________________________________\n",
      "block1_pool (MaxPooling2D)   (None, 90, 90, 64)        0         \n",
      "_________________________________________________________________\n",
      "block2_conv1 (Conv2D)        (None, 90, 90, 128)       73856     \n",
      "_________________________________________________________________\n",
      "block2_conv2 (Conv2D)        (None, 90, 90, 128)       147584    \n",
      "_________________________________________________________________\n",
      "block2_pool (MaxPooling2D)   (None, 45, 45, 128)       0         \n",
      "_________________________________________________________________\n",
      "block3_conv1 (Conv2D)        (None, 45, 45, 256)       295168    \n",
      "_________________________________________________________________\n",
      "block3_conv2 (Conv2D)        (None, 45, 45, 256)       590080    \n",
      "_________________________________________________________________\n",
      "block3_conv3 (Conv2D)        (None, 45, 45, 256)       590080    \n",
      "_________________________________________________________________\n",
      "block3_pool (MaxPooling2D)   (None, 22, 22, 256)       0         \n",
      "_________________________________________________________________\n",
      "block4_conv1 (Conv2D)        (None, 22, 22, 512)       1180160   \n",
      "_________________________________________________________________\n",
      "block4_conv2 (Conv2D)        (None, 22, 22, 512)       2359808   \n",
      "_________________________________________________________________\n",
      "block4_conv3 (Conv2D)        (None, 22, 22, 512)       2359808   \n",
      "_________________________________________________________________\n",
      "block4_pool (MaxPooling2D)   (None, 11, 11, 512)       0         \n",
      "_________________________________________________________________\n",
      "block5_conv1 (Conv2D)        (None, 11, 11, 512)       2359808   \n",
      "_________________________________________________________________\n",
      "block5_conv2 (Conv2D)        (None, 11, 11, 512)       2359808   \n",
      "_________________________________________________________________\n",
      "block5_conv3 (Conv2D)        (None, 11, 11, 512)       2359808   \n",
      "_________________________________________________________________\n",
      "block5_pool (MaxPooling2D)   (None, 5, 5, 512)         0         \n",
      "=================================================================\n",
      "Total params: 14,714,688\n",
      "Trainable params: 14,714,688\n",
      "Non-trainable params: 0\n",
      "_________________________________________________________________\n"
     ]
    }
   ],
   "source": [
    "VGG16_Architecture.summary()"
   ]
  },
  {
   "cell_type": "code",
   "execution_count": 6,
   "id": "understanding-copyright",
   "metadata": {},
   "outputs": [
    {
     "name": "stdout",
     "output_type": "stream",
     "text": [
      "<keras.engine.input_layer.InputLayer object at 0x0000013CB1F53FD0>\n",
      "<keras.layers.convolutional.Conv2D object at 0x0000013C8C5ED520>\n",
      "<keras.layers.convolutional.Conv2D object at 0x0000013C8C5EDB20>\n",
      "<keras.layers.pooling.MaxPooling2D object at 0x0000013C8C6C0370>\n",
      "<keras.layers.convolutional.Conv2D object at 0x0000013C8C67CBB0>\n",
      "<keras.layers.convolutional.Conv2D object at 0x0000013C8C6C5880>\n",
      "<keras.layers.pooling.MaxPooling2D object at 0x0000013C8C6CE400>\n",
      "<keras.layers.convolutional.Conv2D object at 0x0000013C8C6CEA60>\n",
      "<keras.layers.convolutional.Conv2D object at 0x0000013C8C6D6C10>\n",
      "<keras.layers.convolutional.Conv2D object at 0x0000013C8C6E1670>\n",
      "<keras.layers.pooling.MaxPooling2D object at 0x0000013C8C6D6B50>\n",
      "<keras.layers.convolutional.Conv2D object at 0x0000013C8C6DA4F0>\n",
      "<keras.layers.convolutional.Conv2D object at 0x0000013C8C6EC2E0>\n",
      "<keras.layers.convolutional.Conv2D object at 0x0000013C8C6ECEE0>\n",
      "<keras.layers.pooling.MaxPooling2D object at 0x0000013C8C6F0970>\n",
      "<keras.layers.convolutional.Conv2D object at 0x0000013C8C6E79D0>\n",
      "<keras.layers.convolutional.Conv2D object at 0x0000013C8C6FB220>\n",
      "<keras.layers.convolutional.Conv2D object at 0x0000013C8C6F6DF0>\n",
      "<keras.layers.pooling.MaxPooling2D object at 0x0000013C8C6FF3A0>\n"
     ]
    }
   ],
   "source": [
    "for layer in VGG16_Architecture.layers:\n",
    "    print(layer)\n",
    "    layer.trainable=False"
   ]
  },
  {
   "cell_type": "code",
   "execution_count": 7,
   "id": "coupled-shark",
   "metadata": {},
   "outputs": [
    {
     "data": {
      "text/plain": [
       "['C:\\\\Users\\\\Pankaj singh\\\\OneDrive\\\\Desktop\\\\Python Development\\\\Projects\\\\Skin_Disease_Detection\\\\Main_Workspace\\\\Data\\\\train\\\\Facial acne',\n",
       " 'C:\\\\Users\\\\Pankaj singh\\\\OneDrive\\\\Desktop\\\\Python Development\\\\Projects\\\\Skin_Disease_Detection\\\\Main_Workspace\\\\Data\\\\train\\\\Melanoma',\n",
       " 'C:\\\\Users\\\\Pankaj singh\\\\OneDrive\\\\Desktop\\\\Python Development\\\\Projects\\\\Skin_Disease_Detection\\\\Main_Workspace\\\\Data\\\\train\\\\Psoriasis',\n",
       " 'C:\\\\Users\\\\Pankaj singh\\\\OneDrive\\\\Desktop\\\\Python Development\\\\Projects\\\\Skin_Disease_Detection\\\\Main_Workspace\\\\Data\\\\train\\\\Ringworm',\n",
       " 'C:\\\\Users\\\\Pankaj singh\\\\OneDrive\\\\Desktop\\\\Python Development\\\\Projects\\\\Skin_Disease_Detection\\\\Main_Workspace\\\\Data\\\\train\\\\Skin Burn']"
      ]
     },
     "execution_count": 7,
     "metadata": {},
     "output_type": "execute_result"
    }
   ],
   "source": [
    "folders=glob('C:\\\\Users\\\\Pankaj singh\\\\OneDrive\\\\Desktop\\\\Python Development\\\\Projects\\\\Skin_Disease_Detection\\\\Main_Workspace\\\\Data\\\\train\\*')\n",
    "folders"
   ]
  },
  {
   "cell_type": "code",
   "execution_count": 8,
   "id": "advance-kitchen",
   "metadata": {},
   "outputs": [],
   "source": [
    "x=Flatten()(VGG16_Architecture.output)"
   ]
  },
  {
   "cell_type": "code",
   "execution_count": 9,
   "id": "divine-hormone",
   "metadata": {
    "scrolled": true
   },
   "outputs": [
    {
     "data": {
      "text/plain": [
       "<KerasTensor: shape=(None, 12800) dtype=float32 (created by layer 'flatten')>"
      ]
     },
     "execution_count": 9,
     "metadata": {},
     "output_type": "execute_result"
    }
   ],
   "source": [
    "x"
   ]
  },
  {
   "cell_type": "code",
   "execution_count": 10,
   "id": "confirmed-shepherd",
   "metadata": {},
   "outputs": [],
   "source": [
    "prediction=Dense(len(folders),activation='softmax')(x)"
   ]
  },
  {
   "cell_type": "code",
   "execution_count": 11,
   "id": "detailed-deficit",
   "metadata": {},
   "outputs": [
    {
     "data": {
      "text/plain": [
       "<KerasTensor: shape=(None, 5) dtype=float32 (created by layer 'dense')>"
      ]
     },
     "execution_count": 11,
     "metadata": {},
     "output_type": "execute_result"
    }
   ],
   "source": [
    "prediction"
   ]
  },
  {
   "cell_type": "code",
   "execution_count": 12,
   "id": "floral-recycling",
   "metadata": {},
   "outputs": [],
   "source": [
    "model=Model(inputs=VGG16_Architecture.input,outputs=prediction)"
   ]
  },
  {
   "cell_type": "code",
   "execution_count": 14,
   "id": "secret-straight",
   "metadata": {},
   "outputs": [
    {
     "name": "stdout",
     "output_type": "stream",
     "text": [
      "Model: \"model\"\n",
      "_________________________________________________________________\n",
      "Layer (type)                 Output Shape              Param #   \n",
      "=================================================================\n",
      "input_1 (InputLayer)         [(None, 180, 180, 3)]     0         \n",
      "_________________________________________________________________\n",
      "block1_conv1 (Conv2D)        (None, 180, 180, 64)      1792      \n",
      "_________________________________________________________________\n",
      "block1_conv2 (Conv2D)        (None, 180, 180, 64)      36928     \n",
      "_________________________________________________________________\n",
      "block1_pool (MaxPooling2D)   (None, 90, 90, 64)        0         \n",
      "_________________________________________________________________\n",
      "block2_conv1 (Conv2D)        (None, 90, 90, 128)       73856     \n",
      "_________________________________________________________________\n",
      "block2_conv2 (Conv2D)        (None, 90, 90, 128)       147584    \n",
      "_________________________________________________________________\n",
      "block2_pool (MaxPooling2D)   (None, 45, 45, 128)       0         \n",
      "_________________________________________________________________\n",
      "block3_conv1 (Conv2D)        (None, 45, 45, 256)       295168    \n",
      "_________________________________________________________________\n",
      "block3_conv2 (Conv2D)        (None, 45, 45, 256)       590080    \n",
      "_________________________________________________________________\n",
      "block3_conv3 (Conv2D)        (None, 45, 45, 256)       590080    \n",
      "_________________________________________________________________\n",
      "block3_pool (MaxPooling2D)   (None, 22, 22, 256)       0         \n",
      "_________________________________________________________________\n",
      "block4_conv1 (Conv2D)        (None, 22, 22, 512)       1180160   \n",
      "_________________________________________________________________\n",
      "block4_conv2 (Conv2D)        (None, 22, 22, 512)       2359808   \n",
      "_________________________________________________________________\n",
      "block4_conv3 (Conv2D)        (None, 22, 22, 512)       2359808   \n",
      "_________________________________________________________________\n",
      "block4_pool (MaxPooling2D)   (None, 11, 11, 512)       0         \n",
      "_________________________________________________________________\n",
      "block5_conv1 (Conv2D)        (None, 11, 11, 512)       2359808   \n",
      "_________________________________________________________________\n",
      "block5_conv2 (Conv2D)        (None, 11, 11, 512)       2359808   \n",
      "_________________________________________________________________\n",
      "block5_conv3 (Conv2D)        (None, 11, 11, 512)       2359808   \n",
      "_________________________________________________________________\n",
      "block5_pool (MaxPooling2D)   (None, 5, 5, 512)         0         \n",
      "_________________________________________________________________\n",
      "flatten (Flatten)            (None, 12800)             0         \n",
      "_________________________________________________________________\n",
      "dense (Dense)                (None, 5)                 64005     \n",
      "=================================================================\n",
      "Total params: 14,778,693\n",
      "Trainable params: 64,005\n",
      "Non-trainable params: 14,714,688\n",
      "_________________________________________________________________\n"
     ]
    }
   ],
   "source": [
    "model.summary()"
   ]
  },
  {
   "cell_type": "code",
   "execution_count": 15,
   "id": "architectural-edwards",
   "metadata": {},
   "outputs": [],
   "source": [
    "model.compile(\n",
    "    loss='categorical_crossentropy',\n",
    "    optimizer='adam',\n",
    "    metrics=['accuracy']\n",
    ")"
   ]
  },
  {
   "cell_type": "code",
   "execution_count": null,
   "id": "operational-string",
   "metadata": {},
   "outputs": [],
   "source": []
  },
  {
   "cell_type": "code",
   "execution_count": 93,
   "id": "congressional-pointer",
   "metadata": {},
   "outputs": [],
   "source": [
    "train_data_generator=ImageDataGenerator(rescale=1./255,shear_range=0.2,zoom_range=0.2)"
   ]
  },
  {
   "cell_type": "code",
   "execution_count": 94,
   "id": "funny-antarctica",
   "metadata": {},
   "outputs": [
    {
     "data": {
      "text/plain": [
       "<keras.preprocessing.image.ImageDataGenerator at 0x13c97f159a0>"
      ]
     },
     "execution_count": 94,
     "metadata": {},
     "output_type": "execute_result"
    }
   ],
   "source": [
    "train_data_generator"
   ]
  },
  {
   "cell_type": "code",
   "execution_count": 95,
   "id": "champion-multiple",
   "metadata": {},
   "outputs": [],
   "source": [
    "test_data_generator=ImageDataGenerator(rescale=1./255)"
   ]
  },
  {
   "cell_type": "code",
   "execution_count": 96,
   "id": "respiratory-mouth",
   "metadata": {},
   "outputs": [
    {
     "name": "stdout",
     "output_type": "stream",
     "text": [
      "Found 650 images belonging to 5 classes.\n"
     ]
    }
   ],
   "source": [
    "training_set=train_data_generator.flow_from_directory(training_path,target_size=IMAGE_SIZE,batch_size=32,class_mode='categorical')"
   ]
  },
  {
   "cell_type": "code",
   "execution_count": 97,
   "id": "regular-catering",
   "metadata": {},
   "outputs": [
    {
     "name": "stdout",
     "output_type": "stream",
     "text": [
      "Found 116 images belonging to 5 classes.\n"
     ]
    }
   ],
   "source": [
    "testing_set=test_data_generator.flow_from_directory(testing_path,target_size=IMAGE_SIZE,batch_size=32,class_mode='categorical')"
   ]
  },
  {
   "cell_type": "code",
   "execution_count": 98,
   "id": "formed-finder",
   "metadata": {},
   "outputs": [
    {
     "data": {
      "text/plain": [
       "array([0, 0, 0, 0, 0, 0, 0, 0, 0, 0, 0, 0, 0, 0, 0, 0, 0, 0, 0, 0, 0, 0,\n",
       "       0, 0, 0, 0, 0, 0, 0, 0, 0, 0, 0, 0, 0, 0, 0, 0, 0, 0, 0, 0, 0, 0,\n",
       "       0, 0, 0, 0, 0, 0, 0, 0, 0, 0, 0, 0, 0, 0, 0, 0, 0, 0, 0, 0, 0, 0,\n",
       "       0, 0, 0, 0, 0, 0, 0, 0, 0, 0, 0, 0, 0, 0, 0, 0, 0, 0, 0, 0, 0, 0,\n",
       "       0, 0, 0, 0, 0, 0, 0, 0, 0, 0, 0, 0, 0, 0, 0, 0, 0, 0, 0, 0, 0, 0,\n",
       "       0, 0, 0, 0, 0, 0, 0, 0, 0, 0, 0, 0, 0, 0, 0, 0, 0, 0, 0, 0, 0, 0,\n",
       "       0, 0, 0, 0, 0, 0, 0, 0, 0, 0, 0, 0, 0, 0, 0, 0, 0, 0, 0, 0, 0, 0,\n",
       "       0, 0, 0, 0, 0, 0, 0, 0, 0, 0, 0, 0, 0, 0, 0, 0, 0, 0, 0, 0, 0, 0,\n",
       "       0, 0, 0, 0, 0, 0, 0, 0, 0, 0, 0, 0, 0, 0, 0, 0, 0, 0, 0, 0, 0, 0,\n",
       "       0, 0, 0, 0, 0, 0, 0, 0, 0, 0, 0, 0, 0, 0, 0, 0, 0, 0, 0, 0, 0, 0,\n",
       "       0, 0, 0, 0, 0, 0, 0, 0, 1, 1, 1, 1, 1, 1, 1, 1, 1, 1, 1, 1, 1, 1,\n",
       "       1, 1, 1, 1, 1, 1, 1, 1, 1, 1, 1, 1, 1, 1, 1, 1, 1, 1, 1, 1, 1, 1,\n",
       "       1, 1, 1, 1, 1, 1, 1, 1, 1, 1, 1, 1, 1, 1, 1, 1, 1, 1, 1, 1, 1, 1,\n",
       "       1, 1, 1, 1, 1, 1, 1, 1, 1, 1, 1, 1, 1, 1, 1, 1, 1, 1, 1, 1, 1, 1,\n",
       "       1, 1, 1, 1, 1, 1, 1, 1, 1, 1, 1, 1, 1, 1, 1, 1, 1, 1, 1, 1, 1, 1,\n",
       "       1, 2, 2, 2, 2, 2, 2, 2, 2, 2, 2, 2, 2, 2, 2, 2, 2, 2, 2, 2, 2, 2,\n",
       "       2, 2, 2, 2, 2, 2, 2, 2, 2, 2, 2, 2, 2, 2, 2, 2, 2, 2, 2, 2, 2, 2,\n",
       "       2, 2, 2, 2, 2, 2, 2, 2, 2, 2, 2, 2, 2, 2, 2, 2, 2, 2, 2, 2, 2, 2,\n",
       "       2, 2, 2, 2, 2, 2, 2, 2, 2, 2, 2, 2, 2, 2, 2, 2, 2, 2, 2, 2, 2, 2,\n",
       "       2, 2, 2, 2, 2, 2, 2, 3, 3, 3, 3, 3, 3, 3, 3, 3, 3, 3, 3, 3, 3, 3,\n",
       "       3, 3, 3, 3, 3, 3, 3, 3, 3, 3, 3, 3, 3, 3, 3, 3, 3, 3, 3, 3, 3, 3,\n",
       "       3, 3, 3, 3, 3, 3, 3, 3, 3, 3, 3, 3, 3, 3, 3, 3, 3, 3, 3, 3, 3, 3,\n",
       "       3, 3, 3, 3, 3, 3, 3, 3, 3, 3, 3, 3, 3, 3, 3, 3, 3, 3, 3, 3, 3, 3,\n",
       "       3, 3, 3, 3, 3, 3, 3, 3, 3, 3, 3, 3, 3, 3, 3, 3, 3, 3, 3, 3, 3, 3,\n",
       "       3, 3, 3, 3, 3, 3, 3, 3, 3, 3, 3, 3, 3, 3, 3, 3, 3, 3, 3, 3, 3, 3,\n",
       "       3, 3, 3, 3, 3, 3, 3, 3, 3, 3, 3, 3, 3, 3, 3, 3, 3, 3, 3, 3, 3, 3,\n",
       "       3, 3, 3, 3, 3, 3, 3, 3, 3, 3, 3, 3, 3, 3, 3, 3, 3, 3, 3, 3, 3, 3,\n",
       "       3, 3, 3, 3, 3, 3, 3, 3, 3, 3, 3, 3, 3, 3, 3, 3, 3, 3, 3, 3, 3, 3,\n",
       "       3, 3, 3, 4, 4, 4, 4, 4, 4, 4, 4, 4, 4, 4, 4, 4, 4, 4, 4, 4, 4, 4,\n",
       "       4, 4, 4, 4, 4, 4, 4, 4, 4, 4, 4, 4])"
      ]
     },
     "execution_count": 98,
     "metadata": {},
     "output_type": "execute_result"
    }
   ],
   "source": [
    "training_set.labels"
   ]
  },
  {
   "cell_type": "code",
   "execution_count": 99,
   "id": "hourly-october",
   "metadata": {},
   "outputs": [
    {
     "data": {
      "text/plain": [
       "21"
      ]
     },
     "execution_count": 99,
     "metadata": {},
     "output_type": "execute_result"
    }
   ],
   "source": [
    "len(training_set)"
   ]
  },
  {
   "cell_type": "code",
   "execution_count": 100,
   "id": "perceived-collector",
   "metadata": {},
   "outputs": [
    {
     "data": {
      "text/plain": [
       "4"
      ]
     },
     "execution_count": 100,
     "metadata": {},
     "output_type": "execute_result"
    }
   ],
   "source": [
    "len(testing_set)"
   ]
  },
  {
   "cell_type": "code",
   "execution_count": 61,
   "id": "otherwise-webcam",
   "metadata": {},
   "outputs": [
    {
     "name": "stdout",
     "output_type": "stream",
     "text": [
      "Epoch 1/10\n",
      "21/21 [==============================] - 111s 5s/step - loss: 0.6479 - accuracy: 0.7785 - val_loss: 0.7526 - val_accuracy: 0.7328\n",
      "Epoch 2/10\n",
      "21/21 [==============================] - 104s 5s/step - loss: 0.5339 - accuracy: 0.8354 - val_loss: 0.6629 - val_accuracy: 0.7586\n",
      "Epoch 3/10\n",
      "21/21 [==============================] - 105s 5s/step - loss: 0.4759 - accuracy: 0.8585 - val_loss: 0.5980 - val_accuracy: 0.7931\n",
      "Epoch 4/10\n",
      "21/21 [==============================] - 105s 5s/step - loss: 0.4109 - accuracy: 0.8723 - val_loss: 0.5897 - val_accuracy: 0.8276\n",
      "Epoch 5/10\n",
      "21/21 [==============================] - 106s 5s/step - loss: 0.4061 - accuracy: 0.8723 - val_loss: 0.5805 - val_accuracy: 0.8190\n",
      "Epoch 6/10\n",
      "21/21 [==============================] - 105s 5s/step - loss: 0.3413 - accuracy: 0.9000 - val_loss: 0.5699 - val_accuracy: 0.8103\n",
      "Epoch 7/10\n",
      "21/21 [==============================] - 109s 5s/step - loss: 0.3171 - accuracy: 0.8954 - val_loss: 0.5768 - val_accuracy: 0.8190\n",
      "Epoch 8/10\n",
      "21/21 [==============================] - 122s 6s/step - loss: 0.3048 - accuracy: 0.9123 - val_loss: 0.5697 - val_accuracy: 0.8448\n",
      "Epoch 9/10\n",
      "21/21 [==============================] - 112s 5s/step - loss: 0.3009 - accuracy: 0.9108 - val_loss: 0.5285 - val_accuracy: 0.8534\n",
      "Epoch 10/10\n",
      "21/21 [==============================] - 111s 5s/step - loss: 0.2545 - accuracy: 0.9262 - val_loss: 0.5324 - val_accuracy: 0.8621\n"
     ]
    },
    {
     "data": {
      "text/plain": [
       "<keras.callbacks.History at 0x13c97c52d60>"
      ]
     },
     "execution_count": 61,
     "metadata": {},
     "output_type": "execute_result"
    }
   ],
   "source": [
    "model.fit(\n",
    "    training_set,\n",
    "    validation_data=testing_set,\n",
    "    epochs=10,\n",
    "    steps_per_epoch=len(training_set),\n",
    "    validation_steps=len(testing_set)\n",
    ")"
   ]
  },
  {
   "cell_type": "code",
   "execution_count": 62,
   "id": "constant-painting",
   "metadata": {},
   "outputs": [],
   "source": [
    "model.save(\"./Models/Predefine_Architecture_VGG16_Model.h5\")"
   ]
  },
  {
   "cell_type": "code",
   "execution_count": null,
   "id": "measured-phenomenon",
   "metadata": {},
   "outputs": [],
   "source": []
  },
  {
   "cell_type": "code",
   "execution_count": 63,
   "id": "tribal-memorial",
   "metadata": {},
   "outputs": [],
   "source": [
    "VGG16_model=load_model(\"./Models/Predefine_Architecture_VGG16_Model.h5\")"
   ]
  },
  {
   "cell_type": "code",
   "execution_count": null,
   "id": "oriental-engagement",
   "metadata": {},
   "outputs": [],
   "source": []
  },
  {
   "cell_type": "code",
   "execution_count": 73,
   "id": "planned-execution",
   "metadata": {},
   "outputs": [],
   "source": [
    "test_prediction=model.predict(testing_set)"
   ]
  },
  {
   "cell_type": "code",
   "execution_count": 74,
   "id": "fancy-editor",
   "metadata": {
    "collapsed": true
   },
   "outputs": [
    {
     "data": {
      "text/plain": [
       "array([[5.01208298e-04, 5.61545650e-03, 2.11083703e-03, 9.76551414e-01,\n",
       "        1.52209587e-02],\n",
       "       [7.70872475e-07, 2.15200693e-08, 9.97513890e-01, 2.40840041e-03,\n",
       "        7.69254693e-05],\n",
       "       [4.55432124e-02, 8.47505271e-01, 4.52379808e-02, 6.10895753e-02,\n",
       "        6.23981236e-04],\n",
       "       [9.47009385e-01, 9.69814550e-07, 1.30768949e-02, 3.13833393e-02,\n",
       "        8.52945447e-03],\n",
       "       [1.23490958e-04, 9.83214140e-01, 1.22595420e-02, 4.13650647e-03,\n",
       "        2.66307616e-04],\n",
       "       [2.36364722e-04, 9.91071105e-01, 3.38162971e-03, 5.17000444e-03,\n",
       "        1.40957156e-04],\n",
       "       [6.54660240e-02, 5.85967124e-01, 4.70554531e-02, 2.99991846e-01,\n",
       "        1.51950971e-03],\n",
       "       [2.01049615e-02, 8.56461048e-01, 1.92741305e-02, 1.03447169e-01,\n",
       "        7.12648674e-04],\n",
       "       [9.77655530e-01, 9.88455940e-06, 9.85430460e-03, 1.13577573e-02,\n",
       "        1.12261367e-03],\n",
       "       [5.09145260e-01, 4.37884621e-04, 5.85168712e-02, 3.86435151e-01,\n",
       "        4.54647392e-02],\n",
       "       [5.57056908e-03, 5.34948276e-06, 9.87503588e-01, 5.94142731e-03,\n",
       "        9.79104661e-04],\n",
       "       [1.19018929e-04, 1.05695563e-07, 3.27756912e-01, 6.07785523e-01,\n",
       "        6.43384829e-02],\n",
       "       [3.28790725e-06, 3.14990939e-05, 5.19373629e-04, 2.36041788e-02,\n",
       "        9.75841641e-01],\n",
       "       [2.98531237e-03, 7.63325095e-01, 2.99370512e-02, 2.03272358e-01,\n",
       "        4.80188028e-04],\n",
       "       [8.00354779e-01, 2.49679251e-05, 8.02109390e-02, 1.16863504e-01,\n",
       "        2.54579354e-03],\n",
       "       [3.94637973e-05, 8.26937675e-01, 1.70418680e-01, 1.64364383e-03,\n",
       "        9.60582169e-04],\n",
       "       [5.03641851e-02, 6.06660306e-01, 2.30734244e-01, 1.06504977e-01,\n",
       "        5.73628023e-03],\n",
       "       [1.26394378e-02, 8.45940471e-01, 2.28275880e-02, 1.15852863e-01,\n",
       "        2.73962645e-03],\n",
       "       [3.71394813e-01, 3.81013244e-01, 2.85172146e-02, 2.15971112e-01,\n",
       "        3.10359313e-03],\n",
       "       [5.21189031e-06, 7.47159504e-07, 9.77448300e-02, 8.40573478e-03,\n",
       "        8.93843412e-01],\n",
       "       [3.64200350e-05, 2.01364583e-06, 1.86088786e-01, 1.04576731e-02,\n",
       "        8.03415120e-01],\n",
       "       [2.91435560e-03, 1.52044981e-06, 5.99328935e-01, 3.88975739e-01,\n",
       "        8.77954625e-03],\n",
       "       [7.59627379e-04, 5.57085013e-06, 4.15283302e-03, 9.94486272e-01,\n",
       "        5.95701218e-04],\n",
       "       [9.86058079e-03, 6.38201013e-02, 2.33974960e-02, 9.00138617e-01,\n",
       "        2.78316694e-03],\n",
       "       [9.82251465e-01, 7.54694582e-08, 1.63796637e-02, 1.06766517e-03,\n",
       "        3.01203050e-04],\n",
       "       [8.52849800e-04, 8.90916169e-01, 1.11621935e-02, 9.67308581e-02,\n",
       "        3.37968551e-04],\n",
       "       [1.77090377e-01, 4.33115549e-02, 4.81125683e-01, 2.90015191e-01,\n",
       "        8.45712237e-03],\n",
       "       [9.19069513e-04, 2.94266488e-06, 9.98499632e-01, 1.65691221e-04,\n",
       "        4.12728259e-04],\n",
       "       [8.91408980e-01, 3.42113664e-04, 5.41111529e-02, 5.40406033e-02,\n",
       "        9.71090194e-05],\n",
       "       [2.02585366e-02, 6.84161067e-01, 1.67131592e-02, 2.77801394e-01,\n",
       "        1.06585200e-03],\n",
       "       [9.24984664e-02, 7.13001311e-01, 2.83379871e-02, 1.64917558e-01,\n",
       "        1.24466070e-03],\n",
       "       [4.67608788e-06, 3.45310696e-06, 9.61593032e-01, 3.79252583e-02,\n",
       "        4.73531574e-04],\n",
       "       [6.54660240e-02, 5.85967124e-01, 4.70554531e-02, 2.99991846e-01,\n",
       "        1.51950971e-03],\n",
       "       [4.03387785e-01, 7.62033463e-03, 7.77370483e-02, 5.07049441e-01,\n",
       "        4.20539174e-03],\n",
       "       [1.24021346e-04, 3.69891022e-05, 9.41767037e-01, 1.93584058e-02,\n",
       "        3.87135446e-02],\n",
       "       [2.00437359e-03, 9.28848147e-01, 2.62777358e-02, 4.16206531e-02,\n",
       "        1.24911405e-03],\n",
       "       [4.00262093e-03, 9.52299597e-05, 7.41465092e-01, 2.38823876e-01,\n",
       "        1.56132244e-02],\n",
       "       [9.70055699e-01, 1.52761643e-07, 1.34126134e-02, 1.62977781e-02,\n",
       "        2.33771032e-04],\n",
       "       [1.19148670e-02, 8.08834955e-02, 3.60163838e-01, 5.43715477e-01,\n",
       "        3.32234427e-03],\n",
       "       [4.40499838e-03, 6.38061283e-06, 4.34316069e-01, 5.22746146e-03,\n",
       "        5.56045055e-01],\n",
       "       [7.13510513e-02, 2.92816013e-03, 4.36117612e-02, 8.71954083e-01,\n",
       "        1.01549886e-02],\n",
       "       [9.51810122e-01, 3.59465639e-06, 1.14580020e-02, 3.60439159e-02,\n",
       "        6.84473722e-04],\n",
       "       [4.52434458e-03, 9.55008582e-05, 4.64429319e-01, 4.62060004e-01,\n",
       "        6.88907504e-02],\n",
       "       [3.74905840e-02, 1.44255444e-01, 9.39533189e-02, 7.22638369e-01,\n",
       "        1.66225119e-03],\n",
       "       [4.32061870e-03, 9.44646478e-01, 3.61379050e-02, 1.46904960e-02,\n",
       "        2.04532815e-04],\n",
       "       [2.17712997e-03, 4.42101387e-03, 7.30311722e-02, 9.07628238e-01,\n",
       "        1.27423657e-02],\n",
       "       [5.99820197e-01, 4.27507999e-04, 1.14897955e-02, 3.86582345e-01,\n",
       "        1.68019696e-03],\n",
       "       [1.10582989e-02, 1.00882150e-01, 1.55953079e-01, 7.27720678e-01,\n",
       "        4.38578613e-03],\n",
       "       [4.35759826e-03, 3.16372573e-01, 3.88088785e-02, 6.23076379e-01,\n",
       "        1.73846539e-02],\n",
       "       [2.28136458e-04, 1.00155894e-05, 8.22834134e-01, 1.69910431e-01,\n",
       "        7.01726275e-03],\n",
       "       [3.18586051e-01, 6.72436960e-04, 3.08408029e-02, 6.49224401e-01,\n",
       "        6.76294439e-04],\n",
       "       [2.76884198e-01, 4.80361991e-02, 4.86234464e-02, 6.14201963e-01,\n",
       "        1.22542540e-02],\n",
       "       [8.29965055e-01, 9.17681842e-04, 5.77708185e-02, 1.09735817e-01,\n",
       "        1.61067082e-03],\n",
       "       [1.09008655e-01, 1.04837053e-01, 1.83087178e-02, 7.65495121e-01,\n",
       "        2.35046516e-03],\n",
       "       [5.36378026e-02, 8.41491699e-01, 2.83182729e-02, 7.56372586e-02,\n",
       "        9.14975884e-04],\n",
       "       [3.95226143e-02, 7.47883618e-01, 1.25825591e-02, 1.97987497e-01,\n",
       "        2.02371110e-03],\n",
       "       [6.10406650e-03, 7.96758413e-01, 9.55429114e-03, 1.87098518e-01,\n",
       "        4.84701886e-04],\n",
       "       [3.04839890e-02, 8.54424596e-01, 2.90985554e-02, 8.52755383e-02,\n",
       "        7.17390678e-04],\n",
       "       [3.14216673e-01, 1.71868652e-01, 8.18994176e-03, 5.04949927e-01,\n",
       "        7.74902466e-04],\n",
       "       [8.87249827e-01, 2.84207053e-04, 3.47188450e-02, 7.73699209e-02,\n",
       "        3.77243152e-04],\n",
       "       [1.79587238e-04, 9.92963731e-01, 2.49100709e-03, 4.26844833e-03,\n",
       "        9.73374554e-05],\n",
       "       [3.66340391e-03, 3.83825885e-04, 3.77068319e-03, 9.90990996e-01,\n",
       "        1.19101349e-03],\n",
       "       [7.38556758e-02, 8.28336924e-02, 2.30623968e-02, 8.18377972e-01,\n",
       "        1.87033415e-03],\n",
       "       [2.66211741e-02, 4.47407947e-05, 6.71500117e-02, 9.05795157e-01,\n",
       "        3.88932618e-04],\n",
       "       [4.83998010e-04, 4.84985672e-03, 1.49352560e-02, 9.77265298e-01,\n",
       "        2.46563368e-03],\n",
       "       [1.63170323e-02, 9.49103415e-01, 9.13627725e-03, 2.49367915e-02,\n",
       "        5.06373122e-04],\n",
       "       [1.20643438e-06, 8.28572638e-07, 5.57876050e-01, 2.33025546e-03,\n",
       "        4.39791679e-01],\n",
       "       [6.05003443e-03, 8.08775008e-01, 1.19017158e-02, 1.73034132e-01,\n",
       "        2.39098619e-04],\n",
       "       [2.66233133e-03, 1.57248508e-02, 1.30586445e-01, 8.03890526e-01,\n",
       "        4.71358337e-02],\n",
       "       [7.46171653e-01, 1.03577587e-03, 3.48062776e-02, 2.10792556e-01,\n",
       "        7.19373208e-03],\n",
       "       [1.03941734e-03, 3.45995468e-05, 1.19775265e-01, 3.48014832e-02,\n",
       "        8.44349265e-01],\n",
       "       [7.50249147e-01, 1.44860540e-02, 1.84649918e-02, 2.14638025e-01,\n",
       "        2.16168095e-03],\n",
       "       [3.68590809e-05, 4.54849470e-07, 9.82185543e-01, 1.50621235e-02,\n",
       "        2.71501928e-03],\n",
       "       [9.81126487e-01, 2.09791669e-05, 8.03119224e-03, 8.39941297e-03,\n",
       "        2.42194533e-03],\n",
       "       [4.66451943e-01, 9.52283852e-04, 7.48981442e-03, 5.24545491e-01,\n",
       "        5.60433662e-04],\n",
       "       [9.05331492e-01, 2.42544874e-03, 2.70348694e-02, 6.42733052e-02,\n",
       "        9.34958749e-04],\n",
       "       [5.08677121e-03, 2.15252612e-06, 6.85232699e-01, 3.06775898e-01,\n",
       "        2.90247472e-03],\n",
       "       [3.98982555e-01, 3.01749401e-06, 1.40240148e-01, 4.54233408e-01,\n",
       "        6.54083258e-03],\n",
       "       [4.92886511e-06, 4.14216288e-07, 9.43886936e-01, 4.00643833e-02,\n",
       "        1.60433613e-02],\n",
       "       [1.34203592e-02, 3.30132633e-01, 3.94937903e-01, 2.03446478e-01,\n",
       "        5.80626875e-02],\n",
       "       [8.75075519e-01, 2.13626702e-03, 3.32684703e-02, 8.74465182e-02,\n",
       "        2.07317714e-03],\n",
       "       [3.75928107e-06, 2.66645515e-07, 5.19452505e-02, 2.16451590e-03,\n",
       "        9.45886195e-01],\n",
       "       [1.13190144e-04, 3.55788700e-07, 7.32814968e-01, 2.66768217e-01,\n",
       "        3.03183479e-04],\n",
       "       [5.54023206e-01, 1.82824004e-02, 1.30940348e-01, 2.95153826e-01,\n",
       "        1.60019484e-03],\n",
       "       [3.19177774e-03, 3.30016454e-04, 4.16474324e-03, 9.91053641e-01,\n",
       "        1.25983846e-03],\n",
       "       [6.92463755e-06, 2.79625027e-07, 9.24674809e-01, 4.51252796e-03,\n",
       "        7.08054826e-02],\n",
       "       [8.84724915e-01, 2.08125172e-07, 4.34789248e-02, 5.48369065e-02,\n",
       "        1.69589408e-02],\n",
       "       [2.65747964e-01, 2.25997446e-05, 1.28248468e-01, 6.01549387e-01,\n",
       "        4.43165284e-03],\n",
       "       [2.02732440e-03, 4.43442659e-05, 7.79375076e-01, 1.09272629e-01,\n",
       "        1.09280609e-01],\n",
       "       [9.48595762e-01, 1.01225614e-03, 4.64637112e-03, 4.53927480e-02,\n",
       "        3.52852978e-04],\n",
       "       [1.00246500e-04, 3.77554126e-04, 6.86110318e-01, 3.09962988e-01,\n",
       "        3.44890682e-03],\n",
       "       [3.03640438e-04, 9.70448792e-01, 7.81333633e-03, 2.12583039e-02,\n",
       "        1.75880472e-04],\n",
       "       [5.43354327e-05, 1.29545652e-09, 9.89683747e-01, 3.85824312e-03,\n",
       "        6.40362222e-03],\n",
       "       [8.59303866e-03, 8.49483073e-01, 7.76040228e-03, 1.33718252e-01,\n",
       "        4.45211044e-04],\n",
       "       [8.28135666e-03, 4.68619466e-01, 5.88988438e-02, 4.61914122e-01,\n",
       "        2.28618528e-03],\n",
       "       [7.25775734e-02, 9.31045413e-02, 5.81011735e-02, 7.70575404e-01,\n",
       "        5.64133143e-03],\n",
       "       [5.94888625e-05, 4.57145063e-07, 9.31255400e-01, 6.82108924e-02,\n",
       "        4.73666674e-04],\n",
       "       [1.12376365e-05, 1.00100566e-04, 9.69743729e-01, 2.79394612e-02,\n",
       "        2.20549549e-03],\n",
       "       [1.28632222e-04, 7.93072453e-04, 2.88453866e-02, 9.65717912e-01,\n",
       "        4.51496756e-03],\n",
       "       [3.56973651e-05, 2.10948547e-05, 9.26338792e-01, 7.34885260e-02,\n",
       "        1.15897070e-04],\n",
       "       [1.20647475e-02, 2.01983680e-03, 6.41515758e-03, 9.79319513e-01,\n",
       "        1.80823539e-04],\n",
       "       [3.28255737e-05, 1.52649172e-05, 9.37843919e-01, 6.20013997e-02,\n",
       "        1.06527637e-04],\n",
       "       [9.94722009e-01, 9.31700086e-08, 6.41821011e-04, 4.48180595e-03,\n",
       "        1.54300811e-04],\n",
       "       [4.04650404e-04, 9.73271310e-01, 1.12262024e-02, 1.44715533e-02,\n",
       "        6.26272988e-04],\n",
       "       [6.26749097e-05, 2.47439202e-05, 6.07609795e-03, 9.88816261e-01,\n",
       "        5.02018165e-03],\n",
       "       [9.85613286e-01, 4.09070289e-08, 7.70090800e-03, 6.46918081e-03,\n",
       "        2.16544460e-04],\n",
       "       [2.51490583e-05, 1.33702459e-04, 1.37733430e-01, 8.57922435e-01,\n",
       "        4.18532081e-03],\n",
       "       [5.67776673e-02, 7.81667829e-01, 1.04589708e-01, 5.56668676e-02,\n",
       "        1.29794376e-03],\n",
       "       [1.39094509e-05, 2.16428930e-06, 4.32134479e-01, 5.65359175e-01,\n",
       "        2.49023759e-03],\n",
       "       [1.53173819e-01, 1.58526897e-01, 2.26386003e-02, 6.63718045e-01,\n",
       "        1.94270443e-03],\n",
       "       [2.76040082e-04, 9.71306741e-01, 9.94114392e-03, 1.74939781e-02,\n",
       "        9.82072670e-04],\n",
       "       [2.24160347e-02, 3.44419807e-01, 5.23865111e-02, 5.74199736e-01,\n",
       "        6.57786941e-03],\n",
       "       [7.68563449e-02, 1.58803523e-05, 2.00137690e-01, 5.94958216e-02,\n",
       "        6.63494289e-01],\n",
       "       [1.69986230e-03, 1.85599365e-05, 9.90801632e-01, 6.44221017e-03,\n",
       "        1.03770720e-03],\n",
       "       [1.51108712e-01, 6.68710214e-04, 1.36090845e-01, 6.58223867e-01,\n",
       "        5.39078861e-02],\n",
       "       [2.20726021e-02, 5.24669129e-04, 5.49851470e-02, 9.15645540e-01,\n",
       "        6.77200779e-03]], dtype=float32)"
      ]
     },
     "execution_count": 74,
     "metadata": {},
     "output_type": "execute_result"
    }
   ],
   "source": [
    "test_prediction"
   ]
  },
  {
   "cell_type": "code",
   "execution_count": null,
   "id": "popular-performer",
   "metadata": {},
   "outputs": [],
   "source": []
  },
  {
   "cell_type": "code",
   "execution_count": 75,
   "id": "searching-introduction",
   "metadata": {},
   "outputs": [],
   "source": [
    "predicted_values=[numpy.argmax(result) for result in test_prediction]"
   ]
  },
  {
   "cell_type": "code",
   "execution_count": 83,
   "id": "cross-child",
   "metadata": {},
   "outputs": [
    {
     "name": "stdout",
     "output_type": "stream",
     "text": [
      "3  - >  0\n",
      "2  - >  0\n",
      "1  - >  0\n",
      "0  - >  0\n",
      "1  - >  0\n",
      "1  - >  0\n",
      "1  - >  0\n",
      "1  - >  0\n",
      "0  - >  0\n",
      "0  - >  0\n",
      "2  - >  0\n",
      "3  - >  0\n",
      "4  - >  0\n",
      "1  - >  0\n",
      "0  - >  0\n",
      "1  - >  0\n",
      "1  - >  0\n",
      "1  - >  0\n",
      "1  - >  0\n",
      "4  - >  0\n",
      "4  - >  0\n",
      "2  - >  0\n",
      "3  - >  0\n",
      "3  - >  0\n",
      "0  - >  1\n",
      "1  - >  1\n",
      "2  - >  1\n",
      "2  - >  1\n",
      "0  - >  1\n",
      "1  - >  1\n",
      "1  - >  1\n",
      "2  - >  1\n",
      "1  - >  1\n",
      "3  - >  1\n",
      "2  - >  1\n",
      "1  - >  1\n",
      "2  - >  1\n",
      "0  - >  1\n",
      "3  - >  1\n",
      "4  - >  1\n",
      "3  - >  1\n",
      "0  - >  1\n",
      "2  - >  1\n",
      "3  - >  1\n",
      "1  - >  1\n",
      "3  - >  1\n",
      "0  - >  1\n",
      "3  - >  1\n",
      "3  - >  1\n",
      "2  - >  1\n",
      "3  - >  1\n",
      "3  - >  1\n",
      "0  - >  1\n",
      "3  - >  1\n",
      "1  - >  2\n",
      "1  - >  2\n",
      "1  - >  2\n",
      "1  - >  2\n",
      "3  - >  2\n",
      "0  - >  2\n",
      "1  - >  2\n",
      "3  - >  2\n",
      "3  - >  2\n",
      "3  - >  2\n",
      "3  - >  2\n",
      "1  - >  2\n",
      "2  - >  2\n",
      "1  - >  2\n",
      "3  - >  2\n",
      "0  - >  2\n",
      "4  - >  2\n",
      "0  - >  2\n",
      "2  - >  2\n",
      "0  - >  2\n",
      "3  - >  2\n",
      "0  - >  2\n",
      "2  - >  2\n",
      "3  - >  2\n",
      "2  - >  2\n",
      "2  - >  2\n",
      "0  - >  3\n",
      "4  - >  3\n",
      "2  - >  3\n",
      "0  - >  3\n",
      "3  - >  3\n",
      "2  - >  3\n",
      "0  - >  3\n",
      "3  - >  3\n",
      "2  - >  3\n",
      "0  - >  3\n",
      "2  - >  3\n",
      "1  - >  3\n",
      "2  - >  3\n",
      "1  - >  3\n",
      "1  - >  3\n",
      "3  - >  3\n",
      "2  - >  3\n",
      "2  - >  3\n",
      "3  - >  3\n",
      "2  - >  3\n",
      "3  - >  3\n",
      "2  - >  3\n",
      "0  - >  3\n",
      "1  - >  3\n",
      "3  - >  3\n",
      "0  - >  3\n",
      "3  - >  3\n",
      "1  - >  4\n",
      "3  - >  4\n",
      "3  - >  4\n",
      "1  - >  4\n",
      "3  - >  4\n",
      "4  - >  4\n",
      "2  - >  4\n",
      "3  - >  4\n",
      "3  - >  4\n"
     ]
    }
   ],
   "source": [
    "for i in range(len(predicted_values)):\n",
    "    print(predicted_values[i],\" - > \",testing_set.labels[i])"
   ]
  },
  {
   "cell_type": "code",
   "execution_count": 84,
   "id": "legal-bishop",
   "metadata": {},
   "outputs": [],
   "source": [
    "confusion_matrix_data=confusion_matrix(predicted_values,testing_set.labels)"
   ]
  },
  {
   "cell_type": "code",
   "execution_count": 85,
   "id": "bulgarian-discrimination",
   "metadata": {},
   "outputs": [
    {
     "data": {
      "text/plain": [
       "array([[ 4,  6,  5,  6,  0],\n",
       "       [10,  6,  7,  4,  2],\n",
       "       [ 3,  7,  5,  9,  1],\n",
       "       [ 4, 10,  8,  7,  5],\n",
       "       [ 3,  1,  1,  1,  1]], dtype=int64)"
      ]
     },
     "execution_count": 85,
     "metadata": {},
     "output_type": "execute_result"
    }
   ],
   "source": [
    "confusion_matrix_data"
   ]
  },
  {
   "cell_type": "code",
   "execution_count": 86,
   "id": "waiting-combination",
   "metadata": {},
   "outputs": [
    {
     "data": {
      "text/plain": [
       "<AxesSubplot:>"
      ]
     },
     "execution_count": 86,
     "metadata": {},
     "output_type": "execute_result"
    }
   ],
   "source": [
    "pyplot.figure('Confusion Matrix')\n",
    "seaborn.heatmap(confusion_matrix_data,annot=True,xticklabels=classes_list,yticklabels=classes_list)\n",
    "# seaborn.heatmap(confusion_matrix_data,annot=True)"
   ]
  },
  {
   "cell_type": "code",
   "execution_count": 79,
   "id": "union-madonna",
   "metadata": {},
   "outputs": [],
   "source": [
    "classification_report_data=classification_report(predicted_values,testing_set.labels,target_names=classes_list)"
   ]
  },
  {
   "cell_type": "code",
   "execution_count": 80,
   "id": "creative-region",
   "metadata": {},
   "outputs": [
    {
     "name": "stdout",
     "output_type": "stream",
     "text": [
      "              precision    recall  f1-score   support\n",
      "\n",
      " Facial acne       0.17      0.19      0.18        21\n",
      "    Melanoma       0.20      0.21      0.20        29\n",
      "   Psoriasis       0.19      0.20      0.20        25\n",
      "    Ringworm       0.26      0.21      0.23        34\n",
      "   Skin Burn       0.11      0.14      0.12         7\n",
      "\n",
      "    accuracy                           0.20       116\n",
      "   macro avg       0.19      0.19      0.19       116\n",
      "weighted avg       0.20      0.20      0.20       116\n",
      "\n"
     ]
    }
   ],
   "source": [
    "print(classification_report_data)"
   ]
  },
  {
   "cell_type": "code",
   "execution_count": null,
   "id": "korean-outline",
   "metadata": {},
   "outputs": [],
   "source": []
  },
  {
   "cell_type": "code",
   "execution_count": null,
   "id": "missing-exclusive",
   "metadata": {},
   "outputs": [],
   "source": []
  },
  {
   "cell_type": "code",
   "execution_count": null,
   "id": "alternate-flight",
   "metadata": {},
   "outputs": [],
   "source": []
  }
 ],
 "metadata": {
  "kernelspec": {
   "display_name": "Python 3",
   "language": "python",
   "name": "python3"
  },
  "language_info": {
   "codemirror_mode": {
    "name": "ipython",
    "version": 3
   },
   "file_extension": ".py",
   "mimetype": "text/x-python",
   "name": "python",
   "nbconvert_exporter": "python",
   "pygments_lexer": "ipython3",
   "version": "3.9.2"
  }
 },
 "nbformat": 4,
 "nbformat_minor": 5
}
