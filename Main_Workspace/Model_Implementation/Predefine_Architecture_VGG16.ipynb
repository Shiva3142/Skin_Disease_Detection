{
 "cells": [
  {
   "cell_type": "code",
   "execution_count": 79,
   "id": "collectible-beatles",
   "metadata": {},
   "outputs": [],
   "source": [
    "import tensorflow\n",
    "from tensorflow import keras\n",
    "from keras.layers import Input,Lambda,Dense,Flatten\n",
    "from keras.models import Model\n",
    "from keras.applications.vgg16 import VGG16,preprocess_input\n",
    "from keras.preprocessing import image\n",
    "from keras.preprocessing.image import ImageDataGenerator\n",
    "from keras.models import Sequential\n",
    "import numpy\n",
    "from glob import glob\n",
    "import matplotlib.pyplot as pyplot\n",
    "from keras.models import load_model"
   ]
  },
  {
   "cell_type": "code",
   "execution_count": 106,
   "id": "grateful-blood",
   "metadata": {},
   "outputs": [
    {
     "name": "stdout",
     "output_type": "stream",
     "text": [
      "0 -->  Acne and Rosacea Photos\n",
      "1 -->  Actinic Keratosis Basal Cell Carcinoma and other Malignant Lesions\n",
      "2 -->  Atopic Dermatitis Photos\n",
      "3 -->  Bullous Disease Photos\n",
      "4 -->  Cellulitis Impetigo and other Bacterial Infections\n",
      "5 -->  Eczema Photos\n",
      "6 -->  Exanthems and Drug Eruptions\n",
      "7 -->  Hair Loss Photos Alopecia and other Hair Diseases\n",
      "8 -->  Herpes HPV and other STDs Photos\n",
      "9 -->  Light Diseases and Disorders of Pigmentation\n",
      "10 -->  Lupus and other Connective Tissue diseases\n",
      "11 -->  Melanoma Skin Cancer Nevi and Moles\n",
      "12 -->  Nail Fungus and other Nail Disease\n",
      "13 -->  Poison Ivy Photos and other Contact Dermatitis\n",
      "14 -->  Psoriasis pictures Lichen Planus and related diseases\n",
      "15 -->  Scabies Lyme Disease and other Infestations and Bites\n",
      "16 -->  Seborrheic Keratoses and other Benign Tumors\n",
      "17 -->  Systemic Disease\n",
      "18 -->  Tinea Ringworm Candidiasis and other Fungal Infections\n",
      "19 -->  Urticaria Hives\n",
      "20 -->  Vascular Tumors\n",
      "21 -->  Vasculitis Photos\n",
      "22 -->  Warts Molluscum and other Viral Infections\n"
     ]
    }
   ],
   "source": [
    "classes_list=['Acne and Rosacea Photos','Actinic Keratosis Basal Cell Carcinoma and other Malignant Lesions','Atopic Dermatitis Photos','Bullous Disease Photos','Cellulitis Impetigo and other Bacterial Infections','Eczema Photos','Exanthems and Drug Eruptions','Hair Loss Photos Alopecia and other Hair Diseases','Herpes HPV and other STDs Photos','Light Diseases and Disorders of Pigmentation','Lupus and other Connective Tissue diseases','Melanoma Skin Cancer Nevi and Moles','Nail Fungus and other Nail Disease','Poison Ivy Photos and other Contact Dermatitis','Psoriasis pictures Lichen Planus and related diseases','Scabies Lyme Disease and other Infestations and Bites','Seborrheic Keratoses and other Benign Tumors','Systemic Disease','Tinea Ringworm Candidiasis and other Fungal Infections','Urticaria Hives','Vascular Tumors','Vasculitis Photos','Warts Molluscum and other Viral Infections']\n",
    "def printClassList():\n",
    "    for class_name in classes_list:\n",
    "        print(f\"{classes_list.index(class_name)} -->  {class_name}\")\n",
    "printClassList()\n",
    "def getClassvalue(index):\n",
    "    print(classes_list[index])"
   ]
  },
  {
   "cell_type": "code",
   "execution_count": 71,
   "id": "strategic-prison",
   "metadata": {},
   "outputs": [],
   "source": [
    "IMAGE_SIZE=[224,224]\n",
    "training_path='C:\\\\Users\\\\Pankaj singh\\\\OneDrive\\\\Desktop\\\\Python Development\\\\Temporary\\\\Artificial intelligence\\\\Skin_Disease_Detection\\\\Main_Workspace\\\\Data\\\\train'\n",
    "testing_path='C:\\\\Users\\\\Pankaj singh\\\\OneDrive\\\\Desktop\\\\Python Development\\\\Temporary\\\\Artificial intelligence\\\\Skin_Disease_Detection\\\\Main_Workspace\\\\Data\\\\test'"
   ]
  },
  {
   "cell_type": "code",
   "execution_count": 6,
   "id": "characteristic-window",
   "metadata": {},
   "outputs": [],
   "source": [
    "VGG16_Architecture=VGG16(input_shape=IMAGE_SIZE+[3],weights='imagenet',include_top=False)"
   ]
  },
  {
   "cell_type": "code",
   "execution_count": 8,
   "id": "cardiovascular-funds",
   "metadata": {},
   "outputs": [
    {
     "name": "stdout",
     "output_type": "stream",
     "text": [
      "Model: \"vgg16\"\n",
      "_________________________________________________________________\n",
      "Layer (type)                 Output Shape              Param #   \n",
      "=================================================================\n",
      "input_1 (InputLayer)         [(None, 224, 224, 3)]     0         \n",
      "_________________________________________________________________\n",
      "block1_conv1 (Conv2D)        (None, 224, 224, 64)      1792      \n",
      "_________________________________________________________________\n",
      "block1_conv2 (Conv2D)        (None, 224, 224, 64)      36928     \n",
      "_________________________________________________________________\n",
      "block1_pool (MaxPooling2D)   (None, 112, 112, 64)      0         \n",
      "_________________________________________________________________\n",
      "block2_conv1 (Conv2D)        (None, 112, 112, 128)     73856     \n",
      "_________________________________________________________________\n",
      "block2_conv2 (Conv2D)        (None, 112, 112, 128)     147584    \n",
      "_________________________________________________________________\n",
      "block2_pool (MaxPooling2D)   (None, 56, 56, 128)       0         \n",
      "_________________________________________________________________\n",
      "block3_conv1 (Conv2D)        (None, 56, 56, 256)       295168    \n",
      "_________________________________________________________________\n",
      "block3_conv2 (Conv2D)        (None, 56, 56, 256)       590080    \n",
      "_________________________________________________________________\n",
      "block3_conv3 (Conv2D)        (None, 56, 56, 256)       590080    \n",
      "_________________________________________________________________\n",
      "block3_pool (MaxPooling2D)   (None, 28, 28, 256)       0         \n",
      "_________________________________________________________________\n",
      "block4_conv1 (Conv2D)        (None, 28, 28, 512)       1180160   \n",
      "_________________________________________________________________\n",
      "block4_conv2 (Conv2D)        (None, 28, 28, 512)       2359808   \n",
      "_________________________________________________________________\n",
      "block4_conv3 (Conv2D)        (None, 28, 28, 512)       2359808   \n",
      "_________________________________________________________________\n",
      "block4_pool (MaxPooling2D)   (None, 14, 14, 512)       0         \n",
      "_________________________________________________________________\n",
      "block5_conv1 (Conv2D)        (None, 14, 14, 512)       2359808   \n",
      "_________________________________________________________________\n",
      "block5_conv2 (Conv2D)        (None, 14, 14, 512)       2359808   \n",
      "_________________________________________________________________\n",
      "block5_conv3 (Conv2D)        (None, 14, 14, 512)       2359808   \n",
      "_________________________________________________________________\n",
      "block5_pool (MaxPooling2D)   (None, 7, 7, 512)         0         \n",
      "=================================================================\n",
      "Total params: 14,714,688\n",
      "Trainable params: 14,714,688\n",
      "Non-trainable params: 0\n",
      "_________________________________________________________________\n"
     ]
    }
   ],
   "source": [
    "VGG16_Architecture.summary()"
   ]
  },
  {
   "cell_type": "code",
   "execution_count": 12,
   "id": "understanding-copyright",
   "metadata": {},
   "outputs": [
    {
     "name": "stdout",
     "output_type": "stream",
     "text": [
      "<keras.engine.input_layer.InputLayer object at 0x00000174AA73D100>\n",
      "<keras.layers.convolutional.Conv2D object at 0x00000174AC465C70>\n",
      "<keras.layers.convolutional.Conv2D object at 0x00000174D283EF10>\n",
      "<keras.layers.pooling.MaxPooling2D object at 0x00000174AC434400>\n",
      "<keras.layers.convolutional.Conv2D object at 0x00000174AC3A0640>\n",
      "<keras.layers.convolutional.Conv2D object at 0x00000174AC39BA90>\n",
      "<keras.layers.pooling.MaxPooling2D object at 0x00000174AC397B20>\n",
      "<keras.layers.convolutional.Conv2D object at 0x00000174ABA70D90>\n",
      "<keras.layers.convolutional.Conv2D object at 0x00000174AC3971C0>\n",
      "<keras.layers.convolutional.Conv2D object at 0x00000174AC45D460>\n",
      "<keras.layers.pooling.MaxPooling2D object at 0x00000174AC469A00>\n",
      "<keras.layers.convolutional.Conv2D object at 0x00000174AC469760>\n",
      "<keras.layers.convolutional.Conv2D object at 0x00000174AC38AB50>\n",
      "<keras.layers.convolutional.Conv2D object at 0x00000174AB892160>\n",
      "<keras.layers.pooling.MaxPooling2D object at 0x00000174AC1FBEE0>\n",
      "<keras.layers.convolutional.Conv2D object at 0x00000174AA839130>\n",
      "<keras.layers.convolutional.Conv2D object at 0x00000174AA2288B0>\n",
      "<keras.layers.convolutional.Conv2D object at 0x00000174A9D84820>\n",
      "<keras.layers.pooling.MaxPooling2D object at 0x00000174AC1FB130>\n"
     ]
    }
   ],
   "source": [
    "for layer in VGG16_Architecture.layers:\n",
    "    print(layer)\n",
    "    layer.trainable=False"
   ]
  },
  {
   "cell_type": "code",
   "execution_count": 51,
   "id": "coupled-shark",
   "metadata": {},
   "outputs": [
    {
     "data": {
      "text/plain": [
       "['C:\\\\Users\\\\Pankaj singh\\\\OneDrive\\\\Desktop\\\\Python Development\\\\Temporary\\\\Artificial intelligence\\\\Skin_Disease_Detection\\\\Main_Workspace\\\\Data\\\\train\\\\Acne and Rosacea Photos',\n",
       " 'C:\\\\Users\\\\Pankaj singh\\\\OneDrive\\\\Desktop\\\\Python Development\\\\Temporary\\\\Artificial intelligence\\\\Skin_Disease_Detection\\\\Main_Workspace\\\\Data\\\\train\\\\Actinic Keratosis Basal Cell Carcinoma and other Malignant Lesions',\n",
       " 'C:\\\\Users\\\\Pankaj singh\\\\OneDrive\\\\Desktop\\\\Python Development\\\\Temporary\\\\Artificial intelligence\\\\Skin_Disease_Detection\\\\Main_Workspace\\\\Data\\\\train\\\\Atopic Dermatitis Photos',\n",
       " 'C:\\\\Users\\\\Pankaj singh\\\\OneDrive\\\\Desktop\\\\Python Development\\\\Temporary\\\\Artificial intelligence\\\\Skin_Disease_Detection\\\\Main_Workspace\\\\Data\\\\train\\\\Bullous Disease Photos',\n",
       " 'C:\\\\Users\\\\Pankaj singh\\\\OneDrive\\\\Desktop\\\\Python Development\\\\Temporary\\\\Artificial intelligence\\\\Skin_Disease_Detection\\\\Main_Workspace\\\\Data\\\\train\\\\Cellulitis Impetigo and other Bacterial Infections',\n",
       " 'C:\\\\Users\\\\Pankaj singh\\\\OneDrive\\\\Desktop\\\\Python Development\\\\Temporary\\\\Artificial intelligence\\\\Skin_Disease_Detection\\\\Main_Workspace\\\\Data\\\\train\\\\Eczema Photos',\n",
       " 'C:\\\\Users\\\\Pankaj singh\\\\OneDrive\\\\Desktop\\\\Python Development\\\\Temporary\\\\Artificial intelligence\\\\Skin_Disease_Detection\\\\Main_Workspace\\\\Data\\\\train\\\\Exanthems and Drug Eruptions',\n",
       " 'C:\\\\Users\\\\Pankaj singh\\\\OneDrive\\\\Desktop\\\\Python Development\\\\Temporary\\\\Artificial intelligence\\\\Skin_Disease_Detection\\\\Main_Workspace\\\\Data\\\\train\\\\Hair Loss Photos Alopecia and other Hair Diseases',\n",
       " 'C:\\\\Users\\\\Pankaj singh\\\\OneDrive\\\\Desktop\\\\Python Development\\\\Temporary\\\\Artificial intelligence\\\\Skin_Disease_Detection\\\\Main_Workspace\\\\Data\\\\train\\\\Herpes HPV and other STDs Photos',\n",
       " 'C:\\\\Users\\\\Pankaj singh\\\\OneDrive\\\\Desktop\\\\Python Development\\\\Temporary\\\\Artificial intelligence\\\\Skin_Disease_Detection\\\\Main_Workspace\\\\Data\\\\train\\\\Light Diseases and Disorders of Pigmentation',\n",
       " 'C:\\\\Users\\\\Pankaj singh\\\\OneDrive\\\\Desktop\\\\Python Development\\\\Temporary\\\\Artificial intelligence\\\\Skin_Disease_Detection\\\\Main_Workspace\\\\Data\\\\train\\\\Lupus and other Connective Tissue diseases',\n",
       " 'C:\\\\Users\\\\Pankaj singh\\\\OneDrive\\\\Desktop\\\\Python Development\\\\Temporary\\\\Artificial intelligence\\\\Skin_Disease_Detection\\\\Main_Workspace\\\\Data\\\\train\\\\Melanoma Skin Cancer Nevi and Moles',\n",
       " 'C:\\\\Users\\\\Pankaj singh\\\\OneDrive\\\\Desktop\\\\Python Development\\\\Temporary\\\\Artificial intelligence\\\\Skin_Disease_Detection\\\\Main_Workspace\\\\Data\\\\train\\\\Nail Fungus and other Nail Disease',\n",
       " 'C:\\\\Users\\\\Pankaj singh\\\\OneDrive\\\\Desktop\\\\Python Development\\\\Temporary\\\\Artificial intelligence\\\\Skin_Disease_Detection\\\\Main_Workspace\\\\Data\\\\train\\\\Poison Ivy Photos and other Contact Dermatitis',\n",
       " 'C:\\\\Users\\\\Pankaj singh\\\\OneDrive\\\\Desktop\\\\Python Development\\\\Temporary\\\\Artificial intelligence\\\\Skin_Disease_Detection\\\\Main_Workspace\\\\Data\\\\train\\\\Psoriasis pictures Lichen Planus and related diseases',\n",
       " 'C:\\\\Users\\\\Pankaj singh\\\\OneDrive\\\\Desktop\\\\Python Development\\\\Temporary\\\\Artificial intelligence\\\\Skin_Disease_Detection\\\\Main_Workspace\\\\Data\\\\train\\\\Scabies Lyme Disease and other Infestations and Bites',\n",
       " 'C:\\\\Users\\\\Pankaj singh\\\\OneDrive\\\\Desktop\\\\Python Development\\\\Temporary\\\\Artificial intelligence\\\\Skin_Disease_Detection\\\\Main_Workspace\\\\Data\\\\train\\\\Seborrheic Keratoses and other Benign Tumors',\n",
       " 'C:\\\\Users\\\\Pankaj singh\\\\OneDrive\\\\Desktop\\\\Python Development\\\\Temporary\\\\Artificial intelligence\\\\Skin_Disease_Detection\\\\Main_Workspace\\\\Data\\\\train\\\\Systemic Disease',\n",
       " 'C:\\\\Users\\\\Pankaj singh\\\\OneDrive\\\\Desktop\\\\Python Development\\\\Temporary\\\\Artificial intelligence\\\\Skin_Disease_Detection\\\\Main_Workspace\\\\Data\\\\train\\\\Tinea Ringworm Candidiasis and other Fungal Infections',\n",
       " 'C:\\\\Users\\\\Pankaj singh\\\\OneDrive\\\\Desktop\\\\Python Development\\\\Temporary\\\\Artificial intelligence\\\\Skin_Disease_Detection\\\\Main_Workspace\\\\Data\\\\train\\\\Urticaria Hives',\n",
       " 'C:\\\\Users\\\\Pankaj singh\\\\OneDrive\\\\Desktop\\\\Python Development\\\\Temporary\\\\Artificial intelligence\\\\Skin_Disease_Detection\\\\Main_Workspace\\\\Data\\\\train\\\\Vascular Tumors',\n",
       " 'C:\\\\Users\\\\Pankaj singh\\\\OneDrive\\\\Desktop\\\\Python Development\\\\Temporary\\\\Artificial intelligence\\\\Skin_Disease_Detection\\\\Main_Workspace\\\\Data\\\\train\\\\Vasculitis Photos',\n",
       " 'C:\\\\Users\\\\Pankaj singh\\\\OneDrive\\\\Desktop\\\\Python Development\\\\Temporary\\\\Artificial intelligence\\\\Skin_Disease_Detection\\\\Main_Workspace\\\\Data\\\\train\\\\Warts Molluscum and other Viral Infections']"
      ]
     },
     "execution_count": 51,
     "metadata": {},
     "output_type": "execute_result"
    }
   ],
   "source": [
    "folders=glob('C:\\\\Users\\\\Pankaj singh\\\\OneDrive\\\\Desktop\\\\Python Development\\\\Temporary\\\\Artificial intelligence\\\\Skin_Disease_Detection\\\\Main_Workspace\\\\Data\\\\train\\*')\n",
    "folders"
   ]
  },
  {
   "cell_type": "code",
   "execution_count": 52,
   "id": "advance-kitchen",
   "metadata": {},
   "outputs": [],
   "source": [
    "x=Flatten()(VGG16_Architecture.output)"
   ]
  },
  {
   "cell_type": "code",
   "execution_count": 53,
   "id": "divine-hormone",
   "metadata": {},
   "outputs": [
    {
     "data": {
      "text/plain": [
       "<KerasTensor: shape=(None, 25088) dtype=float32 (created by layer 'flatten_1')>"
      ]
     },
     "execution_count": 53,
     "metadata": {},
     "output_type": "execute_result"
    }
   ],
   "source": [
    "x"
   ]
  },
  {
   "cell_type": "code",
   "execution_count": 54,
   "id": "confirmed-shepherd",
   "metadata": {},
   "outputs": [],
   "source": [
    "prediction=Dense(len(folders),activation='softmax')(x)"
   ]
  },
  {
   "cell_type": "code",
   "execution_count": 55,
   "id": "detailed-deficit",
   "metadata": {},
   "outputs": [
    {
     "data": {
      "text/plain": [
       "<KerasTensor: shape=(None, 23) dtype=float32 (created by layer 'dense_1')>"
      ]
     },
     "execution_count": 55,
     "metadata": {},
     "output_type": "execute_result"
    }
   ],
   "source": [
    "prediction"
   ]
  },
  {
   "cell_type": "code",
   "execution_count": 56,
   "id": "floral-recycling",
   "metadata": {},
   "outputs": [],
   "source": [
    "model=Model(inputs=VGG16_Architecture.input,outputs=prediction)"
   ]
  },
  {
   "cell_type": "code",
   "execution_count": 57,
   "id": "secret-straight",
   "metadata": {},
   "outputs": [
    {
     "name": "stdout",
     "output_type": "stream",
     "text": [
      "Model: \"model_1\"\n",
      "_________________________________________________________________\n",
      "Layer (type)                 Output Shape              Param #   \n",
      "=================================================================\n",
      "input_1 (InputLayer)         [(None, 224, 224, 3)]     0         \n",
      "_________________________________________________________________\n",
      "block1_conv1 (Conv2D)        (None, 224, 224, 64)      1792      \n",
      "_________________________________________________________________\n",
      "block1_conv2 (Conv2D)        (None, 224, 224, 64)      36928     \n",
      "_________________________________________________________________\n",
      "block1_pool (MaxPooling2D)   (None, 112, 112, 64)      0         \n",
      "_________________________________________________________________\n",
      "block2_conv1 (Conv2D)        (None, 112, 112, 128)     73856     \n",
      "_________________________________________________________________\n",
      "block2_conv2 (Conv2D)        (None, 112, 112, 128)     147584    \n",
      "_________________________________________________________________\n",
      "block2_pool (MaxPooling2D)   (None, 56, 56, 128)       0         \n",
      "_________________________________________________________________\n",
      "block3_conv1 (Conv2D)        (None, 56, 56, 256)       295168    \n",
      "_________________________________________________________________\n",
      "block3_conv2 (Conv2D)        (None, 56, 56, 256)       590080    \n",
      "_________________________________________________________________\n",
      "block3_conv3 (Conv2D)        (None, 56, 56, 256)       590080    \n",
      "_________________________________________________________________\n",
      "block3_pool (MaxPooling2D)   (None, 28, 28, 256)       0         \n",
      "_________________________________________________________________\n",
      "block4_conv1 (Conv2D)        (None, 28, 28, 512)       1180160   \n",
      "_________________________________________________________________\n",
      "block4_conv2 (Conv2D)        (None, 28, 28, 512)       2359808   \n",
      "_________________________________________________________________\n",
      "block4_conv3 (Conv2D)        (None, 28, 28, 512)       2359808   \n",
      "_________________________________________________________________\n",
      "block4_pool (MaxPooling2D)   (None, 14, 14, 512)       0         \n",
      "_________________________________________________________________\n",
      "block5_conv1 (Conv2D)        (None, 14, 14, 512)       2359808   \n",
      "_________________________________________________________________\n",
      "block5_conv2 (Conv2D)        (None, 14, 14, 512)       2359808   \n",
      "_________________________________________________________________\n",
      "block5_conv3 (Conv2D)        (None, 14, 14, 512)       2359808   \n",
      "_________________________________________________________________\n",
      "block5_pool (MaxPooling2D)   (None, 7, 7, 512)         0         \n",
      "_________________________________________________________________\n",
      "flatten_1 (Flatten)          (None, 25088)             0         \n",
      "_________________________________________________________________\n",
      "dense_1 (Dense)              (None, 23)                577047    \n",
      "=================================================================\n",
      "Total params: 15,291,735\n",
      "Trainable params: 577,047\n",
      "Non-trainable params: 14,714,688\n",
      "_________________________________________________________________\n"
     ]
    }
   ],
   "source": [
    "model.summary()"
   ]
  },
  {
   "cell_type": "code",
   "execution_count": 58,
   "id": "architectural-edwards",
   "metadata": {},
   "outputs": [],
   "source": [
    "model.compile(\n",
    "    loss='categorical_crossentropy',\n",
    "    optimizer='adam',\n",
    "    metrics=['accuracy']\n",
    ")"
   ]
  },
  {
   "cell_type": "code",
   "execution_count": null,
   "id": "operational-string",
   "metadata": {},
   "outputs": [],
   "source": []
  },
  {
   "cell_type": "code",
   "execution_count": 59,
   "id": "congressional-pointer",
   "metadata": {},
   "outputs": [],
   "source": [
    "train_data_generator=ImageDataGenerator(rescale=1./255,shear_range=0.2,zoom_range=0.2,horizontal_flip=True)"
   ]
  },
  {
   "cell_type": "code",
   "execution_count": 60,
   "id": "funny-antarctica",
   "metadata": {},
   "outputs": [
    {
     "data": {
      "text/plain": [
       "<keras.preprocessing.image.ImageDataGenerator at 0x174b242adc0>"
      ]
     },
     "execution_count": 60,
     "metadata": {},
     "output_type": "execute_result"
    }
   ],
   "source": [
    "train_data_generator"
   ]
  },
  {
   "cell_type": "code",
   "execution_count": 61,
   "id": "champion-multiple",
   "metadata": {},
   "outputs": [],
   "source": [
    "test_data_generator=ImageDataGenerator(rescale=1./255)"
   ]
  },
  {
   "cell_type": "code",
   "execution_count": 69,
   "id": "respiratory-mouth",
   "metadata": {},
   "outputs": [
    {
     "name": "stdout",
     "output_type": "stream",
     "text": [
      "Found 15557 images belonging to 23 classes.\n"
     ]
    }
   ],
   "source": [
    "training_set=train_data_generator.flow_from_directory(training_path,target_size=IMAGE_SIZE,batch_size=32,class_mode='categorical')"
   ]
  },
  {
   "cell_type": "code",
   "execution_count": 72,
   "id": "regular-catering",
   "metadata": {},
   "outputs": [
    {
     "name": "stdout",
     "output_type": "stream",
     "text": [
      "Found 4002 images belonging to 23 classes.\n"
     ]
    }
   ],
   "source": [
    "testing_set=test_data_generator.flow_from_directory(testing_path,target_size=IMAGE_SIZE,batch_size=32,class_mode='categorical')"
   ]
  },
  {
   "cell_type": "code",
   "execution_count": 73,
   "id": "formed-finder",
   "metadata": {},
   "outputs": [
    {
     "data": {
      "text/plain": [
       "array([ 0,  0,  0, ..., 22, 22, 22])"
      ]
     },
     "execution_count": 73,
     "metadata": {},
     "output_type": "execute_result"
    }
   ],
   "source": [
    "training_set.labels"
   ]
  },
  {
   "cell_type": "code",
   "execution_count": 74,
   "id": "hourly-october",
   "metadata": {},
   "outputs": [
    {
     "data": {
      "text/plain": [
       "487"
      ]
     },
     "execution_count": 74,
     "metadata": {},
     "output_type": "execute_result"
    }
   ],
   "source": [
    "len(training_set)"
   ]
  },
  {
   "cell_type": "code",
   "execution_count": 75,
   "id": "perceived-collector",
   "metadata": {},
   "outputs": [
    {
     "data": {
      "text/plain": [
       "126"
      ]
     },
     "execution_count": 75,
     "metadata": {},
     "output_type": "execute_result"
    }
   ],
   "source": [
    "len(testing_set)"
   ]
  },
  {
   "cell_type": "code",
   "execution_count": 77,
   "id": "otherwise-webcam",
   "metadata": {},
   "outputs": [
    {
     "name": "stdout",
     "output_type": "stream",
     "text": [
      "487/487 [==============================] - 5078s 10s/step - loss: 2.9878 - accuracy: 0.2173 - val_loss: 2.8608 - val_accuracy: 0.2621\n"
     ]
    },
    {
     "data": {
      "text/plain": [
       "<keras.callbacks.History at 0x174b2441850>"
      ]
     },
     "execution_count": 77,
     "metadata": {},
     "output_type": "execute_result"
    }
   ],
   "source": [
    "model.fit_generator(\n",
    "    training_set,\n",
    "    validation_data=testing_set,\n",
    "    epochs=1,\n",
    "    steps_per_epoch=len(training_set),\n",
    "    validation_steps=len(testing_set)\n",
    ")"
   ]
  },
  {
   "cell_type": "code",
   "execution_count": 78,
   "id": "constant-painting",
   "metadata": {},
   "outputs": [],
   "source": [
    "model.save(\"Predefine_Architecture_VGG16_Model.h5\")"
   ]
  },
  {
   "cell_type": "code",
   "execution_count": null,
   "id": "measured-phenomenon",
   "metadata": {},
   "outputs": [],
   "source": []
  },
  {
   "cell_type": "code",
   "execution_count": null,
   "id": "tribal-memorial",
   "metadata": {},
   "outputs": [],
   "source": []
  },
  {
   "cell_type": "code",
   "execution_count": 167,
   "id": "acting-footage",
   "metadata": {},
   "outputs": [],
   "source": [
    "image_path=\"C:\\\\Users\\\\Pankaj singh\\\\OneDrive\\\\Desktop\\\\Python Development\\\\Temporary\\\\Artificial intelligence\\\\Skin_Disease_Detection\\\\Main_Workspace\\\\Data\\\\train\\\\Bullous Disease Photos\\\\benign-familial-chronic-pemphigus-8.jpg\""
   ]
  },
  {
   "cell_type": "code",
   "execution_count": 168,
   "id": "consolidated-constant",
   "metadata": {},
   "outputs": [],
   "source": [
    "image_data=image.load_img(image_path,target_size=IMAGE_SIZE)"
   ]
  },
  {
   "cell_type": "code",
   "execution_count": 169,
   "id": "pleased-stroke",
   "metadata": {},
   "outputs": [],
   "source": [
    "# image_data"
   ]
  },
  {
   "cell_type": "code",
   "execution_count": 170,
   "id": "retired-defense",
   "metadata": {},
   "outputs": [],
   "source": [
    "image_array=image.img_to_array(image_data)"
   ]
  },
  {
   "cell_type": "code",
   "execution_count": 171,
   "id": "contrary-shepherd",
   "metadata": {},
   "outputs": [],
   "source": [
    "# image_array"
   ]
  },
  {
   "cell_type": "code",
   "execution_count": 172,
   "id": "worth-hello",
   "metadata": {},
   "outputs": [
    {
     "data": {
      "text/plain": [
       "(224, 224, 3)"
      ]
     },
     "execution_count": 172,
     "metadata": {},
     "output_type": "execute_result"
    }
   ],
   "source": [
    "image_array.shape"
   ]
  },
  {
   "cell_type": "code",
   "execution_count": 173,
   "id": "going-motor",
   "metadata": {},
   "outputs": [],
   "source": [
    "image_array_expanded_dimansion=numpy.expand_dims(image_array,axis=0)"
   ]
  },
  {
   "cell_type": "code",
   "execution_count": 174,
   "id": "statewide-grounds",
   "metadata": {},
   "outputs": [],
   "source": [
    "# image_array_expanded_dimansion"
   ]
  },
  {
   "cell_type": "code",
   "execution_count": 175,
   "id": "unlike-steal",
   "metadata": {},
   "outputs": [
    {
     "data": {
      "text/plain": [
       "(1, 224, 224, 3)"
      ]
     },
     "execution_count": 175,
     "metadata": {},
     "output_type": "execute_result"
    }
   ],
   "source": [
    "image_array_expanded_dimansion.shape"
   ]
  },
  {
   "cell_type": "code",
   "execution_count": 176,
   "id": "guilty-competition",
   "metadata": {},
   "outputs": [],
   "source": [
    "preprocessed_image_data=preprocess_input(image_array_expanded_dimansion)"
   ]
  },
  {
   "cell_type": "code",
   "execution_count": 177,
   "id": "fitted-allergy",
   "metadata": {},
   "outputs": [],
   "source": [
    "# preprocessed_image_data"
   ]
  },
  {
   "cell_type": "code",
   "execution_count": 178,
   "id": "cathedral-canal",
   "metadata": {},
   "outputs": [
    {
     "data": {
      "text/plain": [
       "(1, 224, 224, 3)"
      ]
     },
     "execution_count": 178,
     "metadata": {},
     "output_type": "execute_result"
    }
   ],
   "source": [
    "preprocessed_image_data.shape"
   ]
  },
  {
   "cell_type": "code",
   "execution_count": 179,
   "id": "geological-slovenia",
   "metadata": {},
   "outputs": [],
   "source": [
    "predicted_classes=model.predict(preprocessed_image_data)"
   ]
  },
  {
   "cell_type": "code",
   "execution_count": 187,
   "id": "featured-producer",
   "metadata": {},
   "outputs": [
    {
     "data": {
      "text/plain": [
       "array([[0.0000000e+00, 1.2292465e-06, 0.0000000e+00, 0.0000000e+00,\n",
       "        0.0000000e+00, 6.3647259e-31, 0.0000000e+00, 0.0000000e+00,\n",
       "        2.7140622e-22, 0.0000000e+00, 0.0000000e+00, 0.0000000e+00,\n",
       "        0.0000000e+00, 0.0000000e+00, 0.0000000e+00, 0.0000000e+00,\n",
       "        1.3395725e-28, 9.9999881e-01, 0.0000000e+00, 0.0000000e+00,\n",
       "        0.0000000e+00, 2.0686295e-36, 8.7019207e-35]], dtype=float32)"
      ]
     },
     "execution_count": 187,
     "metadata": {},
     "output_type": "execute_result"
    }
   ],
   "source": [
    "predicted_classes"
   ]
  },
  {
   "cell_type": "code",
   "execution_count": 181,
   "id": "overall-youth",
   "metadata": {},
   "outputs": [
    {
     "data": {
      "text/plain": [
       "(1, 23)"
      ]
     },
     "execution_count": 181,
     "metadata": {},
     "output_type": "execute_result"
    }
   ],
   "source": [
    "predicted_classes.shape"
   ]
  },
  {
   "cell_type": "code",
   "execution_count": 182,
   "id": "swiss-cemetery",
   "metadata": {},
   "outputs": [
    {
     "data": {
      "text/plain": [
       "(23,)"
      ]
     },
     "execution_count": 182,
     "metadata": {},
     "output_type": "execute_result"
    }
   ],
   "source": [
    "predicted_classes[0].shape"
   ]
  },
  {
   "cell_type": "code",
   "execution_count": 183,
   "id": "adapted-lunch",
   "metadata": {},
   "outputs": [
    {
     "data": {
      "text/plain": [
       "0.9999988"
      ]
     },
     "execution_count": 183,
     "metadata": {},
     "output_type": "execute_result"
    }
   ],
   "source": [
    "max(predicted_classes[0])"
   ]
  },
  {
   "cell_type": "code",
   "execution_count": 184,
   "id": "distant-rochester",
   "metadata": {},
   "outputs": [],
   "source": [
    "predicted_class=list(predicted_classes[0]).index(max(predicted_classes[0]))"
   ]
  },
  {
   "cell_type": "code",
   "execution_count": 185,
   "id": "congressional-canvas",
   "metadata": {},
   "outputs": [
    {
     "name": "stdout",
     "output_type": "stream",
     "text": [
      "17\n"
     ]
    }
   ],
   "source": [
    "print(predicted_class)"
   ]
  },
  {
   "cell_type": "code",
   "execution_count": 192,
   "id": "stuffed-fitness",
   "metadata": {},
   "outputs": [
    {
     "data": {
      "text/plain": [
       "array([[0.0000000e+00, 0.0000000e+00, 0.0000000e+00, 0.0000000e+00,\n",
       "        0.0000000e+00, 0.0000000e+00, 0.0000000e+00, 0.0000000e+00,\n",
       "        0.0000000e+00, 0.0000000e+00, 0.0000000e+00, 0.0000000e+00,\n",
       "        0.0000000e+00, 0.0000000e+00, 0.0000000e+00, 0.0000000e+00,\n",
       "        2.0686295e-36, 8.7019207e-35, 6.3647259e-31, 1.3395725e-28,\n",
       "        2.7140622e-22, 1.2292465e-06, 9.9999881e-01]], dtype=float32)"
      ]
     },
     "execution_count": 192,
     "metadata": {},
     "output_type": "execute_result"
    }
   ],
   "source": [
    "numpy.sort(predicted_classes)"
   ]
  },
  {
   "cell_type": "code",
   "execution_count": 164,
   "id": "major-values",
   "metadata": {},
   "outputs": [
    {
     "name": "stdout",
     "output_type": "stream",
     "text": [
      "Systemic Disease\n"
     ]
    }
   ],
   "source": [
    "getClassvalue(predicted_class)"
   ]
  },
  {
   "cell_type": "code",
   "execution_count": null,
   "id": "permanent-topic",
   "metadata": {},
   "outputs": [],
   "source": []
  }
 ],
 "metadata": {
  "kernelspec": {
   "display_name": "Python 3",
   "language": "python",
   "name": "python3"
  },
  "language_info": {
   "codemirror_mode": {
    "name": "ipython",
    "version": 3
   },
   "file_extension": ".py",
   "mimetype": "text/x-python",
   "name": "python",
   "nbconvert_exporter": "python",
   "pygments_lexer": "ipython3",
   "version": "3.9.2"
  }
 },
 "nbformat": 4,
 "nbformat_minor": 5
}
