{
 "cells": [
  {
   "cell_type": "code",
   "execution_count": 4,
   "id": "collectible-beatles",
   "metadata": {},
   "outputs": [],
   "source": [
    "import tensorflow\n",
    "from tensorflow import keras\n",
    "from keras.layers import Input,Lambda,Dense,Flatten\n",
    "from keras.models import Model\n",
    "from keras.applications.vgg16 import VGG16,preprocess_input\n",
    "from keras.preprocessing import image\n",
    "from keras.preprocessing.image import ImageDataGenerator\n",
    "from keras.models import Sequential\n",
    "import numpy\n",
    "from glob import glob\n",
    "import matplotlib.pyplot as pyplot\n",
    "from keras.models import load_model"
   ]
  },
  {
   "cell_type": "code",
   "execution_count": null,
   "id": "gross-output",
   "metadata": {},
   "outputs": [],
   "source": []
  },
  {
   "cell_type": "code",
   "execution_count": 29,
   "id": "grateful-blood",
   "metadata": {},
   "outputs": [
    {
     "name": "stdout",
     "output_type": "stream",
     "text": [
      "0 -->  Acne and Rosacea Photos\n",
      "1 -->  Atopic Dermatitis Photos\n",
      "2 -->  Bullous Disease Photos\n",
      "3 -->  Cellulitis Impetigo and other Bacterial Infections\n",
      "4 -->  Herpes HPV and other STDs Photos\n",
      "5 -->  Light Diseases and Disorders of Pigmentation\n",
      "6 -->  Lupus and other Connective Tissue diseases\n",
      "7 -->  Melanoma Skin Cancer Nevi and Moles\n",
      "8 -->  Nail Fungus and other Nail Disease\n",
      "9 -->  Poison Ivy Photos and other Contact Dermatitis\n",
      "10 -->  Psoriasis pictures Lichen Planus and related diseases\n",
      "11 -->  Scabies Lyme Disease and other Infestations and Bites\n",
      "12 -->  Seborrheic Keratoses and other Benign Tumors\n",
      "13 -->  Urticaria Hives\n",
      "14 -->  Vasculitis Photos\n"
     ]
    }
   ],
   "source": [
    "classes_list=['Acne and Rosacea Photos',\n",
    " 'Atopic Dermatitis Photos',\n",
    " 'Bullous Disease Photos',\n",
    " 'Cellulitis Impetigo and other Bacterial Infections',\n",
    " 'Herpes HPV and other STDs Photos',\n",
    " 'Light Diseases and Disorders of Pigmentation',\n",
    " 'Lupus and other Connective Tissue diseases',\n",
    " 'Melanoma Skin Cancer Nevi and Moles',\n",
    " 'Nail Fungus and other Nail Disease',\n",
    " 'Poison Ivy Photos and other Contact Dermatitis',\n",
    " 'Psoriasis pictures Lichen Planus and related diseases',\n",
    " 'Scabies Lyme Disease and other Infestations and Bites',\n",
    " 'Seborrheic Keratoses and other Benign Tumors',\n",
    " 'Urticaria Hives',\n",
    " 'Vasculitis Photos']\n",
    "def printClassList():\n",
    "    for class_name in classes_list:\n",
    "        print(f\"{classes_list.index(class_name)} -->  {class_name}\")\n",
    "printClassList()\n",
    "def getClassvalue(index):\n",
    "    print(classes_list[index])"
   ]
  },
  {
   "cell_type": "code",
   "execution_count": 6,
   "id": "strategic-prison",
   "metadata": {},
   "outputs": [],
   "source": [
    "IMAGE_SIZE=[224,224]\n",
    "training_path='C:\\\\Users\\\\Pankaj singh\\\\OneDrive\\\\Desktop\\\\Python Development\\\\Temporary\\\\Artificial intelligence\\\\Skin_Disease_Detection\\\\Main_Workspace\\\\Try_Error_Data\\\\train'\n",
    "testing_path='C:\\\\Users\\\\Pankaj singh\\\\OneDrive\\\\Desktop\\\\Python Development\\\\Temporary\\\\Artificial intelligence\\\\Skin_Disease_Detection\\\\Main_Workspace\\\\Try_Error_Data\\\\test'"
   ]
  },
  {
   "cell_type": "code",
   "execution_count": 7,
   "id": "characteristic-window",
   "metadata": {},
   "outputs": [],
   "source": [
    "VGG16_Architecture=VGG16(input_shape=IMAGE_SIZE+[3],weights='imagenet',include_top=False)"
   ]
  },
  {
   "cell_type": "code",
   "execution_count": 8,
   "id": "cardiovascular-funds",
   "metadata": {},
   "outputs": [
    {
     "name": "stdout",
     "output_type": "stream",
     "text": [
      "Model: \"vgg16\"\n",
      "_________________________________________________________________\n",
      "Layer (type)                 Output Shape              Param #   \n",
      "=================================================================\n",
      "input_1 (InputLayer)         [(None, 224, 224, 3)]     0         \n",
      "_________________________________________________________________\n",
      "block1_conv1 (Conv2D)        (None, 224, 224, 64)      1792      \n",
      "_________________________________________________________________\n",
      "block1_conv2 (Conv2D)        (None, 224, 224, 64)      36928     \n",
      "_________________________________________________________________\n",
      "block1_pool (MaxPooling2D)   (None, 112, 112, 64)      0         \n",
      "_________________________________________________________________\n",
      "block2_conv1 (Conv2D)        (None, 112, 112, 128)     73856     \n",
      "_________________________________________________________________\n",
      "block2_conv2 (Conv2D)        (None, 112, 112, 128)     147584    \n",
      "_________________________________________________________________\n",
      "block2_pool (MaxPooling2D)   (None, 56, 56, 128)       0         \n",
      "_________________________________________________________________\n",
      "block3_conv1 (Conv2D)        (None, 56, 56, 256)       295168    \n",
      "_________________________________________________________________\n",
      "block3_conv2 (Conv2D)        (None, 56, 56, 256)       590080    \n",
      "_________________________________________________________________\n",
      "block3_conv3 (Conv2D)        (None, 56, 56, 256)       590080    \n",
      "_________________________________________________________________\n",
      "block3_pool (MaxPooling2D)   (None, 28, 28, 256)       0         \n",
      "_________________________________________________________________\n",
      "block4_conv1 (Conv2D)        (None, 28, 28, 512)       1180160   \n",
      "_________________________________________________________________\n",
      "block4_conv2 (Conv2D)        (None, 28, 28, 512)       2359808   \n",
      "_________________________________________________________________\n",
      "block4_conv3 (Conv2D)        (None, 28, 28, 512)       2359808   \n",
      "_________________________________________________________________\n",
      "block4_pool (MaxPooling2D)   (None, 14, 14, 512)       0         \n",
      "_________________________________________________________________\n",
      "block5_conv1 (Conv2D)        (None, 14, 14, 512)       2359808   \n",
      "_________________________________________________________________\n",
      "block5_conv2 (Conv2D)        (None, 14, 14, 512)       2359808   \n",
      "_________________________________________________________________\n",
      "block5_conv3 (Conv2D)        (None, 14, 14, 512)       2359808   \n",
      "_________________________________________________________________\n",
      "block5_pool (MaxPooling2D)   (None, 7, 7, 512)         0         \n",
      "=================================================================\n",
      "Total params: 14,714,688\n",
      "Trainable params: 14,714,688\n",
      "Non-trainable params: 0\n",
      "_________________________________________________________________\n"
     ]
    }
   ],
   "source": [
    "VGG16_Architecture.summary()"
   ]
  },
  {
   "cell_type": "code",
   "execution_count": 9,
   "id": "understanding-copyright",
   "metadata": {},
   "outputs": [
    {
     "name": "stdout",
     "output_type": "stream",
     "text": [
      "<keras.engine.input_layer.InputLayer object at 0x00000241B83CAE50>\n",
      "<keras.layers.convolutional.Conv2D object at 0x000002418F9598E0>\n",
      "<keras.layers.convolutional.Conv2D object at 0x000002418F959EE0>\n",
      "<keras.layers.pooling.MaxPooling2D object at 0x000002418FA41730>\n",
      "<keras.layers.convolutional.Conv2D object at 0x000002418FA09F70>\n",
      "<keras.layers.convolutional.Conv2D object at 0x000002418FA49220>\n",
      "<keras.layers.pooling.MaxPooling2D object at 0x000002418FA52EE0>\n",
      "<keras.layers.convolutional.Conv2D object at 0x000002418FA5BEE0>\n",
      "<keras.layers.convolutional.Conv2D object at 0x000002418FA52E80>\n",
      "<keras.layers.convolutional.Conv2D object at 0x000002418FA62790>\n",
      "<keras.layers.pooling.MaxPooling2D object at 0x000002418FA64B50>\n",
      "<keras.layers.convolutional.Conv2D object at 0x000002418FA64A90>\n",
      "<keras.layers.convolutional.Conv2D object at 0x000002418FA6A490>\n",
      "<keras.layers.convolutional.Conv2D object at 0x000002418FA73400>\n",
      "<keras.layers.pooling.MaxPooling2D object at 0x000002418FA52070>\n",
      "<keras.layers.convolutional.Conv2D object at 0x000002418FA73E20>\n",
      "<keras.layers.convolutional.Conv2D object at 0x000002418FA810A0>\n",
      "<keras.layers.convolutional.Conv2D object at 0x000002418FA81C40>\n",
      "<keras.layers.pooling.MaxPooling2D object at 0x000002418FA842B0>\n"
     ]
    }
   ],
   "source": [
    "for layer in VGG16_Architecture.layers:\n",
    "    print(layer)\n",
    "    layer.trainable=False"
   ]
  },
  {
   "cell_type": "code",
   "execution_count": 10,
   "id": "coupled-shark",
   "metadata": {},
   "outputs": [
    {
     "data": {
      "text/plain": [
       "['C:\\\\Users\\\\Pankaj singh\\\\OneDrive\\\\Desktop\\\\Python Development\\\\Temporary\\\\Artificial intelligence\\\\Skin_Disease_Detection\\\\Main_Workspace\\\\Try_Error_Data\\\\train\\\\Acne and Rosacea Photos',\n",
       " 'C:\\\\Users\\\\Pankaj singh\\\\OneDrive\\\\Desktop\\\\Python Development\\\\Temporary\\\\Artificial intelligence\\\\Skin_Disease_Detection\\\\Main_Workspace\\\\Try_Error_Data\\\\train\\\\Atopic Dermatitis Photos',\n",
       " 'C:\\\\Users\\\\Pankaj singh\\\\OneDrive\\\\Desktop\\\\Python Development\\\\Temporary\\\\Artificial intelligence\\\\Skin_Disease_Detection\\\\Main_Workspace\\\\Try_Error_Data\\\\train\\\\Bullous Disease Photos',\n",
       " 'C:\\\\Users\\\\Pankaj singh\\\\OneDrive\\\\Desktop\\\\Python Development\\\\Temporary\\\\Artificial intelligence\\\\Skin_Disease_Detection\\\\Main_Workspace\\\\Try_Error_Data\\\\train\\\\Cellulitis Impetigo and other Bacterial Infections',\n",
       " 'C:\\\\Users\\\\Pankaj singh\\\\OneDrive\\\\Desktop\\\\Python Development\\\\Temporary\\\\Artificial intelligence\\\\Skin_Disease_Detection\\\\Main_Workspace\\\\Try_Error_Data\\\\train\\\\Herpes HPV and other STDs Photos',\n",
       " 'C:\\\\Users\\\\Pankaj singh\\\\OneDrive\\\\Desktop\\\\Python Development\\\\Temporary\\\\Artificial intelligence\\\\Skin_Disease_Detection\\\\Main_Workspace\\\\Try_Error_Data\\\\train\\\\Light Diseases and Disorders of Pigmentation',\n",
       " 'C:\\\\Users\\\\Pankaj singh\\\\OneDrive\\\\Desktop\\\\Python Development\\\\Temporary\\\\Artificial intelligence\\\\Skin_Disease_Detection\\\\Main_Workspace\\\\Try_Error_Data\\\\train\\\\Lupus and other Connective Tissue diseases',\n",
       " 'C:\\\\Users\\\\Pankaj singh\\\\OneDrive\\\\Desktop\\\\Python Development\\\\Temporary\\\\Artificial intelligence\\\\Skin_Disease_Detection\\\\Main_Workspace\\\\Try_Error_Data\\\\train\\\\Melanoma Skin Cancer Nevi and Moles',\n",
       " 'C:\\\\Users\\\\Pankaj singh\\\\OneDrive\\\\Desktop\\\\Python Development\\\\Temporary\\\\Artificial intelligence\\\\Skin_Disease_Detection\\\\Main_Workspace\\\\Try_Error_Data\\\\train\\\\Nail Fungus and other Nail Disease',\n",
       " 'C:\\\\Users\\\\Pankaj singh\\\\OneDrive\\\\Desktop\\\\Python Development\\\\Temporary\\\\Artificial intelligence\\\\Skin_Disease_Detection\\\\Main_Workspace\\\\Try_Error_Data\\\\train\\\\Poison Ivy Photos and other Contact Dermatitis',\n",
       " 'C:\\\\Users\\\\Pankaj singh\\\\OneDrive\\\\Desktop\\\\Python Development\\\\Temporary\\\\Artificial intelligence\\\\Skin_Disease_Detection\\\\Main_Workspace\\\\Try_Error_Data\\\\train\\\\Psoriasis pictures Lichen Planus and related diseases',\n",
       " 'C:\\\\Users\\\\Pankaj singh\\\\OneDrive\\\\Desktop\\\\Python Development\\\\Temporary\\\\Artificial intelligence\\\\Skin_Disease_Detection\\\\Main_Workspace\\\\Try_Error_Data\\\\train\\\\Scabies Lyme Disease and other Infestations and Bites',\n",
       " 'C:\\\\Users\\\\Pankaj singh\\\\OneDrive\\\\Desktop\\\\Python Development\\\\Temporary\\\\Artificial intelligence\\\\Skin_Disease_Detection\\\\Main_Workspace\\\\Try_Error_Data\\\\train\\\\Seborrheic Keratoses and other Benign Tumors',\n",
       " 'C:\\\\Users\\\\Pankaj singh\\\\OneDrive\\\\Desktop\\\\Python Development\\\\Temporary\\\\Artificial intelligence\\\\Skin_Disease_Detection\\\\Main_Workspace\\\\Try_Error_Data\\\\train\\\\Urticaria Hives',\n",
       " 'C:\\\\Users\\\\Pankaj singh\\\\OneDrive\\\\Desktop\\\\Python Development\\\\Temporary\\\\Artificial intelligence\\\\Skin_Disease_Detection\\\\Main_Workspace\\\\Try_Error_Data\\\\train\\\\Vasculitis Photos']"
      ]
     },
     "execution_count": 10,
     "metadata": {},
     "output_type": "execute_result"
    }
   ],
   "source": [
    "folders=glob('C:\\\\Users\\\\Pankaj singh\\\\OneDrive\\\\Desktop\\\\Python Development\\\\Temporary\\\\Artificial intelligence\\\\Skin_Disease_Detection\\\\Main_Workspace\\\\Try_Error_Data\\\\train\\*')\n",
    "folders"
   ]
  },
  {
   "cell_type": "code",
   "execution_count": 11,
   "id": "advance-kitchen",
   "metadata": {},
   "outputs": [],
   "source": [
    "x=Flatten()(VGG16_Architecture.output)"
   ]
  },
  {
   "cell_type": "code",
   "execution_count": 12,
   "id": "divine-hormone",
   "metadata": {},
   "outputs": [
    {
     "data": {
      "text/plain": [
       "<KerasTensor: shape=(None, 25088) dtype=float32 (created by layer 'flatten')>"
      ]
     },
     "execution_count": 12,
     "metadata": {},
     "output_type": "execute_result"
    }
   ],
   "source": [
    "x"
   ]
  },
  {
   "cell_type": "code",
   "execution_count": 13,
   "id": "confirmed-shepherd",
   "metadata": {},
   "outputs": [],
   "source": [
    "prediction=Dense(len(folders),activation='softmax')(x)"
   ]
  },
  {
   "cell_type": "code",
   "execution_count": 14,
   "id": "detailed-deficit",
   "metadata": {},
   "outputs": [
    {
     "data": {
      "text/plain": [
       "<KerasTensor: shape=(None, 15) dtype=float32 (created by layer 'dense')>"
      ]
     },
     "execution_count": 14,
     "metadata": {},
     "output_type": "execute_result"
    }
   ],
   "source": [
    "prediction"
   ]
  },
  {
   "cell_type": "code",
   "execution_count": 15,
   "id": "floral-recycling",
   "metadata": {},
   "outputs": [],
   "source": [
    "model=Model(inputs=VGG16_Architecture.input,outputs=prediction)"
   ]
  },
  {
   "cell_type": "code",
   "execution_count": 16,
   "id": "secret-straight",
   "metadata": {},
   "outputs": [
    {
     "name": "stdout",
     "output_type": "stream",
     "text": [
      "Model: \"model\"\n",
      "_________________________________________________________________\n",
      "Layer (type)                 Output Shape              Param #   \n",
      "=================================================================\n",
      "input_1 (InputLayer)         [(None, 224, 224, 3)]     0         \n",
      "_________________________________________________________________\n",
      "block1_conv1 (Conv2D)        (None, 224, 224, 64)      1792      \n",
      "_________________________________________________________________\n",
      "block1_conv2 (Conv2D)        (None, 224, 224, 64)      36928     \n",
      "_________________________________________________________________\n",
      "block1_pool (MaxPooling2D)   (None, 112, 112, 64)      0         \n",
      "_________________________________________________________________\n",
      "block2_conv1 (Conv2D)        (None, 112, 112, 128)     73856     \n",
      "_________________________________________________________________\n",
      "block2_conv2 (Conv2D)        (None, 112, 112, 128)     147584    \n",
      "_________________________________________________________________\n",
      "block2_pool (MaxPooling2D)   (None, 56, 56, 128)       0         \n",
      "_________________________________________________________________\n",
      "block3_conv1 (Conv2D)        (None, 56, 56, 256)       295168    \n",
      "_________________________________________________________________\n",
      "block3_conv2 (Conv2D)        (None, 56, 56, 256)       590080    \n",
      "_________________________________________________________________\n",
      "block3_conv3 (Conv2D)        (None, 56, 56, 256)       590080    \n",
      "_________________________________________________________________\n",
      "block3_pool (MaxPooling2D)   (None, 28, 28, 256)       0         \n",
      "_________________________________________________________________\n",
      "block4_conv1 (Conv2D)        (None, 28, 28, 512)       1180160   \n",
      "_________________________________________________________________\n",
      "block4_conv2 (Conv2D)        (None, 28, 28, 512)       2359808   \n",
      "_________________________________________________________________\n",
      "block4_conv3 (Conv2D)        (None, 28, 28, 512)       2359808   \n",
      "_________________________________________________________________\n",
      "block4_pool (MaxPooling2D)   (None, 14, 14, 512)       0         \n",
      "_________________________________________________________________\n",
      "block5_conv1 (Conv2D)        (None, 14, 14, 512)       2359808   \n",
      "_________________________________________________________________\n",
      "block5_conv2 (Conv2D)        (None, 14, 14, 512)       2359808   \n",
      "_________________________________________________________________\n",
      "block5_conv3 (Conv2D)        (None, 14, 14, 512)       2359808   \n",
      "_________________________________________________________________\n",
      "block5_pool (MaxPooling2D)   (None, 7, 7, 512)         0         \n",
      "_________________________________________________________________\n",
      "flatten (Flatten)            (None, 25088)             0         \n",
      "_________________________________________________________________\n",
      "dense (Dense)                (None, 15)                376335    \n",
      "=================================================================\n",
      "Total params: 15,091,023\n",
      "Trainable params: 376,335\n",
      "Non-trainable params: 14,714,688\n",
      "_________________________________________________________________\n"
     ]
    }
   ],
   "source": [
    "model.summary()"
   ]
  },
  {
   "cell_type": "code",
   "execution_count": 17,
   "id": "architectural-edwards",
   "metadata": {},
   "outputs": [],
   "source": [
    "model.compile(\n",
    "    loss='categorical_crossentropy',\n",
    "    optimizer='adam',\n",
    "    metrics=['accuracy']\n",
    ")"
   ]
  },
  {
   "cell_type": "code",
   "execution_count": null,
   "id": "operational-string",
   "metadata": {},
   "outputs": [],
   "source": []
  },
  {
   "cell_type": "code",
   "execution_count": 18,
   "id": "congressional-pointer",
   "metadata": {},
   "outputs": [],
   "source": [
    "train_data_generator=ImageDataGenerator(rescale=1./255,shear_range=0.2,zoom_range=0.2,horizontal_flip=True)"
   ]
  },
  {
   "cell_type": "code",
   "execution_count": 19,
   "id": "funny-antarctica",
   "metadata": {},
   "outputs": [
    {
     "data": {
      "text/plain": [
       "<keras.preprocessing.image.ImageDataGenerator at 0x2418fa73d60>"
      ]
     },
     "execution_count": 19,
     "metadata": {},
     "output_type": "execute_result"
    }
   ],
   "source": [
    "train_data_generator"
   ]
  },
  {
   "cell_type": "code",
   "execution_count": 20,
   "id": "champion-multiple",
   "metadata": {},
   "outputs": [],
   "source": [
    "test_data_generator=ImageDataGenerator(rescale=1./255)"
   ]
  },
  {
   "cell_type": "code",
   "execution_count": 21,
   "id": "respiratory-mouth",
   "metadata": {},
   "outputs": [
    {
     "name": "stdout",
     "output_type": "stream",
     "text": [
      "Found 9056 images belonging to 15 classes.\n"
     ]
    }
   ],
   "source": [
    "training_set=train_data_generator.flow_from_directory(training_path,target_size=IMAGE_SIZE,batch_size=32,class_mode='categorical')"
   ]
  },
  {
   "cell_type": "code",
   "execution_count": 22,
   "id": "regular-catering",
   "metadata": {},
   "outputs": [
    {
     "name": "stdout",
     "output_type": "stream",
     "text": [
      "Found 2374 images belonging to 15 classes.\n"
     ]
    }
   ],
   "source": [
    "testing_set=test_data_generator.flow_from_directory(testing_path,target_size=IMAGE_SIZE,batch_size=32,class_mode='categorical')"
   ]
  },
  {
   "cell_type": "code",
   "execution_count": 23,
   "id": "formed-finder",
   "metadata": {},
   "outputs": [
    {
     "data": {
      "text/plain": [
       "array([ 0,  0,  0, ..., 14, 14, 14])"
      ]
     },
     "execution_count": 23,
     "metadata": {},
     "output_type": "execute_result"
    }
   ],
   "source": [
    "training_set.labels"
   ]
  },
  {
   "cell_type": "code",
   "execution_count": 24,
   "id": "hourly-october",
   "metadata": {},
   "outputs": [
    {
     "data": {
      "text/plain": [
       "283"
      ]
     },
     "execution_count": 24,
     "metadata": {},
     "output_type": "execute_result"
    }
   ],
   "source": [
    "len(training_set)"
   ]
  },
  {
   "cell_type": "code",
   "execution_count": 25,
   "id": "perceived-collector",
   "metadata": {},
   "outputs": [
    {
     "data": {
      "text/plain": [
       "75"
      ]
     },
     "execution_count": 25,
     "metadata": {},
     "output_type": "execute_result"
    }
   ],
   "source": [
    "len(testing_set)"
   ]
  },
  {
   "cell_type": "code",
   "execution_count": 26,
   "id": "otherwise-webcam",
   "metadata": {},
   "outputs": [
    {
     "name": "stderr",
     "output_type": "stream",
     "text": [
      "C:\\Users\\Pankaj singh\\AppData\\Roaming\\Python\\Python39\\site-packages\\keras\\engine\\training.py:1972: UserWarning: `Model.fit_generator` is deprecated and will be removed in a future version. Please use `Model.fit`, which supports generators.\n",
      "  warnings.warn('`Model.fit_generator` is deprecated and '\n"
     ]
    },
    {
     "name": "stdout",
     "output_type": "stream",
     "text": [
      "283/283 [==============================] - 3358s 12s/step - loss: 2.4646 - accuracy: 0.3066 - val_loss: 2.2836 - val_accuracy: 0.3665\n"
     ]
    },
    {
     "data": {
      "text/plain": [
       "<keras.callbacks.History at 0x2418fd42580>"
      ]
     },
     "execution_count": 26,
     "metadata": {},
     "output_type": "execute_result"
    }
   ],
   "source": [
    "model.fit_generator(\n",
    "    training_set,\n",
    "    validation_data=testing_set,\n",
    "    epochs=1,\n",
    "    steps_per_epoch=len(training_set),\n",
    "    validation_steps=len(testing_set),\n",
    "    verbose=1\n",
    ")"
   ]
  },
  {
   "cell_type": "code",
   "execution_count": 27,
   "id": "constant-painting",
   "metadata": {},
   "outputs": [],
   "source": [
    "model.save(\"Predefine_Architecture_VGG16_Model_For_Trial_Data.h5\")"
   ]
  },
  {
   "cell_type": "code",
   "execution_count": null,
   "id": "measured-phenomenon",
   "metadata": {},
   "outputs": [],
   "source": []
  },
  {
   "cell_type": "code",
   "execution_count": null,
   "id": "tribal-memorial",
   "metadata": {},
   "outputs": [],
   "source": []
  },
  {
   "cell_type": "code",
   "execution_count": 28,
   "id": "acting-footage",
   "metadata": {},
   "outputs": [],
   "source": [
    "image_path=\"C:\\\\Users\\\\Pankaj singh\\\\OneDrive\\\\Desktop\\\\Python Development\\\\Temporary\\\\Artificial intelligence\\\\Skin_Disease_Detection\\\\Main_Workspace\\\\Data\\\\train\\\\Bullous Disease Photos\\\\benign-familial-chronic-pemphigus-8.jpg\""
   ]
  },
  {
   "cell_type": "code",
   "execution_count": 30,
   "id": "consolidated-constant",
   "metadata": {},
   "outputs": [],
   "source": [
    "image_data=image.load_img(image_path,target_size=IMAGE_SIZE)"
   ]
  },
  {
   "cell_type": "code",
   "execution_count": 31,
   "id": "pleased-stroke",
   "metadata": {},
   "outputs": [],
   "source": [
    "# image_data"
   ]
  },
  {
   "cell_type": "code",
   "execution_count": 32,
   "id": "retired-defense",
   "metadata": {},
   "outputs": [],
   "source": [
    "image_array=image.img_to_array(image_data)"
   ]
  },
  {
   "cell_type": "code",
   "execution_count": 33,
   "id": "contrary-shepherd",
   "metadata": {},
   "outputs": [],
   "source": [
    "# image_array"
   ]
  },
  {
   "cell_type": "code",
   "execution_count": 34,
   "id": "worth-hello",
   "metadata": {},
   "outputs": [
    {
     "data": {
      "text/plain": [
       "(224, 224, 3)"
      ]
     },
     "execution_count": 34,
     "metadata": {},
     "output_type": "execute_result"
    }
   ],
   "source": [
    "image_array.shape"
   ]
  },
  {
   "cell_type": "code",
   "execution_count": 35,
   "id": "going-motor",
   "metadata": {},
   "outputs": [],
   "source": [
    "image_array_expanded_dimansion=numpy.expand_dims(image_array,axis=0)"
   ]
  },
  {
   "cell_type": "code",
   "execution_count": 36,
   "id": "statewide-grounds",
   "metadata": {},
   "outputs": [],
   "source": [
    "# image_array_expanded_dimansion"
   ]
  },
  {
   "cell_type": "code",
   "execution_count": 37,
   "id": "unlike-steal",
   "metadata": {},
   "outputs": [
    {
     "data": {
      "text/plain": [
       "(1, 224, 224, 3)"
      ]
     },
     "execution_count": 37,
     "metadata": {},
     "output_type": "execute_result"
    }
   ],
   "source": [
    "image_array_expanded_dimansion.shape"
   ]
  },
  {
   "cell_type": "code",
   "execution_count": 38,
   "id": "guilty-competition",
   "metadata": {},
   "outputs": [],
   "source": [
    "preprocessed_image_data=preprocess_input(image_array_expanded_dimansion)"
   ]
  },
  {
   "cell_type": "code",
   "execution_count": 39,
   "id": "fitted-allergy",
   "metadata": {},
   "outputs": [],
   "source": [
    "# preprocessed_image_data"
   ]
  },
  {
   "cell_type": "code",
   "execution_count": 40,
   "id": "cathedral-canal",
   "metadata": {},
   "outputs": [
    {
     "data": {
      "text/plain": [
       "(1, 224, 224, 3)"
      ]
     },
     "execution_count": 40,
     "metadata": {},
     "output_type": "execute_result"
    }
   ],
   "source": [
    "preprocessed_image_data.shape"
   ]
  },
  {
   "cell_type": "code",
   "execution_count": 41,
   "id": "geological-slovenia",
   "metadata": {},
   "outputs": [],
   "source": [
    "predicted_classes=model.predict(preprocessed_image_data)"
   ]
  },
  {
   "cell_type": "code",
   "execution_count": 42,
   "id": "featured-producer",
   "metadata": {},
   "outputs": [
    {
     "data": {
      "text/plain": [
       "array([[1.6274130e-33, 1.8073580e-24, 6.1976896e-18, 7.0882465e-27,\n",
       "        2.7616872e-04, 6.3559198e-28, 7.3468580e-13, 1.4848394e-23,\n",
       "        1.5733046e-33, 0.0000000e+00, 3.0928604e-19, 3.1306170e-13,\n",
       "        9.9203828e-07, 0.0000000e+00, 9.9972290e-01]], dtype=float32)"
      ]
     },
     "execution_count": 42,
     "metadata": {},
     "output_type": "execute_result"
    }
   ],
   "source": [
    "predicted_classes"
   ]
  },
  {
   "cell_type": "code",
   "execution_count": 43,
   "id": "overall-youth",
   "metadata": {},
   "outputs": [
    {
     "data": {
      "text/plain": [
       "(1, 15)"
      ]
     },
     "execution_count": 43,
     "metadata": {},
     "output_type": "execute_result"
    }
   ],
   "source": [
    "predicted_classes.shape"
   ]
  },
  {
   "cell_type": "code",
   "execution_count": 44,
   "id": "swiss-cemetery",
   "metadata": {},
   "outputs": [
    {
     "data": {
      "text/plain": [
       "(15,)"
      ]
     },
     "execution_count": 44,
     "metadata": {},
     "output_type": "execute_result"
    }
   ],
   "source": [
    "predicted_classes[0].shape"
   ]
  },
  {
   "cell_type": "code",
   "execution_count": 45,
   "id": "adapted-lunch",
   "metadata": {},
   "outputs": [
    {
     "data": {
      "text/plain": [
       "0.9997229"
      ]
     },
     "execution_count": 45,
     "metadata": {},
     "output_type": "execute_result"
    }
   ],
   "source": [
    "max(predicted_classes[0])"
   ]
  },
  {
   "cell_type": "code",
   "execution_count": 46,
   "id": "distant-rochester",
   "metadata": {},
   "outputs": [],
   "source": [
    "predicted_class=list(predicted_classes[0]).index(max(predicted_classes[0]))"
   ]
  },
  {
   "cell_type": "code",
   "execution_count": 47,
   "id": "congressional-canvas",
   "metadata": {},
   "outputs": [
    {
     "name": "stdout",
     "output_type": "stream",
     "text": [
      "14\n"
     ]
    }
   ],
   "source": [
    "print(predicted_class)"
   ]
  },
  {
   "cell_type": "code",
   "execution_count": 48,
   "id": "stuffed-fitness",
   "metadata": {},
   "outputs": [
    {
     "data": {
      "text/plain": [
       "array([[0.0000000e+00, 0.0000000e+00, 1.5733046e-33, 1.6274130e-33,\n",
       "        6.3559198e-28, 7.0882465e-27, 1.8073580e-24, 1.4848394e-23,\n",
       "        3.0928604e-19, 6.1976896e-18, 3.1306170e-13, 7.3468580e-13,\n",
       "        9.9203828e-07, 2.7616872e-04, 9.9972290e-01]], dtype=float32)"
      ]
     },
     "execution_count": 48,
     "metadata": {},
     "output_type": "execute_result"
    }
   ],
   "source": [
    "numpy.sort(predicted_classes)"
   ]
  },
  {
   "cell_type": "code",
   "execution_count": 49,
   "id": "major-values",
   "metadata": {},
   "outputs": [
    {
     "name": "stdout",
     "output_type": "stream",
     "text": [
      "Vasculitis Photos\n"
     ]
    }
   ],
   "source": [
    "getClassvalue(predicted_class)"
   ]
  },
  {
   "cell_type": "code",
   "execution_count": 50,
   "id": "permanent-topic",
   "metadata": {},
   "outputs": [
    {
     "name": "stdout",
     "output_type": "stream",
     "text": [
      "0 -->  Acne and Rosacea Photos\n",
      "1 -->  Atopic Dermatitis Photos\n",
      "2 -->  Bullous Disease Photos\n",
      "3 -->  Cellulitis Impetigo and other Bacterial Infections\n",
      "4 -->  Herpes HPV and other STDs Photos\n",
      "5 -->  Light Diseases and Disorders of Pigmentation\n",
      "6 -->  Lupus and other Connective Tissue diseases\n",
      "7 -->  Melanoma Skin Cancer Nevi and Moles\n",
      "8 -->  Nail Fungus and other Nail Disease\n",
      "9 -->  Poison Ivy Photos and other Contact Dermatitis\n",
      "10 -->  Psoriasis pictures Lichen Planus and related diseases\n",
      "11 -->  Scabies Lyme Disease and other Infestations and Bites\n",
      "12 -->  Seborrheic Keratoses and other Benign Tumors\n",
      "13 -->  Urticaria Hives\n",
      "14 -->  Vasculitis Photos\n"
     ]
    }
   ],
   "source": [
    "printClassList()"
   ]
  },
  {
   "cell_type": "code",
   "execution_count": null,
   "id": "prospective-salon",
   "metadata": {},
   "outputs": [],
   "source": []
  },
  {
   "cell_type": "code",
   "execution_count": null,
   "id": "pending-width",
   "metadata": {},
   "outputs": [],
   "source": []
  },
  {
   "cell_type": "code",
   "execution_count": null,
   "id": "touched-shannon",
   "metadata": {},
   "outputs": [],
   "source": []
  },
  {
   "cell_type": "code",
   "execution_count": null,
   "id": "mental-consciousness",
   "metadata": {},
   "outputs": [],
   "source": []
  },
  {
   "cell_type": "code",
   "execution_count": null,
   "id": "involved-twist",
   "metadata": {},
   "outputs": [],
   "source": []
  }
 ],
 "metadata": {
  "kernelspec": {
   "display_name": "Python 3",
   "language": "python",
   "name": "python3"
  },
  "language_info": {
   "codemirror_mode": {
    "name": "ipython",
    "version": 3
   },
   "file_extension": ".py",
   "mimetype": "text/x-python",
   "name": "python",
   "nbconvert_exporter": "python",
   "pygments_lexer": "ipython3",
   "version": "3.9.2"
  }
 },
 "nbformat": 4,
 "nbformat_minor": 5
}
