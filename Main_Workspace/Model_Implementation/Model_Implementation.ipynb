{
 "cells": [
  {
   "cell_type": "markdown",
   "id": "modified-julian",
   "metadata": {},
   "source": [
    "# Library imports"
   ]
  },
  {
   "cell_type": "code",
   "execution_count": 148,
   "id": "radical-sense",
   "metadata": {},
   "outputs": [],
   "source": [
    "import tensorflow\n",
    "import numpy\n",
    "import IPython\n",
    "from matplotlib import pyplot\n",
    "import cv2\n",
    "import PIL\n",
    "import os\n",
    "import random\n",
    "import pickle\n",
    "import keras\n",
    "from sklearn.metrics import confusion_matrix,classification_report\n",
    "from tensorflow.keras.utils import plot_model\n",
    "import seaborn\n",
    "# %matplotlib qt\n",
    "%matplotlib inline"
   ]
  },
  {
   "cell_type": "markdown",
   "id": "australian-trade",
   "metadata": {},
   "source": [
    "# Data imports"
   ]
  },
  {
   "cell_type": "code",
   "execution_count": 4,
   "id": "mechanical-bride",
   "metadata": {},
   "outputs": [
    {
     "name": "stdout",
     "output_type": "stream",
     "text": [
      "0 -->  Facial acne\n",
      "1 -->  Melanoma\n",
      "2 -->  Psoriasis\n",
      "3 -->  Ringworm\n"
     ]
    }
   ],
   "source": [
    "classes_list=['Facial acne', 'Melanoma', 'Psoriasis', 'Ringworm']\n",
    "def printClassList():\n",
    "    for class_name in classes_list:\n",
    "        print(f\"{classes_list.index(class_name)} -->  {class_name}\")\n",
    "printClassList()   \n",
    "def getClassvalue(index):\n",
    "    print(classes_list[index])"
   ]
  },
  {
   "cell_type": "code",
   "execution_count": 15,
   "id": "threaded-swedish",
   "metadata": {},
   "outputs": [],
   "source": [
    "loaded_pickle_features=open(\"../Data/objects/pickle_fetures.pickle\",\"rb\")\n",
    "Training_Features=pickle.load(loaded_pickle_features)\n",
    "loaded_pickle_features.close()\n",
    "loaded_pickle_labels=open(\"../Data/objects/pickle_labels.pickle\",\"rb\")\n",
    "Training_Labels=pickle.load(loaded_pickle_labels)\n",
    "loaded_pickle_labels.close()"
   ]
  },
  {
   "cell_type": "code",
   "execution_count": 16,
   "id": "textile-promise",
   "metadata": {},
   "outputs": [],
   "source": [
    "loaded_pickle_testing_features=open(\"../Data/objects/pickle_testing_fetures.pickle\",\"rb\")\n",
    "Testing_Features=pickle.load(loaded_pickle_testing_features)\n",
    "loaded_pickle_testing_features.close()\n",
    "loaded_pickle_testing_labels=open(\"../Data/objects/pickle_testing_labels.pickle\",\"rb\")\n",
    "Testing_Labels=pickle.load(loaded_pickle_testing_labels)\n",
    "loaded_pickle_testing_labels.close()"
   ]
  },
  {
   "cell_type": "code",
   "execution_count": 17,
   "id": "urban-sweet",
   "metadata": {},
   "outputs": [
    {
     "data": {
      "text/plain": [
       "array([[[173, 158, 173, ...,  78,  85,  84],\n",
       "        [163, 163, 165, ...,  74,  73,  88],\n",
       "        [162, 161, 139, ...,  97,  87,  70],\n",
       "        ...,\n",
       "        [178, 147, 131, ..., 112, 101, 106],\n",
       "        [159, 121, 161, ..., 111, 108, 108],\n",
       "        [130, 157, 160, ...,  95, 102,  81]],\n",
       "\n",
       "       [[159, 165, 158, ...,  79,  68,  49],\n",
       "        [162, 161, 158, ...,  82,  76,  63],\n",
       "        [166, 167, 161, ...,  81,  80,  75],\n",
       "        ...,\n",
       "        [131, 131, 126, ...,  68,  63,  69],\n",
       "        [127, 129, 124, ...,  73,  69,  75],\n",
       "        [119, 128, 124, ...,  76,  75,  79]],\n",
       "\n",
       "       [[119, 123, 139, ...,  26,  22,  20],\n",
       "        [122, 120, 132, ...,  25,  21,  20],\n",
       "        [121, 118, 122, ...,  24,  21,  20],\n",
       "        ...,\n",
       "        [189, 190, 187, ...,  66,  84,  88],\n",
       "        [189, 189, 186, ...,  66,  82,  86],\n",
       "        [188, 189, 185, ...,  67,  80,  85]],\n",
       "\n",
       "       ...,\n",
       "\n",
       "       [[159, 169, 169, ..., 147, 147, 147],\n",
       "        [164, 153, 158, ..., 147, 147, 147],\n",
       "        [152, 169, 150, ..., 147, 147, 147],\n",
       "        ...,\n",
       "        [ 51,  53,  59, ..., 127, 127, 127],\n",
       "        [ 44,  54,  53, ..., 127, 128, 128],\n",
       "        [ 28,  48,  53, ..., 127, 128, 128]],\n",
       "\n",
       "       [[ 99, 100,  94, ...,  85,  81,  80],\n",
       "        [ 95, 102,  96, ...,  85,  81,  80],\n",
       "        [ 93, 108, 101, ...,  85,  81,  81],\n",
       "        ...,\n",
       "        [ 23,  13,   9, ..., 130, 129, 130],\n",
       "        [ 11,  10,  11, ..., 129, 129, 130],\n",
       "        [ 11,  14,  15, ..., 127, 129, 130]],\n",
       "\n",
       "       [[ 84,  83,  87, ...,  17,  19,  13],\n",
       "        [ 87,  87,  90, ...,  16,  17,  13],\n",
       "        [ 88,  91,  92, ...,  15,  16,  14],\n",
       "        ...,\n",
       "        [ 42,  40,  39, ...,  22,  30,  26],\n",
       "        [ 40,  38,  37, ...,  22,  30,  26],\n",
       "        [ 37,  35,  34, ...,  22,  30,  26]]], dtype=uint8)"
      ]
     },
     "execution_count": 17,
     "metadata": {},
     "output_type": "execute_result"
    }
   ],
   "source": [
    "Testing_Features"
   ]
  },
  {
   "cell_type": "code",
   "execution_count": 18,
   "id": "external-diversity",
   "metadata": {},
   "outputs": [
    {
     "data": {
      "text/plain": [
       "[0,\n",
       " 3,\n",
       " 2,\n",
       " 3,\n",
       " 0,\n",
       " 1,\n",
       " 0,\n",
       " 0,\n",
       " 0,\n",
       " 3,\n",
       " 0,\n",
       " 1,\n",
       " 0,\n",
       " 2,\n",
       " 0,\n",
       " 3,\n",
       " 1,\n",
       " 1,\n",
       " 0,\n",
       " 2,\n",
       " 2,\n",
       " 3,\n",
       " 3,\n",
       " 3,\n",
       " 0,\n",
       " 2,\n",
       " 1,\n",
       " 0,\n",
       " 1,\n",
       " 2,\n",
       " 3,\n",
       " 3,\n",
       " 3,\n",
       " 3,\n",
       " 3,\n",
       " 2,\n",
       " 2,\n",
       " 1,\n",
       " 3,\n",
       " 0,\n",
       " 3,\n",
       " 0,\n",
       " 3,\n",
       " 0,\n",
       " 3,\n",
       " 0,\n",
       " 3,\n",
       " 2,\n",
       " 3,\n",
       " 2,\n",
       " 3,\n",
       " 3,\n",
       " 3,\n",
       " 3,\n",
       " 3,\n",
       " 1,\n",
       " 0,\n",
       " 0,\n",
       " 1,\n",
       " 2,\n",
       " 3,\n",
       " 0,\n",
       " 0,\n",
       " 3,\n",
       " 3,\n",
       " 1,\n",
       " 0,\n",
       " 0,\n",
       " 3,\n",
       " 1,\n",
       " 3,\n",
       " 3,\n",
       " 3,\n",
       " 1,\n",
       " 0,\n",
       " 0,\n",
       " 2,\n",
       " 2,\n",
       " 3,\n",
       " 1,\n",
       " 0,\n",
       " 0,\n",
       " 0,\n",
       " 0,\n",
       " 3,\n",
       " 0,\n",
       " 3,\n",
       " 3,\n",
       " 0,\n",
       " 1,\n",
       " 3,\n",
       " 3,\n",
       " 0,\n",
       " 0,\n",
       " 2,\n",
       " 2,\n",
       " 0,\n",
       " 1,\n",
       " 1,\n",
       " 1,\n",
       " 0,\n",
       " 3,\n",
       " 3,\n",
       " 3,\n",
       " 0,\n",
       " 3,\n",
       " 1,\n",
       " 2,\n",
       " 1,\n",
       " 1,\n",
       " 1,\n",
       " 0,\n",
       " 2,\n",
       " 0,\n",
       " 0,\n",
       " 1,\n",
       " 0,\n",
       " 2,\n",
       " 0,\n",
       " 0,\n",
       " 2,\n",
       " 3,\n",
       " 0,\n",
       " 0,\n",
       " 0,\n",
       " 0,\n",
       " 0,\n",
       " 1,\n",
       " 0,\n",
       " 2,\n",
       " 0,\n",
       " 3,\n",
       " 0,\n",
       " 0,\n",
       " 2,\n",
       " 2,\n",
       " 3,\n",
       " 3,\n",
       " 1,\n",
       " 3,\n",
       " 3,\n",
       " 1,\n",
       " 2,\n",
       " 0,\n",
       " 0,\n",
       " 2,\n",
       " 2,\n",
       " 0,\n",
       " 3,\n",
       " 3,\n",
       " 3,\n",
       " 2,\n",
       " 0,\n",
       " 0,\n",
       " 0,\n",
       " 0,\n",
       " 3,\n",
       " 3,\n",
       " 0,\n",
       " 3,\n",
       " 1,\n",
       " 3,\n",
       " 3,\n",
       " 3,\n",
       " 0,\n",
       " 2,\n",
       " 2,\n",
       " 0,\n",
       " 0,\n",
       " 3,\n",
       " 3,\n",
       " 3,\n",
       " 3,\n",
       " 2,\n",
       " 2,\n",
       " 3,\n",
       " 3,\n",
       " 0,\n",
       " 3,\n",
       " 3,\n",
       " 0,\n",
       " 0,\n",
       " 3,\n",
       " 0,\n",
       " 0,\n",
       " 2,\n",
       " 3,\n",
       " 0,\n",
       " 2,\n",
       " 0,\n",
       " 3,\n",
       " 2,\n",
       " 3,\n",
       " 2,\n",
       " 0,\n",
       " 0,\n",
       " 0,\n",
       " 0,\n",
       " 0,\n",
       " 2,\n",
       " 3,\n",
       " 0,\n",
       " 0,\n",
       " 0,\n",
       " 0,\n",
       " 2,\n",
       " 0,\n",
       " 0,\n",
       " 2,\n",
       " 3,\n",
       " 3,\n",
       " 0,\n",
       " 0,\n",
       " 3,\n",
       " 3,\n",
       " 0,\n",
       " 1,\n",
       " 0,\n",
       " 0,\n",
       " 3,\n",
       " 3,\n",
       " 3,\n",
       " 0,\n",
       " 0,\n",
       " 1,\n",
       " 2,\n",
       " 0,\n",
       " 0,\n",
       " 0,\n",
       " 3,\n",
       " 0,\n",
       " 1,\n",
       " 3,\n",
       " 2,\n",
       " 0,\n",
       " 1,\n",
       " 2,\n",
       " 0,\n",
       " 1,\n",
       " 0,\n",
       " 1,\n",
       " 3,\n",
       " 3,\n",
       " 3,\n",
       " 1,\n",
       " 3,\n",
       " 2,\n",
       " 1,\n",
       " 0,\n",
       " 0,\n",
       " 0,\n",
       " 0,\n",
       " 1,\n",
       " 0,\n",
       " 1,\n",
       " 0,\n",
       " 3,\n",
       " 0,\n",
       " 2,\n",
       " 3,\n",
       " 2,\n",
       " 3,\n",
       " 0,\n",
       " 2,\n",
       " 0,\n",
       " 3,\n",
       " 3,\n",
       " 3,\n",
       " 2,\n",
       " 2,\n",
       " 0,\n",
       " 2,\n",
       " 0,\n",
       " 0,\n",
       " 0,\n",
       " 0,\n",
       " 2,\n",
       " 0,\n",
       " 0,\n",
       " 0,\n",
       " 3,\n",
       " 3,\n",
       " 2,\n",
       " 0,\n",
       " 3,\n",
       " 0,\n",
       " 3,\n",
       " 3,\n",
       " 0,\n",
       " 1,\n",
       " 2,\n",
       " 0,\n",
       " 3,\n",
       " 1,\n",
       " 1,\n",
       " 1,\n",
       " 0,\n",
       " 2,\n",
       " 2,\n",
       " 0,\n",
       " 0,\n",
       " 0,\n",
       " 1,\n",
       " 1,\n",
       " 0,\n",
       " 0,\n",
       " 0,\n",
       " 0,\n",
       " 2,\n",
       " 3,\n",
       " 2,\n",
       " 3,\n",
       " 3,\n",
       " 0,\n",
       " 3,\n",
       " 2,\n",
       " 3,\n",
       " 0,\n",
       " 2,\n",
       " 3,\n",
       " 2,\n",
       " 1,\n",
       " 3,\n",
       " 2,\n",
       " 3,\n",
       " 1,\n",
       " 3,\n",
       " 1,\n",
       " 1,\n",
       " 0,\n",
       " 1,\n",
       " 0,\n",
       " 0,\n",
       " 3,\n",
       " 3,\n",
       " 1,\n",
       " 2,\n",
       " 0,\n",
       " 3,\n",
       " 1,\n",
       " 1,\n",
       " 3,\n",
       " 1,\n",
       " 3,\n",
       " 2,\n",
       " 1,\n",
       " 3,\n",
       " 0,\n",
       " 0,\n",
       " 3,\n",
       " 1,\n",
       " 0,\n",
       " 3,\n",
       " 3,\n",
       " 0,\n",
       " 3,\n",
       " 3,\n",
       " 3,\n",
       " 3,\n",
       " 0,\n",
       " 3,\n",
       " 0,\n",
       " 0,\n",
       " 1,\n",
       " 2,\n",
       " 3,\n",
       " 0,\n",
       " 2,\n",
       " 0,\n",
       " 0,\n",
       " 3,\n",
       " 3,\n",
       " 1,\n",
       " 0,\n",
       " 2,\n",
       " 0,\n",
       " 0,\n",
       " 3,\n",
       " 0,\n",
       " 1,\n",
       " 2,\n",
       " 0,\n",
       " 2,\n",
       " 3,\n",
       " 3,\n",
       " 3,\n",
       " 1,\n",
       " 3,\n",
       " 3,\n",
       " 2,\n",
       " 1,\n",
       " 1,\n",
       " 2,\n",
       " 3,\n",
       " 3,\n",
       " 1,\n",
       " 3,\n",
       " 0,\n",
       " 0,\n",
       " 2,\n",
       " 0,\n",
       " 1,\n",
       " 1,\n",
       " 2,\n",
       " 0,\n",
       " 2,\n",
       " 2,\n",
       " 2,\n",
       " 0,\n",
       " 3,\n",
       " 0,\n",
       " 0,\n",
       " 1,\n",
       " 2,\n",
       " 0,\n",
       " 0,\n",
       " 0,\n",
       " 1,\n",
       " 3,\n",
       " 3,\n",
       " 2,\n",
       " 3,\n",
       " 2,\n",
       " 3,\n",
       " 0,\n",
       " 3,\n",
       " 0,\n",
       " 1,\n",
       " 3,\n",
       " 2,\n",
       " 3,\n",
       " 3,\n",
       " 3,\n",
       " 2,\n",
       " 0,\n",
       " 0,\n",
       " 0,\n",
       " 3,\n",
       " 1,\n",
       " 0,\n",
       " 0,\n",
       " 1,\n",
       " 3,\n",
       " 0,\n",
       " 2,\n",
       " 0,\n",
       " 0,\n",
       " 3,\n",
       " 3,\n",
       " 2,\n",
       " 1,\n",
       " 3,\n",
       " 1,\n",
       " 0,\n",
       " 3,\n",
       " 3,\n",
       " 1,\n",
       " 0,\n",
       " 3,\n",
       " 3,\n",
       " 3,\n",
       " 3,\n",
       " 3,\n",
       " 0,\n",
       " 3,\n",
       " 1,\n",
       " 3,\n",
       " 2,\n",
       " 0,\n",
       " 0,\n",
       " 0,\n",
       " 1,\n",
       " 0,\n",
       " 1,\n",
       " 0,\n",
       " 0,\n",
       " 2,\n",
       " 3,\n",
       " 3,\n",
       " 0,\n",
       " 3,\n",
       " 3,\n",
       " 0,\n",
       " 0,\n",
       " 3,\n",
       " 3,\n",
       " 3,\n",
       " 2,\n",
       " 0,\n",
       " 1,\n",
       " 3,\n",
       " 0,\n",
       " 3,\n",
       " 3,\n",
       " 0,\n",
       " 3,\n",
       " 1,\n",
       " 3,\n",
       " 0,\n",
       " 0,\n",
       " 0,\n",
       " 3,\n",
       " 3,\n",
       " 0,\n",
       " 1,\n",
       " 1,\n",
       " 0,\n",
       " 2,\n",
       " 0,\n",
       " 2,\n",
       " 0,\n",
       " 0,\n",
       " 3,\n",
       " 2,\n",
       " 2,\n",
       " 3,\n",
       " 3,\n",
       " 1,\n",
       " 2,\n",
       " 3,\n",
       " 0,\n",
       " 1,\n",
       " 1,\n",
       " 3,\n",
       " 0,\n",
       " 3,\n",
       " 3,\n",
       " 0,\n",
       " 1,\n",
       " 3,\n",
       " 1,\n",
       " 0,\n",
       " 0,\n",
       " 2,\n",
       " 0,\n",
       " 3,\n",
       " 2,\n",
       " 0,\n",
       " 1,\n",
       " 0,\n",
       " 0,\n",
       " 0,\n",
       " 0,\n",
       " 0,\n",
       " 3,\n",
       " 3,\n",
       " 2,\n",
       " 0,\n",
       " 2,\n",
       " 1,\n",
       " 3,\n",
       " 3,\n",
       " 3,\n",
       " 0,\n",
       " 3,\n",
       " 2,\n",
       " 3,\n",
       " 2,\n",
       " 0,\n",
       " 0,\n",
       " 0,\n",
       " 2,\n",
       " 0,\n",
       " 0,\n",
       " 2,\n",
       " 2,\n",
       " 0,\n",
       " 0,\n",
       " 3,\n",
       " 3,\n",
       " 3,\n",
       " 1,\n",
       " 2,\n",
       " 2,\n",
       " 3,\n",
       " 0,\n",
       " 2,\n",
       " 0,\n",
       " 3,\n",
       " 0,\n",
       " 2,\n",
       " 3,\n",
       " 2,\n",
       " 3,\n",
       " 0,\n",
       " 0,\n",
       " 1,\n",
       " 1,\n",
       " 1,\n",
       " 0,\n",
       " 3,\n",
       " 3,\n",
       " 1,\n",
       " 1,\n",
       " 3,\n",
       " 0,\n",
       " 3,\n",
       " 1,\n",
       " 1,\n",
       " 1,\n",
       " 2,\n",
       " 0,\n",
       " 0,\n",
       " 1,\n",
       " 1,\n",
       " 1,\n",
       " 1,\n",
       " 0,\n",
       " 1,\n",
       " 0,\n",
       " 1,\n",
       " 0,\n",
       " 0,\n",
       " 2,\n",
       " 3,\n",
       " 0,\n",
       " 0,\n",
       " 1,\n",
       " 3,\n",
       " 3,\n",
       " 3,\n",
       " 2,\n",
       " 0,\n",
       " 3,\n",
       " 0,\n",
       " 0,\n",
       " 1,\n",
       " 1,\n",
       " 2,\n",
       " 1,\n",
       " 3,\n",
       " 3]"
      ]
     },
     "execution_count": 18,
     "metadata": {},
     "output_type": "execute_result"
    }
   ],
   "source": [
    "Training_Labels"
   ]
  },
  {
   "cell_type": "code",
   "execution_count": 19,
   "id": "little-dayton",
   "metadata": {},
   "outputs": [
    {
     "data": {
      "text/plain": [
       "array([[[173, 158, 173, ...,  78,  85,  84],\n",
       "        [163, 163, 165, ...,  74,  73,  88],\n",
       "        [162, 161, 139, ...,  97,  87,  70],\n",
       "        ...,\n",
       "        [178, 147, 131, ..., 112, 101, 106],\n",
       "        [159, 121, 161, ..., 111, 108, 108],\n",
       "        [130, 157, 160, ...,  95, 102,  81]],\n",
       "\n",
       "       [[159, 165, 158, ...,  79,  68,  49],\n",
       "        [162, 161, 158, ...,  82,  76,  63],\n",
       "        [166, 167, 161, ...,  81,  80,  75],\n",
       "        ...,\n",
       "        [131, 131, 126, ...,  68,  63,  69],\n",
       "        [127, 129, 124, ...,  73,  69,  75],\n",
       "        [119, 128, 124, ...,  76,  75,  79]],\n",
       "\n",
       "       [[119, 123, 139, ...,  26,  22,  20],\n",
       "        [122, 120, 132, ...,  25,  21,  20],\n",
       "        [121, 118, 122, ...,  24,  21,  20],\n",
       "        ...,\n",
       "        [189, 190, 187, ...,  66,  84,  88],\n",
       "        [189, 189, 186, ...,  66,  82,  86],\n",
       "        [188, 189, 185, ...,  67,  80,  85]],\n",
       "\n",
       "       ...,\n",
       "\n",
       "       [[159, 169, 169, ..., 147, 147, 147],\n",
       "        [164, 153, 158, ..., 147, 147, 147],\n",
       "        [152, 169, 150, ..., 147, 147, 147],\n",
       "        ...,\n",
       "        [ 51,  53,  59, ..., 127, 127, 127],\n",
       "        [ 44,  54,  53, ..., 127, 128, 128],\n",
       "        [ 28,  48,  53, ..., 127, 128, 128]],\n",
       "\n",
       "       [[ 99, 100,  94, ...,  85,  81,  80],\n",
       "        [ 95, 102,  96, ...,  85,  81,  80],\n",
       "        [ 93, 108, 101, ...,  85,  81,  81],\n",
       "        ...,\n",
       "        [ 23,  13,   9, ..., 130, 129, 130],\n",
       "        [ 11,  10,  11, ..., 129, 129, 130],\n",
       "        [ 11,  14,  15, ..., 127, 129, 130]],\n",
       "\n",
       "       [[ 84,  83,  87, ...,  17,  19,  13],\n",
       "        [ 87,  87,  90, ...,  16,  17,  13],\n",
       "        [ 88,  91,  92, ...,  15,  16,  14],\n",
       "        ...,\n",
       "        [ 42,  40,  39, ...,  22,  30,  26],\n",
       "        [ 40,  38,  37, ...,  22,  30,  26],\n",
       "        [ 37,  35,  34, ...,  22,  30,  26]]], dtype=uint8)"
      ]
     },
     "execution_count": 19,
     "metadata": {},
     "output_type": "execute_result"
    }
   ],
   "source": [
    "Testing_Features"
   ]
  },
  {
   "cell_type": "code",
   "execution_count": 20,
   "id": "binding-canada",
   "metadata": {},
   "outputs": [
    {
     "data": {
      "text/plain": [
       "[1,\n",
       " 0,\n",
       " 2,\n",
       " 2,\n",
       " 0,\n",
       " 2,\n",
       " 3,\n",
       " 0,\n",
       " 2,\n",
       " 3,\n",
       " 1,\n",
       " 2,\n",
       " 0,\n",
       " 1,\n",
       " 0,\n",
       " 1,\n",
       " 1,\n",
       " 3,\n",
       " 3,\n",
       " 0,\n",
       " 2,\n",
       " 2,\n",
       " 0,\n",
       " 0,\n",
       " 1,\n",
       " 3,\n",
       " 3,\n",
       " 0,\n",
       " 3,\n",
       " 2,\n",
       " 1,\n",
       " 0,\n",
       " 3,\n",
       " 0,\n",
       " 2,\n",
       " 3,\n",
       " 3,\n",
       " 0,\n",
       " 0,\n",
       " 1,\n",
       " 0,\n",
       " 0,\n",
       " 3,\n",
       " 1,\n",
       " 2,\n",
       " 3,\n",
       " 3,\n",
       " 0,\n",
       " 0,\n",
       " 0,\n",
       " 2,\n",
       " 1,\n",
       " 0,\n",
       " 1,\n",
       " 0,\n",
       " 1,\n",
       " 2,\n",
       " 2,\n",
       " 3,\n",
       " 2,\n",
       " 3,\n",
       " 3,\n",
       " 2,\n",
       " 1,\n",
       " 2,\n",
       " 2,\n",
       " 2,\n",
       " 3,\n",
       " 1,\n",
       " 1,\n",
       " 3,\n",
       " 3,\n",
       " 1,\n",
       " 3,\n",
       " 2,\n",
       " 2,\n",
       " 1,\n",
       " 0,\n",
       " 1,\n",
       " 1,\n",
       " 1,\n",
       " 2,\n",
       " 2,\n",
       " 1,\n",
       " 3,\n",
       " 0,\n",
       " 2,\n",
       " 1,\n",
       " 2,\n",
       " 3,\n",
       " 0,\n",
       " 3,\n",
       " 0,\n",
       " 3,\n",
       " 1,\n",
       " 1,\n",
       " 3,\n",
       " 2,\n",
       " 3,\n",
       " 3,\n",
       " 1,\n",
       " 2,\n",
       " 1,\n",
       " 1,\n",
       " 0,\n",
       " 3,\n",
       " 1,\n",
       " 1,\n",
       " 0,\n",
       " 0,\n",
       " 1,\n",
       " 0,\n",
       " 2,\n",
       " 3,\n",
       " 2,\n",
       " 3,\n",
       " 0,\n",
       " 2,\n",
       " 2,\n",
       " 0]"
      ]
     },
     "execution_count": 20,
     "metadata": {},
     "output_type": "execute_result"
    }
   ],
   "source": [
    "Testing_Labels"
   ]
  },
  {
   "cell_type": "code",
   "execution_count": 21,
   "id": "colored-publication",
   "metadata": {},
   "outputs": [
    {
     "data": {
      "text/plain": [
       "(632, 180, 180)"
      ]
     },
     "execution_count": 21,
     "metadata": {},
     "output_type": "execute_result"
    }
   ],
   "source": [
    "Training_Features.shape"
   ]
  },
  {
   "cell_type": "code",
   "execution_count": 22,
   "id": "strategic-alpha",
   "metadata": {},
   "outputs": [
    {
     "data": {
      "text/plain": [
       "(120, 180, 180)"
      ]
     },
     "execution_count": 22,
     "metadata": {},
     "output_type": "execute_result"
    }
   ],
   "source": [
    "Testing_Features.shape"
   ]
  },
  {
   "cell_type": "code",
   "execution_count": 23,
   "id": "hungry-consequence",
   "metadata": {},
   "outputs": [
    {
     "data": {
      "text/plain": [
       "632"
      ]
     },
     "execution_count": 23,
     "metadata": {},
     "output_type": "execute_result"
    }
   ],
   "source": [
    "len(Training_Labels)"
   ]
  },
  {
   "cell_type": "code",
   "execution_count": 24,
   "id": "colonial-haven",
   "metadata": {},
   "outputs": [
    {
     "data": {
      "text/plain": [
       "120"
      ]
     },
     "execution_count": 24,
     "metadata": {},
     "output_type": "execute_result"
    }
   ],
   "source": [
    "len(Testing_Labels)"
   ]
  },
  {
   "cell_type": "code",
   "execution_count": 25,
   "id": "alert-seating",
   "metadata": {},
   "outputs": [
    {
     "data": {
      "text/plain": [
       "(180, 180)"
      ]
     },
     "execution_count": 25,
     "metadata": {},
     "output_type": "execute_result"
    }
   ],
   "source": [
    "Training_Features[0].shape"
   ]
  },
  {
   "cell_type": "code",
   "execution_count": 26,
   "id": "crazy-activation",
   "metadata": {},
   "outputs": [
    {
     "data": {
      "text/plain": [
       "<matplotlib.image.AxesImage at 0x1c3c7c59070>"
      ]
     },
     "execution_count": 26,
     "metadata": {},
     "output_type": "execute_result"
    },
    {
     "data": {
      "image/png": "[encoded data removed]",
      "text/plain": [
       "<Figure size 432x288 with 1 Axes>"
      ]
     },
     "metadata": {
      "needs_background": "light"
     },
     "output_type": "display_data"
    }
   ],
   "source": [
    "pyplot.imshow(Training_Features[2],cmap='gray')"
   ]
  },
  {
   "cell_type": "code",
   "execution_count": 27,
   "id": "caroline-dialogue",
   "metadata": {},
   "outputs": [
    {
     "name": "stdout",
     "output_type": "stream",
     "text": [
      "0 -->  Facial acne\n",
      "1 -->  Melanoma\n",
      "2 -->  Psoriasis\n",
      "3 -->  Ringworm\n"
     ]
    }
   ],
   "source": [
    "printClassList()"
   ]
  },
  {
   "cell_type": "code",
   "execution_count": null,
   "id": "younger-printing",
   "metadata": {},
   "outputs": [],
   "source": []
  },
  {
   "cell_type": "markdown",
   "id": "particular-bleeding",
   "metadata": {},
   "source": [
    "## Validation Data Creation"
   ]
  },
  {
   "cell_type": "code",
   "execution_count": 28,
   "id": "sorted-direction",
   "metadata": {},
   "outputs": [],
   "source": [
    "Validation_Features=Training_Features[:10]\n",
    "Training_Features=Training_Features[10:]\n",
    "Validation_Labels=Training_Labels[:10]\n",
    "Training_Labels=Training_Labels[10:]"
   ]
  },
  {
   "cell_type": "code",
   "execution_count": 29,
   "id": "cubic-uzbekistan",
   "metadata": {},
   "outputs": [
    {
     "data": {
      "text/plain": [
       "array([[[ 53,  58,  68, ...,  85,  81,  73],\n",
       "        [ 55,  60,  68, ...,  83,  82,  74],\n",
       "        [ 59,  62,  69, ...,  83,  82,  75],\n",
       "        ...,\n",
       "        [ 23,  20,  16, ...,  36,  36,  35],\n",
       "        [ 22,  18,  16, ...,  35,  36,  36],\n",
       "        [ 21,  18,  15, ...,  35,  36,  36]],\n",
       "\n",
       "       [[173, 175, 176, ..., 173, 164, 166],\n",
       "        [173, 175, 176, ..., 171, 181, 181],\n",
       "        [174, 175, 176, ..., 170, 169, 168],\n",
       "        ...,\n",
       "        [175, 175, 175, ..., 156, 161, 161],\n",
       "        [175, 175, 175, ..., 159, 155, 155],\n",
       "        [174, 174, 174, ..., 160, 153, 153]],\n",
       "\n",
       "       [[154, 163, 168, ..., 103, 116, 124],\n",
       "        [154, 164, 168, ..., 117, 109, 121],\n",
       "        [155, 163, 168, ..., 113, 100, 117],\n",
       "        ...,\n",
       "        [ 98, 104, 102, ..., 123, 109, 117],\n",
       "        [100, 105, 103, ..., 127, 113, 122],\n",
       "        [ 96,  98, 101, ..., 126, 125, 121]],\n",
       "\n",
       "       ...,\n",
       "\n",
       "       [[ 61,  67,  61, ..., 144, 138, 134],\n",
       "        [ 71,  71,  64, ..., 146, 140, 136],\n",
       "        [ 86,  83,  61, ..., 147, 142, 138],\n",
       "        ...,\n",
       "        [ 98, 100, 102, ...,   2,   2,   2],\n",
       "        [ 97,  98, 101, ...,   2,   2,   2],\n",
       "        [ 93,  95, 100, ...,   2,   2,   2]],\n",
       "\n",
       "       [[ 50,  71,  98, ..., 104, 113, 106],\n",
       "        [ 64,  71,  91, ..., 107, 114, 109],\n",
       "        [ 64,  78,  93, ..., 113, 117, 113],\n",
       "        ...,\n",
       "        [ 21,  20,  19, ...,  83,  74,  80],\n",
       "        [ 27,  29,  22, ...,  79,  73,  82],\n",
       "        [ 49,  53,  41, ...,  74,  71,  83]],\n",
       "\n",
       "       [[  1,   1,   1, ..., 147, 135, 134],\n",
       "        [  1,   1,   1, ..., 139, 134, 132],\n",
       "        [  1,   1,   1, ..., 130, 136, 139],\n",
       "        ...,\n",
       "        [  1,   1,   1, ...,   1,   1,   1],\n",
       "        [  1,   1,   1, ...,   1,   1,   1],\n",
       "        [  1,   1,   1, ...,   1,   1,   1]]], dtype=uint8)"
      ]
     },
     "execution_count": 29,
     "metadata": {},
     "output_type": "execute_result"
    }
   ],
   "source": [
    "Validation_Features"
   ]
  },
  {
   "cell_type": "code",
   "execution_count": 30,
   "id": "cardiovascular-montreal",
   "metadata": {},
   "outputs": [
    {
     "data": {
      "text/plain": [
       "[0, 3, 2, 3, 0, 1, 0, 0, 0, 3]"
      ]
     },
     "execution_count": 30,
     "metadata": {},
     "output_type": "execute_result"
    }
   ],
   "source": [
    "Validation_Labels"
   ]
  },
  {
   "cell_type": "code",
   "execution_count": 31,
   "id": "decreased-halloween",
   "metadata": {},
   "outputs": [
    {
     "data": {
      "text/plain": [
       "(622, 180, 180)"
      ]
     },
     "execution_count": 31,
     "metadata": {},
     "output_type": "execute_result"
    }
   ],
   "source": [
    "Training_Features.shape"
   ]
  },
  {
   "cell_type": "code",
   "execution_count": 32,
   "id": "explicit-capture",
   "metadata": {},
   "outputs": [
    {
     "data": {
      "text/plain": [
       "622"
      ]
     },
     "execution_count": 32,
     "metadata": {},
     "output_type": "execute_result"
    }
   ],
   "source": [
    "len(Training_Labels)"
   ]
  },
  {
   "cell_type": "code",
   "execution_count": 33,
   "id": "raising-nerve",
   "metadata": {},
   "outputs": [
    {
     "data": {
      "text/plain": [
       "(10, 180, 180)"
      ]
     },
     "execution_count": 33,
     "metadata": {},
     "output_type": "execute_result"
    }
   ],
   "source": [
    "Validation_Features.shape"
   ]
  },
  {
   "cell_type": "code",
   "execution_count": 34,
   "id": "direct-actor",
   "metadata": {},
   "outputs": [
    {
     "data": {
      "text/plain": [
       "10"
      ]
     },
     "execution_count": 34,
     "metadata": {},
     "output_type": "execute_result"
    }
   ],
   "source": [
    "len(Validation_Labels)"
   ]
  },
  {
   "cell_type": "markdown",
   "id": "official-detector",
   "metadata": {},
   "source": [
    "## Dimention expansion"
   ]
  },
  {
   "cell_type": "code",
   "execution_count": 35,
   "id": "external-advertiser",
   "metadata": {},
   "outputs": [],
   "source": [
    "Training_Features=numpy.expand_dims(Training_Features,axis=-1)\n",
    "Testing_Features=numpy.expand_dims(Testing_Features,axis=-1)\n",
    "Validation_Features=numpy.expand_dims(Validation_Features,axis=-1)"
   ]
  },
  {
   "cell_type": "code",
   "execution_count": 36,
   "id": "constitutional-marker",
   "metadata": {},
   "outputs": [
    {
     "data": {
      "text/plain": [
       "(622, 180, 180, 1)"
      ]
     },
     "execution_count": 36,
     "metadata": {},
     "output_type": "execute_result"
    }
   ],
   "source": [
    "Training_Features.shape"
   ]
  },
  {
   "cell_type": "code",
   "execution_count": 37,
   "id": "ready-travel",
   "metadata": {},
   "outputs": [
    {
     "data": {
      "text/plain": [
       "(120, 180, 180, 1)"
      ]
     },
     "execution_count": 37,
     "metadata": {},
     "output_type": "execute_result"
    }
   ],
   "source": [
    "Testing_Features.shape"
   ]
  },
  {
   "cell_type": "code",
   "execution_count": 38,
   "id": "physical-tongue",
   "metadata": {},
   "outputs": [
    {
     "data": {
      "text/plain": [
       "(10, 180, 180, 1)"
      ]
     },
     "execution_count": 38,
     "metadata": {},
     "output_type": "execute_result"
    }
   ],
   "source": [
    "Validation_Features.shape"
   ]
  },
  {
   "cell_type": "code",
   "execution_count": 39,
   "id": "respected-musician",
   "metadata": {},
   "outputs": [
    {
     "data": {
      "text/plain": [
       "622"
      ]
     },
     "execution_count": 39,
     "metadata": {},
     "output_type": "execute_result"
    }
   ],
   "source": [
    "len(Training_Labels)"
   ]
  },
  {
   "cell_type": "code",
   "execution_count": 40,
   "id": "golden-thanksgiving",
   "metadata": {},
   "outputs": [
    {
     "data": {
      "text/plain": [
       "120"
      ]
     },
     "execution_count": 40,
     "metadata": {},
     "output_type": "execute_result"
    }
   ],
   "source": [
    "len(Testing_Labels)"
   ]
  },
  {
   "cell_type": "code",
   "execution_count": 41,
   "id": "tracked-choice",
   "metadata": {},
   "outputs": [
    {
     "data": {
      "text/plain": [
       "10"
      ]
     },
     "execution_count": 41,
     "metadata": {},
     "output_type": "execute_result"
    }
   ],
   "source": [
    "len(Validation_Labels)"
   ]
  },
  {
   "cell_type": "code",
   "execution_count": null,
   "id": "funky-dragon",
   "metadata": {},
   "outputs": [],
   "source": []
  },
  {
   "cell_type": "markdown",
   "id": "printable-bubble",
   "metadata": {},
   "source": [
    "## Model Definition"
   ]
  },
  {
   "cell_type": "code",
   "execution_count": 108,
   "id": "offshore-nowhere",
   "metadata": {},
   "outputs": [],
   "source": [
    "model1_using_only_one_layers=keras.models.Sequential(\n",
    "     [\n",
    "         keras.layers.Conv2D(filters=32,kernel_size=3,strides=(1,1),padding='valid',activation='relu',input_shape=[180,180,1]),\n",
    "         keras.layers.MaxPool2D(pool_size=(2,2)),\n",
    "         keras.layers.Flatten(),\n",
    "         keras.layers.Dense(units=512,activation='relu'),\n",
    "         keras.layers.Dense(units=128,activation='relu'),\n",
    "         keras.layers.Dense(units=4,activation='softmax'),\n",
    "     ]\n",
    " )"
   ]
  },
  {
   "cell_type": "code",
   "execution_count": 109,
   "id": "pleasant-liquid",
   "metadata": {},
   "outputs": [
    {
     "data": {
      "text/plain": [
       "<keras.engine.sequential.Sequential at 0x1c3c8c7c190>"
      ]
     },
     "execution_count": 109,
     "metadata": {},
     "output_type": "execute_result"
    }
   ],
   "source": [
    "model1_using_only_one_layers"
   ]
  },
  {
   "cell_type": "code",
   "execution_count": 110,
   "id": "accurate-placement",
   "metadata": {},
   "outputs": [
    {
     "name": "stdout",
     "output_type": "stream",
     "text": [
      "Model: \"sequential_4\"\n",
      "_________________________________________________________________\n",
      "Layer (type)                 Output Shape              Param #   \n",
      "=================================================================\n",
      "conv2d_6 (Conv2D)            (None, 178, 178, 32)      320       \n",
      "_________________________________________________________________\n",
      "max_pooling2d_6 (MaxPooling2 (None, 89, 89, 32)        0         \n",
      "_________________________________________________________________\n",
      "flatten_4 (Flatten)          (None, 253472)            0         \n",
      "_________________________________________________________________\n",
      "dense_10 (Dense)             (None, 512)               129778176 \n",
      "_________________________________________________________________\n",
      "dense_11 (Dense)             (None, 128)               65664     \n",
      "_________________________________________________________________\n",
      "dense_12 (Dense)             (None, 4)                 516       \n",
      "=================================================================\n",
      "Total params: 129,844,676\n",
      "Trainable params: 129,844,676\n",
      "Non-trainable params: 0\n",
      "_________________________________________________________________\n"
     ]
    }
   ],
   "source": [
    "model1_using_only_one_layers.summary()"
   ]
  },
  {
   "cell_type": "code",
   "execution_count": 111,
   "id": "sealed-rehabilitation",
   "metadata": {},
   "outputs": [],
   "source": [
    "model1_using_only_one_layers.compile(optimizer='adam',loss='sparse_categorical_crossentropy',metrics=['accuracy'])"
   ]
  },
  {
   "cell_type": "code",
   "execution_count": 305,
   "id": "important-worship",
   "metadata": {},
   "outputs": [
    {
     "name": "stdout",
     "output_type": "stream",
     "text": [
      "Epoch 1/10\n",
      "20/20 [==============================] - 24s 1s/step - loss: 0.1748 - accuracy: 0.9855 - val_loss: 12.7302 - val_accuracy: 0.7250\n",
      "Epoch 2/10\n",
      "20/20 [==============================] - 23s 1s/step - loss: 0.1367 - accuracy: 0.9855 - val_loss: 15.6948 - val_accuracy: 0.7417\n",
      "Epoch 3/10\n",
      "20/20 [==============================] - 23s 1s/step - loss: 0.3034 - accuracy: 0.9823 - val_loss: 23.4700 - val_accuracy: 0.7000\n",
      "Epoch 4/10\n",
      "20/20 [==============================] - 25s 1s/step - loss: 0.0450 - accuracy: 0.9904 - val_loss: 15.9212 - val_accuracy: 0.7167\n",
      "Epoch 5/10\n",
      "20/20 [==============================] - 24s 1s/step - loss: 0.0091 - accuracy: 0.9936 - val_loss: 14.8304 - val_accuracy: 0.7333\n",
      "Epoch 6/10\n",
      "20/20 [==============================] - 23s 1s/step - loss: 0.1138 - accuracy: 0.9920 - val_loss: 15.0531 - val_accuracy: 0.7250\n",
      "Epoch 7/10\n",
      "20/20 [==============================] - 24s 1s/step - loss: 0.0610 - accuracy: 0.9936 - val_loss: 15.1854 - val_accuracy: 0.7417\n",
      "Epoch 8/10\n",
      "20/20 [==============================] - 23s 1s/step - loss: 0.1634 - accuracy: 0.9904 - val_loss: 15.1836 - val_accuracy: 0.7333\n",
      "Epoch 9/10\n",
      "20/20 [==============================] - 25s 1s/step - loss: 0.0432 - accuracy: 0.9968 - val_loss: 15.7718 - val_accuracy: 0.7333\n",
      "Epoch 10/10\n",
      "20/20 [==============================] - 24s 1s/step - loss: 0.0138 - accuracy: 0.9952 - val_loss: 16.0298 - val_accuracy: 0.7333\n"
     ]
    }
   ],
   "source": [
    "history1=model1_using_only_one_layers.fit(Training_Features,numpy.array(Training_Labels),epochs=10,verbose=1,validation_data=(Testing_Features,numpy.array(Testing_Labels)))"
   ]
  },
  {
   "cell_type": "code",
   "execution_count": 303,
   "id": "motivated-montgomery",
   "metadata": {},
   "outputs": [],
   "source": [
    "model1_using_only_one_layers.save('./Models/model1_using_only_one_layers.h5')"
   ]
  },
  {
   "cell_type": "code",
   "execution_count": null,
   "id": "unique-fitting",
   "metadata": {},
   "outputs": [],
   "source": []
  },
  {
   "cell_type": "code",
   "execution_count": null,
   "id": "bright-queensland",
   "metadata": {},
   "outputs": [],
   "source": []
  },
  {
   "cell_type": "code",
   "execution_count": null,
   "id": "thermal-klein",
   "metadata": {},
   "outputs": [],
   "source": []
  },
  {
   "cell_type": "code",
   "execution_count": 280,
   "id": "indian-meaning",
   "metadata": {},
   "outputs": [],
   "source": [
    "# trained_model=tensorflow.keras.models.load_model('./Models/model1_using_only_one_layers.h5')\n",
    "trained_model=model1_using_only_one_layers"
   ]
  },
  {
   "cell_type": "code",
   "execution_count": 281,
   "id": "parental-accommodation",
   "metadata": {},
   "outputs": [],
   "source": [
    "prediction=trained_model.predict(numpy.expand_dims(Validation_Features[0],axis=0)).round(5)*100"
   ]
  },
  {
   "cell_type": "code",
   "execution_count": 282,
   "id": "fifth-smell",
   "metadata": {},
   "outputs": [
    {
     "data": {
      "text/plain": [
       "[100.0, 0.0, 0.0, 0.0]"
      ]
     },
     "execution_count": 282,
     "metadata": {},
     "output_type": "execute_result"
    }
   ],
   "source": [
    "list(prediction[0])"
   ]
  },
  {
   "cell_type": "code",
   "execution_count": 283,
   "id": "swiss-coverage",
   "metadata": {},
   "outputs": [],
   "source": [
    "# numpy.sum(prediction[0])"
   ]
  },
  {
   "cell_type": "code",
   "execution_count": 284,
   "id": "western-redhead",
   "metadata": {},
   "outputs": [
    {
     "name": "stdout",
     "output_type": "stream",
     "text": [
      "dict_keys([0, 1, 2, 3])\n"
     ]
    }
   ],
   "source": [
    "predicted_classes=list(prediction[0])\n",
    "sorted_indexes={}\n",
    "temp_array=[i for i in predicted_classes]\n",
    "for i in predicted_classes:\n",
    "    index_value=list(temp_array).index(max(temp_array))\n",
    "    sorted_indexes.update({index_value:max(temp_array)})\n",
    "    temp_array[index_value]=-1\n",
    "# print(temp_array)\n",
    "print(sorted_indexes.keys())\n",
    "    "
   ]
  },
  {
   "cell_type": "code",
   "execution_count": 285,
   "id": "adjusted-buddy",
   "metadata": {},
   "outputs": [
    {
     "data": {
      "text/plain": [
       "100.0"
      ]
     },
     "execution_count": 285,
     "metadata": {},
     "output_type": "execute_result"
    }
   ],
   "source": [
    "max(prediction[0])"
   ]
  },
  {
   "cell_type": "code",
   "execution_count": 286,
   "id": "genetic-sensitivity",
   "metadata": {},
   "outputs": [],
   "source": [
    "class_value=list(prediction[0]).index(max(prediction[0]))"
   ]
  },
  {
   "cell_type": "code",
   "execution_count": 287,
   "id": "affected-evolution",
   "metadata": {},
   "outputs": [
    {
     "data": {
      "text/plain": [
       "0"
      ]
     },
     "execution_count": 287,
     "metadata": {},
     "output_type": "execute_result"
    }
   ],
   "source": [
    "class_value"
   ]
  },
  {
   "cell_type": "code",
   "execution_count": 288,
   "id": "burning-method",
   "metadata": {},
   "outputs": [
    {
     "name": "stdout",
     "output_type": "stream",
     "text": [
      "100.0 % --> Facial acne\n",
      "0.0 % --> Melanoma\n",
      "0.0 % --> Psoriasis\n",
      "0.0 % --> Ringworm\n"
     ]
    }
   ],
   "source": [
    "for key,value in sorted_indexes.items():\n",
    "    print(f\"{value} % --> \",end=\"\")\n",
    "    getClassvalue(key)"
   ]
  },
  {
   "cell_type": "code",
   "execution_count": 289,
   "id": "extensive-pizza",
   "metadata": {},
   "outputs": [
    {
     "name": "stdout",
     "output_type": "stream",
     "text": [
      "Actual class is --> Facial acne\n"
     ]
    }
   ],
   "source": [
    "print(\"Actual class is --> \",end=\"\")\n",
    "getClassvalue(Validation_Labels[0])"
   ]
  },
  {
   "cell_type": "code",
   "execution_count": 290,
   "id": "worst-profile",
   "metadata": {},
   "outputs": [
    {
     "data": {
      "text/plain": [
       "array([[[174],\n",
       "        [162],\n",
       "        [163],\n",
       "        ...,\n",
       "        [120],\n",
       "        [119],\n",
       "        [119]],\n",
       "\n",
       "       [[170],\n",
       "        [169],\n",
       "        [170],\n",
       "        ...,\n",
       "        [122],\n",
       "        [122],\n",
       "        [122]],\n",
       "\n",
       "       [[166],\n",
       "        [162],\n",
       "        [158],\n",
       "        ...,\n",
       "        [123],\n",
       "        [124],\n",
       "        [124]],\n",
       "\n",
       "       ...,\n",
       "\n",
       "       [[156],\n",
       "        [149],\n",
       "        [148],\n",
       "        ...,\n",
       "        [141],\n",
       "        [160],\n",
       "        [151]],\n",
       "\n",
       "       [[157],\n",
       "        [157],\n",
       "        [158],\n",
       "        ...,\n",
       "        [137],\n",
       "        [145],\n",
       "        [148]],\n",
       "\n",
       "       [[159],\n",
       "        [160],\n",
       "        [157],\n",
       "        ...,\n",
       "        [141],\n",
       "        [151],\n",
       "        [143]]], dtype=uint8)"
      ]
     },
     "execution_count": 290,
     "metadata": {},
     "output_type": "execute_result"
    }
   ],
   "source": [
    "Training_Features[1]"
   ]
  },
  {
   "cell_type": "code",
   "execution_count": 291,
   "id": "refined-houston",
   "metadata": {},
   "outputs": [
    {
     "data": {
      "text/plain": [
       "622"
      ]
     },
     "execution_count": 291,
     "metadata": {},
     "output_type": "execute_result"
    }
   ],
   "source": [
    "len(Training_Features)"
   ]
  },
  {
   "cell_type": "code",
   "execution_count": 292,
   "id": "bronze-yahoo",
   "metadata": {},
   "outputs": [
    {
     "data": {
      "text/plain": [
       "120"
      ]
     },
     "execution_count": 292,
     "metadata": {},
     "output_type": "execute_result"
    }
   ],
   "source": [
    "len(Testing_Features)"
   ]
  },
  {
   "cell_type": "code",
   "execution_count": 293,
   "id": "seeing-mobile",
   "metadata": {},
   "outputs": [],
   "source": [
    "Predeicted_test_data=trained_model.predict(Testing_Features)"
   ]
  },
  {
   "cell_type": "code",
   "execution_count": 294,
   "id": "minus-riverside",
   "metadata": {},
   "outputs": [
    {
     "data": {
      "text/plain": [
       "array([[0.0000000e+00, 1.0000000e+00, 0.0000000e+00, 0.0000000e+00],\n",
       "       [2.7113282e-26, 0.0000000e+00, 1.0000000e+00, 1.0159353e-12],\n",
       "       [0.0000000e+00, 0.0000000e+00, 1.0000000e+00, 0.0000000e+00],\n",
       "       [1.0000000e+00, 0.0000000e+00, 0.0000000e+00, 0.0000000e+00],\n",
       "       [1.0000000e+00, 0.0000000e+00, 3.6482170e-31, 1.2364915e-27],\n",
       "       [1.1096110e-34, 5.6375008e-26, 1.0000000e+00, 8.2973931e-20],\n",
       "       [0.0000000e+00, 0.0000000e+00, 0.0000000e+00, 1.0000000e+00],\n",
       "       [1.0000000e+00, 0.0000000e+00, 0.0000000e+00, 0.0000000e+00],\n",
       "       [0.0000000e+00, 0.0000000e+00, 1.0000000e+00, 1.2586843e-10],\n",
       "       [2.0176494e-18, 0.0000000e+00, 1.1942166e-07, 9.9999988e-01],\n",
       "       [0.0000000e+00, 1.0000000e+00, 0.0000000e+00, 0.0000000e+00],\n",
       "       [0.0000000e+00, 0.0000000e+00, 1.0000000e+00, 4.1393200e-09],\n",
       "       [1.0000000e+00, 0.0000000e+00, 2.4011818e-08, 1.4958940e-25],\n",
       "       [0.0000000e+00, 1.0000000e+00, 0.0000000e+00, 0.0000000e+00],\n",
       "       [0.0000000e+00, 0.0000000e+00, 1.0000000e+00, 0.0000000e+00],\n",
       "       [0.0000000e+00, 1.0000000e+00, 0.0000000e+00, 0.0000000e+00],\n",
       "       [0.0000000e+00, 1.0000000e+00, 0.0000000e+00, 0.0000000e+00],\n",
       "       [1.0000000e+00, 0.0000000e+00, 1.1900221e-25, 3.6342562e-09],\n",
       "       [2.6852419e-21, 0.0000000e+00, 3.6636395e-17, 1.0000000e+00],\n",
       "       [5.2957369e-12, 0.0000000e+00, 1.7075379e-24, 1.0000000e+00],\n",
       "       [0.0000000e+00, 0.0000000e+00, 1.0000000e+00, 0.0000000e+00],\n",
       "       [1.4126015e-36, 0.0000000e+00, 1.0000000e+00, 2.6994302e-25],\n",
       "       [1.0000000e+00, 0.0000000e+00, 0.0000000e+00, 0.0000000e+00],\n",
       "       [1.0000000e+00, 0.0000000e+00, 2.2833616e-31, 1.4056230e-23],\n",
       "       [0.0000000e+00, 1.0000000e+00, 0.0000000e+00, 0.0000000e+00],\n",
       "       [3.3935109e-31, 0.0000000e+00, 5.4422424e-05, 9.9994552e-01],\n",
       "       [7.7252132e-01, 0.0000000e+00, 2.1902141e-08, 2.2747874e-01],\n",
       "       [1.0000000e+00, 0.0000000e+00, 0.0000000e+00, 0.0000000e+00],\n",
       "       [0.0000000e+00, 0.0000000e+00, 9.9997628e-01, 2.3767241e-05],\n",
       "       [1.1790852e-03, 0.0000000e+00, 1.2401060e-16, 9.9882084e-01],\n",
       "       [0.0000000e+00, 1.0000000e+00, 0.0000000e+00, 0.0000000e+00],\n",
       "       [3.3510933e-13, 0.0000000e+00, 1.4960445e-07, 9.9999988e-01],\n",
       "       [4.7834838e-09, 0.0000000e+00, 1.0375517e-02, 9.8962444e-01],\n",
       "       [3.2890968e-37, 0.0000000e+00, 3.6525154e-11, 1.0000000e+00],\n",
       "       [1.0000000e+00, 0.0000000e+00, 0.0000000e+00, 5.3775501e-13],\n",
       "       [0.0000000e+00, 0.0000000e+00, 0.0000000e+00, 1.0000000e+00],\n",
       "       [0.0000000e+00, 0.0000000e+00, 1.7095570e-18, 1.0000000e+00],\n",
       "       [1.0000000e+00, 0.0000000e+00, 0.0000000e+00, 0.0000000e+00],\n",
       "       [1.0000000e+00, 0.0000000e+00, 1.3605555e-35, 4.1378188e-17],\n",
       "       [0.0000000e+00, 1.0000000e+00, 0.0000000e+00, 0.0000000e+00],\n",
       "       [1.0000000e+00, 0.0000000e+00, 2.4351090e-23, 8.0428963e-15],\n",
       "       [1.0000000e+00, 0.0000000e+00, 1.2146655e-24, 0.0000000e+00],\n",
       "       [1.0928398e-01, 0.0000000e+00, 7.6055305e-27, 8.9071608e-01],\n",
       "       [0.0000000e+00, 1.0000000e+00, 0.0000000e+00, 0.0000000e+00],\n",
       "       [1.6603681e-20, 0.0000000e+00, 3.2869474e-10, 1.0000000e+00],\n",
       "       [4.1216882e-24, 0.0000000e+00, 2.5450257e-27, 1.0000000e+00],\n",
       "       [2.0830206e-10, 0.0000000e+00, 3.8817067e-02, 9.6118295e-01],\n",
       "       [8.3446118e-08, 0.0000000e+00, 9.9999988e-01, 0.0000000e+00],\n",
       "       [1.0000000e+00, 0.0000000e+00, 8.2667977e-38, 0.0000000e+00],\n",
       "       [1.0000000e+00, 0.0000000e+00, 8.0276339e-22, 2.2848403e-33],\n",
       "       [0.0000000e+00, 0.0000000e+00, 1.0000000e+00, 4.4744278e-38],\n",
       "       [0.0000000e+00, 1.0000000e+00, 0.0000000e+00, 0.0000000e+00],\n",
       "       [1.0000000e+00, 0.0000000e+00, 0.0000000e+00, 3.2142734e-25],\n",
       "       [0.0000000e+00, 1.0000000e+00, 0.0000000e+00, 0.0000000e+00],\n",
       "       [6.6955691e-10, 0.0000000e+00, 7.4084051e-11, 1.0000000e+00],\n",
       "       [0.0000000e+00, 1.0000000e+00, 0.0000000e+00, 0.0000000e+00],\n",
       "       [5.6462754e-19, 0.0000000e+00, 9.9855822e-01, 1.4418215e-03],\n",
       "       [0.0000000e+00, 0.0000000e+00, 1.0000000e+00, 0.0000000e+00],\n",
       "       [1.0000000e+00, 0.0000000e+00, 6.4283018e-37, 1.1381830e-14],\n",
       "       [1.0000000e+00, 0.0000000e+00, 8.4588303e-17, 1.9138959e-12],\n",
       "       [9.0858601e-24, 0.0000000e+00, 8.3782113e-01, 1.6217881e-01],\n",
       "       [0.0000000e+00, 1.4531101e-06, 9.9999857e-01, 0.0000000e+00],\n",
       "       [2.2016329e-16, 0.0000000e+00, 1.0000000e+00, 1.0311152e-35],\n",
       "       [0.0000000e+00, 1.0000000e+00, 0.0000000e+00, 0.0000000e+00],\n",
       "       [0.0000000e+00, 0.0000000e+00, 1.7602599e-20, 1.0000000e+00],\n",
       "       [2.8704084e-31, 0.0000000e+00, 7.6479560e-09, 1.0000000e+00],\n",
       "       [3.2361015e-05, 0.0000000e+00, 8.0841703e-13, 9.9996769e-01],\n",
       "       [3.1267929e-35, 2.1426296e-17, 4.4308607e-07, 9.9999952e-01],\n",
       "       [0.0000000e+00, 1.0000000e+00, 0.0000000e+00, 0.0000000e+00],\n",
       "       [0.0000000e+00, 1.0000000e+00, 0.0000000e+00, 0.0000000e+00],\n",
       "       [4.8299014e-36, 0.0000000e+00, 6.9391182e-17, 1.0000000e+00],\n",
       "       [5.9292219e-28, 0.0000000e+00, 2.4125283e-32, 1.0000000e+00],\n",
       "       [0.0000000e+00, 1.0000000e+00, 0.0000000e+00, 0.0000000e+00],\n",
       "       [0.0000000e+00, 0.0000000e+00, 3.2661451e-06, 9.9999678e-01],\n",
       "       [1.0000000e+00, 0.0000000e+00, 4.8010064e-21, 5.4222496e-13],\n",
       "       [0.0000000e+00, 0.0000000e+00, 1.0000000e+00, 1.1861298e-31],\n",
       "       [0.0000000e+00, 1.0000000e+00, 0.0000000e+00, 1.4576046e-27],\n",
       "       [1.0000000e+00, 0.0000000e+00, 1.2259720e-10, 5.8546493e-20],\n",
       "       [0.0000000e+00, 1.0000000e+00, 0.0000000e+00, 0.0000000e+00],\n",
       "       [0.0000000e+00, 1.0000000e+00, 0.0000000e+00, 0.0000000e+00],\n",
       "       [0.0000000e+00, 1.0000000e+00, 0.0000000e+00, 0.0000000e+00],\n",
       "       [3.0928688e-26, 0.0000000e+00, 3.3519338e-15, 1.0000000e+00],\n",
       "       [0.0000000e+00, 0.0000000e+00, 1.0000000e+00, 0.0000000e+00],\n",
       "       [0.0000000e+00, 1.0000000e+00, 0.0000000e+00, 0.0000000e+00],\n",
       "       [1.1193108e-22, 0.0000000e+00, 9.0915445e-21, 1.0000000e+00],\n",
       "       [9.9988854e-01, 0.0000000e+00, 1.6928235e-13, 1.1147479e-04],\n",
       "       [0.0000000e+00, 0.0000000e+00, 1.0000000e+00, 0.0000000e+00],\n",
       "       [0.0000000e+00, 1.0000000e+00, 0.0000000e+00, 0.0000000e+00],\n",
       "       [0.0000000e+00, 0.0000000e+00, 0.0000000e+00, 1.0000000e+00],\n",
       "       [0.0000000e+00, 0.0000000e+00, 7.3097527e-01, 2.6902467e-01],\n",
       "       [9.9997616e-01, 0.0000000e+00, 2.3799355e-05, 1.9360449e-08],\n",
       "       [1.0000000e+00, 0.0000000e+00, 1.6701526e-18, 3.1376244e-17],\n",
       "       [1.0000000e+00, 0.0000000e+00, 0.0000000e+00, 0.0000000e+00],\n",
       "       [7.2560047e-25, 0.0000000e+00, 1.6867408e-27, 1.0000000e+00],\n",
       "       [0.0000000e+00, 1.0000000e+00, 0.0000000e+00, 0.0000000e+00],\n",
       "       [0.0000000e+00, 1.0000000e+00, 0.0000000e+00, 0.0000000e+00],\n",
       "       [0.0000000e+00, 0.0000000e+00, 4.3492327e-26, 1.0000000e+00],\n",
       "       [1.0165170e-19, 0.0000000e+00, 1.0000000e+00, 1.6728434e-18],\n",
       "       [5.4382538e-16, 0.0000000e+00, 1.9038060e-17, 1.0000000e+00],\n",
       "       [3.9468344e-29, 0.0000000e+00, 2.5665442e-26, 1.0000000e+00],\n",
       "       [0.0000000e+00, 1.0000000e+00, 0.0000000e+00, 0.0000000e+00],\n",
       "       [0.0000000e+00, 0.0000000e+00, 1.0000000e+00, 0.0000000e+00],\n",
       "       [0.0000000e+00, 1.0000000e+00, 0.0000000e+00, 0.0000000e+00],\n",
       "       [0.0000000e+00, 1.0000000e+00, 0.0000000e+00, 0.0000000e+00],\n",
       "       [1.0000000e+00, 0.0000000e+00, 0.0000000e+00, 2.7950203e-23],\n",
       "       [5.2951821e-23, 0.0000000e+00, 2.3586728e-26, 1.0000000e+00],\n",
       "       [0.0000000e+00, 1.0000000e+00, 0.0000000e+00, 0.0000000e+00],\n",
       "       [0.0000000e+00, 1.0000000e+00, 0.0000000e+00, 0.0000000e+00],\n",
       "       [1.0000000e+00, 0.0000000e+00, 8.8620866e-29, 1.8100800e-10],\n",
       "       [9.9930799e-01, 0.0000000e+00, 7.4136799e-18, 6.9205416e-04],\n",
       "       [0.0000000e+00, 1.0000000e+00, 0.0000000e+00, 0.0000000e+00],\n",
       "       [5.1307461e-13, 0.0000000e+00, 1.0000000e+00, 3.6253272e-08],\n",
       "       [0.0000000e+00, 1.0000000e+00, 0.0000000e+00, 0.0000000e+00],\n",
       "       [1.0000000e+00, 0.0000000e+00, 1.4782380e-36, 0.0000000e+00],\n",
       "       [1.3589341e-32, 0.0000000e+00, 1.0000000e+00, 5.8422924e-19],\n",
       "       [0.0000000e+00, 0.0000000e+00, 0.0000000e+00, 1.0000000e+00],\n",
       "       [1.0000000e+00, 0.0000000e+00, 8.0633457e-25, 7.7277310e-37],\n",
       "       [0.0000000e+00, 0.0000000e+00, 1.0000000e+00, 0.0000000e+00],\n",
       "       [9.9859601e-01, 0.0000000e+00, 1.4040011e-03, 9.8627538e-12],\n",
       "       [1.0000000e+00, 0.0000000e+00, 4.4670695e-19, 2.7407157e-18]],\n",
       "      dtype=float32)"
      ]
     },
     "execution_count": 294,
     "metadata": {},
     "output_type": "execute_result"
    }
   ],
   "source": [
    "Predeicted_test_data"
   ]
  },
  {
   "cell_type": "code",
   "execution_count": 295,
   "id": "small-seminar",
   "metadata": {},
   "outputs": [],
   "source": [
    "predicted_values=[numpy.argmax(result) for result in Predeicted_test_data]"
   ]
  },
  {
   "cell_type": "code",
   "execution_count": 296,
   "id": "auburn-webster",
   "metadata": {},
   "outputs": [
    {
     "name": "stdout",
     "output_type": "stream",
     "text": [
      "1  - >  1\n",
      "2  - >  0\n",
      "2  - >  2\n",
      "0  - >  2\n",
      "0  - >  0\n",
      "2  - >  2\n",
      "3  - >  3\n",
      "0  - >  0\n",
      "2  - >  2\n",
      "3  - >  3\n",
      "1  - >  1\n",
      "2  - >  2\n",
      "0  - >  0\n",
      "1  - >  1\n",
      "2  - >  0\n",
      "1  - >  1\n",
      "1  - >  1\n",
      "0  - >  3\n",
      "3  - >  3\n",
      "3  - >  0\n",
      "2  - >  2\n",
      "2  - >  2\n",
      "0  - >  0\n",
      "0  - >  0\n",
      "1  - >  1\n",
      "3  - >  3\n",
      "0  - >  3\n",
      "0  - >  0\n",
      "2  - >  3\n",
      "3  - >  2\n",
      "1  - >  1\n",
      "3  - >  0\n",
      "3  - >  3\n",
      "3  - >  0\n",
      "0  - >  2\n",
      "3  - >  3\n",
      "3  - >  3\n",
      "0  - >  0\n",
      "0  - >  0\n",
      "1  - >  1\n",
      "0  - >  0\n",
      "0  - >  0\n",
      "3  - >  3\n",
      "1  - >  1\n",
      "3  - >  2\n",
      "3  - >  3\n",
      "3  - >  3\n",
      "2  - >  0\n",
      "0  - >  0\n",
      "0  - >  0\n",
      "2  - >  2\n",
      "1  - >  1\n",
      "0  - >  0\n",
      "1  - >  1\n",
      "3  - >  0\n",
      "1  - >  1\n",
      "2  - >  2\n",
      "2  - >  2\n",
      "0  - >  3\n",
      "0  - >  2\n",
      "2  - >  3\n",
      "2  - >  3\n",
      "2  - >  2\n",
      "1  - >  1\n",
      "3  - >  2\n",
      "3  - >  2\n",
      "3  - >  2\n",
      "3  - >  3\n",
      "1  - >  1\n",
      "1  - >  1\n",
      "3  - >  3\n",
      "3  - >  3\n",
      "1  - >  1\n",
      "3  - >  3\n",
      "0  - >  2\n",
      "2  - >  2\n",
      "1  - >  1\n",
      "0  - >  0\n",
      "1  - >  1\n",
      "1  - >  1\n",
      "1  - >  1\n",
      "3  - >  2\n",
      "2  - >  2\n",
      "1  - >  1\n",
      "3  - >  3\n",
      "0  - >  0\n",
      "2  - >  2\n",
      "1  - >  1\n",
      "3  - >  2\n",
      "2  - >  3\n",
      "0  - >  0\n",
      "0  - >  3\n",
      "0  - >  0\n",
      "3  - >  3\n",
      "1  - >  1\n",
      "1  - >  1\n",
      "3  - >  3\n",
      "2  - >  2\n",
      "3  - >  3\n",
      "3  - >  3\n",
      "1  - >  1\n",
      "2  - >  2\n",
      "1  - >  1\n",
      "1  - >  1\n",
      "0  - >  0\n",
      "3  - >  3\n",
      "1  - >  1\n",
      "1  - >  1\n",
      "0  - >  0\n",
      "0  - >  0\n",
      "1  - >  1\n",
      "2  - >  0\n",
      "1  - >  2\n",
      "0  - >  3\n",
      "2  - >  2\n",
      "3  - >  3\n",
      "0  - >  0\n",
      "2  - >  2\n",
      "0  - >  2\n",
      "0  - >  0\n"
     ]
    }
   ],
   "source": [
    "for i in range(len(predicted_values)):\n",
    "    print(predicted_values[i],\" - > \",Testing_Labels[i])"
   ]
  },
  {
   "cell_type": "code",
   "execution_count": 297,
   "id": "exact-school",
   "metadata": {},
   "outputs": [
    {
     "data": {
      "text/plain": [
       "<Figure size 432x288 with 0 Axes>"
      ]
     },
     "metadata": {},
     "output_type": "display_data"
    }
   ],
   "source": [
    "pyplot.figure('Confusion Matrix')\n",
    "confusion_matrix_data=confusion_matrix(predicted_values,Testing_Labels)"
   ]
  },
  {
   "cell_type": "code",
   "execution_count": 298,
   "id": "czech-wales",
   "metadata": {},
   "outputs": [
    {
     "data": {
      "text/plain": [
       "array([[22,  0,  5,  5],\n",
       "       [ 0, 30,  1,  0],\n",
       "       [ 4,  0, 17,  4],\n",
       "       [ 4,  0,  7, 21]], dtype=int64)"
      ]
     },
     "execution_count": 298,
     "metadata": {},
     "output_type": "execute_result"
    }
   ],
   "source": [
    "confusion_matrix_data"
   ]
  },
  {
   "cell_type": "code",
   "execution_count": null,
   "id": "chicken-indication",
   "metadata": {},
   "outputs": [],
   "source": []
  },
  {
   "cell_type": "code",
   "execution_count": null,
   "id": "cellular-hardwood",
   "metadata": {},
   "outputs": [],
   "source": []
  },
  {
   "cell_type": "code",
   "execution_count": 299,
   "id": "fancy-senegal",
   "metadata": {},
   "outputs": [
    {
     "data": {
      "text/plain": [
       "<AxesSubplot:>"
      ]
     },
     "execution_count": 299,
     "metadata": {},
     "output_type": "execute_result"
    },
    {
     "data": {
      "image/png": "[encoded data removed]",
      "text/plain": [
       "<Figure size 432x288 with 2 Axes>"
      ]
     },
     "metadata": {
      "needs_background": "light"
     },
     "output_type": "display_data"
    }
   ],
   "source": [
    "# seaborn.heatmap(confusion_matrix_data,annot=True,xticklabels=classes_list,yticklabels=classes_list)\n",
    "seaborn.heatmap(confusion_matrix_data,annot=True)"
   ]
  },
  {
   "cell_type": "code",
   "execution_count": 300,
   "id": "together-cassette",
   "metadata": {},
   "outputs": [
    {
     "name": "stdout",
     "output_type": "stream",
     "text": [
      "0 -->  Facial acne\n",
      "1 -->  Melanoma\n",
      "2 -->  Psoriasis\n",
      "3 -->  Ringworm\n"
     ]
    }
   ],
   "source": [
    "printClassList()"
   ]
  },
  {
   "cell_type": "code",
   "execution_count": 301,
   "id": "labeled-thought",
   "metadata": {},
   "outputs": [],
   "source": [
    "classification_report_data=classification_report(predicted_values,Testing_Labels,target_names=classes_list)"
   ]
  },
  {
   "cell_type": "code",
   "execution_count": 302,
   "id": "based-pepper",
   "metadata": {
    "scrolled": false
   },
   "outputs": [
    {
     "name": "stdout",
     "output_type": "stream",
     "text": [
      "              precision    recall  f1-score   support\n",
      "\n",
      " Facial acne       0.73      0.69      0.71        32\n",
      "    Melanoma       1.00      0.97      0.98        31\n",
      "   Psoriasis       0.57      0.68      0.62        25\n",
      "    Ringworm       0.70      0.66      0.68        32\n",
      "\n",
      "    accuracy                           0.75       120\n",
      "   macro avg       0.75      0.75      0.75       120\n",
      "weighted avg       0.76      0.75      0.75       120\n",
      "\n"
     ]
    }
   ],
   "source": [
    "print(classification_report_data)"
   ]
  },
  {
   "cell_type": "code",
   "execution_count": null,
   "id": "champion-particular",
   "metadata": {},
   "outputs": [],
   "source": []
  },
  {
   "cell_type": "code",
   "execution_count": null,
   "id": "oriental-receiver",
   "metadata": {},
   "outputs": [],
   "source": []
  },
  {
   "cell_type": "code",
   "execution_count": null,
   "id": "chief-turkey",
   "metadata": {},
   "outputs": [],
   "source": []
  },
  {
   "cell_type": "code",
   "execution_count": null,
   "id": "adjusted-litigation",
   "metadata": {},
   "outputs": [],
   "source": []
  },
  {
   "cell_type": "code",
   "execution_count": null,
   "id": "dedicated-deficit",
   "metadata": {},
   "outputs": [],
   "source": []
  },
  {
   "cell_type": "code",
   "execution_count": null,
   "id": "dominican-general",
   "metadata": {},
   "outputs": [],
   "source": []
  },
  {
   "cell_type": "code",
   "execution_count": null,
   "id": "polish-prisoner",
   "metadata": {},
   "outputs": [],
   "source": []
  },
  {
   "cell_type": "markdown",
   "id": "underlying-wisdom",
   "metadata": {},
   "source": [
    "## Complex Architecture 1"
   ]
  },
  {
   "cell_type": "code",
   "execution_count": 251,
   "id": "bridal-return",
   "metadata": {},
   "outputs": [],
   "source": [
    "model2_using_Complex_architecture=keras.models.Sequential(\n",
    "     [\n",
    "         keras.layers.Conv2D(filters=32,kernel_size=3,strides=(1,1),padding='valid',activation='relu',input_shape=[180,180,1]),\n",
    "         keras.layers.MaxPool2D(pool_size=(2,2)),\n",
    "         keras.layers.Conv2D(filters=16,kernel_size=3,strides=(1,1),padding='valid',activation='relu',input_shape=[180,180,1]),\n",
    "         keras.layers.MaxPool2D(pool_size=(2,2)),\n",
    "         keras.layers.Flatten(),\n",
    "         keras.layers.Dense(units=512,activation='relu'),\n",
    "         keras.layers.Dense(units=256,activation='relu'),\n",
    "         keras.layers.Dense(units=64,activation='relu'),\n",
    "         keras.layers.Dense(units=4,activation='softmax'),\n",
    "     ]\n",
    " )"
   ]
  },
  {
   "cell_type": "code",
   "execution_count": 252,
   "id": "proved-tracy",
   "metadata": {},
   "outputs": [
    {
     "name": "stdout",
     "output_type": "stream",
     "text": [
      "Model: \"sequential_12\"\n",
      "_________________________________________________________________\n",
      "Layer (type)                 Output Shape              Param #   \n",
      "=================================================================\n",
      "conv2d_21 (Conv2D)           (None, 178, 178, 32)      320       \n",
      "_________________________________________________________________\n",
      "max_pooling2d_21 (MaxPooling (None, 89, 89, 32)        0         \n",
      "_________________________________________________________________\n",
      "conv2d_22 (Conv2D)           (None, 87, 87, 16)        4624      \n",
      "_________________________________________________________________\n",
      "max_pooling2d_22 (MaxPooling (None, 43, 43, 16)        0         \n",
      "_________________________________________________________________\n",
      "flatten_12 (Flatten)         (None, 29584)             0         \n",
      "_________________________________________________________________\n",
      "dense_41 (Dense)             (None, 512)               15147520  \n",
      "_________________________________________________________________\n",
      "dense_42 (Dense)             (None, 256)               131328    \n",
      "_________________________________________________________________\n",
      "dense_43 (Dense)             (None, 64)                16448     \n",
      "_________________________________________________________________\n",
      "dense_44 (Dense)             (None, 4)                 260       \n",
      "=================================================================\n",
      "Total params: 15,300,500\n",
      "Trainable params: 15,300,500\n",
      "Non-trainable params: 0\n",
      "_________________________________________________________________\n"
     ]
    }
   ],
   "source": [
    "model2_using_Complex_architecture.summary()"
   ]
  },
  {
   "cell_type": "code",
   "execution_count": 253,
   "id": "prospective-least",
   "metadata": {},
   "outputs": [],
   "source": [
    "model2_using_Complex_architecture.compile(optimizer='adam',loss='sparse_categorical_crossentropy',metrics=['accuracy'])"
   ]
  },
  {
   "cell_type": "code",
   "execution_count": 254,
   "id": "governing-lloyd",
   "metadata": {},
   "outputs": [
    {
     "name": "stdout",
     "output_type": "stream",
     "text": [
      "1th iteration\n",
      "previous best accuracy = 0 and last accuracy = [0.6583333611488342]\n",
      "20/20 [==============================] - 12s 594ms/step - loss: 119.3591 - accuracy: 0.2540 - val_loss: 1.9476 - val_accuracy: 0.3250\n",
      "2th iteration\n",
      "previous best accuracy = 0.32499998807907104 and last accuracy = [0.32499998807907104]\n",
      "20/20 [==============================] - 14s 696ms/step - loss: 1.1255 - accuracy: 0.5450 - val_loss: 0.8370 - val_accuracy: 0.6333\n",
      "3th iteration\n",
      "previous best accuracy = 0.6333333253860474 and last accuracy = [0.6333333253860474]\n",
      "20/20 [==============================] - 13s 626ms/step - loss: 0.7244 - accuracy: 0.7653 - val_loss: 0.8139 - val_accuracy: 0.7333\n",
      "4th iteration\n",
      "previous best accuracy = 0.7333333492279053 and last accuracy = [0.7333333492279053]\n",
      "20/20 [==============================] - 12s 616ms/step - loss: 0.4352 - accuracy: 0.8875 - val_loss: 0.9820 - val_accuracy: 0.7333\n",
      "5th iteration\n",
      "previous best accuracy = 0.7333333492279053 and last accuracy = [0.7333333492279053]\n",
      "20/20 [==============================] - 14s 676ms/step - loss: 0.2628 - accuracy: 0.9486 - val_loss: 0.9292 - val_accuracy: 0.7333\n",
      "6th iteration\n",
      "previous best accuracy = 0.7333333492279053 and last accuracy = [0.7333333492279053]\n",
      "20/20 [==============================] - 12s 623ms/step - loss: 0.2133 - accuracy: 0.9502 - val_loss: 2.4550 - val_accuracy: 0.6667\n",
      "7th iteration\n",
      "previous best accuracy = 0.7333333492279053 and last accuracy = [0.6666666865348816]\n",
      "20/20 [==============================] - 12s 617ms/step - loss: 0.2155 - accuracy: 0.9469 - val_loss: 1.5628 - val_accuracy: 0.6750\n",
      "8th iteration\n",
      "previous best accuracy = 0.7333333492279053 and last accuracy = [0.675000011920929]\n",
      "20/20 [==============================] - 13s 637ms/step - loss: 0.1945 - accuracy: 0.9502 - val_loss: 2.5637 - val_accuracy: 0.7417\n",
      "9th iteration\n",
      "previous best accuracy = 0.7416666746139526 and last accuracy = [0.7416666746139526]\n",
      "20/20 [==============================] - 12s 618ms/step - loss: 0.0496 - accuracy: 0.9887 - val_loss: 1.9972 - val_accuracy: 0.7417\n",
      "10th iteration\n",
      "previous best accuracy = 0.7416666746139526 and last accuracy = [0.7416666746139526]\n",
      "20/20 [==============================] - 12s 595ms/step - loss: 0.0255 - accuracy: 0.9887 - val_loss: 3.3024 - val_accuracy: 0.7750\n"
     ]
    }
   ],
   "source": [
    "pre_accuracy=0\n",
    "for i in range(10):\n",
    "    print(f\"{i+1}th iteration\")\n",
    "    print(f\"previous best accuracy = {pre_accuracy} and last accuracy = {history2.history['val_accuracy']}\")\n",
    "    history2=model2_using_Complex_architecture.fit(Training_Features,numpy.array(Training_Labels),epochs=1,verbose=1,validation_data=(Testing_Features,numpy.array(Testing_Labels)))\n",
    "    if history2.history['val_accuracy'][0]>=pre_accuracy:\n",
    "        pre_accuracy=history2.history['val_accuracy'][0]\n",
    "        model2_using_Complex_architecture_to_be_save=tensorflow.keras.models.clone_model(model2_using_Complex_architecture)\n",
    "    "
   ]
  },
  {
   "cell_type": "code",
   "execution_count": 304,
   "id": "silent-residence",
   "metadata": {},
   "outputs": [],
   "source": [
    "model2_using_Complex_architecture.save('./Models/model2_using_Complex_architecture.h5')"
   ]
  },
  {
   "cell_type": "code",
   "execution_count": 257,
   "id": "better-snake",
   "metadata": {},
   "outputs": [
    {
     "data": {
      "text/plain": [
       "<keras.engine.sequential.Sequential at 0x1c3e14dd4c0>"
      ]
     },
     "execution_count": 257,
     "metadata": {},
     "output_type": "execute_result"
    }
   ],
   "source": [
    "model2_using_Complex_architecture"
   ]
  },
  {
   "cell_type": "code",
   "execution_count": 266,
   "id": "hazardous-effect",
   "metadata": {},
   "outputs": [],
   "source": [
    "# trained_model=tensorflow.keras.models.load_model('./Models/model2_using_Complex_architecture.h5')\n",
    "trained_model=model2_using_Complex_architecture"
   ]
  },
  {
   "cell_type": "code",
   "execution_count": 267,
   "id": "creative-appreciation",
   "metadata": {},
   "outputs": [],
   "source": [
    "Predeicted_test_data=trained_model.predict(Testing_Features)"
   ]
  },
  {
   "cell_type": "code",
   "execution_count": 268,
   "id": "wrong-stress",
   "metadata": {},
   "outputs": [
    {
     "data": {
      "text/plain": [
       "array([[6.20120152e-34, 1.00000000e+00, 8.79527924e-34, 1.23643371e-29],\n",
       "       [1.92561205e-02, 8.83051660e-03, 5.32148741e-02, 9.18698430e-01],\n",
       "       [7.67976144e-32, 1.49709992e-38, 1.00000000e+00, 2.32262360e-22],\n",
       "       [1.00000000e+00, 2.49260173e-36, 5.69607041e-15, 5.54833264e-22],\n",
       "       [9.99995828e-01, 3.64034948e-11, 1.56498444e-07, 4.08971528e-06],\n",
       "       [1.45667745e-03, 9.98536229e-01, 4.35691334e-07, 6.63427863e-06],\n",
       "       [0.00000000e+00, 0.00000000e+00, 0.00000000e+00, 1.00000000e+00],\n",
       "       [9.99920011e-01, 2.64354646e-13, 2.19120014e-10, 8.00051057e-05],\n",
       "       [6.49839756e-04, 2.39887595e-04, 9.89872456e-01, 9.23777185e-03],\n",
       "       [3.38803625e-06, 1.90990335e-07, 9.97513652e-01, 2.48280424e-03],\n",
       "       [0.00000000e+00, 1.00000000e+00, 0.00000000e+00, 0.00000000e+00],\n",
       "       [4.06546897e-04, 2.12417821e-15, 9.99593318e-01, 7.24551157e-08],\n",
       "       [9.99952555e-01, 6.53857910e-08, 4.63906181e-05, 1.04507774e-06],\n",
       "       [2.00555499e-34, 1.00000000e+00, 5.03195095e-35, 2.43049585e-31],\n",
       "       [9.99979377e-01, 5.70760175e-11, 2.05894848e-05, 2.85988877e-09],\n",
       "       [2.13442874e-20, 1.00000000e+00, 1.26773163e-21, 1.10493258e-16],\n",
       "       [5.41690752e-16, 1.00000000e+00, 6.39900768e-17, 1.51097989e-14],\n",
       "       [1.00000000e+00, 8.28261427e-15, 1.03996792e-12, 1.23223733e-08],\n",
       "       [3.84086192e-01, 8.30146521e-02, 3.55563685e-02, 4.97342765e-01],\n",
       "       [9.88897860e-01, 1.78260833e-03, 1.99984323e-04, 9.11961496e-03],\n",
       "       [1.51296365e-22, 2.75939405e-22, 1.00000000e+00, 3.91451396e-18],\n",
       "       [2.41742765e-10, 1.82598969e-09, 9.99992013e-01, 7.97619305e-06],\n",
       "       [1.00000000e+00, 1.82816958e-19, 7.63069731e-18, 2.62429939e-10],\n",
       "       [1.63169838e-02, 1.27156481e-08, 9.83545661e-01, 1.37280382e-04],\n",
       "       [9.25161397e-19, 1.00000000e+00, 5.37277395e-20, 9.89175134e-17],\n",
       "       [9.99996305e-01, 2.19128999e-08, 3.87691586e-07, 3.26629925e-06],\n",
       "       [1.28725827e-01, 4.30016182e-02, 2.74650723e-01, 5.53621769e-01],\n",
       "       [9.99657750e-01, 8.23792675e-07, 1.62018303e-04, 1.79328679e-04],\n",
       "       [7.75978333e-06, 1.77371476e-07, 9.99753535e-01, 2.38574634e-04],\n",
       "       [9.99969363e-01, 1.06686869e-07, 1.88688628e-05, 1.17242698e-05],\n",
       "       [3.95000033e-09, 1.00000000e+00, 1.69405361e-08, 1.32295552e-09],\n",
       "       [5.17115772e-01, 7.46955574e-02, 2.90542513e-01, 1.17646098e-01],\n",
       "       [1.60960525e-01, 1.19908410e-03, 7.84068406e-01, 5.37720546e-02],\n",
       "       [9.51315761e-01, 1.89477112e-02, 7.17755966e-03, 2.25589760e-02],\n",
       "       [1.00000000e+00, 0.00000000e+00, 0.00000000e+00, 0.00000000e+00],\n",
       "       [3.79391682e-26, 0.00000000e+00, 3.77732299e-34, 1.00000000e+00],\n",
       "       [1.18259916e-12, 1.43330217e-16, 7.86106596e-11, 1.00000000e+00],\n",
       "       [1.00000000e+00, 1.96610137e-14, 2.13749518e-10, 7.90418165e-12],\n",
       "       [6.87996507e-01, 4.55048541e-03, 5.79745136e-03, 3.01655591e-01],\n",
       "       [0.00000000e+00, 1.00000000e+00, 0.00000000e+00, 2.68850252e-35],\n",
       "       [8.40635240e-01, 6.02022931e-03, 2.14264356e-03, 1.51201949e-01],\n",
       "       [1.00000000e+00, 4.27962126e-16, 1.52846322e-08, 1.83566232e-10],\n",
       "       [1.22463554e-02, 6.14624878e-05, 3.81659309e-04, 9.87310529e-01],\n",
       "       [0.00000000e+00, 1.00000000e+00, 0.00000000e+00, 2.60081202e-34],\n",
       "       [1.83169881e-03, 2.84046227e-08, 8.49172115e-01, 1.48996085e-01],\n",
       "       [4.48345583e-09, 3.94929575e-11, 1.72200310e-10, 1.00000000e+00],\n",
       "       [7.19825448e-06, 7.80192287e-18, 9.99955177e-01, 3.76556345e-05],\n",
       "       [9.99909639e-01, 1.60672309e-11, 9.03962573e-05, 3.39157635e-09],\n",
       "       [9.99989510e-01, 1.25313795e-13, 1.04804631e-05, 1.06598241e-08],\n",
       "       [9.99091864e-01, 3.45528967e-10, 9.05438501e-04, 2.73993123e-06],\n",
       "       [9.41466424e-05, 5.37117772e-09, 9.99411345e-01, 4.94540203e-04],\n",
       "       [0.00000000e+00, 1.00000000e+00, 0.00000000e+00, 0.00000000e+00],\n",
       "       [9.99999881e-01, 1.14509859e-14, 1.20622845e-10, 1.26012736e-07],\n",
       "       [5.18733602e-13, 1.00000000e+00, 7.53810195e-14, 1.11286802e-09],\n",
       "       [4.99166936e-01, 1.06870066e-02, 1.80131271e-02, 4.72132981e-01],\n",
       "       [1.19697385e-33, 1.00000000e+00, 1.14154564e-34, 1.46214887e-27],\n",
       "       [3.42340797e-07, 5.80745396e-10, 9.99999642e-01, 5.06959719e-09],\n",
       "       [3.81186194e-11, 5.14279188e-15, 1.00000000e+00, 6.97800484e-10],\n",
       "       [4.63070554e-11, 1.97129639e-31, 3.78294510e-20, 1.00000000e+00],\n",
       "       [1.91576782e-10, 1.14070985e-19, 1.00000000e+00, 3.14776989e-11],\n",
       "       [7.33048499e-01, 1.95032973e-02, 9.00147259e-02, 1.57433465e-01],\n",
       "       [2.95422405e-01, 4.21106815e-03, 1.58008654e-02, 6.84565663e-01],\n",
       "       [1.00000000e+00, 1.63783765e-24, 1.34818388e-17, 2.01665721e-14],\n",
       "       [6.20120152e-34, 1.00000000e+00, 8.79527924e-34, 1.23644311e-29],\n",
       "       [5.63943014e-03, 1.21518235e-08, 9.45600331e-01, 4.87601571e-02],\n",
       "       [1.20642535e-01, 8.03279504e-02, 6.74486399e-01, 1.24543145e-01],\n",
       "       [5.34548104e-01, 1.77814990e-01, 4.82841991e-02, 2.39352673e-01],\n",
       "       [1.04639912e-06, 9.99853373e-01, 1.13138888e-07, 1.45436730e-04],\n",
       "       [1.37926474e-26, 1.00000000e+00, 4.96919059e-21, 4.93348285e-25],\n",
       "       [3.25464043e-06, 9.99996781e-01, 9.02775188e-10, 2.34611755e-13],\n",
       "       [1.32595189e-02, 1.02831796e-02, 1.46003412e-02, 9.61857021e-01],\n",
       "       [9.39525790e-09, 5.22397237e-10, 1.65771693e-12, 1.00000000e+00],\n",
       "       [0.00000000e+00, 1.00000000e+00, 0.00000000e+00, 0.00000000e+00],\n",
       "       [7.21144366e-10, 8.93423096e-12, 1.36321694e-06, 9.99998689e-01],\n",
       "       [3.11410491e-04, 2.50822245e-11, 1.08095743e-09, 9.99688625e-01],\n",
       "       [6.07286784e-05, 1.71146803e-05, 9.99720156e-01, 2.01917617e-04],\n",
       "       [1.48565105e-05, 5.75830881e-03, 8.20746280e-08, 9.94226694e-01],\n",
       "       [1.42718502e-03, 1.47266277e-07, 9.98528838e-01, 4.37480994e-05],\n",
       "       [0.00000000e+00, 1.00000000e+00, 4.06581537e-38, 3.05187672e-38],\n",
       "       [7.63072522e-11, 1.00000000e+00, 8.96932593e-13, 1.34570000e-09],\n",
       "       [1.76350270e-24, 1.00000000e+00, 7.09407975e-27, 6.07348429e-22],\n",
       "       [6.87601045e-02, 5.76465500e-05, 9.03591692e-01, 2.75906436e-02],\n",
       "       [9.99976873e-01, 3.45700030e-24, 2.31719605e-05, 1.65750931e-14],\n",
       "       [2.48384454e-33, 1.00000000e+00, 4.93110198e-29, 1.56074535e-38],\n",
       "       [1.83848169e-04, 1.16141573e-01, 2.05186952e-05, 8.83654118e-01],\n",
       "       [1.48468302e-03, 2.89791380e-03, 5.45527160e-01, 4.50090289e-01],\n",
       "       [2.18118153e-27, 3.17297458e-25, 1.00000000e+00, 1.75806052e-18],\n",
       "       [0.00000000e+00, 1.00000000e+00, 0.00000000e+00, 1.96120298e-36],\n",
       "       [2.81671410e-17, 4.41032127e-23, 1.00000000e+00, 1.42601913e-08],\n",
       "       [3.00771649e-06, 8.12747025e-09, 3.68789509e-02, 9.63118076e-01],\n",
       "       [9.87381756e-01, 1.10669853e-03, 7.07552908e-03, 4.43607243e-03],\n",
       "       [9.99706805e-01, 4.09995287e-14, 2.63484235e-05, 2.66840507e-04],\n",
       "       [1.00000000e+00, 4.49111427e-17, 8.08414513e-15, 5.12966544e-11],\n",
       "       [3.19301288e-15, 1.00607124e-17, 7.66407074e-18, 1.00000000e+00],\n",
       "       [2.69928828e-12, 8.77894581e-06, 9.99944568e-01, 4.66210986e-05],\n",
       "       [4.14514243e-28, 1.00000000e+00, 1.13638750e-28, 6.18503783e-28],\n",
       "       [8.20833623e-10, 2.53538064e-06, 3.85860267e-11, 9.99997497e-01],\n",
       "       [9.33974445e-01, 1.06639163e-05, 2.28613857e-02, 4.31535803e-02],\n",
       "       [1.54084305e-03, 1.46076195e-06, 1.80217012e-06, 9.98455882e-01],\n",
       "       [1.18729997e-06, 9.00264696e-10, 8.92095144e-08, 9.99998689e-01],\n",
       "       [1.20195849e-30, 1.00000000e+00, 3.65442704e-17, 1.00882855e-21],\n",
       "       [4.18624192e-01, 2.14359988e-10, 5.16582608e-01, 6.47932217e-02],\n",
       "       [2.76921060e-30, 1.00000000e+00, 8.81903690e-33, 1.42685149e-27],\n",
       "       [1.28862199e-13, 1.00000000e+00, 9.92021610e-15, 2.17117426e-12],\n",
       "       [1.30017961e-05, 8.29972282e-20, 9.99987006e-01, 2.11756856e-09],\n",
       "       [1.25650784e-15, 2.56216119e-19, 4.84601797e-19, 1.00000000e+00],\n",
       "       [0.00000000e+00, 1.00000000e+00, 9.93080256e-33, 1.46510427e-32],\n",
       "       [0.00000000e+00, 1.00000000e+00, 0.00000000e+00, 1.65912248e-33],\n",
       "       [9.96081650e-01, 5.49342474e-07, 1.65125875e-05, 3.90128652e-03],\n",
       "       [9.06566143e-01, 5.09712473e-03, 4.03272314e-03, 8.43040645e-02],\n",
       "       [1.09011072e-18, 1.00000000e+00, 7.50300048e-18, 5.35973040e-14],\n",
       "       [9.99981999e-01, 2.41999679e-17, 1.79668732e-05, 1.36220771e-10],\n",
       "       [9.14556892e-07, 1.55996712e-19, 9.99999046e-01, 1.51223933e-09],\n",
       "       [5.52421261e-05, 1.13415625e-12, 2.47641616e-02, 9.75180626e-01],\n",
       "       [3.92499544e-09, 1.76886168e-08, 9.99974370e-01, 2.56654494e-05],\n",
       "       [2.00146100e-09, 2.75658356e-23, 2.02760290e-18, 1.00000000e+00],\n",
       "       [9.81101155e-01, 1.42456418e-06, 1.74914524e-02, 1.40608172e-03],\n",
       "       [2.33517277e-14, 6.78235370e-18, 1.00000000e+00, 1.33931616e-13],\n",
       "       [3.91367792e-08, 9.13244858e-09, 8.70535587e-05, 9.99912858e-01],\n",
       "       [1.20769674e-02, 9.48030502e-05, 6.87323660e-02, 9.19095874e-01]],\n",
       "      dtype=float32)"
      ]
     },
     "execution_count": 268,
     "metadata": {},
     "output_type": "execute_result"
    }
   ],
   "source": [
    "Predeicted_test_data"
   ]
  },
  {
   "cell_type": "code",
   "execution_count": 269,
   "id": "artificial-chair",
   "metadata": {},
   "outputs": [],
   "source": [
    "predicted_values=[numpy.argmax(result) for result in Predeicted_test_data]"
   ]
  },
  {
   "cell_type": "code",
   "execution_count": null,
   "id": "eleven-monthly",
   "metadata": {},
   "outputs": [],
   "source": []
  },
  {
   "cell_type": "code",
   "execution_count": 270,
   "id": "knowing-buffer",
   "metadata": {},
   "outputs": [
    {
     "name": "stdout",
     "output_type": "stream",
     "text": [
      "1  - >  1\n",
      "3  - >  0\n",
      "2  - >  2\n",
      "0  - >  2\n",
      "0  - >  0\n",
      "1  - >  2\n",
      "3  - >  3\n",
      "0  - >  0\n",
      "2  - >  2\n",
      "2  - >  3\n",
      "1  - >  1\n",
      "2  - >  2\n",
      "0  - >  0\n",
      "1  - >  1\n",
      "0  - >  0\n",
      "1  - >  1\n",
      "1  - >  1\n",
      "0  - >  3\n",
      "3  - >  3\n",
      "0  - >  0\n",
      "2  - >  2\n",
      "2  - >  2\n",
      "0  - >  0\n",
      "2  - >  0\n",
      "1  - >  1\n",
      "0  - >  3\n",
      "3  - >  3\n",
      "0  - >  0\n",
      "2  - >  3\n",
      "0  - >  2\n",
      "1  - >  1\n",
      "0  - >  0\n",
      "2  - >  3\n",
      "0  - >  0\n",
      "0  - >  2\n",
      "3  - >  3\n",
      "3  - >  3\n",
      "0  - >  0\n",
      "0  - >  0\n",
      "1  - >  1\n",
      "0  - >  0\n",
      "0  - >  0\n",
      "3  - >  3\n",
      "1  - >  1\n",
      "2  - >  2\n",
      "3  - >  3\n",
      "2  - >  3\n",
      "0  - >  0\n",
      "0  - >  0\n",
      "0  - >  0\n",
      "2  - >  2\n",
      "1  - >  1\n",
      "0  - >  0\n",
      "1  - >  1\n",
      "0  - >  0\n",
      "1  - >  1\n",
      "2  - >  2\n",
      "2  - >  2\n",
      "3  - >  3\n",
      "2  - >  2\n",
      "0  - >  3\n",
      "3  - >  3\n",
      "0  - >  2\n",
      "1  - >  1\n",
      "2  - >  2\n",
      "2  - >  2\n",
      "0  - >  2\n",
      "1  - >  3\n",
      "1  - >  1\n",
      "1  - >  1\n",
      "3  - >  3\n",
      "3  - >  3\n",
      "1  - >  1\n",
      "3  - >  3\n",
      "3  - >  2\n",
      "2  - >  2\n",
      "3  - >  1\n",
      "2  - >  0\n",
      "1  - >  1\n",
      "1  - >  1\n",
      "1  - >  1\n",
      "2  - >  2\n",
      "0  - >  2\n",
      "1  - >  1\n",
      "3  - >  3\n",
      "2  - >  0\n",
      "2  - >  2\n",
      "1  - >  1\n",
      "2  - >  2\n",
      "3  - >  3\n",
      "0  - >  0\n",
      "0  - >  3\n",
      "0  - >  0\n",
      "3  - >  3\n",
      "2  - >  1\n",
      "1  - >  1\n",
      "3  - >  3\n",
      "0  - >  2\n",
      "3  - >  3\n",
      "3  - >  3\n",
      "1  - >  1\n",
      "2  - >  2\n",
      "1  - >  1\n",
      "1  - >  1\n",
      "2  - >  0\n",
      "3  - >  3\n",
      "1  - >  1\n",
      "1  - >  1\n",
      "0  - >  0\n",
      "0  - >  0\n",
      "1  - >  1\n",
      "0  - >  0\n",
      "2  - >  2\n",
      "3  - >  3\n",
      "2  - >  2\n",
      "3  - >  3\n",
      "0  - >  0\n",
      "2  - >  2\n",
      "3  - >  2\n",
      "3  - >  0\n"
     ]
    }
   ],
   "source": [
    "for i in range(len(predicted_values)):\n",
    "    print(predicted_values[i],\" - > \",Testing_Labels[i])"
   ]
  },
  {
   "cell_type": "code",
   "execution_count": 271,
   "id": "coordinate-macintosh",
   "metadata": {},
   "outputs": [
    {
     "data": {
      "text/plain": [
       "<Figure size 432x288 with 0 Axes>"
      ]
     },
     "metadata": {},
     "output_type": "display_data"
    }
   ],
   "source": [
    "pyplot.figure('Confusion Matrix')\n",
    "confusion_matrix_data=confusion_matrix(predicted_values,Testing_Labels)"
   ]
  },
  {
   "cell_type": "code",
   "execution_count": 272,
   "id": "productive-occurrence",
   "metadata": {},
   "outputs": [
    {
     "data": {
      "text/plain": [
       "array([[24,  0,  7,  4],\n",
       "       [ 0, 28,  1,  1],\n",
       "       [ 4,  1, 20,  4],\n",
       "       [ 2,  1,  2, 21]], dtype=int64)"
      ]
     },
     "execution_count": 272,
     "metadata": {},
     "output_type": "execute_result"
    }
   ],
   "source": [
    "confusion_matrix_data"
   ]
  },
  {
   "cell_type": "code",
   "execution_count": 273,
   "id": "adjacent-therapy",
   "metadata": {},
   "outputs": [
    {
     "data": {
      "text/plain": [
       "<AxesSubplot:>"
      ]
     },
     "execution_count": 273,
     "metadata": {},
     "output_type": "execute_result"
    },
    {
     "data": {
      "image/png": "[encoded data removed]",
      "text/plain": [
       "<Figure size 432x288 with 2 Axes>"
      ]
     },
     "metadata": {
      "needs_background": "light"
     },
     "output_type": "display_data"
    }
   ],
   "source": [
    "seaborn.heatmap(confusion_matrix_data,annot=True,xticklabels=classes_list,yticklabels=classes_list)\n",
    "# seaborn.heatmap(confusion_matrix_data,annot=True)"
   ]
  },
  {
   "cell_type": "code",
   "execution_count": 274,
   "id": "broke-dodge",
   "metadata": {},
   "outputs": [
    {
     "name": "stdout",
     "output_type": "stream",
     "text": [
      "0 -->  Facial acne\n",
      "1 -->  Melanoma\n",
      "2 -->  Psoriasis\n",
      "3 -->  Ringworm\n"
     ]
    }
   ],
   "source": [
    "printClassList()"
   ]
  },
  {
   "cell_type": "code",
   "execution_count": 275,
   "id": "wrapped-repair",
   "metadata": {},
   "outputs": [],
   "source": [
    "classification_report_data=classification_report(predicted_values,Testing_Labels,target_names=classes_list)"
   ]
  },
  {
   "cell_type": "code",
   "execution_count": 276,
   "id": "strategic-courage",
   "metadata": {},
   "outputs": [
    {
     "name": "stdout",
     "output_type": "stream",
     "text": [
      "              precision    recall  f1-score   support\n",
      "\n",
      " Facial acne       0.80      0.69      0.74        35\n",
      "    Melanoma       0.93      0.93      0.93        30\n",
      "   Psoriasis       0.67      0.69      0.68        29\n",
      "    Ringworm       0.70      0.81      0.75        26\n",
      "\n",
      "    accuracy                           0.78       120\n",
      "   macro avg       0.77      0.78      0.77       120\n",
      "weighted avg       0.78      0.78      0.78       120\n",
      "\n"
     ]
    }
   ],
   "source": [
    "print(classification_report_data)"
   ]
  },
  {
   "cell_type": "code",
   "execution_count": null,
   "id": "incoming-citizenship",
   "metadata": {},
   "outputs": [],
   "source": []
  },
  {
   "cell_type": "code",
   "execution_count": null,
   "id": "intermediate-village",
   "metadata": {},
   "outputs": [],
   "source": []
  }
 ],
 "metadata": {
  "kernelspec": {
   "display_name": "Python 3",
   "language": "python",
   "name": "python3"
  },
  "language_info": {
   "codemirror_mode": {
    "name": "ipython",
    "version": 3
   },
   "file_extension": ".py",
   "mimetype": "text/x-python",
   "name": "python",
   "nbconvert_exporter": "python",
   "pygments_lexer": "ipython3",
   "version": "3.9.2"
  }
 },
 "nbformat": 4,
 "nbformat_minor": 5
}
